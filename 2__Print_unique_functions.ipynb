{
 "cells": [
  {
   "cell_type": "markdown",
   "id": "e858d03d-3482-49f9-a5a3-952f5ae60692",
   "metadata": {},
   "source": [
    "## Analysis of 90% pangenomes\n",
    "\n",
    "- 17 PCGs (coherent nodes with 0.01 and 0.005 cutoff during BacterialCore step)\n",
    "- We will find out those functions **exclusive to each core**\n",
    "- Files analyzed were created with **get_core_functions.py**"
   ]
  },
  {
   "cell_type": "code",
   "execution_count": 1,
   "id": "94e9418d-796e-4739-8fda-d73bf5a25e73",
   "metadata": {},
   "outputs": [],
   "source": [
    "import os\n",
    "import glob\n",
    "from IPython.display import HTML, display\n",
    "import csv"
   ]
  },
  {
   "cell_type": "markdown",
   "id": "dff7f897-7d01-4dc4-a624-23d84d90387d",
   "metadata": {},
   "source": [
    "#### Create the reaction lists"
   ]
  },
  {
   "cell_type": "markdown",
   "id": "15a81b5c-e95b-413b-bba6-85a6eebbd3ed",
   "metadata": {},
   "source": [
    "Variables"
   ]
  },
  {
   "cell_type": "code",
   "execution_count": 2,
   "id": "5c5f0747-843e-4f9f-8179-df3feb9db333",
   "metadata": {},
   "outputs": [],
   "source": [
    "# input folder\n",
    "##folder_path = '/home/silvia/AAA/2022-09-13_tomate/pangenomas_tomate_2023/analisis_pans90/anotaciones_90/'\n",
    "folder_path = \"/home/silvia/repos/get_core_reactions/analisis_pans90.0/anotaciones_90.0\"\n",
    "\n",
    "# choose type of input\n",
    "IDs = \"kreac\" ##bigg\n",
    "\n",
    "# outputs\n",
    "##all_reactions_file = \"/home/silvia/AAA/2022-09-13_tomate/pangenomas_tomate_2023/analisis_pans90/kegg/all_reactions_to_ipath.tsv\"\n",
    "##unique_reactions_file = \"/home/silvia/AAA/2022-09-13_tomate/pangenomas_tomate_2023/analisis_pans90/kegg/unique_reactions_to_ipath.tsv\"\n",
    "all_reactions_file = \"/home/silvia/repos/get_core_reactions/analisis_pans90.0/kegg/all_reactions_to_ipath.tsv\"\n",
    "unique_reactions_file = \"/home/silvia/repos/get_core_reactions/analisis_pans90.0/kegg/unique_reactions_to_ipath.tsv\"\n",
    "if not os.path.isdir(\"/home/silvia/repos/get_core_reactions/analisis_pans90.0/kegg\"):\n",
    "    os.makedirs(\"/home/silvia/repos/get_core_reactions/analisis_pans90.0/kegg\")\n",
    "    \n",
    "# PCG table\n",
    "##PCG_table = \"/home/silvia/AAA/2022-09-13_tomate/tomate_bc_0.01/Tree/results.txt\"\n",
    "##PCG_table = \"/home/silvia/repos/get_core_reactions/analisis_pans90/tomate_0.01_results.txt\"\n",
    "PCG_table = \"/home/silvia/AAA/2023-12-06_Coherencia/all_coherent_nodes_001_AND_0005.csv\"\n",
    "\n",
    "# selected nodes\n",
    "selected_nodes = [\"Node119365\", \"Node126898\", \"Node147305\",\n",
    "           \"Node15327\", \"Node19398\", \"Node21166\",\n",
    "           \"Node28120\", \"Node45985\", \"Node52227\",\n",
    "           \"Node53994\", \"Node55420\",\n",
    "           \"Node55904\"]\n",
    "\n",
    "# colors\n",
    "colors = [\"Black\", \"Coral\", \"Red\", \"Green\", \"Blue\", \"Yellow\", \"Cyan\", \"Magenta\", \"Gray\", \"Brown\", \"Orange\", \"Purple\", \"Pink\", \"Turquoise\", \"Lime\", \"Indigo\", \"Teal\"]\n",
    "colors = [\"#000000\", \"#FF7F50\", \"#FF0000\", \"#008000\", \"#0000FF\", \"#FFFF00\", \"#00FFFF\", \"#FF00FF\", \"#808080\", \"#A52A2A\", \"#FFA500\", \"#800080\", \"#FFC0CB\", \"#40E0D0\", \"#00FF00\", \"#4B0082\", \"#008080\"]\n",
    "\n",
    "# databases\n",
    "##bigg_reactions_file = \"/home/silvia/Apps/BiKEGG-master/bigg_models_reactions.txt\"\n",
    "bigg_reactions_file = \"/home/silvia/repos/get_core_reactions/analisis_pans90/bigg_models_reactions.txt\"\n",
    "##kegg_reactions_file = \"/home/silvia/rn\"\n",
    "kegg_reactions_file = \"/home/silvia/repos/get_core_reactions/analisis_pans90/rn\""
   ]
  },
  {
   "cell_type": "markdown",
   "id": "0dc2dc2c-6485-4713-8c05-a01a0b392bd8",
   "metadata": {},
   "source": [
    "Read PCGs from PCG table and reaction descriptions from BiGG"
   ]
  },
  {
   "cell_type": "code",
   "execution_count": 3,
   "id": "5970f65f-bf97-4176-bc34-e2b621b06d32",
   "metadata": {},
   "outputs": [],
   "source": [
    "taxonomy = {}\n",
    "\n",
    "with open(PCG_table, newline='') as csvfile:\n",
    "    reader = csv.reader(csvfile, delimiter=\"\\t\")\n",
    "    for row in reader:\n",
    "        if len(row) > 9:\n",
    "            key = row[0]\n",
    "            value = row[9]\n",
    "            taxonomy[key] = value\n",
    "\n",
    "# prepare dictionary for reaction IDs (to get descriptions)\n",
    "if IDs == \"bigg\":\n",
    "    reactions_file = bigg_reactions_file\n",
    "    file_pattern = '*_bigg_reac.txt' # input for later\n",
    "elif IDs == \"kreac\":\n",
    "    reactions_file = kegg_reactions_file\n",
    "    file_pattern = '*_kegg_reac.txt' \n",
    "else:\n",
    "    raise SystemExit(0, \"IDs must be BiGG or KEGG reactions\")\n",
    "\n",
    "description_dict = {}\n",
    "with open(reactions_file, newline='') as csvfile:\n",
    "    reader = csv.reader(csvfile, delimiter=\"\\t\")\n",
    "    for row in reader:\n",
    "        key = row[0]\n",
    "        value = row[1]\n",
    "        description_dict[key] = value"
   ]
  },
  {
   "cell_type": "markdown",
   "id": "f8d9b794-54dc-4b34-9bf2-3ff3ff78e86f",
   "metadata": {},
   "source": [
    "#### Save all reactions (duplicates too)\n",
    "\n",
    "This can be submitted to an iPath3/KEGG mapper map as it is."
   ]
  },
  {
   "cell_type": "code",
   "execution_count": 4,
   "id": "624e9106-7e9d-45e4-99e4-f16a53452640",
   "metadata": {},
   "outputs": [],
   "source": [
    "# For saving everything as iPath3 input format\n",
    "reac_lists = glob.glob(os.path.join(folder_path, file_pattern))\n",
    "\n",
    "n = 0\n",
    "with open(all_reactions_file, \"w\") as o:\n",
    "    for file in reac_lists:\n",
    "        node = os.path.basename(file).split('.')[0].split('_')[0]\n",
    "        if node in selected_nodes:\n",
    "            with open(file, 'r') as f:\n",
    "                reac_list = f.read().splitlines()\n",
    "                for r in reac_list:\n",
    "                    r = r + \"\\t\" + colors[n] + \"\\t\" + \"W7\" + \"\\t\" + node # W7 is the width, one of iPaths customization options\n",
    "                    o.write(\"%s\\n\" % r)\n",
    "        n += 1"
   ]
  },
  {
   "cell_type": "markdown",
   "id": "13c936d2-b5fa-4d5b-b88a-2ec35e77d349",
   "metadata": {},
   "source": [
    "#### Start parsing\n",
    "\n",
    "_Unique reacs_"
   ]
  },
  {
   "cell_type": "code",
   "execution_count": 7,
   "id": "7d129689-f6fc-4581-8a38-de5c76407775",
   "metadata": {},
   "outputs": [
    {
     "data": {
      "text/html": [
       "<span style='color: #000000'>Node147305 (k__Bacteria;p__Firmicutes;c__Bacilli;o__Bacillales;)</span>"
      ],
      "text/plain": [
       "<IPython.core.display.HTML object>"
      ]
     },
     "metadata": {},
     "output_type": "display_data"
    },
    {
     "data": {
      "text/html": [
       "<span style='color: #FF7F50'>Node21166 (k__Bacteria;p__Proteobacteria;c__Betaproteobacteria;o__Burkholderiales;f__Oxalobacteraceae;s__;)</span>"
      ],
      "text/plain": [
       "<IPython.core.display.HTML object>"
      ]
     },
     "metadata": {},
     "output_type": "display_data"
    },
    {
     "data": {
      "text/html": [
       "<b>R07602</b>: 3-Methyl-1-hydroxybutyl-ThPP + Enzyme N6-(lipoyl)lysine <=> [Dihydrolipoyllysine-residue (2-methylpropanoyl)transferase] S-(3-methylbutanoyl)dihydrolipoyllysine + Thiamin diphosphate"
      ],
      "text/plain": [
       "<IPython.core.display.HTML object>"
      ]
     },
     "metadata": {},
     "output_type": "display_data"
    },
    {
     "data": {
      "text/html": [
       "<b>R00480</b>: ATP:L-aspartate 4-phosphotransferase; ATP + L-Aspartate <=> ADP + 4-Phospho-L-aspartate"
      ],
      "text/plain": [
       "<IPython.core.display.HTML object>"
      ]
     },
     "metadata": {},
     "output_type": "display_data"
    },
    {
     "data": {
      "text/html": [
       "<b>R08059</b>: 5,10-Methylenetetrahydromethanopterin + NADP+ <=> 5,10-Methenyltetrahydromethanopterin + NADPH"
      ],
      "text/plain": [
       "<IPython.core.display.HTML object>"
      ]
     },
     "metadata": {},
     "output_type": "display_data"
    },
    {
     "data": {
      "text/html": [
       "<b>R07599</b>: 3-Methyl-2-oxobutanoic acid + Thiamin diphosphate <=> 2-Methyl-1-hydroxypropyl-ThPP + CO2"
      ],
      "text/plain": [
       "<IPython.core.display.HTML object>"
      ]
     },
     "metadata": {},
     "output_type": "display_data"
    },
    {
     "data": {
      "text/html": [
       "<b>R07412</b>: ferroheme o:acceptor C-81-oxidoreductase (heme a-forming); Heme O + H2O + 2 Acceptor <=> Heme A + 2 Reduced acceptor"
      ],
      "text/plain": [
       "<IPython.core.display.HTML object>"
      ]
     },
     "metadata": {},
     "output_type": "display_data"
    },
    {
     "data": {
      "text/html": [
       "<b>R10997</b>: 2-(alpha-Hydroxypropyl)thiamine diphosphate + Enzyme N6-(lipoyl)lysine <=> Enzyme N6-(S-propyldihydrolipoyl)lysine + Thiamin diphosphate"
      ],
      "text/plain": [
       "<IPython.core.display.HTML object>"
      ]
     },
     "metadata": {},
     "output_type": "display_data"
    },
    {
     "data": {
      "text/html": [
       "<b>R05626</b>: ATP:undecaprenol phosphotransferase; ATP + di-trans,poly-cis-Undecaprenol <=> ADP + di-trans,poly-cis-Undecaprenyl phosphate"
      ],
      "text/plain": [
       "<IPython.core.display.HTML object>"
      ]
     },
     "metadata": {},
     "output_type": "display_data"
    },
    {
     "data": {
      "text/html": [
       "<b>R00660</b>: Phosphoenolpyruvate:UDP-N-acetyl-D-glucosamine 1-carboxyvinyl-transferase; Phosphoenolpyruvate + UDP-N-acetyl-alpha-D-glucosamine <=> UDP-N-acetyl-3-(1-carboxyvinyl)-D-glucosamine + Orthophosphate"
      ],
      "text/plain": [
       "<IPython.core.display.HTML object>"
      ]
     },
     "metadata": {},
     "output_type": "display_data"
    },
    {
     "data": {
      "text/html": [
       "<b>R00396</b>: L-alanine:NAD+ oxidoreductase (deaminating); L-Alanine + NAD+ + H2O <=> Pyruvate + Ammonia + NADH + H+"
      ],
      "text/plain": [
       "<IPython.core.display.HTML object>"
      ]
     },
     "metadata": {},
     "output_type": "display_data"
    },
    {
     "data": {
      "text/html": [
       "<b>R01717</b>: chorismate hydroxymutase; Chorismate <=> Isochorismate"
      ],
      "text/plain": [
       "<IPython.core.display.HTML object>"
      ]
     },
     "metadata": {},
     "output_type": "display_data"
    },
    {
     "data": {
      "text/html": [
       "<b>R01745</b>: (R)-Glycerate:NAD+ oxidoreductase; D-Glycerate + NAD+ <=> 2-Hydroxy-3-oxopropanoate + NADH + H+"
      ],
      "text/plain": [
       "<IPython.core.display.HTML object>"
      ]
     },
     "metadata": {},
     "output_type": "display_data"
    },
    {
     "data": {
      "text/html": [
       "<b>R01056</b>: D-ribose-5-phosphate aldose-ketose-isomerase; D-Ribose 5-phosphate <=> D-Ribulose 5-phosphate"
      ],
      "text/plain": [
       "<IPython.core.display.HTML object>"
      ]
     },
     "metadata": {},
     "output_type": "display_data"
    },
    {
     "data": {
      "text/html": [
       "<b>R08166</b>: 2-succinyl-6-hydroxy-2,4-cyclohexadiene-1-carboxylate synthase; 2-Succinyl-5-enolpyruvyl-6-hydroxy-3-cyclohexene-1-carboxylate <=> (1R,6R)-6-Hydroxy-2-succinylcyclohexa-2,4-diene-1-carboxylate + Pyruvate"
      ],
      "text/plain": [
       "<IPython.core.display.HTML object>"
      ]
     },
     "metadata": {},
     "output_type": "display_data"
    },
    {
     "data": {
      "text/html": [
       "<b>R03664</b>: L-Tryptophan -tRNA(Trp) ligase (AMP-forming); ATP + L-Tryptophan + tRNA(Trp) <=> AMP + Diphosphate + L-Tryptophanyl-tRNA(Trp)"
      ],
      "text/plain": [
       "<IPython.core.display.HTML object>"
      ]
     },
     "metadata": {},
     "output_type": "display_data"
    },
    {
     "data": {
      "text/html": [
       "<b>R01867</b>: (S)-dihydroorotate:fumarate oxidoreductase; (S)-Dihydroorotate + Fumarate <=> Orotate + Succinate"
      ],
      "text/plain": [
       "<IPython.core.display.HTML object>"
      ]
     },
     "metadata": {},
     "output_type": "display_data"
    },
    {
     "data": {
      "text/html": [
       "<b>R09030</b>: D-allose-6-phosphate aldose-ketose-isomerase; D-Allose 6-phosphate <=> D-Allulose 6-phosphate"
      ],
      "text/plain": [
       "<IPython.core.display.HTML object>"
      ]
     },
     "metadata": {},
     "output_type": "display_data"
    },
    {
     "data": {
      "text/html": [
       "<b>R01226</b>: 5,10-Methylenetetrahydrofolate:3-methyl-2-oxobutanoate hydroxymethyltransferase; 5,10-Methylenetetrahydrofolate + 3-Methyl-2-oxobutanoic acid + H2O <=> Tetrahydrofolate + 2-Dehydropantoate"
      ],
      "text/plain": [
       "<IPython.core.display.HTML object>"
      ]
     },
     "metadata": {},
     "output_type": "display_data"
    },
    {
     "data": {
      "text/html": [
       "<b>R10996</b>: 2-Oxobutanoate + Thiamin diphosphate <=> 2-(alpha-Hydroxypropyl)thiamine diphosphate + CO2"
      ],
      "text/plain": [
       "<IPython.core.display.HTML object>"
      ]
     },
     "metadata": {},
     "output_type": "display_data"
    },
    {
     "data": {
      "text/html": [
       "<b>R00315</b>: ATP:acetate phosphotransferase; ATP + Acetate <=> ADP + Acetyl phosphate"
      ],
      "text/plain": [
       "<IPython.core.display.HTML object>"
      ]
     },
     "metadata": {},
     "output_type": "display_data"
    },
    {
     "data": {
      "text/html": [
       "<b>R07603</b>: (S)-3-Methyl-2-oxopentanoic acid + Thiamin diphosphate <=> 2-Methyl-1-hydroxybutyl-ThPP + CO2"
      ],
      "text/plain": [
       "<IPython.core.display.HTML object>"
      ]
     },
     "metadata": {},
     "output_type": "display_data"
    },
    {
     "data": {
      "text/html": [
       "<b>R07601</b>: 4-Methyl-2-oxopentanoate + Thiamin diphosphate <=> 3-Methyl-1-hydroxybutyl-ThPP + CO2"
      ],
      "text/plain": [
       "<IPython.core.display.HTML object>"
      ]
     },
     "metadata": {},
     "output_type": "display_data"
    },
    {
     "data": {
      "text/html": [
       "<b>R02240</b>: ATP:1,2-diacylglycerol 3-phosphotransferase; ATP + 1,2-Diacyl-sn-glycerol <=> ADP + Phosphatidate"
      ],
      "text/plain": [
       "<IPython.core.display.HTML object>"
      ]
     },
     "metadata": {},
     "output_type": "display_data"
    },
    {
     "data": {
      "text/html": [
       "<b>R01353</b>: ATP:propanoate phosphotransferase; ATP + Propanoate <=> ADP + Propanoyl phosphate"
      ],
      "text/plain": [
       "<IPython.core.display.HTML object>"
      ]
     },
     "metadata": {},
     "output_type": "display_data"
    },
    {
     "data": {
      "text/html": [
       "<b>R07600</b>: 2-Methyl-1-hydroxypropyl-ThPP + Enzyme N6-(lipoyl)lysine <=> [Dihydrolipoyllysine-residue (2-methylpropanoyl)transferase] S-(2-methylpropanoyl)dihydrolipoyllysine + Thiamin diphosphate"
      ],
      "text/plain": [
       "<IPython.core.display.HTML object>"
      ]
     },
     "metadata": {},
     "output_type": "display_data"
    },
    {
     "data": {
      "text/html": [
       "<b>R01402</b>: S-methyl-5'-thioadenosine:phosphate S-methyl-5-thio-alpha-D-ribosyl-transferase; 5'-Methylthioadenosine + Orthophosphate <=> Adenine + S-Methyl-5-thio-D-ribose 1-phosphate"
      ],
      "text/plain": [
       "<IPython.core.display.HTML object>"
      ]
     },
     "metadata": {},
     "output_type": "display_data"
    },
    {
     "data": {
      "text/html": [
       "<b>R01747</b>: (R)-Glycerate:NADP+ oxidoreductase; D-Glycerate + NADP+ <=> 2-Hydroxy-3-oxopropanoate + NADPH + H+"
      ],
      "text/plain": [
       "<IPython.core.display.HTML object>"
      ]
     },
     "metadata": {},
     "output_type": "display_data"
    },
    {
     "data": {
      "text/html": [
       "<b>R07604</b>: 2-Methyl-1-hydroxybutyl-ThPP + Enzyme N6-(lipoyl)lysine <=> [Dihydrolipoyllysine-residue (2-methylpropanoyl)transferase] S-(2-methylbutanoyl)dihydrolipoyllysine + Thiamin diphosphate"
      ],
      "text/plain": [
       "<IPython.core.display.HTML object>"
      ]
     },
     "metadata": {},
     "output_type": "display_data"
    },
    {
     "data": {
      "text/html": [
       "<b>R00420</b>: UDP-N-acetyl-D-glucosamine 2-epimerase; UDP-N-acetyl-alpha-D-glucosamine <=> UDP-N-acetyl-D-mannosamine"
      ],
      "text/plain": [
       "<IPython.core.display.HTML object>"
      ]
     },
     "metadata": {},
     "output_type": "display_data"
    },
    {
     "data": {
      "text/html": [
       "<span style='color: #FF0000'>Node19398 (k__Bacteria;p__Proteobacteria;c__Betaproteobacteria;)</span>"
      ],
      "text/plain": [
       "<IPython.core.display.HTML object>"
      ]
     },
     "metadata": {},
     "output_type": "display_data"
    },
    {
     "data": {
      "text/html": [
       "<b>R09513</b>: methanesulfonate,NADH:oxygen oxidoreductase; Methanesulfonic acid + NADH + H+ + Oxygen <=> Formaldehyde + NAD+ + Sulfite + H2O"
      ],
      "text/plain": [
       "<IPython.core.display.HTML object>"
      ]
     },
     "metadata": {},
     "output_type": "display_data"
    },
    {
     "data": {
      "text/html": [
       "<b>R08109</b>: 3-fluorobenzoate,NADH:oxygen oxidoreductase (1,2-hydroxylating); 3-Fluorobenzoate + NADH + H+ + Oxygen <=> 5-Fluorocyclohexadiene-cis,cis-1,2-diol-1-carboxylate + NAD+"
      ],
      "text/plain": [
       "<IPython.core.display.HTML object>"
      ]
     },
     "metadata": {},
     "output_type": "display_data"
    },
    {
     "data": {
      "text/html": [
       "<b>R05291</b>: Toluate + Oxygen + NADPH + H+ <=> cis-1,2-Dihydroxy-4-methylcyclohexa-3,5-diene-1-carboxylate + NADP+"
      ],
      "text/plain": [
       "<IPython.core.display.HTML object>"
      ]
     },
     "metadata": {},
     "output_type": "display_data"
    },
    {
     "data": {
      "text/html": [
       "<b>R09493</b>: D-amino acid:quinone oxidoreductase (deaminating); D-Amino acid + H2O + Quinone <=> 2-Oxo acid + Ammonia + Hydroquinone"
      ],
      "text/plain": [
       "<IPython.core.display.HTML object>"
      ]
     },
     "metadata": {},
     "output_type": "display_data"
    },
    {
     "data": {
      "text/html": [
       "<b>R05621</b>: Benzoate + NADH + H+ + Oxygen <=> (1R,6S)-1,6-Dihydroxycyclohexa-2,4-diene-1-carboxylate + NAD+"
      ],
      "text/plain": [
       "<IPython.core.display.HTML object>"
      ]
     },
     "metadata": {},
     "output_type": "display_data"
    },
    {
     "data": {
      "text/html": [
       "<b>R00847</b>: ATP:glycerol 3-phosphotransferase; ATP + Glycerol <=> ADP + sn-Glycerol 3-phosphate"
      ],
      "text/plain": [
       "<IPython.core.display.HTML object>"
      ]
     },
     "metadata": {},
     "output_type": "display_data"
    },
    {
     "data": {
      "text/html": [
       "<b>R08108</b>: 3-fluorobenzoate,NADH:oxygen oxidoreductase (1,2-hydroxylating); 3-Fluorobenzoate + NADH + Oxygen + H+ <=> 3-Fluorocyclohexadiene-cis,cis-1,2-diol-1-carboxylate + NAD+"
      ],
      "text/plain": [
       "<IPython.core.display.HTML object>"
      ]
     },
     "metadata": {},
     "output_type": "display_data"
    },
    {
     "data": {
      "text/html": [
       "<b>R09839</b>: 2,3-didehydroadipoyl-CoA:acetyl-CoA C-didehydroadipoyltransferase (double bond migration); 3-Oxo-5,6-dehydrosuberyl-CoA + CoA <=> 5-Carboxy-2-pentenoyl-CoA + Acetyl-CoA"
      ],
      "text/plain": [
       "<IPython.core.display.HTML object>"
      ]
     },
     "metadata": {},
     "output_type": "display_data"
    },
    {
     "data": {
      "text/html": [
       "<b>R01374</b>: D-phenylalanine:quinone oxidoreductase (deaminating); D-Phenylalanine + H2O + Quinone <=> Phenylpyruvate + Ammonia + Hydroquinone"
      ],
      "text/plain": [
       "<IPython.core.display.HTML object>"
      ]
     },
     "metadata": {},
     "output_type": "display_data"
    },
    {
     "data": {
      "text/html": [
       "<b>R05665</b>: m-Methylbenzoate + NADH + Oxygen + H+ <=> 1,6-Dihydroxy-5-methylcyclohexa-2,4-dienecarboxylate + NAD+"
      ],
      "text/plain": [
       "<IPython.core.display.HTML object>"
      ]
     },
     "metadata": {},
     "output_type": "display_data"
    },
    {
     "data": {
      "text/html": [
       "<b>R01676</b>: Guanine aminohydrolase; Guanine + H2O <=> Xanthine + Ammonia"
      ],
      "text/plain": [
       "<IPython.core.display.HTML object>"
      ]
     },
     "metadata": {},
     "output_type": "display_data"
    },
    {
     "data": {
      "text/html": [
       "<b>R02550</b>: toluene, ferredoxin:oxygen oxidoreductase (methyl-hydroxylating); toluene/o-xylene monooxygenase; Benzyl alcohol + 2 Oxidized ferredoxin + H2O <=> Toluene + Oxygen + 2 Reduced ferredoxin + 2 H+"
      ],
      "text/plain": [
       "<IPython.core.display.HTML object>"
      ]
     },
     "metadata": {},
     "output_type": "display_data"
    },
    {
     "data": {
      "text/html": [
       "<b>R09820</b>: 3-oxo-5,6-dehydrosuberyl-CoA semialdehyde:NADP+ oxidoreductase; 3-Oxo-5,6-dehydrosuberyl-CoA semialdehyde + NADP+ + H2O <=> 3-Oxo-5,6-dehydrosuberyl-CoA + NADPH + H+"
      ],
      "text/plain": [
       "<IPython.core.display.HTML object>"
      ]
     },
     "metadata": {},
     "output_type": "display_data"
    },
    {
     "data": {
      "text/html": [
       "<b>R05222</b>: GTP:adenosylcobinamide-phosphate guanylyltransferase; Adenosyl cobinamide phosphate + GTP <=> Adenosine-GDP-cobinamide + Diphosphate"
      ],
      "text/plain": [
       "<IPython.core.display.HTML object>"
      ]
     },
     "metadata": {},
     "output_type": "display_data"
    },
    {
     "data": {
      "text/html": [
       "<b>R05428</b>: o-Toluate + Oxygen + NADH + H+ <=> 1,2-Dihydroxy-6-methylcyclohexa-3,5-dienecarboxylate + NAD+"
      ],
      "text/plain": [
       "<IPython.core.display.HTML object>"
      ]
     },
     "metadata": {},
     "output_type": "display_data"
    },
    {
     "data": {
      "text/html": [
       "<b>R00411</b>: N-succinyl-L-glutamate amidohydrolase; N-Succinyl-L-glutamate + H2O <=> L-Glutamate + Succinate"
      ],
      "text/plain": [
       "<IPython.core.display.HTML object>"
      ]
     },
     "metadata": {},
     "output_type": "display_data"
    },
    {
     "data": {
      "text/html": [
       "<b>R05221</b>: Adenosyl cobinamide + ATP <=> Adenosyl cobinamide phosphate + ADP"
      ],
      "text/plain": [
       "<IPython.core.display.HTML object>"
      ]
     },
     "metadata": {},
     "output_type": "display_data"
    },
    {
     "data": {
      "text/html": [
       "<b>R10159</b>: adrenodoxin:NADP+ oxidoreductase; 2 Reduced adrenal ferredoxin + NADP+ + H+ <=> 2 Oxidized adrenal ferredoxin + NADPH"
      ],
      "text/plain": [
       "<IPython.core.display.HTML object>"
      ]
     },
     "metadata": {},
     "output_type": "display_data"
    },
    {
     "data": {
      "text/html": [
       "<b>R08100</b>: 2-fluorobenzoate,NADH:oxygen oxidoreductase (1,2-hydroxylating); 2-Fluorobenzoate + NADH + H+ + Oxygen <=> 2-Fluorocyclohexadiene-cis,cis-1,2-diol-1-carboxylate + NAD+"
      ],
      "text/plain": [
       "<IPython.core.display.HTML object>"
      ]
     },
     "metadata": {},
     "output_type": "display_data"
    },
    {
     "data": {
      "text/html": [
       "<b>R00974</b>: Cytosine aminohydrolase; Cytosine + H2O <=> Uracil + Ammonia"
      ],
      "text/plain": [
       "<IPython.core.display.HTML object>"
      ]
     },
     "metadata": {},
     "output_type": "display_data"
    },
    {
     "data": {
      "text/html": [
       "<b>R01602</b>: D-glucose 1-epimerase; alpha-D-Glucose <=> beta-D-Glucose"
      ],
      "text/plain": [
       "<IPython.core.display.HTML object>"
      ]
     },
     "metadata": {},
     "output_type": "display_data"
    },
    {
     "data": {
      "text/html": [
       "<b>R06558</b>: Adenosyl cobinamide + GTP <=> Adenosyl cobinamide phosphate + GDP"
      ],
      "text/plain": [
       "<IPython.core.display.HTML object>"
      ]
     },
     "metadata": {},
     "output_type": "display_data"
    },
    {
     "data": {
      "text/html": [
       "<b>R09836</b>: 2-oxepin-2(3H)-ylideneacetyl-CoA hydrolyase; 2-Oxepin-2(3H)-ylideneacetyl-CoA + H2O <=> 3-Oxo-5,6-dehydrosuberyl-CoA semialdehyde"
      ],
      "text/plain": [
       "<IPython.core.display.HTML object>"
      ]
     },
     "metadata": {},
     "output_type": "display_data"
    },
    {
     "data": {
      "text/html": [
       "<b>R05622</b>: Benzoate + NADPH + H+ + Oxygen <=> (1R,6S)-1,6-Dihydroxycyclohexa-2,4-diene-1-carboxylate + NADP+"
      ],
      "text/plain": [
       "<IPython.core.display.HTML object>"
      ]
     },
     "metadata": {},
     "output_type": "display_data"
    },
    {
     "data": {
      "text/html": [
       "<b>R09722</b>: cyanophycinase; [L-Asp(4-L-Arg)]n+1(n) + H2O <=> [L-Asp(4-L-Arg)]n(n-1) + L-Asp(4-L-Arg)"
      ],
      "text/plain": [
       "<IPython.core.display.HTML object>"
      ]
     },
     "metadata": {},
     "output_type": "display_data"
    },
    {
     "data": {
      "text/html": [
       "<b>R03187</b>: N-Methylimidazolidine-2,4-dione amidohydrolase (ATP-hydrolysing); ATP + N-Methylhydantoin + 2 H2O <=> ADP + Orthophosphate + N-Carbamoylsarcosine"
      ],
      "text/plain": [
       "<IPython.core.display.HTML object>"
      ]
     },
     "metadata": {},
     "output_type": "display_data"
    },
    {
     "data": {
      "text/html": [
       "<b>R09837</b>: 2-(1,2-epoxy-1,2-dihydrophenyl)acetyl-CoA isomerase; 2-(1,2-Epoxy-1,2-dihydrophenyl)acetyl-CoA <=> 2-Oxepin-2(3H)-ylideneacetyl-CoA"
      ],
      "text/plain": [
       "<IPython.core.display.HTML object>"
      ]
     },
     "metadata": {},
     "output_type": "display_data"
    },
    {
     "data": {
      "text/html": [
       "<b>R05290</b>: Toluate + Oxygen + NADH + H+ <=> cis-1,2-Dihydroxy-4-methylcyclohexa-3,5-diene-1-carboxylate + NAD+"
      ],
      "text/plain": [
       "<IPython.core.display.HTML object>"
      ]
     },
     "metadata": {},
     "output_type": "display_data"
    },
    {
     "data": {
      "text/html": [
       "<b>R03562</b>: Toluene,NADPH:oxogen oxidoreductase (3-hydroxylating); Toluene + Oxygen + NADPH + H+ <=> 3-Cresol + NADP+ + H2O"
      ],
      "text/plain": [
       "<IPython.core.display.HTML object>"
      ]
     },
     "metadata": {},
     "output_type": "display_data"
    },
    {
     "data": {
      "text/html": [
       "<b>R08110</b>: 4-fluorobenzoate,NADH:oxygen oxidoreductase (1,2-hydroxylating); 4-Fluorobenzoate + NADH + H+ + Oxygen <=> 4-Fluorocyclohexadiene-cis,cis-1,2-diol-1-carboxylate + NAD+"
      ],
      "text/plain": [
       "<IPython.core.display.HTML object>"
      ]
     },
     "metadata": {},
     "output_type": "display_data"
    },
    {
     "data": {
      "text/html": [
       "<b>R05666</b>: toluene,NADH:oxygen oxidoreductase (4-hydroxylating); Toluene + NADH + H+ + Oxygen <=> 4-Cresol + NAD+ + H2O"
      ],
      "text/plain": [
       "<IPython.core.display.HTML object>"
      ]
     },
     "metadata": {},
     "output_type": "display_data"
    },
    {
     "data": {
      "text/html": [
       "<b>R08101</b>: 2-fluorobenzoate,NADH:oxygen oxidoreductase (1,2-hydroxylating); 2-Fluorobenzoate + NADH + H+ + Oxygen <=> 6-Fluorocyclohexadiene-cis,cis-1,2-diol-1-carboxylate + NAD+"
      ],
      "text/plain": [
       "<IPython.core.display.HTML object>"
      ]
     },
     "metadata": {},
     "output_type": "display_data"
    },
    {
     "data": {
      "text/html": [
       "<b>R01993</b>: (S)-dihydroorotate amidohydrolase; (S)-Dihydroorotate + H2O <=> N-Carbamoyl-L-aspartate"
      ],
      "text/plain": [
       "<IPython.core.display.HTML object>"
      ]
     },
     "metadata": {},
     "output_type": "display_data"
    },
    {
     "data": {
      "text/html": [
       "<b>R00207</b>: Pyruvate:oxygen 2-oxidoreductase (phosphorylating); Pyruvate + Orthophosphate + Oxygen <=> Acetyl phosphate + Hydrogen peroxide + CO2"
      ],
      "text/plain": [
       "<IPython.core.display.HTML object>"
      ]
     },
     "metadata": {},
     "output_type": "display_data"
    },
    {
     "data": {
      "text/html": [
       "<b>R04638</b>: 7,8-dihydroneopterin 3'-triphosphate diphosphohydrolase; 7,8-Dihydroneopterin 3'-triphosphate + H2O <=> Dihydroneopterin phosphate + Diphosphate"
      ],
      "text/plain": [
       "<IPython.core.display.HTML object>"
      ]
     },
     "metadata": {},
     "output_type": "display_data"
    },
    {
     "data": {
      "text/html": [
       "<b>R00251</b>: 5-oxo-L-proline amidohydrolase (ATP-hydrolysing); ATP + 5-Oxoproline + 2 H2O <=> ADP + Orthophosphate + L-Glutamate"
      ],
      "text/plain": [
       "<IPython.core.display.HTML object>"
      ]
     },
     "metadata": {},
     "output_type": "display_data"
    },
    {
     "data": {
      "text/html": [
       "<b>R01411</b>: 5-Methylcytosine aminohydrolase; 5-Methylcytosine + H2O <=> Thymine + Ammonia"
      ],
      "text/plain": [
       "<IPython.core.display.HTML object>"
      ]
     },
     "metadata": {},
     "output_type": "display_data"
    },
    {
     "data": {
      "text/html": [
       "<b>R01092</b>: ATP:alpha-D-galactose 1-phosphotransferase; ATP + alpha-D-Galactose <=> ADP + alpha-D-Galactose 1-phosphate"
      ],
      "text/plain": [
       "<IPython.core.display.HTML object>"
      ]
     },
     "metadata": {},
     "output_type": "display_data"
    },
    {
     "data": {
      "text/html": [
       "<b>R03145</b>: pyruvate:ubiquinone oxidoreductase; Pyruvate + Ubiquinone + H2O <=> Acetate + Ubiquinol + CO2"
      ],
      "text/plain": [
       "<IPython.core.display.HTML object>"
      ]
     },
     "metadata": {},
     "output_type": "display_data"
    },
    {
     "data": {
      "text/html": [
       "<b>R02922</b>: Creatinine iminohydrolase; Creatinine + H2O <=> N-Methylhydantoin + Ammonia"
      ],
      "text/plain": [
       "<IPython.core.display.HTML object>"
      ]
     },
     "metadata": {},
     "output_type": "display_data"
    },
    {
     "data": {
      "text/html": [
       "<b>R09840</b>: Phenylacetyl-CoA + H2O <=> Phenylacetic acid + CoA"
      ],
      "text/plain": [
       "<IPython.core.display.HTML object>"
      ]
     },
     "metadata": {},
     "output_type": "display_data"
    },
    {
     "data": {
      "text/html": [
       "<b>R00371</b>: Acetyl-CoA:glycine C-acetyltransferase; Acetyl-CoA + Glycine <=> CoA + L-2-Amino-3-oxobutanoic acid"
      ],
      "text/plain": [
       "<IPython.core.display.HTML object>"
      ]
     },
     "metadata": {},
     "output_type": "display_data"
    },
    {
     "data": {
      "text/html": [
       "<b>R10619</b>: D-galactose 1-epimerase; aldose 1-epimerase; D-Galactose <=> alpha-D-Galactose"
      ],
      "text/plain": [
       "<IPython.core.display.HTML object>"
      ]
     },
     "metadata": {},
     "output_type": "display_data"
    },
    {
     "data": {
      "text/html": [
       "<b>R04148</b>: Nicotinate-nucleotide:dimethylbenzimidazole phospho-D-ribosyltransferase; Nicotinate D-ribonucleotide + Dimethylbenzimidazole <=> Nicotinate + N1-(5-Phospho-alpha-D-ribosyl)-5,6-dimethylbenzimidazole + H+"
      ],
      "text/plain": [
       "<IPython.core.display.HTML object>"
      ]
     },
     "metadata": {},
     "output_type": "display_data"
    },
    {
     "data": {
      "text/html": [
       "<b>R02539</b>: Phenylacetate:CoA ligase; ATP + Phenylacetic acid + CoA <=> AMP + Diphosphate + Phenylacetyl-CoA"
      ],
      "text/plain": [
       "<IPython.core.display.HTML object>"
      ]
     },
     "metadata": {},
     "output_type": "display_data"
    },
    {
     "data": {
      "text/html": [
       "<span style='color: #008000'>Node45985 (k__Bacteria;p__Proteobacteria;c__Alphaproteobacteria;s__;)</span>"
      ],
      "text/plain": [
       "<IPython.core.display.HTML object>"
      ]
     },
     "metadata": {},
     "output_type": "display_data"
    },
    {
     "data": {
      "text/html": [
       "<span style='color: #0000FF'>Node119365 (k__Bacteria;p__Actinobacteria;c__Actinobacteria;o__Actinomycetales;)</span>"
      ],
      "text/plain": [
       "<IPython.core.display.HTML object>"
      ]
     },
     "metadata": {},
     "output_type": "display_data"
    },
    {
     "data": {
      "text/html": [
       "<b>R01157</b>: Agmatine amidinohydrolase; Agmatine + H2O <=> Putrescine + Urea"
      ],
      "text/plain": [
       "<IPython.core.display.HTML object>"
      ]
     },
     "metadata": {},
     "output_type": "display_data"
    },
    {
     "data": {
      "text/html": [
       "<b>R00174</b>: ATP:pyridoxal 5'-phosphotransferase; ATP + Pyridoxal <=> ADP + Pyridoxal phosphate"
      ],
      "text/plain": [
       "<IPython.core.display.HTML object>"
      ]
     },
     "metadata": {},
     "output_type": "display_data"
    },
    {
     "data": {
      "text/html": [
       "<b>R01909</b>: ATP:pyridoxine 5'-phosphotransferase; ATP + Pyridoxine <=> ADP + Pyridoxine phosphate"
      ],
      "text/plain": [
       "<IPython.core.display.HTML object>"
      ]
     },
     "metadata": {},
     "output_type": "display_data"
    },
    {
     "data": {
      "text/html": [
       "<b>R11372</b>: (8S)-3',8-cyclo-7,8-dihydroguanosine 5'-triphosphate lyase (cyclic pyranopterin phosphate-forming); (8S)-3',8-Cyclo-7,8-dihydroguanosine 5'-triphosphate + H2O <=> Precursor Z + Diphosphate"
      ],
      "text/plain": [
       "<IPython.core.display.HTML object>"
      ]
     },
     "metadata": {},
     "output_type": "display_data"
    },
    {
     "data": {
      "text/html": [
       "<b>R02493</b>: ATP:pyridoxal 5'-phosphotransferase; ATP + Pyridoxamine <=> ADP + Pyridoxamine phosphate"
      ],
      "text/plain": [
       "<IPython.core.display.HTML object>"
      ]
     },
     "metadata": {},
     "output_type": "display_data"
    },
    {
     "data": {
      "text/html": [
       "<span style='color: #FFFF00'>Node55904 (k__Bacteria;p__Proteobacteria;c__Alphaproteobacteria;o__Rhizobiales;f__Rhizobiaceae;)</span>"
      ],
      "text/plain": [
       "<IPython.core.display.HTML object>"
      ]
     },
     "metadata": {},
     "output_type": "display_data"
    },
    {
     "data": {
      "text/html": [
       "<b>R06265</b>: magnesium-protoporphyrin-IX 13-monomethyl ester,NADPH:oxygen oxidoreductase (hydroxylating); Magnesium protoporphyrin monomethyl ester + NADPH + H+ + Oxygen <=> 13(1)-Hydroxy-magnesium-protoporphyrin IX 13-monomethyl ester + NADP+ + H2O"
      ],
      "text/plain": [
       "<IPython.core.display.HTML object>"
      ]
     },
     "metadata": {},
     "output_type": "display_data"
    },
    {
     "data": {
      "text/html": [
       "<b>R01818</b>: D-mannose 6-phosphate 1,6-phosphomutase; D-Mannose 6-phosphate <=> D-Mannose 1-phosphate"
      ],
      "text/plain": [
       "<IPython.core.display.HTML object>"
      ]
     },
     "metadata": {},
     "output_type": "display_data"
    },
    {
     "data": {
      "text/html": [
       "<b>R06267</b>: magnesium-protoporphyrin-IX 13-monomethyl ester,NADPH:oxygen oxidoreductase (hydroxylating); 13(1)-Oxo-magnesium-protoporphyrin IX 13-monomethyl ester + NADPH + H+ + Oxygen <=> Divinylprotochlorophyllide + NADP+ + 2 H2O"
      ],
      "text/plain": [
       "<IPython.core.display.HTML object>"
      ]
     },
     "metadata": {},
     "output_type": "display_data"
    },
    {
     "data": {
      "text/html": [
       "<b>R08639</b>: alpha-D-glucose 1,6-phosphomutase; D-Glucose 1-phosphate <=> D-Glucose 6-phosphate"
      ],
      "text/plain": [
       "<IPython.core.display.HTML object>"
      ]
     },
     "metadata": {},
     "output_type": "display_data"
    },
    {
     "data": {
      "text/html": [
       "<b>R10938</b>: L-alanyl-D-glutamate epimerase; L-Alanyl-D-glutamate <=> L-Alanyl-L-glutamate"
      ],
      "text/plain": [
       "<IPython.core.display.HTML object>"
      ]
     },
     "metadata": {},
     "output_type": "display_data"
    },
    {
     "data": {
      "text/html": [
       "<b>R00959</b>: alpha-D-Glucose 1-phosphate 1,6-phosphomutase; D-Glucose 1-phosphate <=> alpha-D-Glucose 6-phosphate"
      ],
      "text/plain": [
       "<IPython.core.display.HTML object>"
      ]
     },
     "metadata": {},
     "output_type": "display_data"
    },
    {
     "data": {
      "text/html": [
       "<b>R08878</b>: 2-dehydro-L-idonate:NADP+ 5-oxidoreductase; 2-Dehydro-L-idonate + NADP+ <=> 2,5-Didehydro-D-gluconate + NADPH + H+"
      ],
      "text/plain": [
       "<IPython.core.display.HTML object>"
      ]
     },
     "metadata": {},
     "output_type": "display_data"
    },
    {
     "data": {
      "text/html": [
       "<b>R10068</b>: magnesium-protoporphyrin-IX 13-monomethyl ester,NADPH:oxygen oxidoreductase (hydroxylating); Magnesium protoporphyrin monomethyl ester + 3 NADPH + 3 H+ + 3 Oxygen <=> Divinylprotochlorophyllide + 3 NADP+ + 5 H2O"
      ],
      "text/plain": [
       "<IPython.core.display.HTML object>"
      ]
     },
     "metadata": {},
     "output_type": "display_data"
    },
    {
     "name": "stdout",
     "output_type": "stream",
     "text": [
      "Descriptor R05617 does not have a value\n"
     ]
    },
    {
     "data": {
      "text/html": [
       "<b>R06266</b>: magnesium-protoporphyrin-IX 13-monomethyl ester,NADPH:oxygen oxidoreductase (hydroxylating); 13(1)-Hydroxy-magnesium-protoporphyrin IX 13-monomethyl ester + NADPH + H+ + Oxygen <=> 13(1)-Oxo-magnesium-protoporphyrin IX 13-monomethyl ester + NADP+ + 2 H2O"
      ],
      "text/plain": [
       "<IPython.core.display.HTML object>"
      ]
     },
     "metadata": {},
     "output_type": "display_data"
    },
    {
     "data": {
      "text/html": [
       "<b>R01287</b>: O-acetyl-L-homoserine:hydrogen sulfide S-(3-amino-3-carboxypropyl)transferase; O-acetyl-L-homoserine acetate-lyase (adding hydrogen sulfide); O-Acetyl-L-homoserine + Hydrogen sulfide <=> L-Homocysteine + Acetate"
      ],
      "text/plain": [
       "<IPython.core.display.HTML object>"
      ]
     },
     "metadata": {},
     "output_type": "display_data"
    },
    {
     "name": "stdout",
     "output_type": "stream",
     "text": [
      "Descriptor R06858 does not have a value\n"
     ]
    },
    {
     "data": {
      "text/html": [
       "<b>R04031</b>: (1R,6R)-6-hydroxy-2-succinylcyclohexa-2,4-diene-1-carboxylate hydrolyase (2-succinylbenzoate-forming); 2-Succinylbenzoate + H2O <=> (1R,6R)-6-Hydroxy-2-succinylcyclohexa-2,4-diene-1-carboxylate"
      ],
      "text/plain": [
       "<IPython.core.display.HTML object>"
      ]
     },
     "metadata": {},
     "output_type": "display_data"
    },
    {
     "data": {
      "text/html": [
       "<b>R10757</b>: all-trans-polyprenyl-diphosphate:1,4-dihydroxy-2-naphthoate polyprenyltransferase; all-trans-Polyprenyl diphosphate + 1,4-Dihydroxy-2-naphthoate <=> Demethylmenaquinol + Diphosphate + CO2"
      ],
      "text/plain": [
       "<IPython.core.display.HTML object>"
      ]
     },
     "metadata": {},
     "output_type": "display_data"
    },
    {
     "data": {
      "text/html": [
       "<span style='color: #00FFFF'>Node126898 (k__Bacteria;p__Actinobacteria;c__Actinobacteria;o__Actinomycetales;)</span>"
      ],
      "text/plain": [
       "<IPython.core.display.HTML object>"
      ]
     },
     "metadata": {},
     "output_type": "display_data"
    },
    {
     "data": {
      "text/html": [
       "<b>R07069</b>: 3,4-dihydro-3-hydroxy-4-S-glutathionyl bromobenzene glutathione-lyase (epoxide-forming); Bromobenzene-3,4-oxide + Glutathione <=> 3,4-Dihydro-3-hydroxy-4-S-glutathionyl bromobenzene"
      ],
      "text/plain": [
       "<IPython.core.display.HTML object>"
      ]
     },
     "metadata": {},
     "output_type": "display_data"
    },
    {
     "data": {
      "text/html": [
       "<b>R00524</b>: Formamide amidohydrolase; Formamide + H2O <=> Formate + Ammonia"
      ],
      "text/plain": [
       "<IPython.core.display.HTML object>"
      ]
     },
     "metadata": {},
     "output_type": "display_data"
    },
    {
     "data": {
      "text/html": [
       "<b>R06895</b>: coproporphyrinogen-III:S-adenosyl-L-methionine oxidoreductase(decarboxylating); Coproporphyrinogen III + 2 S-Adenosyl-L-methionine <=> Protoporphyrinogen IX + 2 CO2 + 2 L-Methionine + 2 5'-Deoxyadenosine"
      ],
      "text/plain": [
       "<IPython.core.display.HTML object>"
      ]
     },
     "metadata": {},
     "output_type": "display_data"
    },
    {
     "data": {
      "text/html": [
       "<b>R00766</b>: UDP-glucose:D-fructose-6-phosphate 2-alpha-D-glucosyltransferase; UDP-glucose + D-Fructose 6-phosphate <=> UDP + Sucrose 6'-phosphate"
      ],
      "text/plain": [
       "<IPython.core.display.HTML object>"
      ]
     },
     "metadata": {},
     "output_type": "display_data"
    },
    {
     "data": {
      "text/html": [
       "<b>R00805</b>: sucrose-6F-phosphate phosphohydrolase; Sucrose 6'-phosphate + H2O <=> Sucrose + Orthophosphate"
      ],
      "text/plain": [
       "<IPython.core.display.HTML object>"
      ]
     },
     "metadata": {},
     "output_type": "display_data"
    },
    {
     "data": {
      "text/html": [
       "<b>R02566</b>: p-Cumic alcohol:NADP+ oxidoreductase; Betaine aldehyde + NADP+ + H2O <=> Betaine + NADPH + 2 H+"
      ],
      "text/plain": [
       "<IPython.core.display.HTML object>"
      ]
     },
     "metadata": {},
     "output_type": "display_data"
    },
    {
     "data": {
      "text/html": [
       "<b>R07023</b>: 1-nitro-7-hydroxy-8-glutathionyl-7,8-dihydronaphthalene glutathione-lyase (epoxide-forming); 1-Nitronaphthalene-7,8-oxide + Glutathione <=> 1-Nitro-7-hydroxy-8-glutathionyl-7,8-dihydronaphthalene"
      ],
      "text/plain": [
       "<IPython.core.display.HTML object>"
      ]
     },
     "metadata": {},
     "output_type": "display_data"
    },
    {
     "data": {
      "text/html": [
       "<b>R07003</b>: (1R)-glutathionyl-(2R)-hydroxy-1,2-dihydronaphthalene glutathione-lyase (epoxide-forming); (1S,2R)-Naphthalene 1,2-oxide + Glutathione <=> (1R)-Glutathionyl-(2R)-hydroxy-1,2-dihydronaphthalene"
      ],
      "text/plain": [
       "<IPython.core.display.HTML object>"
      ]
     },
     "metadata": {},
     "output_type": "display_data"
    },
    {
     "data": {
      "text/html": [
       "<b>R06211</b>: Sucrose 6'-phosphate + H2O <=> Sucrose + Orthophosphate"
      ],
      "text/plain": [
       "<IPython.core.display.HTML object>"
      ]
     },
     "metadata": {},
     "output_type": "display_data"
    },
    {
     "data": {
      "text/html": [
       "<b>R01016</b>: glycerone-phosphate phosphate-lyase (methylglyoxal-forming); Glycerone phosphate <=> Methylglyoxal + Orthophosphate"
      ],
      "text/plain": [
       "<IPython.core.display.HTML object>"
      ]
     },
     "metadata": {},
     "output_type": "display_data"
    },
    {
     "data": {
      "text/html": [
       "<b>R03522</b>: RX:glutathione R-transferase; RX + Glutathione <=> Halide + R-S-Glutathione"
      ],
      "text/plain": [
       "<IPython.core.display.HTML object>"
      ]
     },
     "metadata": {},
     "output_type": "display_data"
    },
    {
     "data": {
      "text/html": [
       "<b>R03643</b>: NADH:(quinone-acceptor) oxidoreductase; Vitamin K + NADH + H+ <=> Reduced Vitamin K + NAD+"
      ],
      "text/plain": [
       "<IPython.core.display.HTML object>"
      ]
     },
     "metadata": {},
     "output_type": "display_data"
    },
    {
     "data": {
      "text/html": [
       "<b>R07091</b>: S-(2,2-dichloro-1-hydroxy)ethyl-glutathione 2,2-dichloroacetaldehyde-lyase (glutathione-forming); 2,2-Dichloroacetaldehyde + Glutathione <=> S-(2,2-Dichloro-1-hydroxy)ethyl glutathione"
      ],
      "text/plain": [
       "<IPython.core.display.HTML object>"
      ]
     },
     "metadata": {},
     "output_type": "display_data"
    },
    {
     "data": {
      "text/html": [
       "<b>R07092</b>: 1,1-dichloroethylene-epoxide:glutathione S-(chloroepoxyethyl)transferase [2-(S-glutathionyl)acetyl-chloride-forming]; 1,1-Dichloroethylene epoxide + Glutathione <=> 2-(S-Glutathionyl)acetyl chloride + Hydrochloric acid"
      ],
      "text/plain": [
       "<IPython.core.display.HTML object>"
      ]
     },
     "metadata": {},
     "output_type": "display_data"
    },
    {
     "data": {
      "text/html": [
       "<b>R07100</b>: trichloroethene:glutathione S-(1,2-dichlorovinyl)transferase; Trichloroethene + Glutathione <=> S-(1,2-Dichlorovinyl)glutathione + Hydrochloric acid"
      ],
      "text/plain": [
       "<IPython.core.display.HTML object>"
      ]
     },
     "metadata": {},
     "output_type": "display_data"
    },
    {
     "data": {
      "text/html": [
       "<b>R03816</b>: NADH:phylloquinone oxidoreductase; Phylloquinone + NADH + H+ <=> Phylloquinol + NAD+"
      ],
      "text/plain": [
       "<IPython.core.display.HTML object>"
      ]
     },
     "metadata": {},
     "output_type": "display_data"
    },
    {
     "data": {
      "text/html": [
       "<b>R07093</b>: chloroacetyl-chloride:glutathione S-chloroacetyltransferase; Chloroacetyl chloride + Glutathione <=> S-(2-Chloroacetyl)glutathione + Hydrochloric acid"
      ],
      "text/plain": [
       "<IPython.core.display.HTML object>"
      ]
     },
     "metadata": {},
     "output_type": "display_data"
    },
    {
     "data": {
      "text/html": [
       "<b>R07024</b>: 1-nitro-7-glutathionyl-8-hydroxy-7,8-dihydronaphthalene glutathione-lyase (epoxide-forming); 1-Nitronaphthalene-7,8-oxide + Glutathione <=> 1-Nitro-7-glutathionyl-8-hydroxy-7,8-dihydronaphthalene"
      ],
      "text/plain": [
       "<IPython.core.display.HTML object>"
      ]
     },
     "metadata": {},
     "output_type": "display_data"
    },
    {
     "data": {
      "text/html": [
       "<b>R08982</b>: beta-D-fructofuranosyl-alpha-D-mannopyranoside-6F-phosphate phosphohydrolase; beta-D-Fructofuranosyl-alpha-D-mannopyranoside 6F-phosphate + H2O <=> beta-D-Fructofuranosyl-alpha-D-mannopyranoside + Orthophosphate"
      ],
      "text/plain": [
       "<IPython.core.display.HTML object>"
      ]
     },
     "metadata": {},
     "output_type": "display_data"
    },
    {
     "data": {
      "text/html": [
       "<b>R02964</b>: NADH:menaquinone oxidoreductase; Menaquinone + H+ + NADH <=> Menaquinol + NAD+"
      ],
      "text/plain": [
       "<IPython.core.display.HTML object>"
      ]
     },
     "metadata": {},
     "output_type": "display_data"
    },
    {
     "data": {
      "text/html": [
       "<b>R02565</b>: p-cumic alcohol:NAD+ oxidoreductase; Betaine aldehyde + NAD+ + H2O <=> Betaine + NADH + 2 H+"
      ],
      "text/plain": [
       "<IPython.core.display.HTML object>"
      ]
     },
     "metadata": {},
     "output_type": "display_data"
    },
    {
     "data": {
      "text/html": [
       "<b>R07113</b>: 1,2-dibromoethane:glutathione ethylenetransferase (episulfonium-forming); 1,2-Dibromoethane + Glutathione + H+ <=> Glutathione episulfonium ion + 2 Hydrobromic acid"
      ],
      "text/plain": [
       "<IPython.core.display.HTML object>"
      ]
     },
     "metadata": {},
     "output_type": "display_data"
    },
    {
     "data": {
      "text/html": [
       "<b>R07083</b>: 4,5-dihydro-4-hydroxy-5-S-glutathionyl-benzo[a]pyrene glutathione-lyase (epoxide-forming); Benzo[a]pyrene-4,5-oxide + Glutathione <=> 4,5-Dihydro-4-hydroxy-5-S-glutathionyl-benzo[a]pyrene"
      ],
      "text/plain": [
       "<IPython.core.display.HTML object>"
      ]
     },
     "metadata": {},
     "output_type": "display_data"
    },
    {
     "data": {
      "text/html": [
       "<b>R01064</b>: 2-dehydro-3-deoxy-6-phospho-D-galactonate D-glyceraldehyde-3-phospho-lyase (pyruvate-forming); 2-Dehydro-3-deoxy-6-phospho-D-galactonate <=> Pyruvate + D-Glyceraldehyde 3-phosphate"
      ],
      "text/plain": [
       "<IPython.core.display.HTML object>"
      ]
     },
     "metadata": {},
     "output_type": "display_data"
    },
    {
     "data": {
      "text/html": [
       "<b>R01066</b>: 2-deoxy-D-ribose-5-phosphate acetaldehyde-lyase (D-glyceraldehyde-3-phosphate-forming); 2-Deoxy-D-ribose 5-phosphate <=> D-Glyceraldehyde 3-phosphate + Acetaldehyde"
      ],
      "text/plain": [
       "<IPython.core.display.HTML object>"
      ]
     },
     "metadata": {},
     "output_type": "display_data"
    },
    {
     "data": {
      "text/html": [
       "<b>R00667</b>: L-Ornithine:2-oxo-acid aminotransferase; L-Ornithine + 2-Oxoglutarate <=> L-Glutamate 5-semialdehyde + L-Glutamate"
      ],
      "text/plain": [
       "<IPython.core.display.HTML object>"
      ]
     },
     "metadata": {},
     "output_type": "display_data"
    },
    {
     "data": {
      "text/html": [
       "<b>R07084</b>: 7,8-dihydro-7-hydroxy-8-S-glutathionyl-benzo[a]pyrene hydrolase; Benzo[a]pyrene-7,8-dihydrodiol + Glutathione <=> 7,8-Dihydro-7-hydroxy-8-S-glutathionyl-benzo[a]pyrene + H2O"
      ],
      "text/plain": [
       "<IPython.core.display.HTML object>"
      ]
     },
     "metadata": {},
     "output_type": "display_data"
    },
    {
     "data": {
      "text/html": [
       "<b>R02283</b>: N2-Acetyl-L-ornithine:2-oxoglutarate aminotransferase; N-Acetylornithine + 2-Oxoglutarate <=> N-Acetyl-L-glutamate 5-semialdehyde + L-Glutamate"
      ],
      "text/plain": [
       "<IPython.core.display.HTML object>"
      ]
     },
     "metadata": {},
     "output_type": "display_data"
    },
    {
     "data": {
      "text/html": [
       "<b>R09409</b>: glutathione-S-transferase; Aflatoxin B1-exo-8,9-epoxide + Glutathione <=> Aflatoxin B1exo-8,9-epoxide-GSH"
      ],
      "text/plain": [
       "<IPython.core.display.HTML object>"
      ]
     },
     "metadata": {},
     "output_type": "display_data"
    },
    {
     "data": {
      "text/html": [
       "<b>R08280</b>: 4-glutathionyl cyclophosphamide hydrolase; Aldophosphamide + Glutathione <=> 4-Glutathionyl cyclophosphamide + H2O"
      ],
      "text/plain": [
       "<IPython.core.display.HTML object>"
      ]
     },
     "metadata": {},
     "output_type": "display_data"
    },
    {
     "data": {
      "text/html": [
       "<b>R02421</b>: ADP-glucose:1,4-alpha-D-glucan 4-alpha-D-glucosyltransferase; ADP-glucose + Amylose <=> ADP + Amylose"
      ],
      "text/plain": [
       "<IPython.core.display.HTML object>"
      ]
     },
     "metadata": {},
     "output_type": "display_data"
    },
    {
     "data": {
      "text/html": [
       "<b>R09936</b>: uracil,FMNH2:oxygen oxidoreductase (uracil hydroxylating, ring-opening); Uracil + Reduced FMN + Oxygen <=> (Z)-3-Ureidoacrylate peracid + FMN"
      ],
      "text/plain": [
       "<IPython.core.display.HTML object>"
      ]
     },
     "metadata": {},
     "output_type": "display_data"
    },
    {
     "data": {
      "text/html": [
       "<b>R07002</b>: (1R)-hydroxy-(2R)-glutathionyl-1,2-dihydronaphthalene glutathione-lyase (epoxide-forming); (1R,2S)-Naphthalene 1,2-oxide + Glutathione <=> (1R)-Hydroxy-(2R)-glutathionyl-1,2-dihydronaphthalene"
      ],
      "text/plain": [
       "<IPython.core.display.HTML object>"
      ]
     },
     "metadata": {},
     "output_type": "display_data"
    },
    {
     "data": {
      "text/html": [
       "<b>R07025</b>: 1-nitro-5-hydroxy-6-glutathionyl-5,6-dihydronaphthalene glutathione-lyase (epoxide-forming); 1-Nitronaphthalene-5,6-oxide + Glutathione <=> 1-Nitro-5-hydroxy-6-glutathionyl-5,6-dihydronaphthalene"
      ],
      "text/plain": [
       "<IPython.core.display.HTML object>"
      ]
     },
     "metadata": {},
     "output_type": "display_data"
    },
    {
     "data": {
      "text/html": [
       "<b>R02555</b>: D-Altronate:NAD+ 3-oxidoreductase; D-Altronate + NAD+ <=> D-Tagaturonate + NADH + H+"
      ],
      "text/plain": [
       "<IPython.core.display.HTML object>"
      ]
     },
     "metadata": {},
     "output_type": "display_data"
    },
    {
     "data": {
      "text/html": [
       "<b>R07094</b>: 2-(S-glutathionyl)acetyl-chloride:glutathione 2-(S-glutathionyl)acetyltransferase; 2-(S-Glutathionyl)acetyl chloride + Glutathione <=> 2-(S-Glutathionyl)acetyl glutathione + Hydrochloric acid"
      ],
      "text/plain": [
       "<IPython.core.display.HTML object>"
      ]
     },
     "metadata": {},
     "output_type": "display_data"
    },
    {
     "data": {
      "text/html": [
       "<b>R07116</b>: 2-bromoacetaldehyde:glutathione S-(formylmethyl)transferase; 2-Bromoacetaldehyde + Glutathione <=> S-(Formylmethyl)glutathione + Hydrobromic acid"
      ],
      "text/plain": [
       "<IPython.core.display.HTML object>"
      ]
     },
     "metadata": {},
     "output_type": "display_data"
    },
    {
     "data": {
      "text/html": [
       "<b>R07026</b>: 1-nitro-5-glutathionyl-6-hydroxy-5,6-dihydronaphthalene glutathione-lyase (epoxide-forming); 1-Nitronaphthalene-5,6-oxide + Glutathione <=> 1-Nitro-5-glutathionyl-6-hydroxy-5,6-dihydronaphthalene"
      ],
      "text/plain": [
       "<IPython.core.display.HTML object>"
      ]
     },
     "metadata": {},
     "output_type": "display_data"
    },
    {
     "data": {
      "text/html": [
       "<b>R07070</b>: 2,3-dihydro-2-S-glutathionyl-3-hydroxy bromobenzene glutathione-lyase (epoxide-forming); Bromobenzene-2,3-oxide + Glutathione <=> 2,3-Dihydro-2-S-glutathionyl-3-hydroxy bromobenzene"
      ],
      "text/plain": [
       "<IPython.core.display.HTML object>"
      ]
     },
     "metadata": {},
     "output_type": "display_data"
    },
    {
     "data": {
      "text/html": [
       "<b>R11905</b>: Hepatotoxins + Glutathione <=> R-S-Glutathione"
      ],
      "text/plain": [
       "<IPython.core.display.HTML object>"
      ]
     },
     "metadata": {},
     "output_type": "display_data"
    },
    {
     "data": {
      "text/html": [
       "<b>R07004</b>: (1S)-hydroxy-(2S)-glutathionyl-1,2-dihydronaphthalene glutathione-lyase (epoxide-forming); (1S,2R)-Naphthalene 1,2-oxide + Glutathione <=> (1S)-Hydroxy-(2S)-glutathionyl-1,2-dihydronaphthalene"
      ],
      "text/plain": [
       "<IPython.core.display.HTML object>"
      ]
     },
     "metadata": {},
     "output_type": "display_data"
    },
    {
     "data": {
      "text/html": [
       "<span style='color: #FF00FF'>Node28120 (k__Bacteria;p__Proteobacteria;c__Gammaproteobacteria;o__Pseudomonadales;f__Pseudomonadaceae;g__Pseudomonas;)</span>"
      ],
      "text/plain": [
       "<IPython.core.display.HTML object>"
      ]
     },
     "metadata": {},
     "output_type": "display_data"
    },
    {
     "data": {
      "text/html": [
       "<b>R04930</b>: Selenocystathionine Lysteine-lyase (deaminating); L-Selenocystathionine + H2O <=> L-Selenocysteine + Ammonia + 2-Oxobutanoate"
      ],
      "text/plain": [
       "<IPython.core.display.HTML object>"
      ]
     },
     "metadata": {},
     "output_type": "display_data"
    },
    {
     "data": {
      "text/html": [
       "<b>R09366</b>: Se-methyl-L-selenocysteine methaneselenol-lyase (deaminating; pyruvate-forming); Se-Methyl-L-selenocysteine + H2O <=> Pyruvate + Ammonia + Methaneselenol"
      ],
      "text/plain": [
       "<IPython.core.display.HTML object>"
      ]
     },
     "metadata": {},
     "output_type": "display_data"
    },
    {
     "data": {
      "text/html": [
       "<b>R06593</b>: AminoDHQ <=> 5-Amino-5-deoxy-3-dehydroshikimate + H2O"
      ],
      "text/plain": [
       "<IPython.core.display.HTML object>"
      ]
     },
     "metadata": {},
     "output_type": "display_data"
    },
    {
     "data": {
      "text/html": [
       "<b>R09083</b>: Reduced FMN + Oxygen <=> Dimethylbenzimidazole + D-Erythrose 4-phosphate + H2O"
      ],
      "text/plain": [
       "<IPython.core.display.HTML object>"
      ]
     },
     "metadata": {},
     "output_type": "display_data"
    },
    {
     "data": {
      "text/html": [
       "<b>R01001</b>: L-cystathionine cysteine-lyase (deaminating; 2-oxobutanoate-forming); L-Cystathionine + H2O <=> L-Cysteine + Ammonia + 2-Oxobutanoate"
      ],
      "text/plain": [
       "<IPython.core.display.HTML object>"
      ]
     },
     "metadata": {},
     "output_type": "display_data"
    },
    {
     "data": {
      "text/html": [
       "<b>R03877</b>: Magnesium-protoporphyrin IX chelatase; ATP + Protoporphyrin + Magnesium cation + H2O <=> ADP + Orthophosphate + Magnesium protoporphyrin + 2 H+"
      ],
      "text/plain": [
       "<IPython.core.display.HTML object>"
      ]
     },
     "metadata": {},
     "output_type": "display_data"
    },
    {
     "data": {
      "text/html": [
       "<b>R02000</b>: rubredoxin:NAD+ oxidoreductase; 2 Reduced rubredoxin + NAD+ + H+ <=> 2 Oxidized rubredoxin + NADH"
      ],
      "text/plain": [
       "<IPython.core.display.HTML object>"
      ]
     },
     "metadata": {},
     "output_type": "display_data"
    },
    {
     "data": {
      "text/html": [
       "<b>R10695</b>: 6-amino-6-deoxyfutalosine deaminase; 6-Amino-6-deoxyfutalosine + H2O <=> Futalosine + Ammonia"
      ],
      "text/plain": [
       "<IPython.core.display.HTML object>"
      ]
     },
     "metadata": {},
     "output_type": "display_data"
    },
    {
     "data": {
      "text/html": [
       "<span style='color: #808080'>Node53994 (k__Bacteria;p__Proteobacteria;c__Alphaproteobacteria;)</span>"
      ],
      "text/plain": [
       "<IPython.core.display.HTML object>"
      ]
     },
     "metadata": {},
     "output_type": "display_data"
    },
    {
     "data": {
      "text/html": [
       "<b>R00842</b>: sn-Glycerol-3-phosphate:NAD+ 2-oxidoreductase; sn-Glycerol 3-phosphate + NAD+ <=> Glycerone phosphate + NADH + H+"
      ],
      "text/plain": [
       "<IPython.core.display.HTML object>"
      ]
     },
     "metadata": {},
     "output_type": "display_data"
    },
    {
     "data": {
      "text/html": [
       "<b>R05320</b>: Taurine, 2-oxoglutarate:O2 oxidoreductase (sulfite-forming); Taurine + 2-Oxoglutarate + Oxygen <=> Sulfite + Aminoacetaldehyde + Succinate + CO2"
      ],
      "text/plain": [
       "<IPython.core.display.HTML object>"
      ]
     },
     "metadata": {},
     "output_type": "display_data"
    },
    {
     "data": {
      "text/html": [
       "<b>R00776</b>: (S)-ureidoglycolate urea-lyase (glyoxylate-forming); (S)-Ureidoglycolate <=> Glyoxylate + Urea"
      ],
      "text/plain": [
       "<IPython.core.display.HTML object>"
      ]
     },
     "metadata": {},
     "output_type": "display_data"
    },
    {
     "data": {
      "text/html": [
       "<b>R01710</b>: pyridoxamine:oxygen oxidoreductase (deaminating); Pyridoxamine + H2O + Oxygen <=> Pyridoxal + Ammonia + Hydrogen peroxide"
      ],
      "text/plain": [
       "<IPython.core.display.HTML object>"
      ]
     },
     "metadata": {},
     "output_type": "display_data"
    },
    {
     "data": {
      "text/html": [
       "<b>R05644</b>: ATP:D-glycero-beta-D-manno-heptose 1-phosphate adenylyltransferase; ATP + D-glycero-beta-D-manno-Heptose 1-phosphate <=> Diphosphate + ADP-D-glycero-beta-D-manno-heptose"
      ],
      "text/plain": [
       "<IPython.core.display.HTML object>"
      ]
     },
     "metadata": {},
     "output_type": "display_data"
    },
    {
     "data": {
      "text/html": [
       "<b>R00844</b>: sn-Glycerol-3-phosphate:NADP+ 2-oxidoreductase; sn-Glycerol 3-phosphate + NADP+ <=> Glycerone phosphate + NADPH + H+"
      ],
      "text/plain": [
       "<IPython.core.display.HTML object>"
      ]
     },
     "metadata": {},
     "output_type": "display_data"
    },
    {
     "data": {
      "text/html": [
       "<b>R00277</b>: pyridoxamine-5'-phosphate:oxygen oxidoreductase (deaminating); Pyridoxamine phosphate + H2O + Oxygen <=> Pyridoxal phosphate + Ammonia + Hydrogen peroxide"
      ],
      "text/plain": [
       "<IPython.core.display.HTML object>"
      ]
     },
     "metadata": {},
     "output_type": "display_data"
    },
    {
     "data": {
      "text/html": [
       "<b>R05810</b>: cobalt-precorrin-4 methyltransferase; Cobalt-precorrin 4 + S-Adenosyl-L-methionine <=> Cobalt-precorrin 5A + S-Adenosyl-L-homocysteine"
      ],
      "text/plain": [
       "<IPython.core.display.HTML object>"
      ]
     },
     "metadata": {},
     "output_type": "display_data"
    },
    {
     "data": {
      "text/html": [
       "<b>R00602</b>: methanol:hydrogen-peroxide oxidoreductase; Methanol + Hydrogen peroxide <=> Formaldehyde + 2 H2O"
      ],
      "text/plain": [
       "<IPython.core.display.HTML object>"
      ]
     },
     "metadata": {},
     "output_type": "display_data"
    },
    {
     "data": {
      "text/html": [
       "<b>R00217</b>: oxaloacetate carboxy-lyase (pyruvate-forming); Oxaloacetate <=> Pyruvate + CO2"
      ],
      "text/plain": [
       "<IPython.core.display.HTML object>"
      ]
     },
     "metadata": {},
     "output_type": "display_data"
    },
    {
     "data": {
      "text/html": [
       "<b>R10991</b>: 2-aminobutanoate:2-oxoglutarate aminotransferase; (S)-2-Aminobutanoate + 2-Oxoglutarate <=> 2-Oxobutanoate + L-Glutamate"
      ],
      "text/plain": [
       "<IPython.core.display.HTML object>"
      ]
     },
     "metadata": {},
     "output_type": "display_data"
    },
    {
     "data": {
      "text/html": [
       "<b>R00935</b>: (S)-Methylmalonate semialdehyde:NAD+ oxidoreductase (CoA-propanoylating); (S)-Methylmalonate semialdehyde + CoA + NAD+ <=> Propanoyl-CoA + CO2 + NADH + H+"
      ],
      "text/plain": [
       "<IPython.core.display.HTML object>"
      ]
     },
     "metadata": {},
     "output_type": "display_data"
    },
    {
     "data": {
      "text/html": [
       "<b>R07414</b>: glutamate putrescine ligase; ATP + L-Glutamate + Putrescine <=> ADP + Orthophosphate + gamma-L-Glutamylputrescine"
      ],
      "text/plain": [
       "<IPython.core.display.HTML object>"
      ]
     },
     "metadata": {},
     "output_type": "display_data"
    },
    {
     "data": {
      "text/html": [
       "<b>R01639</b>: ATP:D-xylulose 5-phosphotransferase; ATP + D-Xylulose <=> ADP + D-Xylulose 5-phosphate"
      ],
      "text/plain": [
       "<IPython.core.display.HTML object>"
      ]
     },
     "metadata": {},
     "output_type": "display_data"
    },
    {
     "data": {
      "text/html": [
       "<b>R01257</b>: (S)-Malate:FAD oxidoreductase; (S)-Malate + FAD <=> Oxaloacetate + FADH2"
      ],
      "text/plain": [
       "<IPython.core.display.HTML object>"
      ]
     },
     "metadata": {},
     "output_type": "display_data"
    },
    {
     "data": {
      "text/html": [
       "<b>R01825</b>: D-erythrose 4-phosphate:NAD+ oxidoreductase; D-Erythrose 4-phosphate + NAD+ + H2O <=> 4-Phospho-D-erythronate + NADH + H+"
      ],
      "text/plain": [
       "<IPython.core.display.HTML object>"
      ]
     },
     "metadata": {},
     "output_type": "display_data"
    },
    {
     "data": {
      "text/html": [
       "<b>R01716</b>: chorismate:L-glutamine aminotransferase; Chorismate + L-Glutamine <=> 4-Amino-4-deoxychorismate + L-Glutamate"
      ],
      "text/plain": [
       "<IPython.core.display.HTML object>"
      ]
     },
     "metadata": {},
     "output_type": "display_data"
    },
    {
     "data": {
      "text/html": [
       "<b>R01280</b>: Palmitate:CoA ligase (AMP-forming); ATP + Hexadecanoic acid + CoA <=> AMP + Palmitoyl-CoA + Diphosphate"
      ],
      "text/plain": [
       "<IPython.core.display.HTML object>"
      ]
     },
     "metadata": {},
     "output_type": "display_data"
    },
    {
     "data": {
      "text/html": [
       "<b>R00922</b>: 2-Methyl-3-oxopropanoate:NAD+ oxidoreductase (CoA-propanoylating); 2-Methyl-3-oxopropanoate + CoA + NAD+ <=> Propanoyl-CoA + CO2 + NADH + H+"
      ],
      "text/plain": [
       "<IPython.core.display.HTML object>"
      ]
     },
     "metadata": {},
     "output_type": "display_data"
    },
    {
     "data": {
      "text/html": [
       "<b>R00203</b>: pyruvaldehyde:NAD+ oxidoreductase; 2-oxopropanal:NAD+ oxidoreductase; Methylglyoxal + NAD+ + H2O <=> Pyruvate + NADH + H+"
      ],
      "text/plain": [
       "<IPython.core.display.HTML object>"
      ]
     },
     "metadata": {},
     "output_type": "display_data"
    },
    {
     "data": {
      "text/html": [
       "<b>R00926</b>: Propionyladenylate:CoA propionyltransferase; Propionyladenylate + CoA <=> AMP + Propanoyl-CoA"
      ],
      "text/plain": [
       "<IPython.core.display.HTML object>"
      ]
     },
     "metadata": {},
     "output_type": "display_data"
    },
    {
     "data": {
      "text/html": [
       "<b>R00021</b>: L-glutamate:ferredoxin oxidoreductase (transaminating); 2 L-Glutamate + 2 Oxidized ferredoxin <=> L-Glutamine + 2-Oxoglutarate + 2 Reduced ferredoxin + 2 H+"
      ],
      "text/plain": [
       "<IPython.core.display.HTML object>"
      ]
     },
     "metadata": {},
     "output_type": "display_data"
    },
    {
     "data": {
      "text/html": [
       "<b>R00658</b>: 2-phospho-D-glycerate hydro-lyase (phosphoenolpyruvate-forming); 2-Phospho-D-glycerate <=> Phosphoenolpyruvate + H2O"
      ],
      "text/plain": [
       "<IPython.core.display.HTML object>"
      ]
     },
     "metadata": {},
     "output_type": "display_data"
    },
    {
     "data": {
      "text/html": [
       "<b>R00190</b>: AMP:diphosphate phospho-D-ribosyltransferase; AMP + Diphosphate <=> Adenine + 5-Phospho-alpha-D-ribose 1-diphosphate"
      ],
      "text/plain": [
       "<IPython.core.display.HTML object>"
      ]
     },
     "metadata": {},
     "output_type": "display_data"
    },
    {
     "data": {
      "text/html": [
       "<b>R03601</b>: O3-Acetyl-L-serine acetate-lyase (adding hydrogen sulfide); O-Acetyl-L-serine + Hydrogen selenide <=> L-Selenocysteine + Acetate"
      ],
      "text/plain": [
       "<IPython.core.display.HTML object>"
      ]
     },
     "metadata": {},
     "output_type": "display_data"
    },
    {
     "data": {
      "text/html": [
       "<b>R01446</b>: (S)-lactaldehyde:NAD+ oxidoreductase; (S)-Lactaldehyde + NAD+ + H2O <=> (S)-Lactate + NADH + H+"
      ],
      "text/plain": [
       "<IPython.core.display.HTML object>"
      ]
     },
     "metadata": {},
     "output_type": "display_data"
    },
    {
     "data": {
      "text/html": [
       "<b>R00089</b>: ATP diphosphate-lyase (cyclizing; 3',5'-cyclic-AMP-forming); ATP <=> 3',5'-Cyclic AMP + Diphosphate"
      ],
      "text/plain": [
       "<IPython.core.display.HTML object>"
      ]
     },
     "metadata": {},
     "output_type": "display_data"
    },
    {
     "data": {
      "text/html": [
       "<b>R04210</b>: 4-phospho-D-erythronate:NAD+ 2-oxidoreductase; 4-Phospho-D-erythronate + NAD+ <=> 2-Oxo-3-hydroxy-4-phosphobutanoate + NADH + H+"
      ],
      "text/plain": [
       "<IPython.core.display.HTML object>"
      ]
     },
     "metadata": {},
     "output_type": "display_data"
    },
    {
     "data": {
      "text/html": [
       "<b>R04405</b>: 5-Methyltetrahydropteroyltri-L-glutamate:L-homocysteine S-methyltransferase; 5-Methyltetrahydropteroyltri-L-glutamate + L-Homocysteine <=> Tetrahydropteroyltri-L-glutamate + L-Methionine"
      ],
      "text/plain": [
       "<IPython.core.display.HTML object>"
      ]
     },
     "metadata": {},
     "output_type": "display_data"
    },
    {
     "data": {
      "text/html": [
       "<b>R02071</b>: ATP:D-fructose-1-phosphate 6-phosphotransferase; ATP + D-Fructose 1-phosphate <=> ADP + beta-D-Fructose 1,6-bisphosphate"
      ],
      "text/plain": [
       "<IPython.core.display.HTML object>"
      ]
     },
     "metadata": {},
     "output_type": "display_data"
    },
    {
     "data": {
      "text/html": [
       "<b>R00316</b>: ATP:acetate adenylyltransferase; ATP + Acetate <=> Diphosphate + Acetyl adenylate"
      ],
      "text/plain": [
       "<IPython.core.display.HTML object>"
      ]
     },
     "metadata": {},
     "output_type": "display_data"
    },
    {
     "data": {
      "text/html": [
       "<b>R02274</b>: 5-aminopentanoate:2-oxoglutarate aminotransferase; 5-Aminopentanoate + 2-Oxoglutarate <=> 5-Oxopentanoate + L-Glutamate"
      ],
      "text/plain": [
       "<IPython.core.display.HTML object>"
      ]
     },
     "metadata": {},
     "output_type": "display_data"
    },
    {
     "data": {
      "text/html": [
       "<b>R04007</b>: Donor:hydrogen-peroxide oxidoreductase; 4-Coumaryl alcohol <=> p-Hydroxyphenyl lignin"
      ],
      "text/plain": [
       "<IPython.core.display.HTML object>"
      ]
     },
     "metadata": {},
     "output_type": "display_data"
    },
    {
     "data": {
      "text/html": [
       "<b>R10002</b>: 6-carboxy-5,6,7,8-tetrahydropterin ammonia-lyase; 6-Carboxy-5,6,7,8-tetrahydropterin <=> 7-Carboxy-7-carbaguanine + Ammonia"
      ],
      "text/plain": [
       "<IPython.core.display.HTML object>"
      ]
     },
     "metadata": {},
     "output_type": "display_data"
    },
    {
     "data": {
      "text/html": [
       "<b>R00706</b>: 3-Oxopropanoate:NADP+ oxidoreductase (decarboxylating, CoA-acetylating); 3-Oxopropanoate + CoA + NADP+ <=> Acetyl-CoA + CO2 + NADPH + H+"
      ],
      "text/plain": [
       "<IPython.core.display.HTML object>"
      ]
     },
     "metadata": {},
     "output_type": "display_data"
    },
    {
     "data": {
      "text/html": [
       "<b>R04756</b>: cis,cis-3,6-Dodecadienoyl-CoA delta3-cis-delta2-trans-isomerase; cis,cis-3,6-Dodecadienoyl-CoA <=> trans,cis-Lauro-2,6-dienoyl-CoA"
      ],
      "text/plain": [
       "<IPython.core.display.HTML object>"
      ]
     },
     "metadata": {},
     "output_type": "display_data"
    },
    {
     "data": {
      "text/html": [
       "<b>R11062</b>: phosphatidylethanolamine:phosphatidylglycerol 3-phosphatidyltransferase; Phosphatidylglycerol + Phosphatidylethanolamine <=> Cardiolipin + Ethanolamine"
      ],
      "text/plain": [
       "<IPython.core.display.HTML object>"
      ]
     },
     "metadata": {},
     "output_type": "display_data"
    },
    {
     "data": {
      "text/html": [
       "<b>R04929</b>: ATP:selenate adenylyltransferase; ATP + Selenate <=> Diphosphate + Adenylylselenate"
      ],
      "text/plain": [
       "<IPython.core.display.HTML object>"
      ]
     },
     "metadata": {},
     "output_type": "display_data"
    },
    {
     "data": {
      "text/html": [
       "<b>R09107</b>: N-acetyl-L-citrulline amidohydrolase; N-Acetyl-L-citrulline + H2O <=> Acetate + L-Citrulline"
      ],
      "text/plain": [
       "<IPython.core.display.HTML object>"
      ]
     },
     "metadata": {},
     "output_type": "display_data"
    },
    {
     "data": {
      "text/html": [
       "<b>R07443</b>: donor:hydrogen-peroxide oxidoreductase; 5-Hydroxyconiferyl alcohol <=> 5-Hydroxy-guaiacyl lignin"
      ],
      "text/plain": [
       "<IPython.core.display.HTML object>"
      ]
     },
     "metadata": {},
     "output_type": "display_data"
    },
    {
     "data": {
      "text/html": [
       "<b>R00610</b>: sarcosine:oxygen oxidoreductase (demethylating); Sarcosine + H2O + Oxygen <=> Glycine + Formaldehyde + Hydrogen peroxide"
      ],
      "text/plain": [
       "<IPython.core.display.HTML object>"
      ]
     },
     "metadata": {},
     "output_type": "display_data"
    },
    {
     "data": {
      "text/html": [
       "<b>R00299</b>: ATP:D-glucose 6-phosphotransferase; ATP + D-Glucose <=> ADP + D-Glucose 6-phosphate"
      ],
      "text/plain": [
       "<IPython.core.display.HTML object>"
      ]
     },
     "metadata": {},
     "output_type": "display_data"
    },
    {
     "data": {
      "text/html": [
       "<b>R00189</b>: deamido-NAD+:ammonia ligase (AMP-forming); ATP + Deamino-NAD+ + Ammonia <=> AMP + Diphosphate + NAD+"
      ],
      "text/plain": [
       "<IPython.core.display.HTML object>"
      ]
     },
     "metadata": {},
     "output_type": "display_data"
    },
    {
     "data": {
      "text/html": [
       "<b>R02021</b>: adenosine 3',5'-bisphosphate,sulfite:oxidized-thioredoxin oxidoreductase (3'-phosphoadenosine-5'-phosphosulfate -forming); Thioredoxin + 3'-Phosphoadenylyl sulfate <=> Thioredoxin disulfide + Sulfite + Adenosine 3',5'-bisphosphate"
      ],
      "text/plain": [
       "<IPython.core.display.HTML object>"
      ]
     },
     "metadata": {},
     "output_type": "display_data"
    },
    {
     "data": {
      "text/html": [
       "<b>R00848</b>: sn-Glycerol-3-phosphate:(acceptor) 2-oxidoreductase; sn-Glycerol 3-phosphate + FAD <=> Glycerone phosphate + FADH2"
      ],
      "text/plain": [
       "<IPython.core.display.HTML object>"
      ]
     },
     "metadata": {},
     "output_type": "display_data"
    },
    {
     "data": {
      "text/html": [
       "<b>R01711</b>: pyridoxine:oxygen oxidoreductase (deaminating); Pyridoxine + Oxygen <=> Pyridoxal + Hydrogen peroxide"
      ],
      "text/plain": [
       "<IPython.core.display.HTML object>"
      ]
     },
     "metadata": {},
     "output_type": "display_data"
    },
    {
     "data": {
      "text/html": [
       "<b>R03470</b>: 4-Carboxymuconolactone carboxy-lyase; 2-Carboxy-2,5-dihydro-5-oxofuran-2-acetate <=> 2-Oxo-2,3-dihydrofuran-5-acetate + CO2"
      ],
      "text/plain": [
       "<IPython.core.display.HTML object>"
      ]
     },
     "metadata": {},
     "output_type": "display_data"
    },
    {
     "data": {
      "text/html": [
       "<b>R00705</b>: 3-Oxopropanoate:NAD+ oxidoreductase (decarboxylating, CoA-acetylating); 3-Oxopropanoate + CoA + NAD+ <=> Acetyl-CoA + CO2 + NADH + H+"
      ],
      "text/plain": [
       "<IPython.core.display.HTML object>"
      ]
     },
     "metadata": {},
     "output_type": "display_data"
    },
    {
     "data": {
      "text/html": [
       "<b>R07210</b>: alkanesulfonate, reduced-FMN:oxygen oxidoreductase; Alkanesulfonate + Reduced FMN + Oxygen <=> Aldehyde + FMN + Sulfite + H2O"
      ],
      "text/plain": [
       "<IPython.core.display.HTML object>"
      ]
     },
     "metadata": {},
     "output_type": "display_data"
    },
    {
     "data": {
      "text/html": [
       "<b>R00235</b>: Acetate:CoA ligase (AMP-forming); ATP + Acetate + CoA <=> AMP + Diphosphate + Acetyl-CoA"
      ],
      "text/plain": [
       "<IPython.core.display.HTML object>"
      ]
     },
     "metadata": {},
     "output_type": "display_data"
    },
    {
     "data": {
      "text/html": [
       "<b>R11906</b>: isoniazid:hydrogen-peroxide oxidoreductase; Isoniazid + Hydrogen peroxide <=> Isonicotinoyl radical + Diimine + 2 H2O"
      ],
      "text/plain": [
       "<IPython.core.display.HTML object>"
      ]
     },
     "metadata": {},
     "output_type": "display_data"
    },
    {
     "data": {
      "text/html": [
       "<b>R01090</b>: L-Leucine:2-oxoglutarate aminotransferase; L-Leucine + 2-Oxoglutarate <=> 4-Methyl-2-oxopentanoate + L-Glutamate"
      ],
      "text/plain": [
       "<IPython.core.display.HTML object>"
      ]
     },
     "metadata": {},
     "output_type": "display_data"
    },
    {
     "data": {
      "text/html": [
       "<b>R00790</b>: Ammonia:ferredoxin oxidoreductase; Ammonia + 2 H2O + 6 Oxidized ferredoxin <=> Nitrite + 6 Reduced ferredoxin + 6 H+"
      ],
      "text/plain": [
       "<IPython.core.display.HTML object>"
      ]
     },
     "metadata": {},
     "output_type": "display_data"
    },
    {
     "data": {
      "text/html": [
       "<b>R01214</b>: L-Valine:2-oxoglutarate aminotransferase; L-Valine + 2-Oxoglutarate <=> 3-Methyl-2-oxobutanoic acid + L-Glutamate"
      ],
      "text/plain": [
       "<IPython.core.display.HTML object>"
      ]
     },
     "metadata": {},
     "output_type": "display_data"
    },
    {
     "data": {
      "text/html": [
       "<b>R00434</b>: GTP diphosphate-lyase (cyclizing; 3',5'-cyclic-GMP-forming); GTP <=> 3',5'-Cyclic GMP + Diphosphate"
      ],
      "text/plain": [
       "<IPython.core.display.HTML object>"
      ]
     },
     "metadata": {},
     "output_type": "display_data"
    },
    {
     "data": {
      "text/html": [
       "<b>R06977</b>: L-2,4-diaminobutyrate:2-oxoglutarate 4-aminotransferase; L-Glutamate + L-Aspartate 4-semialdehyde <=> 2-Oxoglutarate + L-2,4-Diaminobutanoate"
      ],
      "text/plain": [
       "<IPython.core.display.HTML object>"
      ]
     },
     "metadata": {},
     "output_type": "display_data"
    },
    {
     "data": {
      "text/html": [
       "<b>R01600</b>: ATP:beta-D-glucose 6-phosphotransferase; ATP + beta-D-Glucose <=> ADP + beta-D-Glucose 6-phosphate"
      ],
      "text/plain": [
       "<IPython.core.display.HTML object>"
      ]
     },
     "metadata": {},
     "output_type": "display_data"
    },
    {
     "data": {
      "text/html": [
       "<b>R01025</b>: choline:acceptor 1-oxidoreductase; Choline + Acceptor <=> Betaine aldehyde + Reduced acceptor"
      ],
      "text/plain": [
       "<IPython.core.display.HTML object>"
      ]
     },
     "metadata": {},
     "output_type": "display_data"
    },
    {
     "data": {
      "text/html": [
       "<b>R00150</b>: ATP:carbamate phosphotransferase; ATP + Ammonia + HCO3- <=> ADP + Carbamoyl phosphate + H2O"
      ],
      "text/plain": [
       "<IPython.core.display.HTML object>"
      ]
     },
     "metadata": {},
     "output_type": "display_data"
    },
    {
     "data": {
      "text/html": [
       "<b>R00410</b>: succinyl-CoA:acetoacetate CoA-transferase; Succinyl-CoA + Acetoacetate <=> Succinate + Acetoacetyl-CoA"
      ],
      "text/plain": [
       "<IPython.core.display.HTML object>"
      ]
     },
     "metadata": {},
     "output_type": "display_data"
    },
    {
     "data": {
      "text/html": [
       "<b>R00361</b>: (S)-malate:quinone oxidoreductase; (S)-Malate + Quinone <=> Oxaloacetate + Hydroquinone"
      ],
      "text/plain": [
       "<IPython.core.display.HTML object>"
      ]
     },
     "metadata": {},
     "output_type": "display_data"
    },
    {
     "data": {
      "text/html": [
       "<b>R04173</b>: 3-Phosphoserine:2-oxoglutarate aminotransferase; O-Phospho-L-serine + 2-Oxoglutarate <=> 3-Phosphonooxypyruvate + L-Glutamate"
      ],
      "text/plain": [
       "<IPython.core.display.HTML object>"
      ]
     },
     "metadata": {},
     "output_type": "display_data"
    },
    {
     "data": {
      "text/html": [
       "<b>R02300</b>: S-Aminomethyldihydrolipoylprotein:(6S)-tetrahydrofolate aminomethyltransferase (ammonia-forming); Folinic acid <=> 5,10-Methenyltetrahydrofolate + H2O"
      ],
      "text/plain": [
       "<IPython.core.display.HTML object>"
      ]
     },
     "metadata": {},
     "output_type": "display_data"
    },
    {
     "data": {
      "text/html": [
       "<b>R00236</b>: acetyl adenylate:CoA acetyltransferase; Acetyl adenylate + CoA <=> AMP + Acetyl-CoA"
      ],
      "text/plain": [
       "<IPython.core.display.HTML object>"
      ]
     },
     "metadata": {},
     "output_type": "display_data"
    },
    {
     "data": {
      "text/html": [
       "<b>R07417</b>: 4-(gamma-L-glutamylamino)butanal:NAD+ oxidoreductase; gamma-Glutamyl-gamma-aminobutyraldehyde + NAD+ + H2O <=> 4-(L-gamma-Glutamylamino)butanoate + NADH + H+"
      ],
      "text/plain": [
       "<IPython.core.display.HTML object>"
      ]
     },
     "metadata": {},
     "output_type": "display_data"
    },
    {
     "data": {
      "text/html": [
       "<b>R01333</b>: glycolaldehyde:NAD+ oxidoreductase; Glycolaldehyde + NAD+ + H2O <=> Glycolate + NADH + H+"
      ],
      "text/plain": [
       "<IPython.core.display.HTML object>"
      ]
     },
     "metadata": {},
     "output_type": "display_data"
    },
    {
     "data": {
      "text/html": [
       "<b>R00619</b>: ATP:thiamine diphosphotransferase; ATP + Thiamine <=> AMP + Thiamin diphosphate"
      ],
      "text/plain": [
       "<IPython.core.display.HTML object>"
      ]
     },
     "metadata": {},
     "output_type": "display_data"
    },
    {
     "data": {
      "text/html": [
       "<b>R05181</b>: S-adenosyl-L-methionine:precorrin-4 C11 methyltransferase; S-Adenosyl-L-methionine + Precorrin 4 <=> S-Adenosyl-L-homocysteine + Precorrin 5"
      ],
      "text/plain": [
       "<IPython.core.display.HTML object>"
      ]
     },
     "metadata": {},
     "output_type": "display_data"
    },
    {
     "data": {
      "text/html": [
       "<b>R04710</b>: Protein-glycine,dihydroflavodoxin:S-adenosyl-L-methionine oxidoreductase (S-adenosyl-L-methionine cleaving); S-Adenosyl-L-methionine + Dihydroflavodoxin + Protein glycine <=> 5'-Deoxyadenosine + L-Methionine + Flavodoxin semiquinone + Protein glycin-2-yl radical"
      ],
      "text/plain": [
       "<IPython.core.display.HTML object>"
      ]
     },
     "metadata": {},
     "output_type": "display_data"
    },
    {
     "data": {
      "text/html": [
       "<b>R05085</b>: O-Phospho-4-hydroxy-L-threonine:2-oxoglutarate aminotransferase; O-Phospho-4-hydroxy-L-threonine + 2-Oxoglutarate <=> 2-Oxo-3-hydroxy-4-phosphobutanoate + L-Glutamate"
      ],
      "text/plain": [
       "<IPython.core.display.HTML object>"
      ]
     },
     "metadata": {},
     "output_type": "display_data"
    },
    {
     "data": {
      "text/html": [
       "<b>R05706</b>: FMNH2:NADP+ oxidoreductase; Reduced FMN + NADP+ <=> FMN + NADPH + H+"
      ],
      "text/plain": [
       "<IPython.core.display.HTML object>"
      ]
     },
     "metadata": {},
     "output_type": "display_data"
    },
    {
     "data": {
      "text/html": [
       "<b>R05646</b>: ATP:D-glycero-beta-D-manno-heptose 7-phosphate 1-phosphotransferase; ATP + D-glycero-beta-D-manno-Heptose 7-phosphate <=> ADP + D-glycero-beta-D-manno-Heptose 1,7-bisphosphate"
      ],
      "text/plain": [
       "<IPython.core.display.HTML object>"
      ]
     },
     "metadata": {},
     "output_type": "display_data"
    },
    {
     "data": {
      "text/html": [
       "<b>R03232</b>: protein-N(pi)-phosphohistidine:D-fructose 1-phosphotransferase; Protein N(pi)-phospho-L-histidine + D-Fructose <=> Protein histidine + D-Fructose 1-phosphate"
      ],
      "text/plain": [
       "<IPython.core.display.HTML object>"
      ]
     },
     "metadata": {},
     "output_type": "display_data"
    },
    {
     "data": {
      "text/html": [
       "<b>R02670</b>: 2 3-Hydroxyanthranilate + 4 Oxygen <=> Cinnavalininate + 2 Superoxide + 2 Hydrogen peroxide + 2 H+"
      ],
      "text/plain": [
       "<IPython.core.display.HTML object>"
      ]
     },
     "metadata": {},
     "output_type": "display_data"
    },
    {
     "data": {
      "text/html": [
       "<b>R01786</b>: ATP:alpha-D-glucose 6-phosphotransferase; ATP + alpha-D-Glucose <=> ADP + alpha-D-Glucose 6-phosphate"
      ],
      "text/plain": [
       "<IPython.core.display.HTML object>"
      ]
     },
     "metadata": {},
     "output_type": "display_data"
    },
    {
     "data": {
      "text/html": [
       "<b>R01856</b>: dGTP triphosphohydrolase; dGTP + H2O <=> Deoxyguanosine + Triphosphate"
      ],
      "text/plain": [
       "<IPython.core.display.HTML object>"
      ]
     },
     "metadata": {},
     "output_type": "display_data"
    },
    {
     "data": {
      "text/html": [
       "<b>R03132</b>: O-acetyl-L-serine:thiosulfate 2-amino-2-carboxyethyltransferase; O-Acetyl-L-serine + Thiosulfate <=> S-Sulfo-L-cysteine + Acetate"
      ],
      "text/plain": [
       "<IPython.core.display.HTML object>"
      ]
     },
     "metadata": {},
     "output_type": "display_data"
    },
    {
     "data": {
      "text/html": [
       "<b>R03595</b>: ATP:selenide, water phosphotransferase; ATP + Hydrogen selenide + H2O <=> AMP + Selenophosphoric acid + Orthophosphate"
      ],
      "text/plain": [
       "<IPython.core.display.HTML object>"
      ]
     },
     "metadata": {},
     "output_type": "display_data"
    },
    {
     "data": {
      "text/html": [
       "<b>R00485</b>: L-asparagine amidohydrolase; L-Asparagine + H2O <=> L-Aspartate + Ammonia"
      ],
      "text/plain": [
       "<IPython.core.display.HTML object>"
      ]
     },
     "metadata": {},
     "output_type": "display_data"
    },
    {
     "data": {
      "text/html": [
       "<b>R04928</b>: ATP:adenylylsulfate 3'-phosphotransferase; ATP + Adenylylselenate <=> ADP + 3'-Phosphoadenylylselenate"
      ],
      "text/plain": [
       "<IPython.core.display.HTML object>"
      ]
     },
     "metadata": {},
     "output_type": "display_data"
    },
    {
     "data": {
      "text/html": [
       "<b>R00009</b>: hydrogen-peroxide:hydrogen-peroxide oxidoreductase; 2 Hydrogen peroxide <=> Oxygen + 2 H2O"
      ],
      "text/plain": [
       "<IPython.core.display.HTML object>"
      ]
     },
     "metadata": {},
     "output_type": "display_data"
    },
    {
     "data": {
      "text/html": [
       "<b>R10086</b>: L-glutamate:ferredoxin oxidoreductase (deaminating); L-Glutamate + 2 Oxidized ferredoxin + H2O <=> Ammonia + 2-Oxoglutarate + 2 Reduced ferredoxin + 2 H+"
      ],
      "text/plain": [
       "<IPython.core.display.HTML object>"
      ]
     },
     "metadata": {},
     "output_type": "display_data"
    },
    {
     "data": {
      "text/html": [
       "<b>R02199</b>: L-Isoleucine:2-oxoglutarate aminotransferase; L-Isoleucine + 2-Oxoglutarate <=> (S)-3-Methyl-2-oxopentanoic acid + L-Glutamate"
      ],
      "text/plain": [
       "<IPython.core.display.HTML object>"
      ]
     },
     "metadata": {},
     "output_type": "display_data"
    },
    {
     "data": {
      "text/html": [
       "<b>R00669</b>: N2-Acetyl-L-ornithine amidohydrolase; N-Acetylornithine + H2O <=> Acetate + L-Ornithine"
      ],
      "text/plain": [
       "<IPython.core.display.HTML object>"
      ]
     },
     "metadata": {},
     "output_type": "display_data"
    },
    {
     "data": {
      "text/html": [
       "<b>R07346</b>: D-glucitol:NADP+ oxidoreductase; D-Sorbitol + NADP+ <=> L-Sorbose + NADPH + H+"
      ],
      "text/plain": [
       "<IPython.core.display.HTML object>"
      ]
     },
     "metadata": {},
     "output_type": "display_data"
    },
    {
     "data": {
      "text/html": [
       "<b>R06836</b>: ATP:ribose-1,5-bisphosphate phosphotransferase; D-Ribose 1,5-bisphosphate + ATP <=> 5-Phospho-alpha-D-ribose 1-diphosphate + ADP"
      ],
      "text/plain": [
       "<IPython.core.display.HTML object>"
      ]
     },
     "metadata": {},
     "output_type": "display_data"
    },
    {
     "data": {
      "text/html": [
       "<b>R00897</b>: O3-acetyl-L-serine:hydrogen-sulfide 2-amino-2-carboxyethyltransferase; O3-acetyl-L-serine acetate-lyase (adding hydrogen sulfide); O-Acetyl-L-serine + Hydrogen sulfide <=> L-Cysteine + Acetate"
      ],
      "text/plain": [
       "<IPython.core.display.HTML object>"
      ]
     },
     "metadata": {},
     "output_type": "display_data"
    },
    {
     "data": {
      "text/html": [
       "<b>R02991</b>: 4-carboxymethylbut-3-en-4-olide enol-lactonohydrolase; 2-Oxo-2,3-dihydrofuran-5-acetate + H2O <=> 3-Oxoadipate"
      ],
      "text/plain": [
       "<IPython.core.display.HTML object>"
      ]
     },
     "metadata": {},
     "output_type": "display_data"
    },
    {
     "data": {
      "text/html": [
       "<b>R01354</b>: ATP:propanoate adenylyltransferase; ATP + Propanoate <=> Diphosphate + Propionyladenylate"
      ],
      "text/plain": [
       "<IPython.core.display.HTML object>"
      ]
     },
     "metadata": {},
     "output_type": "display_data"
    },
    {
     "data": {
      "text/html": [
       "<b>R03919</b>: Donor:hydrogen-peroxide oxidoreductase; Sinapyl alcohol <=> Syringyl lignin"
      ],
      "text/plain": [
       "<IPython.core.display.HTML object>"
      ]
     },
     "metadata": {},
     "output_type": "display_data"
    },
    {
     "data": {
      "text/html": [
       "<b>R01623</b>: [Acyl-carrier-protein] 4'-pantetheine-phosphohydrolase; Acyl-carrier protein + H2O <=> Pantetheine 4'-phosphate + Apo-[acyl-carrier-protein]"
      ],
      "text/plain": [
       "<IPython.core.display.HTML object>"
      ]
     },
     "metadata": {},
     "output_type": "display_data"
    },
    {
     "data": {
      "text/html": [
       "<b>R07418</b>: 4-(gamma-L-glutamylamino)butanal:NADP+ oxidoreductase; gamma-Glutamyl-gamma-aminobutyraldehyde + NADP+ + H2O <=> 4-(L-gamma-Glutamylamino)butanoate + NADPH + H+"
      ],
      "text/plain": [
       "<IPython.core.display.HTML object>"
      ]
     },
     "metadata": {},
     "output_type": "display_data"
    },
    {
     "data": {
      "text/html": [
       "<b>R10906</b>: (9Z)-hexadec-9-enoyl-[acyl-carrier protein]:KDO2-lipid IVA O-palmitoleoyltransferase; Hexadecenoyl-[acyl-carrier protein] + KDO2-lipid IVA <=> (9Z)-Hexadec-9-enoyl-KDO2-lipid IV(A) + Acyl-carrier protein"
      ],
      "text/plain": [
       "<IPython.core.display.HTML object>"
      ]
     },
     "metadata": {},
     "output_type": "display_data"
    },
    {
     "data": {
      "text/html": [
       "<b>R00278</b>: pyridoxine 5'-phosphate:oxygen oxidoreductase; Pyridoxine phosphate + Oxygen <=> Hydrogen peroxide + Pyridoxal phosphate"
      ],
      "text/plain": [
       "<IPython.core.display.HTML object>"
      ]
     },
     "metadata": {},
     "output_type": "display_data"
    },
    {
     "data": {
      "text/html": [
       "<b>R03177</b>: 4-Guanidinobutanal:NAD+ 1-oxidoreductase; 4-Guanidinobutanal + NAD+ + H2O <=> 4-Guanidinobutanoate + NADH + H+"
      ],
      "text/plain": [
       "<IPython.core.display.HTML object>"
      ]
     },
     "metadata": {},
     "output_type": "display_data"
    },
    {
     "data": {
      "text/html": [
       "<b>R01874</b>: D-cysteine sulfide-lyase (deaminating; pyruvate-forming); D-Cysteine + H2O <=> Hydrogen sulfide + Ammonia + Pyruvate"
      ],
      "text/plain": [
       "<IPython.core.display.HTML object>"
      ]
     },
     "metadata": {},
     "output_type": "display_data"
    },
    {
     "data": {
      "text/html": [
       "<b>R00238</b>: acetyl-CoA:acetyl-CoA C-acetyltransferase; 2 Acetyl-CoA <=> CoA + Acetoacetyl-CoA"
      ],
      "text/plain": [
       "<IPython.core.display.HTML object>"
      ]
     },
     "metadata": {},
     "output_type": "display_data"
    },
    {
     "data": {
      "text/html": [
       "<b>R01398</b>: Carbamoyl-phosphate:L-ornithine carbamoyltransferase; Carbamoyl phosphate + L-Ornithine <=> Orthophosphate + L-Citrulline"
      ],
      "text/plain": [
       "<IPython.core.display.HTML object>"
      ]
     },
     "metadata": {},
     "output_type": "display_data"
    },
    {
     "data": {
      "text/html": [
       "<b>R04378</b>: 1-(5'-Phosphoribosyl)-5-amino-4-imidazolecarboxamide:pyrophosphate phosphoribosyltransferase; 1-(5'-Phosphoribosyl)-5-amino-4-imidazolecarboxamide + Diphosphate <=> 5-Amino-4-imidazolecarboxyamide + 5-Phospho-alpha-D-ribose 1-diphosphate"
      ],
      "text/plain": [
       "<IPython.core.display.HTML object>"
      ]
     },
     "metadata": {},
     "output_type": "display_data"
    },
    {
     "data": {
      "text/html": [
       "<b>R00698</b>: L-phenylalanine:oxygen oxidoreductase (decarboxylating); L-Phenylalanine + Oxygen <=> 2-Phenylacetamide + CO2"
      ],
      "text/plain": [
       "<IPython.core.display.HTML object>"
      ]
     },
     "metadata": {},
     "output_type": "display_data"
    },
    {
     "data": {
      "text/html": [
       "<b>R04286</b>: 2-amino-4-hydroxy-6-(erythro-1,2,3-trihydroxypropyl) dihydropteridine triphosphate lyase; 7,8-Dihydroneopterin 3'-triphosphate <=> 6-Pyruvoyltetrahydropterin + Triphosphate"
      ],
      "text/plain": [
       "<IPython.core.display.HTML object>"
      ]
     },
     "metadata": {},
     "output_type": "display_data"
    },
    {
     "data": {
      "text/html": [
       "<b>R00360</b>: (S)-Malate:oxygen oxidoreductase; (S)-Malate + Oxygen <=> Oxaloacetate + Hydrogen peroxide"
      ],
      "text/plain": [
       "<IPython.core.display.HTML object>"
      ]
     },
     "metadata": {},
     "output_type": "display_data"
    },
    {
     "data": {
      "text/html": [
       "<b>R09959</b>: 7,8-dihydroneopterin 3'-triphosphate acetaldehyde-lyase (6-carboxy-5,6,7,8-tetrahydropterin and triphosphate-forming); 7,8-Dihydroneopterin 3'-triphosphate + H2O <=> 6-Carboxy-5,6,7,8-tetrahydropterin + Acetaldehyde + Triphosphate"
      ],
      "text/plain": [
       "<IPython.core.display.HTML object>"
      ]
     },
     "metadata": {},
     "output_type": "display_data"
    },
    {
     "data": {
      "text/html": [
       "<b>R00289</b>: UTP:alpha-D-glucose-1-phosphate uridylyltransferase; UTP + D-Glucose 1-phosphate <=> Diphosphate + UDP-glucose"
      ],
      "text/plain": [
       "<IPython.core.display.HTML object>"
      ]
     },
     "metadata": {},
     "output_type": "display_data"
    },
    {
     "data": {
      "text/html": [
       "<b>R07363</b>: 1,2-dihydroxy-5-(methylthio)pent-1-en-3-one:oxygen oxidoreductase (formate- and CO-forming); 1,2-Dihydroxy-5-(methylthio)pent-1-en-3-one + Oxygen <=> 3-(Methylthio)propanoate + Formate + CO"
      ],
      "text/plain": [
       "<IPython.core.display.HTML object>"
      ]
     },
     "metadata": {},
     "output_type": "display_data"
    },
    {
     "data": {
      "text/html": [
       "<b>R00529</b>: ATP:sulfate adenylyltransferase; ATP + Sulfate <=> Diphosphate + Adenylyl sulfate"
      ],
      "text/plain": [
       "<IPython.core.display.HTML object>"
      ]
     },
     "metadata": {},
     "output_type": "display_data"
    },
    {
     "data": {
      "text/html": [
       "<b>R00704</b>: (R)-Lactate:NAD+ oxidoreductase; (R)-Lactate + NAD+ <=> Pyruvate + NADH + H+"
      ],
      "text/plain": [
       "<IPython.core.display.HTML object>"
      ]
     },
     "metadata": {},
     "output_type": "display_data"
    },
    {
     "data": {
      "text/html": [
       "<b>R01123</b>: isopentenyl-diphosphate Delta3-Delta2-isomerase; Isopentenyl diphosphate <=> Dimethylallyl diphosphate"
      ],
      "text/plain": [
       "<IPython.core.display.HTML object>"
      ]
     },
     "metadata": {},
     "output_type": "display_data"
    },
    {
     "data": {
      "text/html": [
       "<b>R05553</b>: 4-amino-4-deoxychorismate pyruvate-lyase; 4-Amino-4-deoxychorismate <=> 4-Aminobenzoate + Pyruvate"
      ],
      "text/plain": [
       "<IPython.core.display.HTML object>"
      ]
     },
     "metadata": {},
     "output_type": "display_data"
    },
    {
     "data": {
      "text/html": [
       "<b>R04125</b>: [protein]-S8-aminomethyldihydrolipoyllysine:tetrahydrofolate aminomethyltransferase (ammonia-forming); [Protein]-S8-aminomethyldihydrolipoyllysine + Tetrahydrofolate <=> Dihydrolipoylprotein + 5,10-Methylenetetrahydrofolate + Ammonia"
      ],
      "text/plain": [
       "<IPython.core.display.HTML object>"
      ]
     },
     "metadata": {},
     "output_type": "display_data"
    },
    {
     "data": {
      "text/html": [
       "<b>R07364</b>: 1,2-dihydroxy-5-(methylthio)pent-1-en-3-one:oxygen oxidoreductase (formate-forming); 1,2-Dihydroxy-5-(methylthio)pent-1-en-3-one + Oxygen <=> 4-Methylthio-2-oxobutanoic acid + Formate"
      ],
      "text/plain": [
       "<IPython.core.display.HTML object>"
      ]
     },
     "metadata": {},
     "output_type": "display_data"
    },
    {
     "data": {
      "text/html": [
       "<b>R00196</b>: (S)-Lactate:ferricytochrome-c 2-oxidoreductase; (S)-Lactate + 2 Ferricytochrome c <=> Pyruvate + 2 Ferrocytochrome c + 2 H+"
      ],
      "text/plain": [
       "<IPython.core.display.HTML object>"
      ]
     },
     "metadata": {},
     "output_type": "display_data"
    },
    {
     "data": {
      "text/html": [
       "<b>R01177</b>: butanoyl-CoA:acetyl-CoA C-butanoyltransferase; Acetyl-CoA + Butanoyl-CoA <=> CoA + 3-Oxohexanoyl-CoA"
      ],
      "text/plain": [
       "<IPython.core.display.HTML object>"
      ]
     },
     "metadata": {},
     "output_type": "display_data"
    },
    {
     "data": {
      "text/html": [
       "<b>R10206</b>: methanesulfonate,FMNH2:oxygen oxidoreductase; Methanesulfonic acid + Reduced FMN + Oxygen <=> FMN + Sulfite + H2O + Formaldehyde"
      ],
      "text/plain": [
       "<IPython.core.display.HTML object>"
      ]
     },
     "metadata": {},
     "output_type": "display_data"
    },
    {
     "data": {
      "text/html": [
       "<b>R02596</b>: Donor:hydrogen-peroxide oxidoreductase; Coniferyl alcohol <=> Guaiacyl lignin"
      ],
      "text/plain": [
       "<IPython.core.display.HTML object>"
      ]
     },
     "metadata": {},
     "output_type": "display_data"
    },
    {
     "data": {
      "text/html": [
       "<b>R00509</b>: ATP:adenylylsulfate 3'-phosphotransferase; ATP + Adenylyl sulfate <=> ADP + 3'-Phosphoadenylyl sulfate"
      ],
      "text/plain": [
       "<IPython.core.display.HTML object>"
      ]
     },
     "metadata": {},
     "output_type": "display_data"
    },
    {
     "data": {
      "text/html": [
       "<b>R04385</b>: biotin-carboxyl-carrier-protein:carbon-dioxide ligase (ADP-forming); ATP + Holo-[carboxylase] + HCO3- <=> ADP + Orthophosphate + Carboxybiotin-carboxyl-carrier protein"
      ],
      "text/plain": [
       "<IPython.core.display.HTML object>"
      ]
     },
     "metadata": {},
     "output_type": "display_data"
    },
    {
     "data": {
      "text/html": [
       "<span style='color: #A52A2A'>Node15327 (k__Bacteria;p__Proteobacteria;c__Betaproteobacteria;o__Burkholderiales;f__Comamonadaceae;)</span>"
      ],
      "text/plain": [
       "<IPython.core.display.HTML object>"
      ]
     },
     "metadata": {},
     "output_type": "display_data"
    },
    {
     "data": {
      "text/html": [
       "<span style='color: #FFA500'>Node52227 (k__Bacteria;p__Proteobacteria;c__Alphaproteobacteria;o__Sphingomonadales;f__Sphingomonadaceae;)</span>"
      ],
      "text/plain": [
       "<IPython.core.display.HTML object>"
      ]
     },
     "metadata": {},
     "output_type": "display_data"
    },
    {
     "data": {
      "text/html": [
       "<b>R05426</b>: (S)-1-Phenylethanol + Oxygen + NADH + H+ <=> Acetophenone + NAD+ + 2 H2O"
      ],
      "text/plain": [
       "<IPython.core.display.HTML object>"
      ]
     },
     "metadata": {},
     "output_type": "display_data"
    },
    {
     "data": {
      "text/html": [
       "<b>R05425</b>: Ethylbenzene + Oxygen + NADH + H+ <=> (S)-1-Phenylethanol + NAD+ + H2O"
      ],
      "text/plain": [
       "<IPython.core.display.HTML object>"
      ]
     },
     "metadata": {},
     "output_type": "display_data"
    },
    {
     "data": {
      "text/html": [
       "<b>R07706</b>: nitrobenzene 1,2-dioxygenase; Nitrobenzene + Oxygen + NADH + H+ <=> Catechol + Nitrite + NAD+"
      ],
      "text/plain": [
       "<IPython.core.display.HTML object>"
      ]
     },
     "metadata": {},
     "output_type": "display_data"
    },
    {
     "data": {
      "text/html": [
       "<b>R06909</b>: naphthalene,NADH:oxygen oxidoreductase (1,2-hydroxylating); 1-Methylnaphthalene + Oxygen + NADH + H+ <=> cis-1,2-Dihydroxy-1,2-dihydro-8-methylnaphthalene + NAD+"
      ],
      "text/plain": [
       "<IPython.core.display.HTML object>"
      ]
     },
     "metadata": {},
     "output_type": "display_data"
    },
    {
     "data": {
      "text/html": [
       "<b>R07710</b>: salicylate,NADPH:oxygen oxidoreductase (5-hydroxylating); Salicylate + NADPH + Oxygen + H+ <=> 2,5-Dihydroxybenzoate + NADP+ + H2O"
      ],
      "text/plain": [
       "<IPython.core.display.HTML object>"
      ]
     },
     "metadata": {},
     "output_type": "display_data"
    },
    {
     "data": {
      "text/html": [
       "<b>R05422</b>: fluorene,NADH:oxygen oxidoreductase; Fluorene + Oxygen + NADH + H+ <=> Fluoren-9-ol + NAD+ + H2O"
      ],
      "text/plain": [
       "<IPython.core.display.HTML object>"
      ]
     },
     "metadata": {},
     "output_type": "display_data"
    },
    {
     "data": {
      "text/html": [
       "<b>R02777</b>: dTDP-beta-L-rhamnose:NADP+ 4-oxidoreductase; dTDP-6-deoxy-L-mannose:NADP+ 4-oxidoreductase; dTDP-L-rhamnose + NADP+ <=> dTDP-4-dehydro-beta-L-rhamnose + NADPH + H+"
      ],
      "text/plain": [
       "<IPython.core.display.HTML object>"
      ]
     },
     "metadata": {},
     "output_type": "display_data"
    },
    {
     "data": {
      "text/html": [
       "<b>R11785</b>: N-acetyl-D-muramate 6-phosphate phosphohydrolase; N-Acetylmuramic acid 6-phosphate + H2O <=> N-Acetylmuramate + Orthophosphate"
      ],
      "text/plain": [
       "<IPython.core.display.HTML object>"
      ]
     },
     "metadata": {},
     "output_type": "display_data"
    },
    {
     "data": {
      "text/html": [
       "<b>R07704</b>: anthracene,NADH:oxygen oxidoreductase (1,2-hydroxylating); Anthracene + Oxygen + NADH + H+ <=> Anthracene-cis-1,2-dihydrodiol + NAD+"
      ],
      "text/plain": [
       "<IPython.core.display.HTML object>"
      ]
     },
     "metadata": {},
     "output_type": "display_data"
    },
    {
     "data": {
      "text/html": [
       "<b>R05424</b>: Ethylbenzene <=> Styrene + 2 H+"
      ],
      "text/plain": [
       "<IPython.core.display.HTML object>"
      ]
     },
     "metadata": {},
     "output_type": "display_data"
    },
    {
     "data": {
      "text/html": [
       "<b>R09233</b>: 2,4-dinitrotoluene,NADH:oxygen oxidoreductase (4,5-hydroxylating, nitrite-releasing); 2,4-Dinitrotoluene + NADH + Oxygen + H+ <=> 4-Methyl-5-nitrocatechol + NAD+ + Nitrite"
      ],
      "text/plain": [
       "<IPython.core.display.HTML object>"
      ]
     },
     "metadata": {},
     "output_type": "display_data"
    },
    {
     "data": {
      "text/html": [
       "<b>R06937</b>: naphthalene,NADH:oxygen oxidoreductase (1,2-hydroxylating); 2-Methylnaphthalene + Oxygen + NADH + H+ <=> cis-1,2-Dihydroxy-1,2-dihydro-7-methylnaphthalene + NAD+"
      ],
      "text/plain": [
       "<IPython.core.display.HTML object>"
      ]
     },
     "metadata": {},
     "output_type": "display_data"
    },
    {
     "data": {
      "text/html": [
       "<b>R02968</b>: naphthalene,NADH:oxygen oxidoreductase (1,2-hydroxylating); Naphthalene + Oxygen + NADH + H+ <=> cis-1,2-Dihydronaphthalene-1,2-diol + NAD+"
      ],
      "text/plain": [
       "<IPython.core.display.HTML object>"
      ]
     },
     "metadata": {},
     "output_type": "display_data"
    },
    {
     "data": {
      "text/html": [
       "<b>R01134</b>: inosine-5'-phosphate:NADP+ oxidoreductase (aminating); NADH:guanosine-5'-phosphate oxidoreductase (deaminating); IMP + Ammonia + NADP+ <=> GMP + NADPH + H+"
      ],
      "text/plain": [
       "<IPython.core.display.HTML object>"
      ]
     },
     "metadata": {},
     "output_type": "display_data"
    },
    {
     "data": {
      "text/html": [
       "<b>R09159</b>: Benzo[a]pyrene + Oxygen + NADH + H+ <=> Benzo[a]pyrene-cis-9,10-dihydrodiol + NAD+"
      ],
      "text/plain": [
       "<IPython.core.display.HTML object>"
      ]
     },
     "metadata": {},
     "output_type": "display_data"
    },
    {
     "data": {
      "text/html": [
       "<b>R05427</b>: 2 Acetophenone + Oxygen <=> 2 2-Hydroxyacetophenone"
      ],
      "text/plain": [
       "<IPython.core.display.HTML object>"
      ]
     },
     "metadata": {},
     "output_type": "display_data"
    },
    {
     "data": {
      "text/html": [
       "<b>R07709</b>: salicylate,NADH:oxygen oxidoreductase (5-hydroxylating); Salicylate + NADH + Oxygen + H+ <=> 2,5-Dihydroxybenzoate + NAD+ + H2O"
      ],
      "text/plain": [
       "<IPython.core.display.HTML object>"
      ]
     },
     "metadata": {},
     "output_type": "display_data"
    },
    {
     "data": {
      "text/html": [
       "<b>R05423</b>: Fluorene + Oxygen + NADH + H+ <=> (+)-(3S,4R)-cis-3,4-Dihydroxy-3,4-dihydrofluorene + NAD+"
      ],
      "text/plain": [
       "<IPython.core.display.HTML object>"
      ]
     },
     "metadata": {},
     "output_type": "display_data"
    },
    {
     "data": {
      "text/html": [
       "<b>R06930</b>: naphthalene,NADH:oxygen oxidoreductase (1,2-hydroxylating); (2-Naphthyl)methanol + Oxygen + NADH + H+ <=> cis-1,2-Dihydroxy-1,2-dihydro-7-hydroxymethylnaphthalene + NAD+"
      ],
      "text/plain": [
       "<IPython.core.display.HTML object>"
      ]
     },
     "metadata": {},
     "output_type": "display_data"
    },
    {
     "data": {
      "text/html": [
       "<span style='color: #800080'>Node55420 (k__Bacteria;p__Proteobacteria;c__Alphaproteobacteria;o__Rhizobiales;s__;)</span>"
      ],
      "text/plain": [
       "<IPython.core.display.HTML object>"
      ]
     },
     "metadata": {},
     "output_type": "display_data"
    },
    {
     "data": {
      "text/html": [
       "<b>R01515</b>: 3-Phospho-D-glyceroyl phosphate phosphohydrolase; 3-Phospho-D-glyceroyl phosphate + H2O <=> 3-Phospho-D-glycerate + Orthophosphate"
      ],
      "text/plain": [
       "<IPython.core.display.HTML object>"
      ]
     },
     "metadata": {},
     "output_type": "display_data"
    },
    {
     "name": "stdout",
     "output_type": "stream",
     "text": [
      "Descriptor R05614 does not have a value\n"
     ]
    },
    {
     "data": {
      "text/html": [
       "<b>R01421</b>: Benzoyl phosphate phosphohydrolase; Benzoyl phosphate + H2O <=> Benzoate + Orthophosphate"
      ],
      "text/plain": [
       "<IPython.core.display.HTML object>"
      ]
     },
     "metadata": {},
     "output_type": "display_data"
    },
    {
     "data": {
      "text/html": [
       "<b>R00317</b>: Acetyl phosphate phosphohydrolase; Acetyl phosphate + H2O <=> Acetate + Orthophosphate"
      ],
      "text/plain": [
       "<IPython.core.display.HTML object>"
      ]
     },
     "metadata": {},
     "output_type": "display_data"
    },
    {
     "data": {
      "text/html": [
       "<b>R04988</b>: S-adenosyl-L-methionine:3-(all-trans-octaprenyl)benzene-1,2-diol 2-O-methyltransferase; 2-Octaprenyl-6-hydroxyphenol + S-Adenosyl-L-methionine <=> 2-Octaprenyl-6-methoxyphenol + S-Adenosyl-L-homocysteine"
      ],
      "text/plain": [
       "<IPython.core.display.HTML object>"
      ]
     },
     "metadata": {},
     "output_type": "display_data"
    },
    {
     "data": {
      "text/html": [
       "<b>R08769</b>: S-adenosyl-L-methionine:2-polyprenyl-6-hydroxyphenol 6-O-methyltransferase; S-adenosyl-L-methionine:3-(all-trans-polyprenyl)benzene-1,2-diol 2-O-methyltransferase; 2-Polyprenyl-6-hydroxyphenol + S-Adenosyl-L-methionine <=> 2-Polyprenyl-6-methoxyphenol + S-Adenosyl-L-homocysteine"
      ],
      "text/plain": [
       "<IPython.core.display.HTML object>"
      ]
     },
     "metadata": {},
     "output_type": "display_data"
    },
    {
     "name": "stdout",
     "output_type": "stream",
     "text": [
      "Descriptor R08781 does not have a value\n"
     ]
    }
   ],
   "source": [
    "# Read in the reaction lists\n",
    "reac_lists = glob.glob(os.path.join(folder_path, file_pattern))\n",
    "\n",
    "reac_lists_data = []\n",
    "group_names = []\n",
    "\n",
    "# with open(\"/home/silvia/AAA/2022-09-13_tomate/pangenomas_tomate_2023/analisis_pans90/anotaciones_90/all_reactions_to_ipath.tsv\", \"r\") as o:\n",
    "for file in reac_lists:\n",
    "    node = os.path.basename(file).split('.')[0].split('_')[0]\n",
    "    if node in selected_nodes:\n",
    "        with open(file, 'r') as f:\n",
    "            reac_list = f.read().splitlines()\n",
    "            reac_lists_data.append(reac_list)\n",
    "            group_names.append(f\"{node} ({taxonomy[node]})\") # assign basename as group name\n",
    "       # for r in reac_list:\n",
    "       #     o.write(\"%s\\n\" % r)\n",
    "\n",
    "# Get the set of all unique reacs\n",
    "all_reacs = set()\n",
    "for reac_list in reac_lists_data:\n",
    "    all_reacs.update(reac_list)\n",
    "    \n",
    "# Identify reacs unique to each group\n",
    "# Create a dictionary to store the unique reacs for each group\n",
    "unique_reacs = {}\n",
    "for i in range(0, len(group_names)):\n",
    "    group_name = group_names[i]\n",
    "    group_reacs = set(reac_lists_data[i-1])\n",
    "    for j in range(0, len(group_names)):\n",
    "        if j != i:\n",
    "            other_group_reacs = set(reac_lists_data[j-1])\n",
    "            group_reacs = group_reacs - other_group_reacs\n",
    "    unique_reacs[group_name] = group_reacs\n",
    "\n",
    "# Print out the unique reacs for each group\n",
    "n = 0\n",
    "with open(unique_reactions_file, \"w\") as o:\n",
    "    for group_name, reacs in unique_reacs.items():\n",
    "##        group_color = hash(group_name.split(' ')[0]) % 16777215\n",
    "##        text = f\"<span style='color: #{group_color:06x}'>{group_name}</span>\"\n",
    "        text = f\"<span style='color: {colors[n]}'>{group_name}</span>\"\n",
    "        display(HTML(f\"{text}\"))\n",
    "        for r in reacs:\n",
    "            ## Save\n",
    "            r_save = r + \"\\t\" + colors[n] + \"\\t\" + node\n",
    "            o.write(\"%s\\n\" % r_save)\n",
    "            ## Show\n",
    "            if IDs == \"BiGG\":\n",
    "                desc = r.split(\"_\", 1)[1]\n",
    "            else:\n",
    "                desc = r\n",
    "            try:\n",
    "                display(HTML(f\"<b>{r}</b>: {description_dict[desc]}\"))\n",
    "            except:\n",
    "                print(\"Descriptor \" + desc + \" does not have a value\")\n",
    "        n += 1"
   ]
  },
  {
   "cell_type": "markdown",
   "id": "afbdb643-d184-443d-ba40-cea2447a2c47",
   "metadata": {},
   "source": [
    "_Shared reacs (present in no more than 2 groups):_"
   ]
  },
  {
   "cell_type": "code",
   "execution_count": 6,
   "id": "cec386a2-4b90-42f8-b1bd-6444de1885d8",
   "metadata": {},
   "outputs": [
    {
     "name": "stdout",
     "output_type": "stream",
     "text": [
      "Shared reacs (present in no more than 3 groups):\n"
     ]
    },
    {
     "data": {
      "text/html": [
       "<b>R07602</b>: [\"<span style='color: #74553b'>Node147305</span>\"] (3-Methyl-1-hydroxybutyl-ThPP + Enzyme N6-(lipoyl)lysine <=> [Dihydrolipoyllysine-residue (2-methylpropanoyl)transferase] S-(3-methylbutanoyl)dihydrolipoyllysine + Thiamin diphosphate)"
      ],
      "text/plain": [
       "<IPython.core.display.HTML object>"
      ]
     },
     "metadata": {},
     "output_type": "display_data"
    },
    {
     "data": {
      "text/html": [
       "<b>R00842</b>: [\"<span style='color: #fd79b7'>Node28120</span>\"] (sn-Glycerol-3-phosphate:NAD+ 2-oxidoreductase; sn-Glycerol 3-phosphate + NAD+ <=> Glycerone phosphate + NADH + H+)"
      ],
      "text/plain": [
       "<IPython.core.display.HTML object>"
      ]
     },
     "metadata": {},
     "output_type": "display_data"
    },
    {
     "data": {
      "text/html": [
       "<b>R00137</b>: [\"<span style='color: #554a79'>Node19398</span>\"] (ATP:nicotinamide-nucleotide adenylyltransferase; ATP + Nicotinamide D-ribonucleotide <=> Diphosphate + NAD+)"
      ],
      "text/plain": [
       "<IPython.core.display.HTML object>"
      ]
     },
     "metadata": {},
     "output_type": "display_data"
    },
    {
     "data": {
      "text/html": [
       "<b>R00137</b>: [\"<span style='color: #554a79'>Node19398</span>\", \"<span style='color: #21d139'>Node21166</span>\"] (ATP:nicotinamide-nucleotide adenylyltransferase; ATP + Nicotinamide D-ribonucleotide <=> Diphosphate + NAD+)"
      ],
      "text/plain": [
       "<IPython.core.display.HTML object>"
      ]
     },
     "metadata": {},
     "output_type": "display_data"
    },
    {
     "data": {
      "text/html": [
       "<b>R00137</b>: [\"<span style='color: #554a79'>Node19398</span>\", \"<span style='color: #21d139'>Node21166</span>\", \"<span style='color: #fd79b7'>Node28120</span>\"] (ATP:nicotinamide-nucleotide adenylyltransferase; ATP + Nicotinamide D-ribonucleotide <=> Diphosphate + NAD+)"
      ],
      "text/plain": [
       "<IPython.core.display.HTML object>"
      ]
     },
     "metadata": {},
     "output_type": "display_data"
    },
    {
     "data": {
      "text/html": [
       "<b>R05050</b>: [\"<span style='color: #fd79b7'>Node28120</span>\"] (N4-Acetylaminobutanal:NAD+ oxidoreductase; N4-Acetylaminobutanal + NAD+ + H2O <=> 4-Acetamidobutanoate + NADH + H+)"
      ],
      "text/plain": [
       "<IPython.core.display.HTML object>"
      ]
     },
     "metadata": {},
     "output_type": "display_data"
    },
    {
     "data": {
      "text/html": [
       "<b>R05050</b>: [\"<span style='color: #fd79b7'>Node28120</span>\", \"<span style='color: #073257'>Node55904</span>\"] (N4-Acetylaminobutanal:NAD+ oxidoreductase; N4-Acetylaminobutanal + NAD+ + H2O <=> 4-Acetamidobutanoate + NADH + H+)"
      ],
      "text/plain": [
       "<IPython.core.display.HTML object>"
      ]
     },
     "metadata": {},
     "output_type": "display_data"
    },
    {
     "data": {
      "text/html": [
       "<b>R04859</b>: [\"<span style='color: #4c0ebb'>Node119365</span>\"] (O3-acetyl-L-serine:thiosulfate 2-amino-2-carboxyethyltransferase (reducing, L-cysteine-forming); O3-acetyl-L-serine acetate-lyase (thiosulfate-reducing, L-cysteine-forming); O-Acetyl-L-serine + Thiosulfate + Thioredoxin + H+ <=> L-Cysteine + Sulfite + Thioredoxin disulfide + Acetate)"
      ],
      "text/plain": [
       "<IPython.core.display.HTML object>"
      ]
     },
     "metadata": {},
     "output_type": "display_data"
    },
    {
     "data": {
      "text/html": [
       "<b>R04859</b>: [\"<span style='color: #4c0ebb'>Node119365</span>\", \"<span style='color: #fd79b7'>Node28120</span>\"] (O3-acetyl-L-serine:thiosulfate 2-amino-2-carboxyethyltransferase (reducing, L-cysteine-forming); O3-acetyl-L-serine acetate-lyase (thiosulfate-reducing, L-cysteine-forming); O-Acetyl-L-serine + Thiosulfate + Thioredoxin + H+ <=> L-Cysteine + Sulfite + Thioredoxin disulfide + Acetate)"
      ],
      "text/plain": [
       "<IPython.core.display.HTML object>"
      ]
     },
     "metadata": {},
     "output_type": "display_data"
    },
    {
     "data": {
      "text/html": [
       "<b>R00185</b>: [\"<span style='color: #ffd3f8'>Node126898</span>\"] (ATP:adenosine 5'-phosphotransferase; ATP + Adenosine <=> ADP + AMP)"
      ],
      "text/plain": [
       "<IPython.core.display.HTML object>"
      ]
     },
     "metadata": {},
     "output_type": "display_data"
    },
    {
     "data": {
      "text/html": [
       "<b>R00185</b>: [\"<span style='color: #ffd3f8'>Node126898</span>\", \"<span style='color: #a87f75'>Node15327</span>\"] (ATP:adenosine 5'-phosphotransferase; ATP + Adenosine <=> ADP + AMP)"
      ],
      "text/plain": [
       "<IPython.core.display.HTML object>"
      ]
     },
     "metadata": {},
     "output_type": "display_data"
    },
    {
     "data": {
      "text/html": [
       "<b>R00185</b>: [\"<span style='color: #ffd3f8'>Node126898</span>\", \"<span style='color: #a87f75'>Node15327</span>\", \"<span style='color: #21d139'>Node21166</span>\"] (ATP:adenosine 5'-phosphotransferase; ATP + Adenosine <=> ADP + AMP)"
      ],
      "text/plain": [
       "<IPython.core.display.HTML object>"
      ]
     },
     "metadata": {},
     "output_type": "display_data"
    },
    {
     "data": {
      "text/html": [
       "<b>R05196</b>: [\"<span style='color: #fd79b7'>Node28120</span>\"] (1,4-alpha-D-Glucan:1,4-alpha-D-glucan 4-alpha-D-glycosyltransferase; Amylose + n D-Glucose <=> n Maltose)"
      ],
      "text/plain": [
       "<IPython.core.display.HTML object>"
      ]
     },
     "metadata": {},
     "output_type": "display_data"
    },
    {
     "data": {
      "text/html": [
       "<b>R05196</b>: [\"<span style='color: #fd79b7'>Node28120</span>\", \"<span style='color: #2a6e9d'>Node45985</span>\"] (1,4-alpha-D-Glucan:1,4-alpha-D-glucan 4-alpha-D-glycosyltransferase; Amylose + n D-Glucose <=> n Maltose)"
      ],
      "text/plain": [
       "<IPython.core.display.HTML object>"
      ]
     },
     "metadata": {},
     "output_type": "display_data"
    },
    {
     "data": {
      "text/html": [
       "<b>R02055</b>: [\"<span style='color: #a87f75'>Node15327</span>\"] (Phsophatidyl-L-serine carboxy-lyase; Phosphatidylserine <=> Phosphatidylethanolamine + CO2)"
      ],
      "text/plain": [
       "<IPython.core.display.HTML object>"
      ]
     },
     "metadata": {},
     "output_type": "display_data"
    },
    {
     "data": {
      "text/html": [
       "<b>R02055</b>: [\"<span style='color: #a87f75'>Node15327</span>\", \"<span style='color: #21d139'>Node21166</span>\"] (Phsophatidyl-L-serine carboxy-lyase; Phosphatidylserine <=> Phosphatidylethanolamine + CO2)"
      ],
      "text/plain": [
       "<IPython.core.display.HTML object>"
      ]
     },
     "metadata": {},
     "output_type": "display_data"
    },
    {
     "data": {
      "text/html": [
       "<b>R02024</b>: [\"<span style='color: #a87f75'>Node15327</span>\"] (2'-deoxycytidine diphosphate:oxidized-thioredoxin 2'-oxidoreductase; dCDP + Thioredoxin disulfide + H2O <=> Thioredoxin + CDP)"
      ],
      "text/plain": [
       "<IPython.core.display.HTML object>"
      ]
     },
     "metadata": {},
     "output_type": "display_data"
    },
    {
     "data": {
      "text/html": [
       "<b>R02024</b>: [\"<span style='color: #a87f75'>Node15327</span>\", \"<span style='color: #21d139'>Node21166</span>\"] (2'-deoxycytidine diphosphate:oxidized-thioredoxin 2'-oxidoreductase; dCDP + Thioredoxin disulfide + H2O <=> Thioredoxin + CDP)"
      ],
      "text/plain": [
       "<IPython.core.display.HTML object>"
      ]
     },
     "metadata": {},
     "output_type": "display_data"
    },
    {
     "data": {
      "text/html": [
       "<b>R02024</b>: [\"<span style='color: #a87f75'>Node15327</span>\", \"<span style='color: #21d139'>Node21166</span>\", \"<span style='color: #fd79b7'>Node28120</span>\"] (2'-deoxycytidine diphosphate:oxidized-thioredoxin 2'-oxidoreductase; dCDP + Thioredoxin disulfide + H2O <=> Thioredoxin + CDP)"
      ],
      "text/plain": [
       "<IPython.core.display.HTML object>"
      ]
     },
     "metadata": {},
     "output_type": "display_data"
    },
    {
     "data": {
      "text/html": [
       "<b>R02404</b>: [\"<span style='color: #a87f75'>Node15327</span>\"] (Itaconate:CoA ligase (ADP-forming); ATP + Itaconate + CoA <=> ADP + Orthophosphate + Itaconyl-CoA)"
      ],
      "text/plain": [
       "<IPython.core.display.HTML object>"
      ]
     },
     "metadata": {},
     "output_type": "display_data"
    },
    {
     "data": {
      "text/html": [
       "<b>R02404</b>: [\"<span style='color: #a87f75'>Node15327</span>\", \"<span style='color: #21d139'>Node21166</span>\"] (Itaconate:CoA ligase (ADP-forming); ATP + Itaconate + CoA <=> ADP + Orthophosphate + Itaconyl-CoA)"
      ],
      "text/plain": [
       "<IPython.core.display.HTML object>"
      ]
     },
     "metadata": {},
     "output_type": "display_data"
    },
    {
     "data": {
      "text/html": [
       "<b>R02404</b>: [\"<span style='color: #a87f75'>Node15327</span>\", \"<span style='color: #21d139'>Node21166</span>\", \"<span style='color: #fd79b7'>Node28120</span>\"] (Itaconate:CoA ligase (ADP-forming); ATP + Itaconate + CoA <=> ADP + Orthophosphate + Itaconyl-CoA)"
      ],
      "text/plain": [
       "<IPython.core.display.HTML object>"
      ]
     },
     "metadata": {},
     "output_type": "display_data"
    },
    {
     "data": {
      "text/html": [
       "<b>R02423</b>: [\"<span style='color: #a87f75'>Node15327</span>\"] (allantoate amidinohydrolase (decarboxylating); Allantoate + H2O <=> (S)-Ureidoglycine + Ammonia + CO2)"
      ],
      "text/plain": [
       "<IPython.core.display.HTML object>"
      ]
     },
     "metadata": {},
     "output_type": "display_data"
    },
    {
     "data": {
      "text/html": [
       "<b>R02423</b>: [\"<span style='color: #a87f75'>Node15327</span>\", \"<span style='color: #21d139'>Node21166</span>\"] (allantoate amidinohydrolase (decarboxylating); Allantoate + H2O <=> (S)-Ureidoglycine + Ammonia + CO2)"
      ],
      "text/plain": [
       "<IPython.core.display.HTML object>"
      ]
     },
     "metadata": {},
     "output_type": "display_data"
    },
    {
     "data": {
      "text/html": [
       "<b>R01432</b>: [\"<span style='color: #bebf59'>Node55420</span>\"] (D-xylose aldose-ketose-isomerase; D-Xylose <=> D-Xylulose)"
      ],
      "text/plain": [
       "<IPython.core.display.HTML object>"
      ]
     },
     "metadata": {},
     "output_type": "display_data"
    },
    {
     "data": {
      "text/html": [
       "<b>R01432</b>: [\"<span style='color: #bebf59'>Node55420</span>\", \"<span style='color: #073257'>Node55904</span>\"] (D-xylose aldose-ketose-isomerase; D-Xylose <=> D-Xylulose)"
      ],
      "text/plain": [
       "<IPython.core.display.HTML object>"
      ]
     },
     "metadata": {},
     "output_type": "display_data"
    },
    {
     "data": {
      "text/html": [
       "<b>R10221</b>: [\"<span style='color: #bebf59'>Node55420</span>\"] (6-phospho-D-gluconate:NAD+ 2-oxidoreductase (decarboxylating); 6-Phospho-D-gluconate + NAD+ <=> D-Ribulose 5-phosphate + CO2 + NADH + H+)"
      ],
      "text/plain": [
       "<IPython.core.display.HTML object>"
      ]
     },
     "metadata": {},
     "output_type": "display_data"
    },
    {
     "data": {
      "text/html": [
       "<b>R10221</b>: [\"<span style='color: #bebf59'>Node55420</span>\", \"<span style='color: #073257'>Node55904</span>\"] (6-phospho-D-gluconate:NAD+ 2-oxidoreductase (decarboxylating); 6-Phospho-D-gluconate + NAD+ <=> D-Ribulose 5-phosphate + CO2 + NADH + H+)"
      ],
      "text/plain": [
       "<IPython.core.display.HTML object>"
      ]
     },
     "metadata": {},
     "output_type": "display_data"
    },
    {
     "data": {
      "text/html": [
       "<b>R02957</b>: [\"<span style='color: #fd79b7'>Node28120</span>\"] (D-Glucuronolactone:NAD+ oxidoreductase; D-Glucuronolactone + NAD+ + 2 H2O <=> D-Glucarate + NADH + H+)"
      ],
      "text/plain": [
       "<IPython.core.display.HTML object>"
      ]
     },
     "metadata": {},
     "output_type": "display_data"
    },
    {
     "data": {
      "text/html": [
       "<b>R02957</b>: [\"<span style='color: #fd79b7'>Node28120</span>\", \"<span style='color: #073257'>Node55904</span>\"] (D-Glucuronolactone:NAD+ oxidoreductase; D-Glucuronolactone + NAD+ + 2 H2O <=> D-Glucarate + NADH + H+)"
      ],
      "text/plain": [
       "<IPython.core.display.HTML object>"
      ]
     },
     "metadata": {},
     "output_type": "display_data"
    },
    {
     "data": {
      "text/html": [
       "<b>R01280</b>: [\"<span style='color: #fd79b7'>Node28120</span>\"] (Palmitate:CoA ligase (AMP-forming); ATP + Hexadecanoic acid + CoA <=> AMP + Palmitoyl-CoA + Diphosphate)"
      ],
      "text/plain": [
       "<IPython.core.display.HTML object>"
      ]
     },
     "metadata": {},
     "output_type": "display_data"
    },
    {
     "data": {
      "text/html": [
       "<b>R07765</b>: [\"<span style='color: #a87f75'>Node15327</span>\"] (octadecanoyl-[acp]:NAD+ trans-2-oxidoreductase; (2E)-Octadecenoyl-[acp] + NADH + H+ <=> Octadecanoyl-[acyl-carrier protein] + NAD+)"
      ],
      "text/plain": [
       "<IPython.core.display.HTML object>"
      ]
     },
     "metadata": {},
     "output_type": "display_data"
    },
    {
     "data": {
      "text/html": [
       "<b>R07765</b>: [\"<span style='color: #a87f75'>Node15327</span>\", \"<span style='color: #554a79'>Node19398</span>\"] (octadecanoyl-[acp]:NAD+ trans-2-oxidoreductase; (2E)-Octadecenoyl-[acp] + NADH + H+ <=> Octadecanoyl-[acyl-carrier protein] + NAD+)"
      ],
      "text/plain": [
       "<IPython.core.display.HTML object>"
      ]
     },
     "metadata": {},
     "output_type": "display_data"
    },
    {
     "data": {
      "text/html": [
       "<b>R07765</b>: [\"<span style='color: #a87f75'>Node15327</span>\", \"<span style='color: #554a79'>Node19398</span>\", \"<span style='color: #fd79b7'>Node28120</span>\"] (octadecanoyl-[acp]:NAD+ trans-2-oxidoreductase; (2E)-Octadecenoyl-[acp] + NADH + H+ <=> Octadecanoyl-[acyl-carrier protein] + NAD+)"
      ],
      "text/plain": [
       "<IPython.core.display.HTML object>"
      ]
     },
     "metadata": {},
     "output_type": "display_data"
    },
    {
     "data": {
      "text/html": [
       "<b>R03239</b>: [\"<span style='color: #74553b'>Node147305</span>\"] (ITP:D-tagatose 6-phosphate 1-phosphotransferase; ITP + D-Tagatose 6-phosphate <=> IDP + D-Tagatose 1,6-bisphosphate)"
      ],
      "text/plain": [
       "<IPython.core.display.HTML object>"
      ]
     },
     "metadata": {},
     "output_type": "display_data"
    },
    {
     "data": {
      "text/html": [
       "<b>R03239</b>: [\"<span style='color: #74553b'>Node147305</span>\", \"<span style='color: #fd79b7'>Node28120</span>\"] (ITP:D-tagatose 6-phosphate 1-phosphotransferase; ITP + D-Tagatose 6-phosphate <=> IDP + D-Tagatose 1,6-bisphosphate)"
      ],
      "text/plain": [
       "<IPython.core.display.HTML object>"
      ]
     },
     "metadata": {},
     "output_type": "display_data"
    },
    {
     "data": {
      "text/html": [
       "<b>R10343</b>: [\"<span style='color: #fd79b7'>Node28120</span>\"] (succinyl-CoA:acetate CoA-transferase; Succinyl-CoA + Acetate <=> Acetyl-CoA + Succinate)"
      ],
      "text/plain": [
       "<IPython.core.display.HTML object>"
      ]
     },
     "metadata": {},
     "output_type": "display_data"
    },
    {
     "data": {
      "text/html": [
       "<b>R10343</b>: [\"<span style='color: #fd79b7'>Node28120</span>\", \"<span style='color: #073257'>Node55904</span>\"] (succinyl-CoA:acetate CoA-transferase; Succinyl-CoA + Acetate <=> Acetyl-CoA + Succinate)"
      ],
      "text/plain": [
       "<IPython.core.display.HTML object>"
      ]
     },
     "metadata": {},
     "output_type": "display_data"
    },
    {
     "data": {
      "text/html": [
       "<b>R03182</b>: [\"<span style='color: #21d139'>Node21166</span>\"] (7,8-Diaminononanoate:carbon-dioxide cyclo-ligase; ATP + 7,8-Diaminononanoate + CO2 <=> ADP + Orthophosphate + Dethiobiotin)"
      ],
      "text/plain": [
       "<IPython.core.display.HTML object>"
      ]
     },
     "metadata": {},
     "output_type": "display_data"
    },
    {
     "data": {
      "text/html": [
       "<b>R03182</b>: [\"<span style='color: #21d139'>Node21166</span>\", \"<span style='color: #fd79b7'>Node28120</span>\"] (7,8-Diaminononanoate:carbon-dioxide cyclo-ligase; ATP + 7,8-Diaminononanoate + CO2 <=> ADP + Orthophosphate + Dethiobiotin)"
      ],
      "text/plain": [
       "<IPython.core.display.HTML object>"
      ]
     },
     "metadata": {},
     "output_type": "display_data"
    },
    {
     "data": {
      "text/html": [
       "<b>R09159</b>: [\"<span style='color: #a87f75'>Node15327</span>\"] (Benzo[a]pyrene + Oxygen + NADH + H+ <=> Benzo[a]pyrene-cis-9,10-dihydrodiol + NAD+)"
      ],
      "text/plain": [
       "<IPython.core.display.HTML object>"
      ]
     },
     "metadata": {},
     "output_type": "display_data"
    },
    {
     "data": {
      "text/html": [
       "<b>R00089</b>: [\"<span style='color: #fd79b7'>Node28120</span>\"] (ATP diphosphate-lyase (cyclizing; 3',5'-cyclic-AMP-forming); ATP <=> 3',5'-Cyclic AMP + Diphosphate)"
      ],
      "text/plain": [
       "<IPython.core.display.HTML object>"
      ]
     },
     "metadata": {},
     "output_type": "display_data"
    },
    {
     "data": {
      "text/html": [
       "<b>R02555</b>: [\"<span style='color: #073257'>Node55904</span>\"] (D-Altronate:NAD+ 3-oxidoreductase; D-Altronate + NAD+ <=> D-Tagaturonate + NADH + H+)"
      ],
      "text/plain": [
       "<IPython.core.display.HTML object>"
      ]
     },
     "metadata": {},
     "output_type": "display_data"
    },
    {
     "data": {
      "text/html": [
       "<b>R02071</b>: [\"<span style='color: #fd79b7'>Node28120</span>\"] (ATP:D-fructose-1-phosphate 6-phosphotransferase; ATP + D-Fructose 1-phosphate <=> ADP + beta-D-Fructose 1,6-bisphosphate)"
      ],
      "text/plain": [
       "<IPython.core.display.HTML object>"
      ]
     },
     "metadata": {},
     "output_type": "display_data"
    },
    {
     "data": {
      "text/html": [
       "<b>R06593</b>: [\"<span style='color: #ffd3f8'>Node126898</span>\"] (AminoDHQ <=> 5-Amino-5-deoxy-3-dehydroshikimate + H2O)"
      ],
      "text/plain": [
       "<IPython.core.display.HTML object>"
      ]
     },
     "metadata": {},
     "output_type": "display_data"
    },
    {
     "data": {
      "text/html": [
       "<b>R11945</b>: [\"<span style='color: #ffd3f8'>Node126898</span>\"] (NADH:ubiquinone oxidoreductase; Ubiquinone + NADH + 6 H+ <=> Ubiquinol + NAD+ + 5 H+)"
      ],
      "text/plain": [
       "<IPython.core.display.HTML object>"
      ]
     },
     "metadata": {},
     "output_type": "display_data"
    },
    {
     "data": {
      "text/html": [
       "<b>R11945</b>: [\"<span style='color: #ffd3f8'>Node126898</span>\", \"<span style='color: #fd79b7'>Node28120</span>\"] (NADH:ubiquinone oxidoreductase; Ubiquinone + NADH + 6 H+ <=> Ubiquinol + NAD+ + 5 H+)"
      ],
      "text/plain": [
       "<IPython.core.display.HTML object>"
      ]
     },
     "metadata": {},
     "output_type": "display_data"
    },
    {
     "data": {
      "text/html": [
       "<b>R04007</b>: [\"<span style='color: #fd79b7'>Node28120</span>\"] (Donor:hydrogen-peroxide oxidoreductase; 4-Coumaryl alcohol <=> p-Hydroxyphenyl lignin)"
      ],
      "text/plain": [
       "<IPython.core.display.HTML object>"
      ]
     },
     "metadata": {},
     "output_type": "display_data"
    },
    {
     "data": {
      "text/html": [
       "<b>R08878</b>: [\"<span style='color: #4c0ebb'>Node119365</span>\"] (2-dehydro-L-idonate:NADP+ 5-oxidoreductase; 2-Dehydro-L-idonate + NADP+ <=> 2,5-Didehydro-D-gluconate + NADPH + H+)"
      ],
      "text/plain": [
       "<IPython.core.display.HTML object>"
      ]
     },
     "metadata": {},
     "output_type": "display_data"
    },
    {
     "data": {
      "text/html": [
       "<b>R11905</b>: [\"<span style='color: #073257'>Node55904</span>\"] (Hepatotoxins + Glutathione <=> R-S-Glutathione)"
      ],
      "text/plain": [
       "<IPython.core.display.HTML object>"
      ]
     },
     "metadata": {},
     "output_type": "display_data"
    },
    {
     "data": {
      "text/html": [
       "<b>R00706</b>: [\"<span style='color: #fd79b7'>Node28120</span>\"] (3-Oxopropanoate:NADP+ oxidoreductase (decarboxylating, CoA-acetylating); 3-Oxopropanoate + CoA + NADP+ <=> Acetyl-CoA + CO2 + NADPH + H+)"
      ],
      "text/plain": [
       "<IPython.core.display.HTML object>"
      ]
     },
     "metadata": {},
     "output_type": "display_data"
    },
    {
     "data": {
      "text/html": [
       "<b>R04189</b>: [\"<span style='color: #21d139'>Node21166</span>\"] (N2-succinyl-L-arginine iminohydrolase (decarboxylating); N2-Succinyl-L-arginine + 2 H2O <=> N2-Succinyl-L-ornithine + CO2 + 2 Ammonia)"
      ],
      "text/plain": [
       "<IPython.core.display.HTML object>"
      ]
     },
     "metadata": {},
     "output_type": "display_data"
    },
    {
     "data": {
      "text/html": [
       "<b>R04189</b>: [\"<span style='color: #21d139'>Node21166</span>\", \"<span style='color: #fd79b7'>Node28120</span>\"] (N2-succinyl-L-arginine iminohydrolase (decarboxylating); N2-Succinyl-L-arginine + 2 H2O <=> N2-Succinyl-L-ornithine + CO2 + 2 Ammonia)"
      ],
      "text/plain": [
       "<IPython.core.display.HTML object>"
      ]
     },
     "metadata": {},
     "output_type": "display_data"
    },
    {
     "data": {
      "text/html": [
       "<b>R04189</b>: [\"<span style='color: #21d139'>Node21166</span>\", \"<span style='color: #fd79b7'>Node28120</span>\", \"<span style='color: #3a3787'>Node52227</span>\"] (N2-succinyl-L-arginine iminohydrolase (decarboxylating); N2-Succinyl-L-arginine + 2 H2O <=> N2-Succinyl-L-ornithine + CO2 + 2 Ammonia)"
      ],
      "text/plain": [
       "<IPython.core.display.HTML object>"
      ]
     },
     "metadata": {},
     "output_type": "display_data"
    },
    {
     "data": {
      "text/html": [
       "<b>R00420</b>: [\"<span style='color: #74553b'>Node147305</span>\"] (UDP-N-acetyl-D-glucosamine 2-epimerase; UDP-N-acetyl-alpha-D-glucosamine <=> UDP-N-acetyl-D-mannosamine)"
      ],
      "text/plain": [
       "<IPython.core.display.HTML object>"
      ]
     },
     "metadata": {},
     "output_type": "display_data"
    },
    {
     "data": {
      "text/html": [
       "<b>R08109</b>: [\"<span style='color: #21d139'>Node21166</span>\"] (3-fluorobenzoate,NADH:oxygen oxidoreductase (1,2-hydroxylating); 3-Fluorobenzoate + NADH + H+ + Oxygen <=> 5-Fluorocyclohexadiene-cis,cis-1,2-diol-1-carboxylate + NAD+)"
      ],
      "text/plain": [
       "<IPython.core.display.HTML object>"
      ]
     },
     "metadata": {},
     "output_type": "display_data"
    },
    {
     "data": {
      "text/html": [
       "<b>R01818</b>: [\"<span style='color: #4c0ebb'>Node119365</span>\"] (D-mannose 6-phosphate 1,6-phosphomutase; D-Mannose 6-phosphate <=> D-Mannose 1-phosphate)"
      ],
      "text/plain": [
       "<IPython.core.display.HTML object>"
      ]
     },
     "metadata": {},
     "output_type": "display_data"
    },
    {
     "data": {
      "text/html": [
       "<b>R02454</b>: [\"<span style='color: #fd79b7'>Node28120</span>\"] (D-Mannonate:NAD+ 5-oxidoreductase; D-Mannonate + NAD+ <=> D-Fructuronate + NADH + H+)"
      ],
      "text/plain": [
       "<IPython.core.display.HTML object>"
      ]
     },
     "metadata": {},
     "output_type": "display_data"
    },
    {
     "data": {
      "text/html": [
       "<b>R02454</b>: [\"<span style='color: #fd79b7'>Node28120</span>\", \"<span style='color: #bebf59'>Node55420</span>\"] (D-Mannonate:NAD+ 5-oxidoreductase; D-Mannonate + NAD+ <=> D-Fructuronate + NADH + H+)"
      ],
      "text/plain": [
       "<IPython.core.display.HTML object>"
      ]
     },
     "metadata": {},
     "output_type": "display_data"
    },
    {
     "data": {
      "text/html": [
       "<b>R02454</b>: [\"<span style='color: #fd79b7'>Node28120</span>\", \"<span style='color: #bebf59'>Node55420</span>\", \"<span style='color: #073257'>Node55904</span>\"] (D-Mannonate:NAD+ 5-oxidoreductase; D-Mannonate + NAD+ <=> D-Fructuronate + NADH + H+)"
      ],
      "text/plain": [
       "<IPython.core.display.HTML object>"
      ]
     },
     "metadata": {},
     "output_type": "display_data"
    },
    {
     "data": {
      "text/html": [
       "<b>R00904</b>: [\"<span style='color: #fd79b7'>Node28120</span>\"] (3-aminopropanal:NAD+ oxidoreductase; 3-Aminopropanal + NAD+ + H2O <=> beta-Alanine + NADH + H+)"
      ],
      "text/plain": [
       "<IPython.core.display.HTML object>"
      ]
     },
     "metadata": {},
     "output_type": "display_data"
    },
    {
     "data": {
      "text/html": [
       "<b>R00904</b>: [\"<span style='color: #fd79b7'>Node28120</span>\", \"<span style='color: #073257'>Node55904</span>\"] (3-aminopropanal:NAD+ oxidoreductase; 3-Aminopropanal + NAD+ + H2O <=> beta-Alanine + NADH + H+)"
      ],
      "text/plain": [
       "<IPython.core.display.HTML object>"
      ]
     },
     "metadata": {},
     "output_type": "display_data"
    },
    {
     "data": {
      "text/html": [
       "<b>R04970</b>: [\"<span style='color: #a87f75'>Node15327</span>\"] (hexadecanoyl-[acp]:NADP+ trans-2-oxidoreductase; Hexadecanoyl-[acp] + NADP+ <=> trans-Hexadec-2-enoyl-[acp] + NADPH + H+)"
      ],
      "text/plain": [
       "<IPython.core.display.HTML object>"
      ]
     },
     "metadata": {},
     "output_type": "display_data"
    },
    {
     "data": {
      "text/html": [
       "<b>R04970</b>: [\"<span style='color: #a87f75'>Node15327</span>\", \"<span style='color: #554a79'>Node19398</span>\"] (hexadecanoyl-[acp]:NADP+ trans-2-oxidoreductase; Hexadecanoyl-[acp] + NADP+ <=> trans-Hexadec-2-enoyl-[acp] + NADPH + H+)"
      ],
      "text/plain": [
       "<IPython.core.display.HTML object>"
      ]
     },
     "metadata": {},
     "output_type": "display_data"
    },
    {
     "data": {
      "text/html": [
       "<b>R04970</b>: [\"<span style='color: #a87f75'>Node15327</span>\", \"<span style='color: #554a79'>Node19398</span>\", \"<span style='color: #fd79b7'>Node28120</span>\"] (hexadecanoyl-[acp]:NADP+ trans-2-oxidoreductase; Hexadecanoyl-[acp] + NADP+ <=> trans-Hexadec-2-enoyl-[acp] + NADPH + H+)"
      ],
      "text/plain": [
       "<IPython.core.display.HTML object>"
      ]
     },
     "metadata": {},
     "output_type": "display_data"
    },
    {
     "data": {
      "text/html": [
       "<b>R01220</b>: [\"<span style='color: #a87f75'>Node15327</span>\"] (5,10-methylenetetrahydrofolate:NADP+ oxidoreductase; 5,10-Methylenetetrahydrofolate + NADP+ <=> 5,10-Methenyltetrahydrofolate + NADPH)"
      ],
      "text/plain": [
       "<IPython.core.display.HTML object>"
      ]
     },
     "metadata": {},
     "output_type": "display_data"
    },
    {
     "data": {
      "text/html": [
       "<b>R01220</b>: [\"<span style='color: #a87f75'>Node15327</span>\", \"<span style='color: #21d139'>Node21166</span>\"] (5,10-methylenetetrahydrofolate:NADP+ oxidoreductase; 5,10-Methylenetetrahydrofolate + NADP+ <=> 5,10-Methenyltetrahydrofolate + NADPH)"
      ],
      "text/plain": [
       "<IPython.core.display.HTML object>"
      ]
     },
     "metadata": {},
     "output_type": "display_data"
    },
    {
     "data": {
      "text/html": [
       "<b>R01220</b>: [\"<span style='color: #a87f75'>Node15327</span>\", \"<span style='color: #21d139'>Node21166</span>\", \"<span style='color: #fd79b7'>Node28120</span>\"] (5,10-methylenetetrahydrofolate:NADP+ oxidoreductase; 5,10-Methylenetetrahydrofolate + NADP+ <=> 5,10-Methenyltetrahydrofolate + NADPH)"
      ],
      "text/plain": [
       "<IPython.core.display.HTML object>"
      ]
     },
     "metadata": {},
     "output_type": "display_data"
    },
    {
     "data": {
      "text/html": [
       "<b>R07443</b>: [\"<span style='color: #fd79b7'>Node28120</span>\"] (donor:hydrogen-peroxide oxidoreductase; 5-Hydroxyconiferyl alcohol <=> 5-Hydroxy-guaiacyl lignin)"
      ],
      "text/plain": [
       "<IPython.core.display.HTML object>"
      ]
     },
     "metadata": {},
     "output_type": "display_data"
    },
    {
     "data": {
      "text/html": [
       "<b>R01248</b>: [\"<span style='color: #2a6e9d'>Node45985</span>\"] (L-Proline:NAD+ 5-oxidoreductase; L-Proline + NAD+ <=> (S)-1-Pyrroline-5-carboxylate + NADH + H+)"
      ],
      "text/plain": [
       "<IPython.core.display.HTML object>"
      ]
     },
     "metadata": {},
     "output_type": "display_data"
    },
    {
     "data": {
      "text/html": [
       "<b>R01248</b>: [\"<span style='color: #2a6e9d'>Node45985</span>\", \"<span style='color: #af8238'>Node53994</span>\"] (L-Proline:NAD+ 5-oxidoreductase; L-Proline + NAD+ <=> (S)-1-Pyrroline-5-carboxylate + NADH + H+)"
      ],
      "text/plain": [
       "<IPython.core.display.HTML object>"
      ]
     },
     "metadata": {},
     "output_type": "display_data"
    },
    {
     "data": {
      "text/html": [
       "<b>R00631</b>: [\"<span style='color: #fd79b7'>Node28120</span>\"] (aldehyde:NAD+ oxidoreductase; Aldehyde + NAD+ + H2O <=> Fatty acid + NADH + H+)"
      ],
      "text/plain": [
       "<IPython.core.display.HTML object>"
      ]
     },
     "metadata": {},
     "output_type": "display_data"
    },
    {
     "data": {
      "text/html": [
       "<b>R00631</b>: [\"<span style='color: #fd79b7'>Node28120</span>\", \"<span style='color: #073257'>Node55904</span>\"] (aldehyde:NAD+ oxidoreductase; Aldehyde + NAD+ + H2O <=> Fatty acid + NADH + H+)"
      ],
      "text/plain": [
       "<IPython.core.display.HTML object>"
      ]
     },
     "metadata": {},
     "output_type": "display_data"
    },
    {
     "data": {
      "text/html": [
       "<b>R07024</b>: [\"<span style='color: #073257'>Node55904</span>\"] (1-nitro-7-glutathionyl-8-hydroxy-7,8-dihydronaphthalene glutathione-lyase (epoxide-forming); 1-Nitronaphthalene-7,8-oxide + Glutathione <=> 1-Nitro-7-glutathionyl-8-hydroxy-7,8-dihydronaphthalene)"
      ],
      "text/plain": [
       "<IPython.core.display.HTML object>"
      ]
     },
     "metadata": {},
     "output_type": "display_data"
    },
    {
     "data": {
      "text/html": [
       "<b>R11037</b>: [\"<span style='color: #fd79b7'>Node28120</span>\"] (7,8-dihydroneopterin:oxygen oxidoreductase; 7,8-Dihydroneopterin + Oxygen <=> 7,8-Dihydroxanthopterin + Formate + Glycolaldehyde)"
      ],
      "text/plain": [
       "<IPython.core.display.HTML object>"
      ]
     },
     "metadata": {},
     "output_type": "display_data"
    },
    {
     "data": {
      "text/html": [
       "<b>R11037</b>: [\"<span style='color: #fd79b7'>Node28120</span>\", \"<span style='color: #bebf59'>Node55420</span>\"] (7,8-dihydroneopterin:oxygen oxidoreductase; 7,8-Dihydroneopterin + Oxygen <=> 7,8-Dihydroxanthopterin + Formate + Glycolaldehyde)"
      ],
      "text/plain": [
       "<IPython.core.display.HTML object>"
      ]
     },
     "metadata": {},
     "output_type": "display_data"
    },
    {
     "data": {
      "text/html": [
       "<b>R11037</b>: [\"<span style='color: #fd79b7'>Node28120</span>\", \"<span style='color: #bebf59'>Node55420</span>\", \"<span style='color: #073257'>Node55904</span>\"] (7,8-dihydroneopterin:oxygen oxidoreductase; 7,8-Dihydroneopterin + Oxygen <=> 7,8-Dihydroxanthopterin + Formate + Glycolaldehyde)"
      ],
      "text/plain": [
       "<IPython.core.display.HTML object>"
      ]
     },
     "metadata": {},
     "output_type": "display_data"
    },
    {
     "data": {
      "text/html": [
       "<b>R07210</b>: [\"<span style='color: #fd79b7'>Node28120</span>\"] (alkanesulfonate, reduced-FMN:oxygen oxidoreductase; Alkanesulfonate + Reduced FMN + Oxygen <=> Aldehyde + FMN + Sulfite + H2O)"
      ],
      "text/plain": [
       "<IPython.core.display.HTML object>"
      ]
     },
     "metadata": {},
     "output_type": "display_data"
    },
    {
     "data": {
      "text/html": [
       "<b>R06558</b>: [\"<span style='color: #21d139'>Node21166</span>\"] (Adenosyl cobinamide + GTP <=> Adenosyl cobinamide phosphate + GDP)"
      ],
      "text/plain": [
       "<IPython.core.display.HTML object>"
      ]
     },
     "metadata": {},
     "output_type": "display_data"
    },
    {
     "data": {
      "text/html": [
       "<b>R00710</b>: [\"<span style='color: #fd79b7'>Node28120</span>\"] (Acetaldehyde:NAD+ oxidoreductase; Acetaldehyde + NAD+ + H2O <=> Acetate + NADH + H+)"
      ],
      "text/plain": [
       "<IPython.core.display.HTML object>"
      ]
     },
     "metadata": {},
     "output_type": "display_data"
    },
    {
     "data": {
      "text/html": [
       "<b>R00710</b>: [\"<span style='color: #fd79b7'>Node28120</span>\", \"<span style='color: #073257'>Node55904</span>\"] (Acetaldehyde:NAD+ oxidoreductase; Acetaldehyde + NAD+ + H2O <=> Acetate + NADH + H+)"
      ],
      "text/plain": [
       "<IPython.core.display.HTML object>"
      ]
     },
     "metadata": {},
     "output_type": "display_data"
    },
    {
     "data": {
      "text/html": [
       "<b>R05622</b>: [\"<span style='color: #21d139'>Node21166</span>\"] (Benzoate + NADPH + H+ + Oxygen <=> (1R,6S)-1,6-Dihydroxycyclohexa-2,4-diene-1-carboxylate + NADP+)"
      ],
      "text/plain": [
       "<IPython.core.display.HTML object>"
      ]
     },
     "metadata": {},
     "output_type": "display_data"
    },
    {
     "data": {
      "text/html": [
       "<b>R01567</b>: [\"<span style='color: #21d139'>Node21166</span>\"] (ATP:thymidine 5'-phosphotransferase; ATP + Thymidine <=> ADP + dTMP)"
      ],
      "text/plain": [
       "<IPython.core.display.HTML object>"
      ]
     },
     "metadata": {},
     "output_type": "display_data"
    },
    {
     "data": {
      "text/html": [
       "<b>R01567</b>: [\"<span style='color: #21d139'>Node21166</span>\", \"<span style='color: #bebf59'>Node55420</span>\"] (ATP:thymidine 5'-phosphotransferase; ATP + Thymidine <=> ADP + dTMP)"
      ],
      "text/plain": [
       "<IPython.core.display.HTML object>"
      ]
     },
     "metadata": {},
     "output_type": "display_data"
    },
    {
     "data": {
      "text/html": [
       "<b>R01567</b>: [\"<span style='color: #21d139'>Node21166</span>\", \"<span style='color: #bebf59'>Node55420</span>\", \"<span style='color: #073257'>Node55904</span>\"] (ATP:thymidine 5'-phosphotransferase; ATP + Thymidine <=> ADP + dTMP)"
      ],
      "text/plain": [
       "<IPython.core.display.HTML object>"
      ]
     },
     "metadata": {},
     "output_type": "display_data"
    },
    {
     "data": {
      "text/html": [
       "<b>R01001</b>: [\"<span style='color: #ffd3f8'>Node126898</span>\"] (L-cystathionine cysteine-lyase (deaminating; 2-oxobutanoate-forming); L-Cystathionine + H2O <=> L-Cysteine + Ammonia + 2-Oxobutanoate)"
      ],
      "text/plain": [
       "<IPython.core.display.HTML object>"
      ]
     },
     "metadata": {},
     "output_type": "display_data"
    },
    {
     "data": {
      "text/html": [
       "<b>R03187</b>: [\"<span style='color: #21d139'>Node21166</span>\"] (N-Methylimidazolidine-2,4-dione amidohydrolase (ATP-hydrolysing); ATP + N-Methylhydantoin + 2 H2O <=> ADP + Orthophosphate + N-Carbamoylsarcosine)"
      ],
      "text/plain": [
       "<IPython.core.display.HTML object>"
      ]
     },
     "metadata": {},
     "output_type": "display_data"
    },
    {
     "data": {
      "text/html": [
       "<b>R01066</b>: [\"<span style='color: #073257'>Node55904</span>\"] (2-deoxy-D-ribose-5-phosphate acetaldehyde-lyase (D-glyceraldehyde-3-phosphate-forming); 2-Deoxy-D-ribose 5-phosphate <=> D-Glyceraldehyde 3-phosphate + Acetaldehyde)"
      ],
      "text/plain": [
       "<IPython.core.display.HTML object>"
      ]
     },
     "metadata": {},
     "output_type": "display_data"
    },
    {
     "data": {
      "text/html": [
       "<b>R02240</b>: [\"<span style='color: #74553b'>Node147305</span>\"] (ATP:1,2-diacylglycerol 3-phosphotransferase; ATP + 1,2-Diacyl-sn-glycerol <=> ADP + Phosphatidate)"
      ],
      "text/plain": [
       "<IPython.core.display.HTML object>"
      ]
     },
     "metadata": {},
     "output_type": "display_data"
    },
    {
     "data": {
      "text/html": [
       "<b>R03562</b>: [\"<span style='color: #21d139'>Node21166</span>\"] (Toluene,NADPH:oxogen oxidoreductase (3-hydroxylating); Toluene + Oxygen + NADPH + H+ <=> 3-Cresol + NADP+ + H2O)"
      ],
      "text/plain": [
       "<IPython.core.display.HTML object>"
      ]
     },
     "metadata": {},
     "output_type": "display_data"
    },
    {
     "data": {
      "text/html": [
       "<b>R05290</b>: [\"<span style='color: #21d139'>Node21166</span>\"] (Toluate + Oxygen + NADH + H+ <=> cis-1,2-Dihydroxy-4-methylcyclohexa-3,5-diene-1-carboxylate + NAD+)"
      ],
      "text/plain": [
       "<IPython.core.display.HTML object>"
      ]
     },
     "metadata": {},
     "output_type": "display_data"
    },
    {
     "data": {
      "text/html": [
       "<b>R01025</b>: [\"<span style='color: #fd79b7'>Node28120</span>\"] (choline:acceptor 1-oxidoreductase; Choline + Acceptor <=> Betaine aldehyde + Reduced acceptor)"
      ],
      "text/plain": [
       "<IPython.core.display.HTML object>"
      ]
     },
     "metadata": {},
     "output_type": "display_data"
    },
    {
     "data": {
      "text/html": [
       "<b>R00150</b>: [\"<span style='color: #fd79b7'>Node28120</span>\"] (ATP:carbamate phosphotransferase; ATP + Ammonia + HCO3- <=> ADP + Carbamoyl phosphate + H2O)"
      ],
      "text/plain": [
       "<IPython.core.display.HTML object>"
      ]
     },
     "metadata": {},
     "output_type": "display_data"
    },
    {
     "data": {
      "text/html": [
       "<b>R09409</b>: [\"<span style='color: #073257'>Node55904</span>\"] (glutathione-S-transferase; Aflatoxin B1-exo-8,9-epoxide + Glutathione <=> Aflatoxin B1exo-8,9-epoxide-GSH)"
      ],
      "text/plain": [
       "<IPython.core.display.HTML object>"
      ]
     },
     "metadata": {},
     "output_type": "display_data"
    },
    {
     "data": {
      "text/html": [
       "<b>R08280</b>: [\"<span style='color: #073257'>Node55904</span>\"] (4-glutathionyl cyclophosphamide hydrolase; Aldophosphamide + Glutathione <=> 4-Glutathionyl cyclophosphamide + H2O)"
      ],
      "text/plain": [
       "<IPython.core.display.HTML object>"
      ]
     },
     "metadata": {},
     "output_type": "display_data"
    },
    {
     "data": {
      "text/html": [
       "<b>R01600</b>: [\"<span style='color: #fd79b7'>Node28120</span>\"] (ATP:beta-D-glucose 6-phosphotransferase; ATP + beta-D-Glucose <=> ADP + beta-D-Glucose 6-phosphate)"
      ],
      "text/plain": [
       "<IPython.core.display.HTML object>"
      ]
     },
     "metadata": {},
     "output_type": "display_data"
    },
    {
     "data": {
      "text/html": [
       "<b>R04065</b>: [\"<span style='color: #fd79b7'>Node28120</span>\"] (Imidazole acetaldehyde:NAD+ oxidoreductase; Imidazole-4-acetaldehyde + NAD+ + H2O <=> Imidazole-4-acetate + NADH + H+)"
      ],
      "text/plain": [
       "<IPython.core.display.HTML object>"
      ]
     },
     "metadata": {},
     "output_type": "display_data"
    },
    {
     "data": {
      "text/html": [
       "<b>R04065</b>: [\"<span style='color: #fd79b7'>Node28120</span>\", \"<span style='color: #073257'>Node55904</span>\"] (Imidazole acetaldehyde:NAD+ oxidoreductase; Imidazole-4-acetaldehyde + NAD+ + H2O <=> Imidazole-4-acetate + NADH + H+)"
      ],
      "text/plain": [
       "<IPython.core.display.HTML object>"
      ]
     },
     "metadata": {},
     "output_type": "display_data"
    },
    {
     "data": {
      "text/html": [
       "<b>R01238</b>: [\"<span style='color: #21d139'>Node21166</span>\"] (4-hydroxybenzoate carboxy-lyase (phenol-forming); 4-Hydroxybenzoate <=> Phenol + CO2)"
      ],
      "text/plain": [
       "<IPython.core.display.HTML object>"
      ]
     },
     "metadata": {},
     "output_type": "display_data"
    },
    {
     "data": {
      "text/html": [
       "<b>R01238</b>: [\"<span style='color: #21d139'>Node21166</span>\", \"<span style='color: #fd79b7'>Node28120</span>\"] (4-hydroxybenzoate carboxy-lyase (phenol-forming); 4-Hydroxybenzoate <=> Phenol + CO2)"
      ],
      "text/plain": [
       "<IPython.core.display.HTML object>"
      ]
     },
     "metadata": {},
     "output_type": "display_data"
    },
    {
     "data": {
      "text/html": [
       "<b>R01238</b>: [\"<span style='color: #21d139'>Node21166</span>\", \"<span style='color: #fd79b7'>Node28120</span>\", \"<span style='color: #073257'>Node55904</span>\"] (4-hydroxybenzoate carboxy-lyase (phenol-forming); 4-Hydroxybenzoate <=> Phenol + CO2)"
      ],
      "text/plain": [
       "<IPython.core.display.HTML object>"
      ]
     },
     "metadata": {},
     "output_type": "display_data"
    },
    {
     "data": {
      "text/html": [
       "<b>R02485</b>: [\"<span style='color: #74553b'>Node147305</span>\"] (deoxycytidine aminohydrolase; Deoxycytidine + H2O <=> Deoxyuridine + Ammonia)"
      ],
      "text/plain": [
       "<IPython.core.display.HTML object>"
      ]
     },
     "metadata": {},
     "output_type": "display_data"
    },
    {
     "data": {
      "text/html": [
       "<b>R02485</b>: [\"<span style='color: #74553b'>Node147305</span>\", \"<span style='color: #21d139'>Node21166</span>\"] (deoxycytidine aminohydrolase; Deoxycytidine + H2O <=> Deoxyuridine + Ammonia)"
      ],
      "text/plain": [
       "<IPython.core.display.HTML object>"
      ]
     },
     "metadata": {},
     "output_type": "display_data"
    },
    {
     "data": {
      "text/html": [
       "<b>R00251</b>: [\"<span style='color: #21d139'>Node21166</span>\"] (5-oxo-L-proline amidohydrolase (ATP-hydrolysing); ATP + 5-Oxoproline + 2 H2O <=> ADP + Orthophosphate + L-Glutamate)"
      ],
      "text/plain": [
       "<IPython.core.display.HTML object>"
      ]
     },
     "metadata": {},
     "output_type": "display_data"
    },
    {
     "data": {
      "text/html": [
       "<b>R04173</b>: [\"<span style='color: #fd79b7'>Node28120</span>\"] (3-Phosphoserine:2-oxoglutarate aminotransferase; O-Phospho-L-serine + 2-Oxoglutarate <=> 3-Phosphonooxypyruvate + L-Glutamate)"
      ],
      "text/plain": [
       "<IPython.core.display.HTML object>"
      ]
     },
     "metadata": {},
     "output_type": "display_data"
    },
    {
     "data": {
      "text/html": [
       "<b>R02300</b>: [\"<span style='color: #fd79b7'>Node28120</span>\"] (S-Aminomethyldihydrolipoylprotein:(6S)-tetrahydrofolate aminomethyltransferase (ammonia-forming); Folinic acid <=> 5,10-Methenyltetrahydrofolate + H2O)"
      ],
      "text/plain": [
       "<IPython.core.display.HTML object>"
      ]
     },
     "metadata": {},
     "output_type": "display_data"
    },
    {
     "data": {
      "text/html": [
       "<b>R00905</b>: [\"<span style='color: #a87f75'>Node15327</span>\"] (3-ureidopropanoate amidohydrolase; 3-Ureidopropionate + H2O <=> beta-Alanine + CO2 + Ammonia)"
      ],
      "text/plain": [
       "<IPython.core.display.HTML object>"
      ]
     },
     "metadata": {},
     "output_type": "display_data"
    },
    {
     "data": {
      "text/html": [
       "<b>R00905</b>: [\"<span style='color: #a87f75'>Node15327</span>\", \"<span style='color: #21d139'>Node21166</span>\"] (3-ureidopropanoate amidohydrolase; 3-Ureidopropionate + H2O <=> beta-Alanine + CO2 + Ammonia)"
      ],
      "text/plain": [
       "<IPython.core.display.HTML object>"
      ]
     },
     "metadata": {},
     "output_type": "display_data"
    },
    {
     "data": {
      "text/html": [
       "<b>R07026</b>: [\"<span style='color: #073257'>Node55904</span>\"] (1-nitro-5-glutathionyl-6-hydroxy-5,6-dihydronaphthalene glutathione-lyase (epoxide-forming); 1-Nitronaphthalene-5,6-oxide + Glutathione <=> 1-Nitro-5-glutathionyl-6-hydroxy-5,6-dihydronaphthalene)"
      ],
      "text/plain": [
       "<IPython.core.display.HTML object>"
      ]
     },
     "metadata": {},
     "output_type": "display_data"
    },
    {
     "data": {
      "text/html": [
       "<b>R00274</b>: [\"<span style='color: #a87f75'>Node15327</span>\"] (glutathione:hydrogen-peroxide oxidoreductase; Hydrogen peroxide + 2 Glutathione <=> Glutathione disulfide + 2 H2O)"
      ],
      "text/plain": [
       "<IPython.core.display.HTML object>"
      ]
     },
     "metadata": {},
     "output_type": "display_data"
    },
    {
     "data": {
      "text/html": [
       "<b>R00274</b>: [\"<span style='color: #a87f75'>Node15327</span>\", \"<span style='color: #21d139'>Node21166</span>\"] (glutathione:hydrogen-peroxide oxidoreductase; Hydrogen peroxide + 2 Glutathione <=> Glutathione disulfide + 2 H2O)"
      ],
      "text/plain": [
       "<IPython.core.display.HTML object>"
      ]
     },
     "metadata": {},
     "output_type": "display_data"
    },
    {
     "data": {
      "text/html": [
       "<b>R00274</b>: [\"<span style='color: #a87f75'>Node15327</span>\", \"<span style='color: #21d139'>Node21166</span>\", \"<span style='color: #fd79b7'>Node28120</span>\"] (glutathione:hydrogen-peroxide oxidoreductase; Hydrogen peroxide + 2 Glutathione <=> Glutathione disulfide + 2 H2O)"
      ],
      "text/plain": [
       "<IPython.core.display.HTML object>"
      ]
     },
     "metadata": {},
     "output_type": "display_data"
    },
    {
     "data": {
      "text/html": [
       "<b>R02558</b>: [\"<span style='color: #a87f75'>Node15327</span>\"] ((R)-Prunasin beta-D-glucohydrolase; Prunasin + H2O <=> Mandelonitrile + D-Glucose)"
      ],
      "text/plain": [
       "<IPython.core.display.HTML object>"
      ]
     },
     "metadata": {},
     "output_type": "display_data"
    },
    {
     "data": {
      "text/html": [
       "<b>R02558</b>: [\"<span style='color: #a87f75'>Node15327</span>\", \"<span style='color: #fd79b7'>Node28120</span>\"] ((R)-Prunasin beta-D-glucohydrolase; Prunasin + H2O <=> Mandelonitrile + D-Glucose)"
      ],
      "text/plain": [
       "<IPython.core.display.HTML object>"
      ]
     },
     "metadata": {},
     "output_type": "display_data"
    },
    {
     "data": {
      "text/html": [
       "<b>R02493</b>: [\"<span style='color: #2a6e9d'>Node45985</span>\"] (ATP:pyridoxal 5'-phosphotransferase; ATP + Pyridoxamine <=> ADP + Pyridoxamine phosphate)"
      ],
      "text/plain": [
       "<IPython.core.display.HTML object>"
      ]
     },
     "metadata": {},
     "output_type": "display_data"
    },
    {
     "data": {
      "text/html": [
       "<b>R00291</b>: [\"<span style='color: #ffd3f8'>Node126898</span>\"] (UDP-glucose 4-epimerase; UDP-alpha-D-glucose 4-epimerase; UDP-glucose <=> UDP-alpha-D-galactose)"
      ],
      "text/plain": [
       "<IPython.core.display.HTML object>"
      ]
     },
     "metadata": {},
     "output_type": "display_data"
    },
    {
     "data": {
      "text/html": [
       "<b>R00291</b>: [\"<span style='color: #ffd3f8'>Node126898</span>\", \"<span style='color: #fd79b7'>Node28120</span>\"] (UDP-glucose 4-epimerase; UDP-alpha-D-glucose 4-epimerase; UDP-glucose <=> UDP-alpha-D-galactose)"
      ],
      "text/plain": [
       "<IPython.core.display.HTML object>"
      ]
     },
     "metadata": {},
     "output_type": "display_data"
    },
    {
     "data": {
      "text/html": [
       "<b>R00291</b>: [\"<span style='color: #ffd3f8'>Node126898</span>\", \"<span style='color: #fd79b7'>Node28120</span>\", \"<span style='color: #2a6e9d'>Node45985</span>\"] (UDP-glucose 4-epimerase; UDP-alpha-D-glucose 4-epimerase; UDP-glucose <=> UDP-alpha-D-galactose)"
      ],
      "text/plain": [
       "<IPython.core.display.HTML object>"
      ]
     },
     "metadata": {},
     "output_type": "display_data"
    },
    {
     "data": {
      "text/html": [
       "<b>R01302</b>: [\"<span style='color: #21d139'>Node21166</span>\"] (chorismate pyruvate-lyase (4-hydroxybenzoate-forming); 4-Hydroxybenzoate + Pyruvate <=> Chorismate)"
      ],
      "text/plain": [
       "<IPython.core.display.HTML object>"
      ]
     },
     "metadata": {},
     "output_type": "display_data"
    },
    {
     "data": {
      "text/html": [
       "<b>R01302</b>: [\"<span style='color: #21d139'>Node21166</span>\", \"<span style='color: #fd79b7'>Node28120</span>\"] (chorismate pyruvate-lyase (4-hydroxybenzoate-forming); 4-Hydroxybenzoate + Pyruvate <=> Chorismate)"
      ],
      "text/plain": [
       "<IPython.core.display.HTML object>"
      ]
     },
     "metadata": {},
     "output_type": "display_data"
    },
    {
     "data": {
      "text/html": [
       "<b>R06366</b>: [\"<span style='color: #fd79b7'>Node28120</span>\"] (Aldehyde:NAD+ oxidoreductase; Perillyl aldehyde + H2O + NAD+ <=> Perillic acid + NADH + H+)"
      ],
      "text/plain": [
       "<IPython.core.display.HTML object>"
      ]
     },
     "metadata": {},
     "output_type": "display_data"
    },
    {
     "data": {
      "text/html": [
       "<b>R06366</b>: [\"<span style='color: #fd79b7'>Node28120</span>\", \"<span style='color: #073257'>Node55904</span>\"] (Aldehyde:NAD+ oxidoreductase; Perillyl aldehyde + H2O + NAD+ <=> Perillic acid + NADH + H+)"
      ],
      "text/plain": [
       "<IPython.core.display.HTML object>"
      ]
     },
     "metadata": {},
     "output_type": "display_data"
    },
    {
     "data": {
      "text/html": [
       "<b>R07639</b>: [\"<span style='color: #fd79b7'>Node28120</span>\"] (decenoyl-[acyl-carrier-protein] Delta2-trans-Delta3-cis-isomerase; trans-Dec-2-enoyl-[acp] <=> cis-Dec-3-enoyl-[acp])"
      ],
      "text/plain": [
       "<IPython.core.display.HTML object>"
      ]
     },
     "metadata": {},
     "output_type": "display_data"
    },
    {
     "data": {
      "text/html": [
       "<b>R07639</b>: [\"<span style='color: #fd79b7'>Node28120</span>\", \"<span style='color: #af8238'>Node53994</span>\"] (decenoyl-[acyl-carrier-protein] Delta2-trans-Delta3-cis-isomerase; trans-Dec-2-enoyl-[acp] <=> cis-Dec-3-enoyl-[acp])"
      ],
      "text/plain": [
       "<IPython.core.display.HTML object>"
      ]
     },
     "metadata": {},
     "output_type": "display_data"
    },
    {
     "data": {
      "text/html": [
       "<b>R04710</b>: [\"<span style='color: #fd79b7'>Node28120</span>\"] (Protein-glycine,dihydroflavodoxin:S-adenosyl-L-methionine oxidoreductase (S-adenosyl-L-methionine cleaving); S-Adenosyl-L-methionine + Dihydroflavodoxin + Protein glycine <=> 5'-Deoxyadenosine + L-Methionine + Flavodoxin semiquinone + Protein glycin-2-yl radical)"
      ],
      "text/plain": [
       "<IPython.core.display.HTML object>"
      ]
     },
     "metadata": {},
     "output_type": "display_data"
    },
    {
     "data": {
      "text/html": [
       "<b>R10035</b>: [\"<span style='color: #a87f75'>Node15327</span>\"] (beta-D-glucoside glucohydrolase; Dhurrin + H2O <=> (S)-4-Hydroxymandelonitrile + beta-D-Glucose)"
      ],
      "text/plain": [
       "<IPython.core.display.HTML object>"
      ]
     },
     "metadata": {},
     "output_type": "display_data"
    },
    {
     "data": {
      "text/html": [
       "<b>R10035</b>: [\"<span style='color: #a87f75'>Node15327</span>\", \"<span style='color: #fd79b7'>Node28120</span>\"] (beta-D-glucoside glucohydrolase; Dhurrin + H2O <=> (S)-4-Hydroxymandelonitrile + beta-D-Glucose)"
      ],
      "text/plain": [
       "<IPython.core.display.HTML object>"
      ]
     },
     "metadata": {},
     "output_type": "display_data"
    },
    {
     "data": {
      "text/html": [
       "<b>R02985</b>: [\"<span style='color: #a87f75'>Node15327</span>\"] (amygdalin beta-glucosidase; Prunasin + D-Glucose <=> Amygdalin + H2O)"
      ],
      "text/plain": [
       "<IPython.core.display.HTML object>"
      ]
     },
     "metadata": {},
     "output_type": "display_data"
    },
    {
     "data": {
      "text/html": [
       "<b>R02985</b>: [\"<span style='color: #a87f75'>Node15327</span>\", \"<span style='color: #fd79b7'>Node28120</span>\"] (amygdalin beta-glucosidase; Prunasin + D-Glucose <=> Amygdalin + H2O)"
      ],
      "text/plain": [
       "<IPython.core.display.HTML object>"
      ]
     },
     "metadata": {},
     "output_type": "display_data"
    },
    {
     "data": {
      "text/html": [
       "<b>R01082</b>: [\"<span style='color: #ffd3f8'>Node126898</span>\"] ((S)-malate hydro-lyase (fumarate-forming); (S)-Malate <=> Fumarate + H2O)"
      ],
      "text/plain": [
       "<IPython.core.display.HTML object>"
      ]
     },
     "metadata": {},
     "output_type": "display_data"
    },
    {
     "data": {
      "text/html": [
       "<b>R01082</b>: [\"<span style='color: #ffd3f8'>Node126898</span>\", \"<span style='color: #2a6e9d'>Node45985</span>\"] ((S)-malate hydro-lyase (fumarate-forming); (S)-Malate <=> Fumarate + H2O)"
      ],
      "text/plain": [
       "<IPython.core.display.HTML object>"
      ]
     },
     "metadata": {},
     "output_type": "display_data"
    },
    {
     "data": {
      "text/html": [
       "<b>R01082</b>: [\"<span style='color: #ffd3f8'>Node126898</span>\", \"<span style='color: #2a6e9d'>Node45985</span>\", \"<span style='color: #073257'>Node55904</span>\"] ((S)-malate hydro-lyase (fumarate-forming); (S)-Malate <=> Fumarate + H2O)"
      ],
      "text/plain": [
       "<IPython.core.display.HTML object>"
      ]
     },
     "metadata": {},
     "output_type": "display_data"
    },
    {
     "data": {
      "text/html": [
       "<b>R00756</b>: [\"<span style='color: #74553b'>Node147305</span>\"] (ATP:D-fructose-6-phosphate 1-phosphotransferase; ATP + D-Fructose 6-phosphate <=> ADP + D-Fructose 1,6-bisphosphate)"
      ],
      "text/plain": [
       "<IPython.core.display.HTML object>"
      ]
     },
     "metadata": {},
     "output_type": "display_data"
    },
    {
     "data": {
      "text/html": [
       "<b>R00756</b>: [\"<span style='color: #74553b'>Node147305</span>\", \"<span style='color: #fd79b7'>Node28120</span>\"] (ATP:D-fructose-6-phosphate 1-phosphotransferase; ATP + D-Fructose 6-phosphate <=> ADP + D-Fructose 1,6-bisphosphate)"
      ],
      "text/plain": [
       "<IPython.core.display.HTML object>"
      ]
     },
     "metadata": {},
     "output_type": "display_data"
    },
    {
     "data": {
      "text/html": [
       "<b>R04969</b>: [\"<span style='color: #a87f75'>Node15327</span>\"] (hexadecanoyl-[acp]:NAD+ trans-2-oxidoreductase; Hexadecanoyl-[acp] + NAD+ <=> trans-Hexadec-2-enoyl-[acp] + NADH + H+)"
      ],
      "text/plain": [
       "<IPython.core.display.HTML object>"
      ]
     },
     "metadata": {},
     "output_type": "display_data"
    },
    {
     "data": {
      "text/html": [
       "<b>R04969</b>: [\"<span style='color: #a87f75'>Node15327</span>\", \"<span style='color: #554a79'>Node19398</span>\"] (hexadecanoyl-[acp]:NAD+ trans-2-oxidoreductase; Hexadecanoyl-[acp] + NAD+ <=> trans-Hexadec-2-enoyl-[acp] + NADH + H+)"
      ],
      "text/plain": [
       "<IPython.core.display.HTML object>"
      ]
     },
     "metadata": {},
     "output_type": "display_data"
    },
    {
     "data": {
      "text/html": [
       "<b>R04969</b>: [\"<span style='color: #a87f75'>Node15327</span>\", \"<span style='color: #554a79'>Node19398</span>\", \"<span style='color: #fd79b7'>Node28120</span>\"] (hexadecanoyl-[acp]:NAD+ trans-2-oxidoreductase; Hexadecanoyl-[acp] + NAD+ <=> trans-Hexadec-2-enoyl-[acp] + NADH + H+)"
      ],
      "text/plain": [
       "<IPython.core.display.HTML object>"
      ]
     },
     "metadata": {},
     "output_type": "display_data"
    },
    {
     "data": {
      "text/html": [
       "<b>R05237</b>: [\"<span style='color: #fd79b7'>Node28120</span>\"] (trans-3-Chloroallyl aldehyde + H2O <=> trans-3-Chloroacrylic acid + 2 H+)"
      ],
      "text/plain": [
       "<IPython.core.display.HTML object>"
      ]
     },
     "metadata": {},
     "output_type": "display_data"
    },
    {
     "data": {
      "text/html": [
       "<b>R05237</b>: [\"<span style='color: #fd79b7'>Node28120</span>\", \"<span style='color: #073257'>Node55904</span>\"] (trans-3-Chloroallyl aldehyde + H2O <=> trans-3-Chloroacrylic acid + 2 H+)"
      ],
      "text/plain": [
       "<IPython.core.display.HTML object>"
      ]
     },
     "metadata": {},
     "output_type": "display_data"
    },
    {
     "data": {
      "text/html": [
       "<b>R03105</b>: [\"<span style='color: #bebf59'>Node55420</span>\"] (3-mercaptopyruvate:sulfide sulfurtransferase; Mercaptopyruvate + Thioredoxin <=> Hydrogen sulfide + Pyruvate + Thioredoxin disulfide)"
      ],
      "text/plain": [
       "<IPython.core.display.HTML object>"
      ]
     },
     "metadata": {},
     "output_type": "display_data"
    },
    {
     "data": {
      "text/html": [
       "<b>R03105</b>: [\"<span style='color: #bebf59'>Node55420</span>\", \"<span style='color: #073257'>Node55904</span>\"] (3-mercaptopyruvate:sulfide sulfurtransferase; Mercaptopyruvate + Thioredoxin <=> Hydrogen sulfide + Pyruvate + Thioredoxin disulfide)"
      ],
      "text/plain": [
       "<IPython.core.display.HTML object>"
      ]
     },
     "metadata": {},
     "output_type": "display_data"
    },
    {
     "data": {
      "text/html": [
       "<b>R05049</b>: [\"<span style='color: #fd79b7'>Node28120</span>\"] (N-succinyl-L-glutamate 5-semialdehyde:NAD+ oxidoreductase; N-Succinyl-L-glutamate 5-semialdehyde + NAD+ + H2O <=> N-Succinyl-L-glutamate + NADH + H+)"
      ],
      "text/plain": [
       "<IPython.core.display.HTML object>"
      ]
     },
     "metadata": {},
     "output_type": "display_data"
    },
    {
     "data": {
      "text/html": [
       "<b>R05049</b>: [\"<span style='color: #fd79b7'>Node28120</span>\", \"<span style='color: #3a3787'>Node52227</span>\"] (N-succinyl-L-glutamate 5-semialdehyde:NAD+ oxidoreductase; N-Succinyl-L-glutamate 5-semialdehyde + NAD+ + H2O <=> N-Succinyl-L-glutamate + NADH + H+)"
      ],
      "text/plain": [
       "<IPython.core.display.HTML object>"
      ]
     },
     "metadata": {},
     "output_type": "display_data"
    },
    {
     "data": {
      "text/html": [
       "<b>R01421</b>: [\"<span style='color: #3a3787'>Node52227</span>\"] (Benzoyl phosphate phosphohydrolase; Benzoyl phosphate + H2O <=> Benzoate + Orthophosphate)"
      ],
      "text/plain": [
       "<IPython.core.display.HTML object>"
      ]
     },
     "metadata": {},
     "output_type": "display_data"
    },
    {
     "data": {
      "text/html": [
       "<b>R01579</b>: [\"<span style='color: #fd79b7'>Node28120</span>\"] (D-Glutamine amidohydrolase; D-Glutamine + H2O <=> D-Glutamate + Ammonia)"
      ],
      "text/plain": [
       "<IPython.core.display.HTML object>"
      ]
     },
     "metadata": {},
     "output_type": "display_data"
    },
    {
     "data": {
      "text/html": [
       "<b>R01579</b>: [\"<span style='color: #fd79b7'>Node28120</span>\", \"<span style='color: #073257'>Node55904</span>\"] (D-Glutamine amidohydrolase; D-Glutamine + H2O <=> D-Glutamate + Ammonia)"
      ],
      "text/plain": [
       "<IPython.core.display.HTML object>"
      ]
     },
     "metadata": {},
     "output_type": "display_data"
    },
    {
     "data": {
      "text/html": [
       "<b>R01648</b>: [\"<span style='color: #fd79b7'>Node28120</span>\"] (4-aminobutanoate:2-oxoglutarate aminotransferase; 4-Aminobutanoate + 2-Oxoglutarate <=> Succinate semialdehyde + L-Glutamate)"
      ],
      "text/plain": [
       "<IPython.core.display.HTML object>"
      ]
     },
     "metadata": {},
     "output_type": "display_data"
    },
    {
     "data": {
      "text/html": [
       "<b>R01648</b>: [\"<span style='color: #fd79b7'>Node28120</span>\", \"<span style='color: #073257'>Node55904</span>\"] (4-aminobutanoate:2-oxoglutarate aminotransferase; 4-Aminobutanoate + 2-Oxoglutarate <=> Succinate semialdehyde + L-Glutamate)"
      ],
      "text/plain": [
       "<IPython.core.display.HTML object>"
      ]
     },
     "metadata": {},
     "output_type": "display_data"
    },
    {
     "data": {
      "text/html": [
       "<b>R00847</b>: [\"<span style='color: #21d139'>Node21166</span>\"] (ATP:glycerol 3-phosphotransferase; ATP + Glycerol <=> ADP + sn-Glycerol 3-phosphate)"
      ],
      "text/plain": [
       "<IPython.core.display.HTML object>"
      ]
     },
     "metadata": {},
     "output_type": "display_data"
    },
    {
     "data": {
      "text/html": [
       "<b>R08108</b>: [\"<span style='color: #21d139'>Node21166</span>\"] (3-fluorobenzoate,NADH:oxygen oxidoreductase (1,2-hydroxylating); 3-Fluorobenzoate + NADH + Oxygen + H+ <=> 3-Fluorocyclohexadiene-cis,cis-1,2-diol-1-carboxylate + NAD+)"
      ],
      "text/plain": [
       "<IPython.core.display.HTML object>"
      ]
     },
     "metadata": {},
     "output_type": "display_data"
    },
    {
     "data": {
      "text/html": [
       "<b>R00768</b>: [\"<span style='color: #4c0ebb'>Node119365</span>\"] (L-glutamine:D-fructose-6-phosphate isomerase (deaminating); L-glutamine:D-fructose-6-phosphate aminotransferase (hexose isomerizing); L-Glutamine + D-Fructose 6-phosphate <=> L-Glutamate + D-Glucosamine 6-phosphate)"
      ],
      "text/plain": [
       "<IPython.core.display.HTML object>"
      ]
     },
     "metadata": {},
     "output_type": "display_data"
    },
    {
     "data": {
      "text/html": [
       "<b>R00768</b>: [\"<span style='color: #4c0ebb'>Node119365</span>\", \"<span style='color: #74553b'>Node147305</span>\"] (L-glutamine:D-fructose-6-phosphate isomerase (deaminating); L-glutamine:D-fructose-6-phosphate aminotransferase (hexose isomerizing); L-Glutamine + D-Fructose 6-phosphate <=> L-Glutamate + D-Glucosamine 6-phosphate)"
      ],
      "text/plain": [
       "<IPython.core.display.HTML object>"
      ]
     },
     "metadata": {},
     "output_type": "display_data"
    },
    {
     "data": {
      "text/html": [
       "<b>R00768</b>: [\"<span style='color: #4c0ebb'>Node119365</span>\", \"<span style='color: #74553b'>Node147305</span>\", \"<span style='color: #fd79b7'>Node28120</span>\"] (L-glutamine:D-fructose-6-phosphate isomerase (deaminating); L-glutamine:D-fructose-6-phosphate aminotransferase (hexose isomerizing); L-Glutamine + D-Fructose 6-phosphate <=> L-Glutamate + D-Glucosamine 6-phosphate)"
      ],
      "text/plain": [
       "<IPython.core.display.HTML object>"
      ]
     },
     "metadata": {},
     "output_type": "display_data"
    },
    {
     "data": {
      "text/html": [
       "<b>R00766</b>: [\"<span style='color: #073257'>Node55904</span>\"] (UDP-glucose:D-fructose-6-phosphate 2-alpha-D-glucosyltransferase; UDP-glucose + D-Fructose 6-phosphate <=> UDP + Sucrose 6'-phosphate)"
      ],
      "text/plain": [
       "<IPython.core.display.HTML object>"
      ]
     },
     "metadata": {},
     "output_type": "display_data"
    },
    {
     "data": {
      "text/html": [
       "<b>R01786</b>: [\"<span style='color: #fd79b7'>Node28120</span>\"] (ATP:alpha-D-glucose 6-phosphotransferase; ATP + alpha-D-Glucose <=> ADP + alpha-D-Glucose 6-phosphate)"
      ],
      "text/plain": [
       "<IPython.core.display.HTML object>"
      ]
     },
     "metadata": {},
     "output_type": "display_data"
    },
    {
     "data": {
      "text/html": [
       "<b>R02940</b>: [\"<span style='color: #fd79b7'>Node28120</span>\"] (2-Propyn-1-al:NAD+ oxidoreductase; 2-Propynal + NAD+ + H2O <=> Propynoate + NADH + H+)"
      ],
      "text/plain": [
       "<IPython.core.display.HTML object>"
      ]
     },
     "metadata": {},
     "output_type": "display_data"
    },
    {
     "data": {
      "text/html": [
       "<b>R02940</b>: [\"<span style='color: #fd79b7'>Node28120</span>\", \"<span style='color: #073257'>Node55904</span>\"] (2-Propyn-1-al:NAD+ oxidoreductase; 2-Propynal + NAD+ + H2O <=> Propynoate + NADH + H+)"
      ],
      "text/plain": [
       "<IPython.core.display.HTML object>"
      ]
     },
     "metadata": {},
     "output_type": "display_data"
    },
    {
     "data": {
      "text/html": [
       "<b>R07710</b>: [\"<span style='color: #a87f75'>Node15327</span>\"] (salicylate,NADPH:oxygen oxidoreductase (5-hydroxylating); Salicylate + NADPH + Oxygen + H+ <=> 2,5-Dihydroxybenzoate + NADP+ + H2O)"
      ],
      "text/plain": [
       "<IPython.core.display.HTML object>"
      ]
     },
     "metadata": {},
     "output_type": "display_data"
    },
    {
     "data": {
      "text/html": [
       "<b>R01745</b>: [\"<span style='color: #74553b'>Node147305</span>\"] ((R)-Glycerate:NAD+ oxidoreductase; D-Glycerate + NAD+ <=> 2-Hydroxy-3-oxopropanoate + NADH + H+)"
      ],
      "text/plain": [
       "<IPython.core.display.HTML object>"
      ]
     },
     "metadata": {},
     "output_type": "display_data"
    },
    {
     "data": {
      "text/html": [
       "<b>R02019</b>: [\"<span style='color: #a87f75'>Node15327</span>\"] (2'-deoxyguanosine 5'-diphosphate:oxidized-thioredoxin 2'-oxidoreductase; dGDP + Thioredoxin disulfide + H2O <=> GDP + Thioredoxin)"
      ],
      "text/plain": [
       "<IPython.core.display.HTML object>"
      ]
     },
     "metadata": {},
     "output_type": "display_data"
    },
    {
     "data": {
      "text/html": [
       "<b>R02019</b>: [\"<span style='color: #a87f75'>Node15327</span>\", \"<span style='color: #21d139'>Node21166</span>\"] (2'-deoxyguanosine 5'-diphosphate:oxidized-thioredoxin 2'-oxidoreductase; dGDP + Thioredoxin disulfide + H2O <=> GDP + Thioredoxin)"
      ],
      "text/plain": [
       "<IPython.core.display.HTML object>"
      ]
     },
     "metadata": {},
     "output_type": "display_data"
    },
    {
     "data": {
      "text/html": [
       "<b>R02019</b>: [\"<span style='color: #a87f75'>Node15327</span>\", \"<span style='color: #21d139'>Node21166</span>\", \"<span style='color: #fd79b7'>Node28120</span>\"] (2'-deoxyguanosine 5'-diphosphate:oxidized-thioredoxin 2'-oxidoreductase; dGDP + Thioredoxin disulfide + H2O <=> GDP + Thioredoxin)"
      ],
      "text/plain": [
       "<IPython.core.display.HTML object>"
      ]
     },
     "metadata": {},
     "output_type": "display_data"
    },
    {
     "data": {
      "text/html": [
       "<b>R00009</b>: [\"<span style='color: #fd79b7'>Node28120</span>\"] (hydrogen-peroxide:hydrogen-peroxide oxidoreductase; 2 Hydrogen peroxide <=> Oxygen + 2 H2O)"
      ],
      "text/plain": [
       "<IPython.core.display.HTML object>"
      ]
     },
     "metadata": {},
     "output_type": "display_data"
    },
    {
     "data": {
      "text/html": [
       "<b>R11785</b>: [\"<span style='color: #a87f75'>Node15327</span>\"] (N-acetyl-D-muramate 6-phosphate phosphohydrolase; N-Acetylmuramic acid 6-phosphate + H2O <=> N-Acetylmuramate + Orthophosphate)"
      ],
      "text/plain": [
       "<IPython.core.display.HTML object>"
      ]
     },
     "metadata": {},
     "output_type": "display_data"
    },
    {
     "data": {
      "text/html": [
       "<b>R00461</b>: [\"<span style='color: #2a6e9d'>Node45985</span>\"] (L-Lysine 2,3-aminomutase; L-Lysine <=> (3S)-3,6-Diaminohexanoate)"
      ],
      "text/plain": [
       "<IPython.core.display.HTML object>"
      ]
     },
     "metadata": {},
     "output_type": "display_data"
    },
    {
     "data": {
      "text/html": [
       "<b>R00461</b>: [\"<span style='color: #2a6e9d'>Node45985</span>\", \"<span style='color: #af8238'>Node53994</span>\"] (L-Lysine 2,3-aminomutase; L-Lysine <=> (3S)-3,6-Diaminohexanoate)"
      ],
      "text/plain": [
       "<IPython.core.display.HTML object>"
      ]
     },
     "metadata": {},
     "output_type": "display_data"
    },
    {
     "data": {
      "text/html": [
       "<b>R00461</b>: [\"<span style='color: #2a6e9d'>Node45985</span>\", \"<span style='color: #af8238'>Node53994</span>\", \"<span style='color: #073257'>Node55904</span>\"] (L-Lysine 2,3-aminomutase; L-Lysine <=> (3S)-3,6-Diaminohexanoate)"
      ],
      "text/plain": [
       "<IPython.core.display.HTML object>"
      ]
     },
     "metadata": {},
     "output_type": "display_data"
    },
    {
     "data": {
      "text/html": [
       "<b>R02096</b>: [\"<span style='color: #74553b'>Node147305</span>\"]"
      ],
      "text/plain": [
       "<IPython.core.display.HTML object>"
      ]
     },
     "metadata": {},
     "output_type": "display_data"
    },
    {
     "data": {
      "text/html": [
       "<b>R02096</b>: [\"<span style='color: #74553b'>Node147305</span>\", \"<span style='color: #21d139'>Node21166</span>\"]"
      ],
      "text/plain": [
       "<IPython.core.display.HTML object>"
      ]
     },
     "metadata": {},
     "output_type": "display_data"
    },
    {
     "data": {
      "text/html": [
       "<b>R00112</b>: [\"<span style='color: #fd79b7'>Node28120</span>\"] (NADPH:NAD+ oxidoreductase; NADPH + NAD+ <=> NADP+ + NADH)"
      ],
      "text/plain": [
       "<IPython.core.display.HTML object>"
      ]
     },
     "metadata": {},
     "output_type": "display_data"
    },
    {
     "data": {
      "text/html": [
       "<b>R00112</b>: [\"<span style='color: #fd79b7'>Node28120</span>\", \"<span style='color: #073257'>Node55904</span>\"] (NADPH:NAD+ oxidoreductase; NADPH + NAD+ <=> NADP+ + NADH)"
      ],
      "text/plain": [
       "<IPython.core.display.HTML object>"
      ]
     },
     "metadata": {},
     "output_type": "display_data"
    },
    {
     "data": {
      "text/html": [
       "<b>R09722</b>: [\"<span style='color: #21d139'>Node21166</span>\"] (cyanophycinase; [L-Asp(4-L-Arg)]n+1(n) + H2O <=> [L-Asp(4-L-Arg)]n(n-1) + L-Asp(4-L-Arg))"
      ],
      "text/plain": [
       "<IPython.core.display.HTML object>"
      ]
     },
     "metadata": {},
     "output_type": "display_data"
    },
    {
     "data": {
      "text/html": [
       "<b>R02887</b>: [\"<span style='color: #a87f75'>Node15327</span>\"] (1,4-beta-D-Glucan glucohydrolase; Cellodextrin + (n-2) H2O <=> (n-2) D-Glucose + Cellobiose)"
      ],
      "text/plain": [
       "<IPython.core.display.HTML object>"
      ]
     },
     "metadata": {},
     "output_type": "display_data"
    },
    {
     "data": {
      "text/html": [
       "<b>R02887</b>: [\"<span style='color: #a87f75'>Node15327</span>\", \"<span style='color: #fd79b7'>Node28120</span>\"] (1,4-beta-D-Glucan glucohydrolase; Cellodextrin + (n-2) H2O <=> (n-2) D-Glucose + Cellobiose)"
      ],
      "text/plain": [
       "<IPython.core.display.HTML object>"
      ]
     },
     "metadata": {},
     "output_type": "display_data"
    },
    {
     "data": {
      "text/html": [
       "<b>R07603</b>: [\"<span style='color: #74553b'>Node147305</span>\"] ((S)-3-Methyl-2-oxopentanoic acid + Thiamin diphosphate <=> 2-Methyl-1-hydroxybutyl-ThPP + CO2)"
      ],
      "text/plain": [
       "<IPython.core.display.HTML object>"
      ]
     },
     "metadata": {},
     "output_type": "display_data"
    },
    {
     "data": {
      "text/html": [
       "<b>R01392</b>: [\"<span style='color: #a87f75'>Node15327</span>\"] (D-glycerate:NADP+ 2-oxidoreductase; D-Glycerate + NADP+ <=> Hydroxypyruvate + NADPH + H+)"
      ],
      "text/plain": [
       "<IPython.core.display.HTML object>"
      ]
     },
     "metadata": {},
     "output_type": "display_data"
    },
    {
     "data": {
      "text/html": [
       "<b>R01392</b>: [\"<span style='color: #a87f75'>Node15327</span>\", \"<span style='color: #21d139'>Node21166</span>\"] (D-glycerate:NADP+ 2-oxidoreductase; D-Glycerate + NADP+ <=> Hydroxypyruvate + NADPH + H+)"
      ],
      "text/plain": [
       "<IPython.core.display.HTML object>"
      ]
     },
     "metadata": {},
     "output_type": "display_data"
    },
    {
     "data": {
      "text/html": [
       "<b>R00897</b>: [\"<span style='color: #fd79b7'>Node28120</span>\"] (O3-acetyl-L-serine:hydrogen-sulfide 2-amino-2-carboxyethyltransferase; O3-acetyl-L-serine acetate-lyase (adding hydrogen sulfide); O-Acetyl-L-serine + Hydrogen sulfide <=> L-Cysteine + Acetate)"
      ],
      "text/plain": [
       "<IPython.core.display.HTML object>"
      ]
     },
     "metadata": {},
     "output_type": "display_data"
    },
    {
     "data": {
      "text/html": [
       "<b>R04666</b>: [\"<span style='color: #a87f75'>Node15327</span>\"] ((R)-3-ureidoisobutyrate amidohydrolase; (R)-3-Ureidoisobutyrate + H2O <=> (R)-3-Amino-2-methylpropanoate + CO2 + Ammonia)"
      ],
      "text/plain": [
       "<IPython.core.display.HTML object>"
      ]
     },
     "metadata": {},
     "output_type": "display_data"
    },
    {
     "data": {
      "text/html": [
       "<b>R04666</b>: [\"<span style='color: #a87f75'>Node15327</span>\", \"<span style='color: #21d139'>Node21166</span>\"] ((R)-3-ureidoisobutyrate amidohydrolase; (R)-3-Ureidoisobutyrate + H2O <=> (R)-3-Amino-2-methylpropanoate + CO2 + Ammonia)"
      ],
      "text/plain": [
       "<IPython.core.display.HTML object>"
      ]
     },
     "metadata": {},
     "output_type": "display_data"
    },
    {
     "data": {
      "text/html": [
       "<b>R01353</b>: [\"<span style='color: #74553b'>Node147305</span>\"] (ATP:propanoate phosphotransferase; ATP + Propanoate <=> ADP + Propanoyl phosphate)"
      ],
      "text/plain": [
       "<IPython.core.display.HTML object>"
      ]
     },
     "metadata": {},
     "output_type": "display_data"
    },
    {
     "data": {
      "text/html": [
       "<b>R04966</b>: [\"<span style='color: #a87f75'>Node15327</span>\"] (tetradecanoyl-[acp]:NAD+ trans-2-oxidoreductase; Tetradecanoyl-[acp] + NAD+ <=> trans-Tetradec-2-enoyl-[acp] + NADH + H+)"
      ],
      "text/plain": [
       "<IPython.core.display.HTML object>"
      ]
     },
     "metadata": {},
     "output_type": "display_data"
    },
    {
     "data": {
      "text/html": [
       "<b>R04966</b>: [\"<span style='color: #a87f75'>Node15327</span>\", \"<span style='color: #554a79'>Node19398</span>\"] (tetradecanoyl-[acp]:NAD+ trans-2-oxidoreductase; Tetradecanoyl-[acp] + NAD+ <=> trans-Tetradec-2-enoyl-[acp] + NADH + H+)"
      ],
      "text/plain": [
       "<IPython.core.display.HTML object>"
      ]
     },
     "metadata": {},
     "output_type": "display_data"
    },
    {
     "data": {
      "text/html": [
       "<b>R04966</b>: [\"<span style='color: #a87f75'>Node15327</span>\", \"<span style='color: #554a79'>Node19398</span>\", \"<span style='color: #fd79b7'>Node28120</span>\"] (tetradecanoyl-[acp]:NAD+ trans-2-oxidoreductase; Tetradecanoyl-[acp] + NAD+ <=> trans-Tetradec-2-enoyl-[acp] + NADH + H+)"
      ],
      "text/plain": [
       "<IPython.core.display.HTML object>"
      ]
     },
     "metadata": {},
     "output_type": "display_data"
    },
    {
     "data": {
      "text/html": [
       "<b>R08146</b>: [\"<span style='color: #fd79b7'>Node28120</span>\"] (farnesal:NAD+ oxidoreductase; 2-trans,6-trans-Farnesal + NAD+ + H2O <=> Farnesoic acid + NADH + H+)"
      ],
      "text/plain": [
       "<IPython.core.display.HTML object>"
      ]
     },
     "metadata": {},
     "output_type": "display_data"
    },
    {
     "data": {
      "text/html": [
       "<b>R08146</b>: [\"<span style='color: #fd79b7'>Node28120</span>\", \"<span style='color: #073257'>Node55904</span>\"] (farnesal:NAD+ oxidoreductase; 2-trans,6-trans-Farnesal + NAD+ + H2O <=> Farnesoic acid + NADH + H+)"
      ],
      "text/plain": [
       "<IPython.core.display.HTML object>"
      ]
     },
     "metadata": {},
     "output_type": "display_data"
    },
    {
     "data": {
      "text/html": [
       "<b>R03177</b>: [\"<span style='color: #fd79b7'>Node28120</span>\"] (4-Guanidinobutanal:NAD+ 1-oxidoreductase; 4-Guanidinobutanal + NAD+ + H2O <=> 4-Guanidinobutanoate + NADH + H+)"
      ],
      "text/plain": [
       "<IPython.core.display.HTML object>"
      ]
     },
     "metadata": {},
     "output_type": "display_data"
    },
    {
     "data": {
      "text/html": [
       "<b>R03145</b>: [\"<span style='color: #21d139'>Node21166</span>\"] (pyruvate:ubiquinone oxidoreductase; Pyruvate + Ubiquinone + H2O <=> Acetate + Ubiquinol + CO2)"
      ],
      "text/plain": [
       "<IPython.core.display.HTML object>"
      ]
     },
     "metadata": {},
     "output_type": "display_data"
    },
    {
     "data": {
      "text/html": [
       "<b>R09838</b>: [\"<span style='color: #ffd3f8'>Node126898</span>\"] (phenylacetyl-CoA:oxygen oxidoreductase (1,2-epoxidizing); Phenylacetyl-CoA + Oxygen + NADPH + H+ <=> 2-(1,2-Epoxy-1,2-dihydrophenyl)acetyl-CoA + H2O + NADP+)"
      ],
      "text/plain": [
       "<IPython.core.display.HTML object>"
      ]
     },
     "metadata": {},
     "output_type": "display_data"
    },
    {
     "data": {
      "text/html": [
       "<b>R09838</b>: [\"<span style='color: #ffd3f8'>Node126898</span>\", \"<span style='color: #21d139'>Node21166</span>\"] (phenylacetyl-CoA:oxygen oxidoreductase (1,2-epoxidizing); Phenylacetyl-CoA + Oxygen + NADPH + H+ <=> 2-(1,2-Epoxy-1,2-dihydrophenyl)acetyl-CoA + H2O + NADP+)"
      ],
      "text/plain": [
       "<IPython.core.display.HTML object>"
      ]
     },
     "metadata": {},
     "output_type": "display_data"
    },
    {
     "data": {
      "text/html": [
       "<b>R08090</b>: [\"<span style='color: #fd79b7'>Node28120</span>\"] (3-hydroxy-3-(4-methylpent-3-en-1-yl)glutaryl-CoA acetate-lyase (7-methyl-3-oxooct-6-enoyl-CoA-forming); 3-Hydroxy-3-(4-methylpent-3-en-1-yl)glutaryl-CoA <=> 7-Methyl-3-oxo-6-octenoyl-CoA + Acetate)"
      ],
      "text/plain": [
       "<IPython.core.display.HTML object>"
      ]
     },
     "metadata": {},
     "output_type": "display_data"
    },
    {
     "data": {
      "text/html": [
       "<b>R08090</b>: [\"<span style='color: #fd79b7'>Node28120</span>\", \"<span style='color: #2a6e9d'>Node45985</span>\"] (3-hydroxy-3-(4-methylpent-3-en-1-yl)glutaryl-CoA acetate-lyase (7-methyl-3-oxooct-6-enoyl-CoA-forming); 3-Hydroxy-3-(4-methylpent-3-en-1-yl)glutaryl-CoA <=> 7-Methyl-3-oxo-6-octenoyl-CoA + Acetate)"
      ],
      "text/plain": [
       "<IPython.core.display.HTML object>"
      ]
     },
     "metadata": {},
     "output_type": "display_data"
    },
    {
     "data": {
      "text/html": [
       "<b>R01388</b>: [\"<span style='color: #a87f75'>Node15327</span>\"] (D-Glycerate:NAD+ 2-oxidoreductase; D-Glycerate + NAD+ <=> Hydroxypyruvate + NADH + H+)"
      ],
      "text/plain": [
       "<IPython.core.display.HTML object>"
      ]
     },
     "metadata": {},
     "output_type": "display_data"
    },
    {
     "data": {
      "text/html": [
       "<b>R01388</b>: [\"<span style='color: #a87f75'>Node15327</span>\", \"<span style='color: #21d139'>Node21166</span>\"] (D-Glycerate:NAD+ 2-oxidoreductase; D-Glycerate + NAD+ <=> Hydroxypyruvate + NADH + H+)"
      ],
      "text/plain": [
       "<IPython.core.display.HTML object>"
      ]
     },
     "metadata": {},
     "output_type": "display_data"
    },
    {
     "data": {
      "text/html": [
       "<b>R05291</b>: [\"<span style='color: #21d139'>Node21166</span>\"] (Toluate + Oxygen + NADPH + H+ <=> cis-1,2-Dihydroxy-4-methylcyclohexa-3,5-diene-1-carboxylate + NADP+)"
      ],
      "text/plain": [
       "<IPython.core.display.HTML object>"
      ]
     },
     "metadata": {},
     "output_type": "display_data"
    },
    {
     "data": {
      "text/html": [
       "<b>R10997</b>: [\"<span style='color: #74553b'>Node147305</span>\"] (2-(alpha-Hydroxypropyl)thiamine diphosphate + Enzyme N6-(lipoyl)lysine <=> Enzyme N6-(S-propyldihydrolipoyl)lysine + Thiamin diphosphate)"
      ],
      "text/plain": [
       "<IPython.core.display.HTML object>"
      ]
     },
     "metadata": {},
     "output_type": "display_data"
    },
    {
     "data": {
      "text/html": [
       "<b>R01374</b>: [\"<span style='color: #21d139'>Node21166</span>\"] (D-phenylalanine:quinone oxidoreductase (deaminating); D-Phenylalanine + H2O + Quinone <=> Phenylpyruvate + Ammonia + Hydroquinone)"
      ],
      "text/plain": [
       "<IPython.core.display.HTML object>"
      ]
     },
     "metadata": {},
     "output_type": "display_data"
    },
    {
     "data": {
      "text/html": [
       "<b>R03164</b>: [\"<span style='color: #fd79b7'>Node28120</span>\"] (1,4,5,6-Tetrahydro-6-oxonicotinate:ferredoxin oxidoreductase; 6-Hydroxynicotinate + Reduced ferredoxin <=> 6-Oxo-1,4,5,6-tetrahydronicotinate + Oxidized ferredoxin)"
      ],
      "text/plain": [
       "<IPython.core.display.HTML object>"
      ]
     },
     "metadata": {},
     "output_type": "display_data"
    },
    {
     "data": {
      "text/html": [
       "<b>R03164</b>: [\"<span style='color: #fd79b7'>Node28120</span>\", \"<span style='color: #2a6e9d'>Node45985</span>\"] (1,4,5,6-Tetrahydro-6-oxonicotinate:ferredoxin oxidoreductase; 6-Hydroxynicotinate + Reduced ferredoxin <=> 6-Oxo-1,4,5,6-tetrahydronicotinate + Oxidized ferredoxin)"
      ],
      "text/plain": [
       "<IPython.core.display.HTML object>"
      ]
     },
     "metadata": {},
     "output_type": "display_data"
    },
    {
     "data": {
      "text/html": [
       "<b>R00317</b>: [\"<span style='color: #3a3787'>Node52227</span>\"] (Acetyl phosphate phosphohydrolase; Acetyl phosphate + H2O <=> Acetate + Orthophosphate)"
      ],
      "text/plain": [
       "<IPython.core.display.HTML object>"
      ]
     },
     "metadata": {},
     "output_type": "display_data"
    },
    {
     "data": {
      "text/html": [
       "<b>R07390</b>: [\"<span style='color: #fd79b7'>Node28120</span>\"] (2 Phosphatidylglycerol <=> Cardiolipin + Glycerol)"
      ],
      "text/plain": [
       "<IPython.core.display.HTML object>"
      ]
     },
     "metadata": {},
     "output_type": "display_data"
    },
    {
     "data": {
      "text/html": [
       "<b>R07390</b>: [\"<span style='color: #fd79b7'>Node28120</span>\", \"<span style='color: #3a3787'>Node52227</span>\"] (2 Phosphatidylglycerol <=> Cardiolipin + Glycerol)"
      ],
      "text/plain": [
       "<IPython.core.display.HTML object>"
      ]
     },
     "metadata": {},
     "output_type": "display_data"
    },
    {
     "data": {
      "text/html": [
       "<b>R00529</b>: [\"<span style='color: #fd79b7'>Node28120</span>\"] (ATP:sulfate adenylyltransferase; ATP + Sulfate <=> Diphosphate + Adenylyl sulfate)"
      ],
      "text/plain": [
       "<IPython.core.display.HTML object>"
      ]
     },
     "metadata": {},
     "output_type": "display_data"
    },
    {
     "data": {
      "text/html": [
       "<b>R03816</b>: [\"<span style='color: #073257'>Node55904</span>\"] (NADH:phylloquinone oxidoreductase; Phylloquinone + NADH + H+ <=> Phylloquinol + NAD+)"
      ],
      "text/plain": [
       "<IPython.core.display.HTML object>"
      ]
     },
     "metadata": {},
     "output_type": "display_data"
    },
    {
     "data": {
      "text/html": [
       "<b>R00409</b>: [\"<span style='color: #21d139'>Node21166</span>\"] ((2S,3R)-3-hydroxybutane-1,2,3-tricarboxylate pyruvate-lyase (succinate-forming); (2S,3R)-3-Hydroxybutane-1,2,3-tricarboxylate <=> Pyruvate + Succinate)"
      ],
      "text/plain": [
       "<IPython.core.display.HTML object>"
      ]
     },
     "metadata": {},
     "output_type": "display_data"
    },
    {
     "data": {
      "text/html": [
       "<b>R00409</b>: [\"<span style='color: #21d139'>Node21166</span>\", \"<span style='color: #fd79b7'>Node28120</span>\"] ((2S,3R)-3-hydroxybutane-1,2,3-tricarboxylate pyruvate-lyase (succinate-forming); (2S,3R)-3-Hydroxybutane-1,2,3-tricarboxylate <=> Pyruvate + Succinate)"
      ],
      "text/plain": [
       "<IPython.core.display.HTML object>"
      ]
     },
     "metadata": {},
     "output_type": "display_data"
    },
    {
     "data": {
      "text/html": [
       "<b>R09735</b>: [\"<span style='color: #a87f75'>Node15327</span>\"] (adenylyl-molybdopterin:molybdate molybdate transferase (AMP-forming); Adenylated molybdopterin + Molybdate <=> Molybdoenzyme molybdenum cofactor + AMP + H2O)"
      ],
      "text/plain": [
       "<IPython.core.display.HTML object>"
      ]
     },
     "metadata": {},
     "output_type": "display_data"
    },
    {
     "data": {
      "text/html": [
       "<b>R09735</b>: [\"<span style='color: #a87f75'>Node15327</span>\", \"<span style='color: #554a79'>Node19398</span>\"] (adenylyl-molybdopterin:molybdate molybdate transferase (AMP-forming); Adenylated molybdopterin + Molybdate <=> Molybdoenzyme molybdenum cofactor + AMP + H2O)"
      ],
      "text/plain": [
       "<IPython.core.display.HTML object>"
      ]
     },
     "metadata": {},
     "output_type": "display_data"
    },
    {
     "data": {
      "text/html": [
       "<b>R09735</b>: [\"<span style='color: #a87f75'>Node15327</span>\", \"<span style='color: #554a79'>Node19398</span>\", \"<span style='color: #21d139'>Node21166</span>\"] (adenylyl-molybdopterin:molybdate molybdate transferase (AMP-forming); Adenylated molybdopterin + Molybdate <=> Molybdoenzyme molybdenum cofactor + AMP + H2O)"
      ],
      "text/plain": [
       "<IPython.core.display.HTML object>"
      ]
     },
     "metadata": {},
     "output_type": "display_data"
    },
    {
     "data": {
      "text/html": [
       "<b>R08232</b>: [\"<span style='color: #74553b'>Node147305</span>\"] (ATP:5-fluorouridine 5'-phosphotransferase; 5-Fluorouridine + ATP <=> 5-Fluorouridine monophosphate + ADP)"
      ],
      "text/plain": [
       "<IPython.core.display.HTML object>"
      ]
     },
     "metadata": {},
     "output_type": "display_data"
    },
    {
     "data": {
      "text/html": [
       "<b>R08232</b>: [\"<span style='color: #74553b'>Node147305</span>\", \"<span style='color: #21d139'>Node21166</span>\"] (ATP:5-fluorouridine 5'-phosphotransferase; 5-Fluorouridine + ATP <=> 5-Fluorouridine monophosphate + ADP)"
      ],
      "text/plain": [
       "<IPython.core.display.HTML object>"
      ]
     },
     "metadata": {},
     "output_type": "display_data"
    },
    {
     "data": {
      "text/html": [
       "<b>R08056</b>: [\"<span style='color: #a87f75'>Node15327</span>\"] (D-glucarate hydro-lyase; D-Glucarate <=> 2-Dehydro-3-deoxy-D-glucarate + H2O)"
      ],
      "text/plain": [
       "<IPython.core.display.HTML object>"
      ]
     },
     "metadata": {},
     "output_type": "display_data"
    },
    {
     "data": {
      "text/html": [
       "<b>R08056</b>: [\"<span style='color: #a87f75'>Node15327</span>\", \"<span style='color: #21d139'>Node21166</span>\"] (D-glucarate hydro-lyase; D-Glucarate <=> 2-Dehydro-3-deoxy-D-glucarate + H2O)"
      ],
      "text/plain": [
       "<IPython.core.display.HTML object>"
      ]
     },
     "metadata": {},
     "output_type": "display_data"
    },
    {
     "data": {
      "text/html": [
       "<b>R08056</b>: [\"<span style='color: #a87f75'>Node15327</span>\", \"<span style='color: #21d139'>Node21166</span>\", \"<span style='color: #fd79b7'>Node28120</span>\"] (D-glucarate hydro-lyase; D-Glucarate <=> 2-Dehydro-3-deoxy-D-glucarate + H2O)"
      ],
      "text/plain": [
       "<IPython.core.display.HTML object>"
      ]
     },
     "metadata": {},
     "output_type": "display_data"
    },
    {
     "data": {
      "text/html": [
       "<b>R11073</b>: [\"<span style='color: #fd79b7'>Node28120</span>\"] (7,8-dihydroneopterin 2'-epimerase; 7,8-Dihydroneopterin <=> 7,8-Dihydromonapterin)"
      ],
      "text/plain": [
       "<IPython.core.display.HTML object>"
      ]
     },
     "metadata": {},
     "output_type": "display_data"
    },
    {
     "data": {
      "text/html": [
       "<b>R11073</b>: [\"<span style='color: #fd79b7'>Node28120</span>\", \"<span style='color: #bebf59'>Node55420</span>\"] (7,8-dihydroneopterin 2'-epimerase; 7,8-Dihydroneopterin <=> 7,8-Dihydromonapterin)"
      ],
      "text/plain": [
       "<IPython.core.display.HTML object>"
      ]
     },
     "metadata": {},
     "output_type": "display_data"
    },
    {
     "data": {
      "text/html": [
       "<b>R11073</b>: [\"<span style='color: #fd79b7'>Node28120</span>\", \"<span style='color: #bebf59'>Node55420</span>\", \"<span style='color: #073257'>Node55904</span>\"] (7,8-dihydroneopterin 2'-epimerase; 7,8-Dihydroneopterin <=> 7,8-Dihydromonapterin)"
      ],
      "text/plain": [
       "<IPython.core.display.HTML object>"
      ]
     },
     "metadata": {},
     "output_type": "display_data"
    },
    {
     "data": {
      "text/html": [
       "<b>R04125</b>: [\"<span style='color: #fd79b7'>Node28120</span>\"] ([protein]-S8-aminomethyldihydrolipoyllysine:tetrahydrofolate aminomethyltransferase (ammonia-forming); [Protein]-S8-aminomethyldihydrolipoyllysine + Tetrahydrofolate <=> Dihydrolipoylprotein + 5,10-Methylenetetrahydrofolate + Ammonia)"
      ],
      "text/plain": [
       "<IPython.core.display.HTML object>"
      ]
     },
     "metadata": {},
     "output_type": "display_data"
    },
    {
     "data": {
      "text/html": [
       "<b>R07364</b>: [\"<span style='color: #fd79b7'>Node28120</span>\"] (1,2-dihydroxy-5-(methylthio)pent-1-en-3-one:oxygen oxidoreductase (formate-forming); 1,2-Dihydroxy-5-(methylthio)pent-1-en-3-one + Oxygen <=> 4-Methylthio-2-oxobutanoic acid + Formate)"
      ],
      "text/plain": [
       "<IPython.core.display.HTML object>"
      ]
     },
     "metadata": {},
     "output_type": "display_data"
    },
    {
     "data": {
      "text/html": [
       "<b>R04188</b>: [\"<span style='color: #fd79b7'>Node28120</span>\"] (L-3-amino-isobutanoate:2-oxoglutarate aminotransferase; L-3-Aminoisobutanoate + 2-Oxoglutarate <=> (S)-Methylmalonate semialdehyde + L-Glutamate)"
      ],
      "text/plain": [
       "<IPython.core.display.HTML object>"
      ]
     },
     "metadata": {},
     "output_type": "display_data"
    },
    {
     "data": {
      "text/html": [
       "<b>R04188</b>: [\"<span style='color: #fd79b7'>Node28120</span>\", \"<span style='color: #073257'>Node55904</span>\"] (L-3-amino-isobutanoate:2-oxoglutarate aminotransferase; L-3-Aminoisobutanoate + 2-Oxoglutarate <=> (S)-Methylmalonate semialdehyde + L-Glutamate)"
      ],
      "text/plain": [
       "<IPython.core.display.HTML object>"
      ]
     },
     "metadata": {},
     "output_type": "display_data"
    },
    {
     "data": {
      "text/html": [
       "<b>R00196</b>: [\"<span style='color: #fd79b7'>Node28120</span>\"] ((S)-Lactate:ferricytochrome-c 2-oxidoreductase; (S)-Lactate + 2 Ferricytochrome c <=> Pyruvate + 2 Ferrocytochrome c + 2 H+)"
      ],
      "text/plain": [
       "<IPython.core.display.HTML object>"
      ]
     },
     "metadata": {},
     "output_type": "display_data"
    },
    {
     "data": {
      "text/html": [
       "<b>R06858</b>: [\"<span style='color: #4c0ebb'>Node119365</span>\"]"
      ],
      "text/plain": [
       "<IPython.core.display.HTML object>"
      ]
     },
     "metadata": {},
     "output_type": "display_data"
    },
    {
     "data": {
      "text/html": [
       "<b>R03283</b>: [\"<span style='color: #fd79b7'>Node28120</span>\"] (4-Trimethylammoniobutanal:NAD+ 1-oxidoreductase; 4-Trimethylammoniobutanal:NAD+ oxidoreductase; 4-Trimethylammoniobutanal + NAD+ + H2O <=> 4-Trimethylammoniobutanoate + NADH + H+)"
      ],
      "text/plain": [
       "<IPython.core.display.HTML object>"
      ]
     },
     "metadata": {},
     "output_type": "display_data"
    },
    {
     "data": {
      "text/html": [
       "<b>R03283</b>: [\"<span style='color: #fd79b7'>Node28120</span>\", \"<span style='color: #073257'>Node55904</span>\"] (4-Trimethylammoniobutanal:NAD+ 1-oxidoreductase; 4-Trimethylammoniobutanal:NAD+ oxidoreductase; 4-Trimethylammoniobutanal + NAD+ + H2O <=> 4-Trimethylammoniobutanoate + NADH + H+)"
      ],
      "text/plain": [
       "<IPython.core.display.HTML object>"
      ]
     },
     "metadata": {},
     "output_type": "display_data"
    },
    {
     "data": {
      "text/html": [
       "<b>R08639</b>: [\"<span style='color: #4c0ebb'>Node119365</span>\"] (alpha-D-glucose 1,6-phosphomutase; D-Glucose 1-phosphate <=> D-Glucose 6-phosphate)"
      ],
      "text/plain": [
       "<IPython.core.display.HTML object>"
      ]
     },
     "metadata": {},
     "output_type": "display_data"
    },
    {
     "data": {
      "text/html": [
       "<b>R05238</b>: [\"<span style='color: #fd79b7'>Node28120</span>\"] (cis-3-Chloroallyl aldehyde + H2O <=> cis-3-Chloroacrylic acid + 2 H+)"
      ],
      "text/plain": [
       "<IPython.core.display.HTML object>"
      ]
     },
     "metadata": {},
     "output_type": "display_data"
    },
    {
     "data": {
      "text/html": [
       "<b>R05238</b>: [\"<span style='color: #fd79b7'>Node28120</span>\", \"<span style='color: #073257'>Node55904</span>\"] (cis-3-Chloroallyl aldehyde + H2O <=> cis-3-Chloroacrylic acid + 2 H+)"
      ],
      "text/plain": [
       "<IPython.core.display.HTML object>"
      ]
     },
     "metadata": {},
     "output_type": "display_data"
    },
    {
     "data": {
      "text/html": [
       "<b>R01092</b>: [\"<span style='color: #21d139'>Node21166</span>\"] (ATP:alpha-D-galactose 1-phosphotransferase; ATP + alpha-D-Galactose <=> ADP + alpha-D-Galactose 1-phosphate)"
      ],
      "text/plain": [
       "<IPython.core.display.HTML object>"
      ]
     },
     "metadata": {},
     "output_type": "display_data"
    },
    {
     "data": {
      "text/html": [
       "<b>R08624</b>: [\"<span style='color: #4c0ebb'>Node119365</span>\"] (2-(3'-methylthio)propylmalate hydroxymutase; 2-(3'-Methylthio)propylmalic acid <=> 3-(3'-Methylthio)propylmalic acid)"
      ],
      "text/plain": [
       "<IPython.core.display.HTML object>"
      ]
     },
     "metadata": {},
     "output_type": "display_data"
    },
    {
     "data": {
      "text/html": [
       "<b>R08624</b>: [\"<span style='color: #4c0ebb'>Node119365</span>\", \"<span style='color: #ffd3f8'>Node126898</span>\"] (2-(3'-methylthio)propylmalate hydroxymutase; 2-(3'-Methylthio)propylmalic acid <=> 3-(3'-Methylthio)propylmalic acid)"
      ],
      "text/plain": [
       "<IPython.core.display.HTML object>"
      ]
     },
     "metadata": {},
     "output_type": "display_data"
    },
    {
     "data": {
      "text/html": [
       "<b>R02752</b>: [\"<span style='color: #a87f75'>Node15327</span>\"] (D-Glucarate hydro-lyase; D-Glucarate <=> 5-Dehydro-4-deoxy-D-glucarate + H2O)"
      ],
      "text/plain": [
       "<IPython.core.display.HTML object>"
      ]
     },
     "metadata": {},
     "output_type": "display_data"
    },
    {
     "data": {
      "text/html": [
       "<b>R02752</b>: [\"<span style='color: #a87f75'>Node15327</span>\", \"<span style='color: #21d139'>Node21166</span>\"] (D-Glucarate hydro-lyase; D-Glucarate <=> 5-Dehydro-4-deoxy-D-glucarate + H2O)"
      ],
      "text/plain": [
       "<IPython.core.display.HTML object>"
      ]
     },
     "metadata": {},
     "output_type": "display_data"
    },
    {
     "data": {
      "text/html": [
       "<b>R02752</b>: [\"<span style='color: #a87f75'>Node15327</span>\", \"<span style='color: #21d139'>Node21166</span>\", \"<span style='color: #fd79b7'>Node28120</span>\"] (D-Glucarate hydro-lyase; D-Glucarate <=> 5-Dehydro-4-deoxy-D-glucarate + H2O)"
      ],
      "text/plain": [
       "<IPython.core.display.HTML object>"
      ]
     },
     "metadata": {},
     "output_type": "display_data"
    },
    {
     "data": {
      "text/html": [
       "<b>R00524</b>: [\"<span style='color: #073257'>Node55904</span>\"] (Formamide amidohydrolase; Formamide + H2O <=> Formate + Ammonia)"
      ],
      "text/plain": [
       "<IPython.core.display.HTML object>"
      ]
     },
     "metadata": {},
     "output_type": "display_data"
    },
    {
     "data": {
      "text/html": [
       "<b>R02739</b>: [\"<span style='color: #74553b'>Node147305</span>\"] (alpha-D-Glucose 6-phosphate ketol-isomerase; alpha-D-Glucose 6-phosphate <=> beta-D-Glucose 6-phosphate)"
      ],
      "text/plain": [
       "<IPython.core.display.HTML object>"
      ]
     },
     "metadata": {},
     "output_type": "display_data"
    },
    {
     "data": {
      "text/html": [
       "<b>R02739</b>: [\"<span style='color: #74553b'>Node147305</span>\", \"<span style='color: #fd79b7'>Node28120</span>\"] (alpha-D-Glucose 6-phosphate ketol-isomerase; alpha-D-Glucose 6-phosphate <=> beta-D-Glucose 6-phosphate)"
      ],
      "text/plain": [
       "<IPython.core.display.HTML object>"
      ]
     },
     "metadata": {},
     "output_type": "display_data"
    },
    {
     "data": {
      "text/html": [
       "<b>R00937</b>: [\"<span style='color: #a87f75'>Node15327</span>\"] (5,6,7,8-tetrahydrofolate:NAD+ oxidoreductase; Tetrahydrofolate + 2 NAD+ <=> Folate + 2 NADH + 2 H+)"
      ],
      "text/plain": [
       "<IPython.core.display.HTML object>"
      ]
     },
     "metadata": {},
     "output_type": "display_data"
    },
    {
     "data": {
      "text/html": [
       "<b>R00937</b>: [\"<span style='color: #a87f75'>Node15327</span>\", \"<span style='color: #fd79b7'>Node28120</span>\"] (5,6,7,8-tetrahydrofolate:NAD+ oxidoreductase; Tetrahydrofolate + 2 NAD+ <=> Folate + 2 NADH + 2 H+)"
      ],
      "text/plain": [
       "<IPython.core.display.HTML object>"
      ]
     },
     "metadata": {},
     "output_type": "display_data"
    },
    {
     "data": {
      "text/html": [
       "<b>R00776</b>: [\"<span style='color: #fd79b7'>Node28120</span>\"] ((S)-ureidoglycolate urea-lyase (glyoxylate-forming); (S)-Ureidoglycolate <=> Glyoxylate + Urea)"
      ],
      "text/plain": [
       "<IPython.core.display.HTML object>"
      ]
     },
     "metadata": {},
     "output_type": "display_data"
    },
    {
     "data": {
      "text/html": [
       "<b>R05086</b>: [\"<span style='color: #4c0ebb'>Node119365</span>\"] (O-Phospho-4-hydroxy-L-threonine phospho-lyase (adding water); O-Phospho-4-hydroxy-L-threonine + H2O <=> 4-Hydroxy-L-threonine + Orthophosphate)"
      ],
      "text/plain": [
       "<IPython.core.display.HTML object>"
      ]
     },
     "metadata": {},
     "output_type": "display_data"
    },
    {
     "data": {
      "text/html": [
       "<b>R05086</b>: [\"<span style='color: #4c0ebb'>Node119365</span>\", \"<span style='color: #ffd3f8'>Node126898</span>\"] (O-Phospho-4-hydroxy-L-threonine phospho-lyase (adding water); O-Phospho-4-hydroxy-L-threonine + H2O <=> 4-Hydroxy-L-threonine + Orthophosphate)"
      ],
      "text/plain": [
       "<IPython.core.display.HTML object>"
      ]
     },
     "metadata": {},
     "output_type": "display_data"
    },
    {
     "data": {
      "text/html": [
       "<b>R05086</b>: [\"<span style='color: #4c0ebb'>Node119365</span>\", \"<span style='color: #ffd3f8'>Node126898</span>\", \"<span style='color: #74553b'>Node147305</span>\"] (O-Phospho-4-hydroxy-L-threonine phospho-lyase (adding water); O-Phospho-4-hydroxy-L-threonine + H2O <=> 4-Hydroxy-L-threonine + Orthophosphate)"
      ],
      "text/plain": [
       "<IPython.core.display.HTML object>"
      ]
     },
     "metadata": {},
     "output_type": "display_data"
    },
    {
     "data": {
      "text/html": [
       "<b>R05644</b>: [\"<span style='color: #fd79b7'>Node28120</span>\"] (ATP:D-glycero-beta-D-manno-heptose 1-phosphate adenylyltransferase; ATP + D-glycero-beta-D-manno-Heptose 1-phosphate <=> Diphosphate + ADP-D-glycero-beta-D-manno-heptose)"
      ],
      "text/plain": [
       "<IPython.core.display.HTML object>"
      ]
     },
     "metadata": {},
     "output_type": "display_data"
    },
    {
     "data": {
      "text/html": [
       "<b>R01824</b>: [\"<span style='color: #fd79b7'>Node28120</span>\"] (maltodextrin 1-alpha-D-glucosylmutase; Maltodextrin <=> 1-alpha-D-[(1->4)-alpha-D-Glucosyl](n-1)-alpha-D-glucopyranoside)"
      ],
      "text/plain": [
       "<IPython.core.display.HTML object>"
      ]
     },
     "metadata": {},
     "output_type": "display_data"
    },
    {
     "data": {
      "text/html": [
       "<b>R01824</b>: [\"<span style='color: #fd79b7'>Node28120</span>\", \"<span style='color: #2a6e9d'>Node45985</span>\"] (maltodextrin 1-alpha-D-glucosylmutase; Maltodextrin <=> 1-alpha-D-[(1->4)-alpha-D-Glucosyl](n-1)-alpha-D-glucopyranoside)"
      ],
      "text/plain": [
       "<IPython.core.display.HTML object>"
      ]
     },
     "metadata": {},
     "output_type": "display_data"
    },
    {
     "data": {
      "text/html": [
       "<b>R01030</b>: [\"<span style='color: #a87f75'>Node15327</span>\"] (sn-Glycero-3-phosphocholine glycerophosphohydrolase; sn-Glycero-3-phosphocholine + H2O <=> Choline + sn-Glycerol 3-phosphate)"
      ],
      "text/plain": [
       "<IPython.core.display.HTML object>"
      ]
     },
     "metadata": {},
     "output_type": "display_data"
    },
    {
     "data": {
      "text/html": [
       "<b>R01030</b>: [\"<span style='color: #a87f75'>Node15327</span>\", \"<span style='color: #21d139'>Node21166</span>\"] (sn-Glycero-3-phosphocholine glycerophosphohydrolase; sn-Glycero-3-phosphocholine + H2O <=> Choline + sn-Glycerol 3-phosphate)"
      ],
      "text/plain": [
       "<IPython.core.display.HTML object>"
      ]
     },
     "metadata": {},
     "output_type": "display_data"
    },
    {
     "data": {
      "text/html": [
       "<b>R05810</b>: [\"<span style='color: #fd79b7'>Node28120</span>\"] (cobalt-precorrin-4 methyltransferase; Cobalt-precorrin 4 + S-Adenosyl-L-methionine <=> Cobalt-precorrin 5A + S-Adenosyl-L-homocysteine)"
      ],
      "text/plain": [
       "<IPython.core.display.HTML object>"
      ]
     },
     "metadata": {},
     "output_type": "display_data"
    },
    {
     "data": {
      "text/html": [
       "<b>R01676</b>: [\"<span style='color: #21d139'>Node21166</span>\"] (Guanine aminohydrolase; Guanine + H2O <=> Xanthine + Ammonia)"
      ],
      "text/plain": [
       "<IPython.core.display.HTML object>"
      ]
     },
     "metadata": {},
     "output_type": "display_data"
    },
    {
     "data": {
      "text/html": [
       "<b>R00277</b>: [\"<span style='color: #fd79b7'>Node28120</span>\"] (pyridoxamine-5'-phosphate:oxygen oxidoreductase (deaminating); Pyridoxamine phosphate + H2O + Oxygen <=> Pyridoxal phosphate + Ammonia + Hydrogen peroxide)"
      ],
      "text/plain": [
       "<IPython.core.display.HTML object>"
      ]
     },
     "metadata": {},
     "output_type": "display_data"
    },
    {
     "data": {
      "text/html": [
       "<b>R03321</b>: [\"<span style='color: #74553b'>Node147305</span>\"] (beta-D-Glucose 6-phosphate ketol-isomerase; beta-D-Glucose 6-phosphate <=> beta-D-Fructose 6-phosphate)"
      ],
      "text/plain": [
       "<IPython.core.display.HTML object>"
      ]
     },
     "metadata": {},
     "output_type": "display_data"
    },
    {
     "data": {
      "text/html": [
       "<b>R03321</b>: [\"<span style='color: #74553b'>Node147305</span>\", \"<span style='color: #fd79b7'>Node28120</span>\"] (beta-D-Glucose 6-phosphate ketol-isomerase; beta-D-Glucose 6-phosphate <=> beta-D-Fructose 6-phosphate)"
      ],
      "text/plain": [
       "<IPython.core.display.HTML object>"
      ]
     },
     "metadata": {},
     "output_type": "display_data"
    },
    {
     "data": {
      "text/html": [
       "<b>R08628</b>: [\"<span style='color: #4c0ebb'>Node119365</span>\"] (2-(3'-methylthio)butylmalate hydroxymutase; 2-(4'-Methylthio)butylmalic acid <=> 3-(4'-Methylthio)butylmalic acid)"
      ],
      "text/plain": [
       "<IPython.core.display.HTML object>"
      ]
     },
     "metadata": {},
     "output_type": "display_data"
    },
    {
     "data": {
      "text/html": [
       "<b>R08628</b>: [\"<span style='color: #4c0ebb'>Node119365</span>\", \"<span style='color: #ffd3f8'>Node126898</span>\"] (2-(3'-methylthio)butylmalate hydroxymutase; 2-(4'-Methylthio)butylmalic acid <=> 3-(4'-Methylthio)butylmalic acid)"
      ],
      "text/plain": [
       "<IPython.core.display.HTML object>"
      ]
     },
     "metadata": {},
     "output_type": "display_data"
    },
    {
     "data": {
      "text/html": [
       "<b>R01251</b>: [\"<span style='color: #2a6e9d'>Node45985</span>\"] (L-Proline:NADP+ 5-oxidoreductase; L-Proline + NADP+ <=> (S)-1-Pyrroline-5-carboxylate + NADPH + H+)"
      ],
      "text/plain": [
       "<IPython.core.display.HTML object>"
      ]
     },
     "metadata": {},
     "output_type": "display_data"
    },
    {
     "data": {
      "text/html": [
       "<b>R01251</b>: [\"<span style='color: #2a6e9d'>Node45985</span>\", \"<span style='color: #af8238'>Node53994</span>\"] (L-Proline:NADP+ 5-oxidoreductase; L-Proline + NADP+ <=> (S)-1-Pyrroline-5-carboxylate + NADPH + H+)"
      ],
      "text/plain": [
       "<IPython.core.display.HTML object>"
      ]
     },
     "metadata": {},
     "output_type": "display_data"
    },
    {
     "data": {
      "text/html": [
       "<b>R10122</b>: [\"<span style='color: #a87f75'>Node15327</span>\"] (pimelyl-[acyl-carrier protein]-methyl-ester:NADP+ oxidoreductase; Enoylpimeloyl-[acp] methyl ester + NADPH + H+ <=> Pimeloyl-[acyl-carrier protein] methyl ester + NADP+)"
      ],
      "text/plain": [
       "<IPython.core.display.HTML object>"
      ]
     },
     "metadata": {},
     "output_type": "display_data"
    },
    {
     "data": {
      "text/html": [
       "<b>R10122</b>: [\"<span style='color: #a87f75'>Node15327</span>\", \"<span style='color: #554a79'>Node19398</span>\"] (pimelyl-[acyl-carrier protein]-methyl-ester:NADP+ oxidoreductase; Enoylpimeloyl-[acp] methyl ester + NADPH + H+ <=> Pimeloyl-[acyl-carrier protein] methyl ester + NADP+)"
      ],
      "text/plain": [
       "<IPython.core.display.HTML object>"
      ]
     },
     "metadata": {},
     "output_type": "display_data"
    },
    {
     "data": {
      "text/html": [
       "<b>R10122</b>: [\"<span style='color: #a87f75'>Node15327</span>\", \"<span style='color: #554a79'>Node19398</span>\", \"<span style='color: #fd79b7'>Node28120</span>\"] (pimelyl-[acyl-carrier protein]-methyl-ester:NADP+ oxidoreductase; Enoylpimeloyl-[acp] methyl ester + NADPH + H+ <=> Pimeloyl-[acyl-carrier protein] methyl ester + NADP+)"
      ],
      "text/plain": [
       "<IPython.core.display.HTML object>"
      ]
     },
     "metadata": {},
     "output_type": "display_data"
    },
    {
     "data": {
      "text/html": [
       "<b>R04903</b>: [\"<span style='color: #fd79b7'>Node28120</span>\"] (5-Hydroxyindoleacetaldehyde:NAD+ oxidoreductase; 5-Hydroxyindoleacetaldehyde + NAD+ + H2O <=> 5-Hydroxyindoleacetate + H+ + NADH)"
      ],
      "text/plain": [
       "<IPython.core.display.HTML object>"
      ]
     },
     "metadata": {},
     "output_type": "display_data"
    },
    {
     "data": {
      "text/html": [
       "<b>R04903</b>: [\"<span style='color: #fd79b7'>Node28120</span>\", \"<span style='color: #073257'>Node55904</span>\"] (5-Hydroxyindoleacetaldehyde:NAD+ oxidoreductase; 5-Hydroxyindoleacetaldehyde + NAD+ + H2O <=> 5-Hydroxyindoleacetate + H+ + NADH)"
      ],
      "text/plain": [
       "<IPython.core.display.HTML object>"
      ]
     },
     "metadata": {},
     "output_type": "display_data"
    },
    {
     "data": {
      "text/html": [
       "<b>R10991</b>: [\"<span style='color: #fd79b7'>Node28120</span>\"] (2-aminobutanoate:2-oxoglutarate aminotransferase; (S)-2-Aminobutanoate + 2-Oxoglutarate <=> 2-Oxobutanoate + L-Glutamate)"
      ],
      "text/plain": [
       "<IPython.core.display.HTML object>"
      ]
     },
     "metadata": {},
     "output_type": "display_data"
    },
    {
     "data": {
      "text/html": [
       "<b>R08634</b>: [\"<span style='color: #4c0ebb'>Node119365</span>\"] (2-(3'-methylthio)pentylmalate hydroxymutase; 2-(5'-Methylthio)pentylmalic acid <=> 3-(5'-Methylthio)pentylmalic acid)"
      ],
      "text/plain": [
       "<IPython.core.display.HTML object>"
      ]
     },
     "metadata": {},
     "output_type": "display_data"
    },
    {
     "data": {
      "text/html": [
       "<b>R08634</b>: [\"<span style='color: #4c0ebb'>Node119365</span>\", \"<span style='color: #ffd3f8'>Node126898</span>\"] (2-(3'-methylthio)pentylmalate hydroxymutase; 2-(5'-Methylthio)pentylmalic acid <=> 3-(5'-Methylthio)pentylmalic acid)"
      ],
      "text/plain": [
       "<IPython.core.display.HTML object>"
      ]
     },
     "metadata": {},
     "output_type": "display_data"
    },
    {
     "data": {
      "text/html": [
       "<b>R03664</b>: [\"<span style='color: #74553b'>Node147305</span>\"] (L-Tryptophan -tRNA(Trp) ligase (AMP-forming); ATP + L-Tryptophan + tRNA(Trp) <=> AMP + Diphosphate + L-Tryptophanyl-tRNA(Trp))"
      ],
      "text/plain": [
       "<IPython.core.display.HTML object>"
      ]
     },
     "metadata": {},
     "output_type": "display_data"
    },
    {
     "data": {
      "text/html": [
       "<b>R02371</b>: [\"<span style='color: #74553b'>Node147305</span>\"]"
      ],
      "text/plain": [
       "<IPython.core.display.HTML object>"
      ]
     },
     "metadata": {},
     "output_type": "display_data"
    },
    {
     "data": {
      "text/html": [
       "<b>R02371</b>: [\"<span style='color: #74553b'>Node147305</span>\", \"<span style='color: #21d139'>Node21166</span>\"]"
      ],
      "text/plain": [
       "<IPython.core.display.HTML object>"
      ]
     },
     "metadata": {},
     "output_type": "display_data"
    },
    {
     "data": {
      "text/html": [
       "<b>R00968</b>: [\"<span style='color: #74553b'>Node147305</span>\"] (GTP:uridine 5'-phosphotransferase; GTP + Uridine <=> GDP + UMP)"
      ],
      "text/plain": [
       "<IPython.core.display.HTML object>"
      ]
     },
     "metadata": {},
     "output_type": "display_data"
    },
    {
     "data": {
      "text/html": [
       "<b>R00968</b>: [\"<span style='color: #74553b'>Node147305</span>\", \"<span style='color: #21d139'>Node21166</span>\"] (GTP:uridine 5'-phosphotransferase; GTP + Uridine <=> GDP + UMP)"
      ],
      "text/plain": [
       "<IPython.core.display.HTML object>"
      ]
     },
     "metadata": {},
     "output_type": "display_data"
    },
    {
     "data": {
      "text/html": [
       "<b>R01257</b>: [\"<span style='color: #fd79b7'>Node28120</span>\"] ((S)-Malate:FAD oxidoreductase; (S)-Malate + FAD <=> Oxaloacetate + FADH2)"
      ],
      "text/plain": [
       "<IPython.core.display.HTML object>"
      ]
     },
     "metadata": {},
     "output_type": "display_data"
    },
    {
     "data": {
      "text/html": [
       "<b>R02099</b>: [\"<span style='color: #21d139'>Node21166</span>\"] (ATP:deoxyuridine 5'-phosphotransferase; ATP + Deoxyuridine <=> ADP + dUMP)"
      ],
      "text/plain": [
       "<IPython.core.display.HTML object>"
      ]
     },
     "metadata": {},
     "output_type": "display_data"
    },
    {
     "data": {
      "text/html": [
       "<b>R02099</b>: [\"<span style='color: #21d139'>Node21166</span>\", \"<span style='color: #bebf59'>Node55420</span>\"] (ATP:deoxyuridine 5'-phosphotransferase; ATP + Deoxyuridine <=> ADP + dUMP)"
      ],
      "text/plain": [
       "<IPython.core.display.HTML object>"
      ]
     },
     "metadata": {},
     "output_type": "display_data"
    },
    {
     "data": {
      "text/html": [
       "<b>R02099</b>: [\"<span style='color: #21d139'>Node21166</span>\", \"<span style='color: #bebf59'>Node55420</span>\", \"<span style='color: #073257'>Node55904</span>\"] (ATP:deoxyuridine 5'-phosphotransferase; ATP + Deoxyuridine <=> ADP + dUMP)"
      ],
      "text/plain": [
       "<IPython.core.display.HTML object>"
      ]
     },
     "metadata": {},
     "output_type": "display_data"
    },
    {
     "data": {
      "text/html": [
       "<b>R02678</b>: [\"<span style='color: #fd79b7'>Node28120</span>\"] (Indole-3-acetaldehyde:NAD+ oxidoreductase; Indole-3-acetaldehyde + NAD+ + H2O <=> Indole-3-acetate + NADH + H+)"
      ],
      "text/plain": [
       "<IPython.core.display.HTML object>"
      ]
     },
     "metadata": {},
     "output_type": "display_data"
    },
    {
     "data": {
      "text/html": [
       "<b>R02678</b>: [\"<span style='color: #fd79b7'>Node28120</span>\", \"<span style='color: #073257'>Node55904</span>\"] (Indole-3-acetaldehyde:NAD+ oxidoreductase; Indole-3-acetaldehyde + NAD+ + H2O <=> Indole-3-acetate + NADH + H+)"
      ],
      "text/plain": [
       "<IPython.core.display.HTML object>"
      ]
     },
     "metadata": {},
     "output_type": "display_data"
    },
    {
     "data": {
      "text/html": [
       "<b>R00021</b>: [\"<span style='color: #fd79b7'>Node28120</span>\"] (L-glutamate:ferredoxin oxidoreductase (transaminating); 2 L-Glutamate + 2 Oxidized ferredoxin <=> L-Glutamine + 2-Oxoglutarate + 2 Reduced ferredoxin + 2 H+)"
      ],
      "text/plain": [
       "<IPython.core.display.HTML object>"
      ]
     },
     "metadata": {},
     "output_type": "display_data"
    },
    {
     "data": {
      "text/html": [
       "<b>R00658</b>: [\"<span style='color: #fd79b7'>Node28120</span>\"] (2-phospho-D-glycerate hydro-lyase (phosphoenolpyruvate-forming); 2-Phospho-D-glycerate <=> Phosphoenolpyruvate + H2O)"
      ],
      "text/plain": [
       "<IPython.core.display.HTML object>"
      ]
     },
     "metadata": {},
     "output_type": "display_data"
    },
    {
     "data": {
      "text/html": [
       "<b>R03601</b>: [\"<span style='color: #fd79b7'>Node28120</span>\"] (O3-Acetyl-L-serine acetate-lyase (adding hydrogen sulfide); O-Acetyl-L-serine + Hydrogen selenide <=> L-Selenocysteine + Acetate)"
      ],
      "text/plain": [
       "<IPython.core.display.HTML object>"
      ]
     },
     "metadata": {},
     "output_type": "display_data"
    },
    {
     "data": {
      "text/html": [
       "<b>R01446</b>: [\"<span style='color: #fd79b7'>Node28120</span>\"] ((S)-lactaldehyde:NAD+ oxidoreductase; (S)-Lactaldehyde + NAD+ + H2O <=> (S)-Lactate + NADH + H+)"
      ],
      "text/plain": [
       "<IPython.core.display.HTML object>"
      ]
     },
     "metadata": {},
     "output_type": "display_data"
    },
    {
     "data": {
      "text/html": [
       "<b>R08165</b>: [\"<span style='color: #4c0ebb'>Node119365</span>\"] (2-succinyl-5-enolpyruvyl-6-hydroxy-3-cyclohexene-1-carboxylate synthase; Isochorismate + 2-Oxoglutarate <=> 2-Succinyl-5-enolpyruvyl-6-hydroxy-3-cyclohexene-1-carboxylate + CO2)"
      ],
      "text/plain": [
       "<IPython.core.display.HTML object>"
      ]
     },
     "metadata": {},
     "output_type": "display_data"
    },
    {
     "data": {
      "text/html": [
       "<b>R08165</b>: [\"<span style='color: #4c0ebb'>Node119365</span>\", \"<span style='color: #74553b'>Node147305</span>\"] (2-succinyl-5-enolpyruvyl-6-hydroxy-3-cyclohexene-1-carboxylate synthase; Isochorismate + 2-Oxoglutarate <=> 2-Succinyl-5-enolpyruvyl-6-hydroxy-3-cyclohexene-1-carboxylate + CO2)"
      ],
      "text/plain": [
       "<IPython.core.display.HTML object>"
      ]
     },
     "metadata": {},
     "output_type": "display_data"
    },
    {
     "data": {
      "text/html": [
       "<b>R02029</b>: [\"<span style='color: #a87f75'>Node15327</span>\"] (Phosphatidylglycerophosphate phosphohydrolase; Phosphatidylglycerophosphate + H2O <=> Phosphatidylglycerol + Orthophosphate)"
      ],
      "text/plain": [
       "<IPython.core.display.HTML object>"
      ]
     },
     "metadata": {},
     "output_type": "display_data"
    },
    {
     "data": {
      "text/html": [
       "<b>R02029</b>: [\"<span style='color: #a87f75'>Node15327</span>\", \"<span style='color: #554a79'>Node19398</span>\"] (Phosphatidylglycerophosphate phosphohydrolase; Phosphatidylglycerophosphate + H2O <=> Phosphatidylglycerol + Orthophosphate)"
      ],
      "text/plain": [
       "<IPython.core.display.HTML object>"
      ]
     },
     "metadata": {},
     "output_type": "display_data"
    },
    {
     "data": {
      "text/html": [
       "<b>R02029</b>: [\"<span style='color: #a87f75'>Node15327</span>\", \"<span style='color: #554a79'>Node19398</span>\", \"<span style='color: #fd79b7'>Node28120</span>\"] (Phosphatidylglycerophosphate phosphohydrolase; Phosphatidylglycerophosphate + H2O <=> Phosphatidylglycerol + Orthophosphate)"
      ],
      "text/plain": [
       "<IPython.core.display.HTML object>"
      ]
     },
     "metadata": {},
     "output_type": "display_data"
    },
    {
     "data": {
      "text/html": [
       "<b>R01287</b>: [\"<span style='color: #4c0ebb'>Node119365</span>\"] (O-acetyl-L-homoserine:hydrogen sulfide S-(3-amino-3-carboxypropyl)transferase; O-acetyl-L-homoserine acetate-lyase (adding hydrogen sulfide); O-Acetyl-L-homoserine + Hydrogen sulfide <=> L-Homocysteine + Acetate)"
      ],
      "text/plain": [
       "<IPython.core.display.HTML object>"
      ]
     },
     "metadata": {},
     "output_type": "display_data"
    },
    {
     "data": {
      "text/html": [
       "<b>R11104</b>: [\"<span style='color: #fd79b7'>Node28120</span>\"] (NADH phosphohydrolase; NADH + H2O <=> AMP + NMNH)"
      ],
      "text/plain": [
       "<IPython.core.display.HTML object>"
      ]
     },
     "metadata": {},
     "output_type": "display_data"
    },
    {
     "data": {
      "text/html": [
       "<b>R11104</b>: [\"<span style='color: #fd79b7'>Node28120</span>\", \"<span style='color: #2a6e9d'>Node45985</span>\"] (NADH phosphohydrolase; NADH + H2O <=> AMP + NMNH)"
      ],
      "text/plain": [
       "<IPython.core.display.HTML object>"
      ]
     },
     "metadata": {},
     "output_type": "display_data"
    },
    {
     "data": {
      "text/html": [
       "<b>R02749</b>: [\"<span style='color: #21d139'>Node21166</span>\"] (2-deoxy-D-ribose 1-phosphate 1,5-phosphomutase; 2-Deoxy-D-ribose 1-phosphate <=> 2-Deoxy-D-ribose 5-phosphate)"
      ],
      "text/plain": [
       "<IPython.core.display.HTML object>"
      ]
     },
     "metadata": {},
     "output_type": "display_data"
    },
    {
     "data": {
      "text/html": [
       "<b>R02749</b>: [\"<span style='color: #21d139'>Node21166</span>\", \"<span style='color: #bebf59'>Node55420</span>\"] (2-deoxy-D-ribose 1-phosphate 1,5-phosphomutase; 2-Deoxy-D-ribose 1-phosphate <=> 2-Deoxy-D-ribose 5-phosphate)"
      ],
      "text/plain": [
       "<IPython.core.display.HTML object>"
      ]
     },
     "metadata": {},
     "output_type": "display_data"
    },
    {
     "data": {
      "text/html": [
       "<b>R02749</b>: [\"<span style='color: #21d139'>Node21166</span>\", \"<span style='color: #bebf59'>Node55420</span>\", \"<span style='color: #073257'>Node55904</span>\"] (2-deoxy-D-ribose 1-phosphate 1,5-phosphomutase; 2-Deoxy-D-ribose 1-phosphate <=> 2-Deoxy-D-ribose 5-phosphate)"
      ],
      "text/plain": [
       "<IPython.core.display.HTML object>"
      ]
     },
     "metadata": {},
     "output_type": "display_data"
    },
    {
     "data": {
      "text/html": [
       "<b>R04638</b>: [\"<span style='color: #21d139'>Node21166</span>\"] (7,8-dihydroneopterin 3'-triphosphate diphosphohydrolase; 7,8-Dihydroneopterin 3'-triphosphate + H2O <=> Dihydroneopterin phosphate + Diphosphate)"
      ],
      "text/plain": [
       "<IPython.core.display.HTML object>"
      ]
     },
     "metadata": {},
     "output_type": "display_data"
    },
    {
     "data": {
      "text/html": [
       "<b>R03237</b>: [\"<span style='color: #74553b'>Node147305</span>\"] (CTP:D-tagatose 6-phosphate 1-phosphotransferase; CTP + D-Tagatose 6-phosphate <=> CDP + D-Tagatose 1,6-bisphosphate)"
      ],
      "text/plain": [
       "<IPython.core.display.HTML object>"
      ]
     },
     "metadata": {},
     "output_type": "display_data"
    },
    {
     "data": {
      "text/html": [
       "<b>R03237</b>: [\"<span style='color: #74553b'>Node147305</span>\", \"<span style='color: #fd79b7'>Node28120</span>\"] (CTP:D-tagatose 6-phosphate 1-phosphotransferase; CTP + D-Tagatose 6-phosphate <=> CDP + D-Tagatose 1,6-bisphosphate)"
      ],
      "text/plain": [
       "<IPython.core.display.HTML object>"
      ]
     },
     "metadata": {},
     "output_type": "display_data"
    },
    {
     "data": {
      "text/html": [
       "<b>R01878</b>: [\"<span style='color: #74553b'>Node147305</span>\"] (Cytidine aminohydrolase; Cytidine + H2O <=> Uridine + Ammonia)"
      ],
      "text/plain": [
       "<IPython.core.display.HTML object>"
      ]
     },
     "metadata": {},
     "output_type": "display_data"
    },
    {
     "data": {
      "text/html": [
       "<b>R01878</b>: [\"<span style='color: #74553b'>Node147305</span>\", \"<span style='color: #21d139'>Node21166</span>\"] (Cytidine aminohydrolase; Cytidine + H2O <=> Uridine + Ammonia)"
      ],
      "text/plain": [
       "<IPython.core.display.HTML object>"
      ]
     },
     "metadata": {},
     "output_type": "display_data"
    },
    {
     "data": {
      "text/html": [
       "<b>R05815</b>: [\"<span style='color: #21d139'>Node21166</span>\"] (cobyrinate:L-glutamine amido-ligase (ADP-forming); Cobyrinate + 2 L-Glutamine + 2 ATP + 2 H2O <=> Cob(II)yrinate a,c diamide + 2 L-Glutamate + 2 ADP + 2 Orthophosphate)"
      ],
      "text/plain": [
       "<IPython.core.display.HTML object>"
      ]
     },
     "metadata": {},
     "output_type": "display_data"
    },
    {
     "data": {
      "text/html": [
       "<b>R05815</b>: [\"<span style='color: #21d139'>Node21166</span>\", \"<span style='color: #fd79b7'>Node28120</span>\"] (cobyrinate:L-glutamine amido-ligase (ADP-forming); Cobyrinate + 2 L-Glutamine + 2 ATP + 2 H2O <=> Cob(II)yrinate a,c diamide + 2 L-Glutamate + 2 ADP + 2 Orthophosphate)"
      ],
      "text/plain": [
       "<IPython.core.display.HTML object>"
      ]
     },
     "metadata": {},
     "output_type": "display_data"
    },
    {
     "data": {
      "text/html": [
       "<b>R05815</b>: [\"<span style='color: #21d139'>Node21166</span>\", \"<span style='color: #fd79b7'>Node28120</span>\", \"<span style='color: #073257'>Node55904</span>\"] (cobyrinate:L-glutamine amido-ligase (ADP-forming); Cobyrinate + 2 L-Glutamine + 2 ATP + 2 H2O <=> Cob(II)yrinate a,c diamide + 2 L-Glutamate + 2 ADP + 2 Orthophosphate)"
      ],
      "text/plain": [
       "<IPython.core.display.HTML object>"
      ]
     },
     "metadata": {},
     "output_type": "display_data"
    },
    {
     "data": {
      "text/html": [
       "<b>R09083</b>: [\"<span style='color: #ffd3f8'>Node126898</span>\"] (Reduced FMN + Oxygen <=> Dimethylbenzimidazole + D-Erythrose 4-phosphate + H2O)"
      ],
      "text/plain": [
       "<IPython.core.display.HTML object>"
      ]
     },
     "metadata": {},
     "output_type": "display_data"
    },
    {
     "data": {
      "text/html": [
       "<b>R02274</b>: [\"<span style='color: #fd79b7'>Node28120</span>\"] (5-aminopentanoate:2-oxoglutarate aminotransferase; 5-Aminopentanoate + 2-Oxoglutarate <=> 5-Oxopentanoate + L-Glutamate)"
      ],
      "text/plain": [
       "<IPython.core.display.HTML object>"
      ]
     },
     "metadata": {},
     "output_type": "display_data"
    },
    {
     "data": {
      "text/html": [
       "<b>R10124</b>: [\"<span style='color: #21d139'>Node21166</span>\"] (pimeloyl-[acyl-carrier protein]:L-alanine C-pimeloyltransferase (decarboxylating); Pimeloyl-[acyl-carrier protein] + L-Alanine <=> 8-Amino-7-oxononanoate + Acyl-carrier protein + CO2)"
      ],
      "text/plain": [
       "<IPython.core.display.HTML object>"
      ]
     },
     "metadata": {},
     "output_type": "display_data"
    },
    {
     "data": {
      "text/html": [
       "<b>R10124</b>: [\"<span style='color: #21d139'>Node21166</span>\", \"<span style='color: #fd79b7'>Node28120</span>\"] (pimeloyl-[acyl-carrier protein]:L-alanine C-pimeloyltransferase (decarboxylating); Pimeloyl-[acyl-carrier protein] + L-Alanine <=> 8-Amino-7-oxononanoate + Acyl-carrier protein + CO2)"
      ],
      "text/plain": [
       "<IPython.core.display.HTML object>"
      ]
     },
     "metadata": {},
     "output_type": "display_data"
    },
    {
     "data": {
      "text/html": [
       "<b>R04148</b>: [\"<span style='color: #21d139'>Node21166</span>\"] (Nicotinate-nucleotide:dimethylbenzimidazole phospho-D-ribosyltransferase; Nicotinate D-ribonucleotide + Dimethylbenzimidazole <=> Nicotinate + N1-(5-Phospho-alpha-D-ribosyl)-5,6-dimethylbenzimidazole + H+)"
      ],
      "text/plain": [
       "<IPython.core.display.HTML object>"
      ]
     },
     "metadata": {},
     "output_type": "display_data"
    },
    {
     "data": {
      "text/html": [
       "<b>R10170</b>: [\"<span style='color: #4c0ebb'>Node119365</span>\"] ((2R,3S)-3-isopropylmalate hydro-lyase (2-isopropylmaleate-forming); (2R,3S)-3-Isopropylmalate <=> alpha-Isopropylmalate)"
      ],
      "text/plain": [
       "<IPython.core.display.HTML object>"
      ]
     },
     "metadata": {},
     "output_type": "display_data"
    },
    {
     "data": {
      "text/html": [
       "<b>R10170</b>: [\"<span style='color: #4c0ebb'>Node119365</span>\", \"<span style='color: #ffd3f8'>Node126898</span>\"] ((2R,3S)-3-isopropylmalate hydro-lyase (2-isopropylmaleate-forming); (2R,3S)-3-Isopropylmalate <=> alpha-Isopropylmalate)"
      ],
      "text/plain": [
       "<IPython.core.display.HTML object>"
      ]
     },
     "metadata": {},
     "output_type": "display_data"
    },
    {
     "data": {
      "text/html": [
       "<b>R04949</b>: [\"<span style='color: #a87f75'>Node15327</span>\"] (Cyanoglycoside glucohydrolase; Cyanoglycoside + H2O <=> Cyanohydrin + D-Glucose)"
      ],
      "text/plain": [
       "<IPython.core.display.HTML object>"
      ]
     },
     "metadata": {},
     "output_type": "display_data"
    },
    {
     "data": {
      "text/html": [
       "<b>R04949</b>: [\"<span style='color: #a87f75'>Node15327</span>\", \"<span style='color: #fd79b7'>Node28120</span>\"] (Cyanoglycoside glucohydrolase; Cyanoglycoside + H2O <=> Cyanohydrin + D-Glucose)"
      ],
      "text/plain": [
       "<IPython.core.display.HTML object>"
      ]
     },
     "metadata": {},
     "output_type": "display_data"
    },
    {
     "data": {
      "text/html": [
       "<b>R06267</b>: [\"<span style='color: #4c0ebb'>Node119365</span>\"] (magnesium-protoporphyrin-IX 13-monomethyl ester,NADPH:oxygen oxidoreductase (hydroxylating); 13(1)-Oxo-magnesium-protoporphyrin IX 13-monomethyl ester + NADPH + H+ + Oxygen <=> Divinylprotochlorophyllide + NADP+ + 2 H2O)"
      ],
      "text/plain": [
       "<IPython.core.display.HTML object>"
      ]
     },
     "metadata": {},
     "output_type": "display_data"
    },
    {
     "data": {
      "text/html": [
       "<b>R04138</b>: [\"<span style='color: #fd79b7'>Node28120</span>\"] (3-Methylcrotonoyl-CoA:carbon-dioxide ligase (ADP-forming); ATP + 3-Methylcrotonyl-CoA + HCO3- <=> ADP + Orthophosphate + 3-Methylglutaconyl-CoA)"
      ],
      "text/plain": [
       "<IPython.core.display.HTML object>"
      ]
     },
     "metadata": {},
     "output_type": "display_data"
    },
    {
     "data": {
      "text/html": [
       "<b>R04138</b>: [\"<span style='color: #fd79b7'>Node28120</span>\", \"<span style='color: #2a6e9d'>Node45985</span>\"] (3-Methylcrotonoyl-CoA:carbon-dioxide ligase (ADP-forming); ATP + 3-Methylcrotonyl-CoA + HCO3- <=> ADP + Orthophosphate + 3-Methylglutaconyl-CoA)"
      ],
      "text/plain": [
       "<IPython.core.display.HTML object>"
      ]
     },
     "metadata": {},
     "output_type": "display_data"
    },
    {
     "data": {
      "text/html": [
       "<b>R05621</b>: [\"<span style='color: #21d139'>Node21166</span>\"] (Benzoate + NADH + H+ + Oxygen <=> (1R,6S)-1,6-Dihydroxycyclohexa-2,4-diene-1-carboxylate + NAD+)"
      ],
      "text/plain": [
       "<IPython.core.display.HTML object>"
      ]
     },
     "metadata": {},
     "output_type": "display_data"
    },
    {
     "data": {
      "text/html": [
       "<b>R03898</b>: [\"<span style='color: #4c0ebb'>Node119365</span>\"] (2-methylmaleate hydratase; D-erythro-3-methylmalate hydro-lyase (2-methylmaleate-forming); 2-Methylmaleate + H2O <=> D-erythro-3-Methylmalate)"
      ],
      "text/plain": [
       "<IPython.core.display.HTML object>"
      ]
     },
     "metadata": {},
     "output_type": "display_data"
    },
    {
     "data": {
      "text/html": [
       "<b>R03898</b>: [\"<span style='color: #4c0ebb'>Node119365</span>\", \"<span style='color: #ffd3f8'>Node126898</span>\"] (2-methylmaleate hydratase; D-erythro-3-methylmalate hydro-lyase (2-methylmaleate-forming); 2-Methylmaleate + H2O <=> D-erythro-3-Methylmalate)"
      ],
      "text/plain": [
       "<IPython.core.display.HTML object>"
      ]
     },
     "metadata": {},
     "output_type": "display_data"
    },
    {
     "data": {
      "text/html": [
       "<b>R04325</b>: [\"<span style='color: #fd79b7'>Node28120</span>\"] (10-formyltetrahydrofolate:5'-phosphoribosylglycinamide formyltransferase; 10-Formyltetrahydrofolate + 5'-Phosphoribosylglycinamide <=> Tetrahydrofolate + 5'-Phosphoribosyl-N-formylglycinamide)"
      ],
      "text/plain": [
       "<IPython.core.display.HTML object>"
      ]
     },
     "metadata": {},
     "output_type": "display_data"
    },
    {
     "data": {
      "text/html": [
       "<b>R04325</b>: [\"<span style='color: #fd79b7'>Node28120</span>\", \"<span style='color: #3a3787'>Node52227</span>\"] (10-formyltetrahydrofolate:5'-phosphoribosylglycinamide formyltransferase; 10-Formyltetrahydrofolate + 5'-Phosphoribosylglycinamide <=> Tetrahydrofolate + 5'-Phosphoribosyl-N-formylglycinamide)"
      ],
      "text/plain": [
       "<IPython.core.display.HTML object>"
      ]
     },
     "metadata": {},
     "output_type": "display_data"
    },
    {
     "data": {
      "text/html": [
       "<b>R04326</b>: [\"<span style='color: #fd79b7'>Node28120</span>\"] (5'-Phosphoribosylglycinamide + 5,10-Methenyltetrahydrofolate + H2O <=> 5'-Phosphoribosyl-N-formylglycinamide + Tetrahydrofolate)"
      ],
      "text/plain": [
       "<IPython.core.display.HTML object>"
      ]
     },
     "metadata": {},
     "output_type": "display_data"
    },
    {
     "data": {
      "text/html": [
       "<b>R04326</b>: [\"<span style='color: #fd79b7'>Node28120</span>\", \"<span style='color: #3a3787'>Node52227</span>\"] (5'-Phosphoribosylglycinamide + 5,10-Methenyltetrahydrofolate + H2O <=> 5'-Phosphoribosyl-N-formylglycinamide + Tetrahydrofolate)"
      ],
      "text/plain": [
       "<IPython.core.display.HTML object>"
      ]
     },
     "metadata": {},
     "output_type": "display_data"
    },
    {
     "data": {
      "text/html": [
       "<b>R00610</b>: [\"<span style='color: #fd79b7'>Node28120</span>\"] (sarcosine:oxygen oxidoreductase (demethylating); Sarcosine + H2O + Oxygen <=> Glycine + Formaldehyde + Hydrogen peroxide)"
      ],
      "text/plain": [
       "<IPython.core.display.HTML object>"
      ]
     },
     "metadata": {},
     "output_type": "display_data"
    },
    {
     "data": {
      "text/html": [
       "<b>R03968</b>: [\"<span style='color: #4c0ebb'>Node119365</span>\"] (2-Isopropylmalate hydro-lyase; alpha-Isopropylmalate <=> 2-Isopropylmaleate + H2O)"
      ],
      "text/plain": [
       "<IPython.core.display.HTML object>"
      ]
     },
     "metadata": {},
     "output_type": "display_data"
    },
    {
     "data": {
      "text/html": [
       "<b>R03968</b>: [\"<span style='color: #4c0ebb'>Node119365</span>\", \"<span style='color: #ffd3f8'>Node126898</span>\"] (2-Isopropylmalate hydro-lyase; alpha-Isopropylmalate <=> 2-Isopropylmaleate + H2O)"
      ],
      "text/plain": [
       "<IPython.core.display.HTML object>"
      ]
     },
     "metadata": {},
     "output_type": "display_data"
    },
    {
     "data": {
      "text/html": [
       "<b>R02566</b>: [\"<span style='color: #073257'>Node55904</span>\"] (p-Cumic alcohol:NADP+ oxidoreductase; Betaine aldehyde + NADP+ + H2O <=> Betaine + NADPH + 2 H+)"
      ],
      "text/plain": [
       "<IPython.core.display.HTML object>"
      ]
     },
     "metadata": {},
     "output_type": "display_data"
    },
    {
     "data": {
      "text/html": [
       "<b>R01717</b>: [\"<span style='color: #74553b'>Node147305</span>\"] (chorismate hydroxymutase; Chorismate <=> Isochorismate)"
      ],
      "text/plain": [
       "<IPython.core.display.HTML object>"
      ]
     },
     "metadata": {},
     "output_type": "display_data"
    },
    {
     "data": {
      "text/html": [
       "<b>R05705</b>: [\"<span style='color: #a87f75'>Node15327</span>\"] (FMNH2:NAD+ oxidoreductase; Reduced FMN + NAD+ <=> FMN + NADH + H+)"
      ],
      "text/plain": [
       "<IPython.core.display.HTML object>"
      ]
     },
     "metadata": {},
     "output_type": "display_data"
    },
    {
     "data": {
      "text/html": [
       "<b>R05705</b>: [\"<span style='color: #a87f75'>Node15327</span>\", \"<span style='color: #21d139'>Node21166</span>\"] (FMNH2:NAD+ oxidoreductase; Reduced FMN + NAD+ <=> FMN + NADH + H+)"
      ],
      "text/plain": [
       "<IPython.core.display.HTML object>"
      ]
     },
     "metadata": {},
     "output_type": "display_data"
    },
    {
     "data": {
      "text/html": [
       "<b>R07023</b>: [\"<span style='color: #073257'>Node55904</span>\"] (1-nitro-7-hydroxy-8-glutathionyl-7,8-dihydronaphthalene glutathione-lyase (epoxide-forming); 1-Nitronaphthalene-7,8-oxide + Glutathione <=> 1-Nitro-7-hydroxy-8-glutathionyl-7,8-dihydronaphthalene)"
      ],
      "text/plain": [
       "<IPython.core.display.HTML object>"
      ]
     },
     "metadata": {},
     "output_type": "display_data"
    },
    {
     "data": {
      "text/html": [
       "<b>R00299</b>: [\"<span style='color: #fd79b7'>Node28120</span>\"] (ATP:D-glucose 6-phosphotransferase; ATP + D-Glucose <=> ADP + D-Glucose 6-phosphate)"
      ],
      "text/plain": [
       "<IPython.core.display.HTML object>"
      ]
     },
     "metadata": {},
     "output_type": "display_data"
    },
    {
     "data": {
      "text/html": [
       "<b>R07810</b>: [\"<span style='color: #a87f75'>Node15327</span>\"] (G13073 + H2O <=> G01391 + N-Acetyl-D-glucosamine 6-sulfate)"
      ],
      "text/plain": [
       "<IPython.core.display.HTML object>"
      ]
     },
     "metadata": {},
     "output_type": "display_data"
    },
    {
     "data": {
      "text/html": [
       "<b>R07810</b>: [\"<span style='color: #a87f75'>Node15327</span>\", \"<span style='color: #fd79b7'>Node28120</span>\"] (G13073 + H2O <=> G01391 + N-Acetyl-D-glucosamine 6-sulfate)"
      ],
      "text/plain": [
       "<IPython.core.display.HTML object>"
      ]
     },
     "metadata": {},
     "output_type": "display_data"
    },
    {
     "data": {
      "text/html": [
       "<b>R00936</b>: [\"<span style='color: #a87f75'>Node15327</span>\"] (5,6,7,8-tetrahydrofolate:NAD+ oxidoreductase; Tetrahydrofolate + NAD+ <=> Dihydrofolate + NADH + H+)"
      ],
      "text/plain": [
       "<IPython.core.display.HTML object>"
      ]
     },
     "metadata": {},
     "output_type": "display_data"
    },
    {
     "data": {
      "text/html": [
       "<b>R00936</b>: [\"<span style='color: #a87f75'>Node15327</span>\", \"<span style='color: #fd79b7'>Node28120</span>\"] (5,6,7,8-tetrahydrofolate:NAD+ oxidoreductase; Tetrahydrofolate + NAD+ <=> Dihydrofolate + NADH + H+)"
      ],
      "text/plain": [
       "<IPython.core.display.HTML object>"
      ]
     },
     "metadata": {},
     "output_type": "display_data"
    },
    {
     "data": {
      "text/html": [
       "<b>R00174</b>: [\"<span style='color: #2a6e9d'>Node45985</span>\"] (ATP:pyridoxal 5'-phosphotransferase; ATP + Pyridoxal <=> ADP + Pyridoxal phosphate)"
      ],
      "text/plain": [
       "<IPython.core.display.HTML object>"
      ]
     },
     "metadata": {},
     "output_type": "display_data"
    },
    {
     "data": {
      "text/html": [
       "<b>R02017</b>: [\"<span style='color: #a87f75'>Node15327</span>\"] (2'-deoxyadenosine 5'-diphosphate:oxidized-thioredoxin 2'-oxidoreductase; dADP + Thioredoxin disulfide + H2O <=> Thioredoxin + ADP)"
      ],
      "text/plain": [
       "<IPython.core.display.HTML object>"
      ]
     },
     "metadata": {},
     "output_type": "display_data"
    },
    {
     "data": {
      "text/html": [
       "<b>R02017</b>: [\"<span style='color: #a87f75'>Node15327</span>\", \"<span style='color: #21d139'>Node21166</span>\"] (2'-deoxyadenosine 5'-diphosphate:oxidized-thioredoxin 2'-oxidoreductase; dADP + Thioredoxin disulfide + H2O <=> Thioredoxin + ADP)"
      ],
      "text/plain": [
       "<IPython.core.display.HTML object>"
      ]
     },
     "metadata": {},
     "output_type": "display_data"
    },
    {
     "data": {
      "text/html": [
       "<b>R02017</b>: [\"<span style='color: #a87f75'>Node15327</span>\", \"<span style='color: #21d139'>Node21166</span>\", \"<span style='color: #fd79b7'>Node28120</span>\"] (2'-deoxyadenosine 5'-diphosphate:oxidized-thioredoxin 2'-oxidoreductase; dADP + Thioredoxin disulfide + H2O <=> Thioredoxin + ADP)"
      ],
      "text/plain": [
       "<IPython.core.display.HTML object>"
      ]
     },
     "metadata": {},
     "output_type": "display_data"
    },
    {
     "data": {
      "text/html": [
       "<b>R01909</b>: [\"<span style='color: #2a6e9d'>Node45985</span>\"] (ATP:pyridoxine 5'-phosphotransferase; ATP + Pyridoxine <=> ADP + Pyridoxine phosphate)"
      ],
      "text/plain": [
       "<IPython.core.display.HTML object>"
      ]
     },
     "metadata": {},
     "output_type": "display_data"
    },
    {
     "data": {
      "text/html": [
       "<b>R07093</b>: [\"<span style='color: #073257'>Node55904</span>\"] (chloroacetyl-chloride:glutathione S-chloroacetyltransferase; Chloroacetyl chloride + Glutathione <=> S-(2-Chloroacetyl)glutathione + Hydrochloric acid)"
      ],
      "text/plain": [
       "<IPython.core.display.HTML object>"
      ]
     },
     "metadata": {},
     "output_type": "display_data"
    },
    {
     "data": {
      "text/html": [
       "<b>R00974</b>: [\"<span style='color: #21d139'>Node21166</span>\"] (Cytosine aminohydrolase; Cytosine + H2O <=> Uracil + Ammonia)"
      ],
      "text/plain": [
       "<IPython.core.display.HTML object>"
      ]
     },
     "metadata": {},
     "output_type": "display_data"
    },
    {
     "data": {
      "text/html": [
       "<b>R02000</b>: [\"<span style='color: #ffd3f8'>Node126898</span>\"] (rubredoxin:NAD+ oxidoreductase; 2 Reduced rubredoxin + NAD+ + H+ <=> 2 Oxidized rubredoxin + NADH)"
      ],
      "text/plain": [
       "<IPython.core.display.HTML object>"
      ]
     },
     "metadata": {},
     "output_type": "display_data"
    },
    {
     "data": {
      "text/html": [
       "<b>R00189</b>: [\"<span style='color: #fd79b7'>Node28120</span>\"] (deamido-NAD+:ammonia ligase (AMP-forming); ATP + Deamino-NAD+ + Ammonia <=> AMP + Diphosphate + NAD+)"
      ],
      "text/plain": [
       "<IPython.core.display.HTML object>"
      ]
     },
     "metadata": {},
     "output_type": "display_data"
    },
    {
     "data": {
      "text/html": [
       "<b>R01711</b>: [\"<span style='color: #fd79b7'>Node28120</span>\"] (pyridoxine:oxygen oxidoreductase (deaminating); Pyridoxine + Oxygen <=> Pyridoxal + Hydrogen peroxide)"
      ],
      "text/plain": [
       "<IPython.core.display.HTML object>"
      ]
     },
     "metadata": {},
     "output_type": "display_data"
    },
    {
     "data": {
      "text/html": [
       "<b>R00235</b>: [\"<span style='color: #fd79b7'>Node28120</span>\"] (Acetate:CoA ligase (AMP-forming); ATP + Acetate + CoA <=> AMP + Diphosphate + Acetyl-CoA)"
      ],
      "text/plain": [
       "<IPython.core.display.HTML object>"
      ]
     },
     "metadata": {},
     "output_type": "display_data"
    },
    {
     "data": {
      "text/html": [
       "<b>R01334</b>: [\"<span style='color: #a87f75'>Node15327</span>\"] (2-phosphoglycolate phosphohydrolase; 2-Phosphoglycolate + H2O <=> Glycolate + Orthophosphate)"
      ],
      "text/plain": [
       "<IPython.core.display.HTML object>"
      ]
     },
     "metadata": {},
     "output_type": "display_data"
    },
    {
     "data": {
      "text/html": [
       "<b>R01334</b>: [\"<span style='color: #a87f75'>Node15327</span>\", \"<span style='color: #21d139'>Node21166</span>\"] (2-phosphoglycolate phosphohydrolase; 2-Phosphoglycolate + H2O <=> Glycolate + Orthophosphate)"
      ],
      "text/plain": [
       "<IPython.core.display.HTML object>"
      ]
     },
     "metadata": {},
     "output_type": "display_data"
    },
    {
     "data": {
      "text/html": [
       "<b>R01334</b>: [\"<span style='color: #a87f75'>Node15327</span>\", \"<span style='color: #21d139'>Node21166</span>\", \"<span style='color: #fd79b7'>Node28120</span>\"] (2-phosphoglycolate phosphohydrolase; 2-Phosphoglycolate + H2O <=> Glycolate + Orthophosphate)"
      ],
      "text/plain": [
       "<IPython.core.display.HTML object>"
      ]
     },
     "metadata": {},
     "output_type": "display_data"
    },
    {
     "data": {
      "text/html": [
       "<b>R02984</b>: [\"<span style='color: #ffd3f8'>Node126898</span>\"] (dTDPglucose 4-epimerase; dTDP-glucose <=> dTDP-galactose)"
      ],
      "text/plain": [
       "<IPython.core.display.HTML object>"
      ]
     },
     "metadata": {},
     "output_type": "display_data"
    },
    {
     "data": {
      "text/html": [
       "<b>R02984</b>: [\"<span style='color: #ffd3f8'>Node126898</span>\", \"<span style='color: #fd79b7'>Node28120</span>\"] (dTDPglucose 4-epimerase; dTDP-glucose <=> dTDP-galactose)"
      ],
      "text/plain": [
       "<IPython.core.display.HTML object>"
      ]
     },
     "metadata": {},
     "output_type": "display_data"
    },
    {
     "data": {
      "text/html": [
       "<b>R02984</b>: [\"<span style='color: #ffd3f8'>Node126898</span>\", \"<span style='color: #fd79b7'>Node28120</span>\", \"<span style='color: #2a6e9d'>Node45985</span>\"] (dTDPglucose 4-epimerase; dTDP-glucose <=> dTDP-galactose)"
      ],
      "text/plain": [
       "<IPython.core.display.HTML object>"
      ]
     },
     "metadata": {},
     "output_type": "display_data"
    },
    {
     "data": {
      "text/html": [
       "<b>R00434</b>: [\"<span style='color: #fd79b7'>Node28120</span>\"] (GTP diphosphate-lyase (cyclizing; 3',5'-cyclic-GMP-forming); GTP <=> 3',5'-Cyclic GMP + Diphosphate)"
      ],
      "text/plain": [
       "<IPython.core.display.HTML object>"
      ]
     },
     "metadata": {},
     "output_type": "display_data"
    },
    {
     "data": {
      "text/html": [
       "<b>R10996</b>: [\"<span style='color: #74553b'>Node147305</span>\"] (2-Oxobutanoate + Thiamin diphosphate <=> 2-(alpha-Hydroxypropyl)thiamine diphosphate + CO2)"
      ],
      "text/plain": [
       "<IPython.core.display.HTML object>"
      ]
     },
     "metadata": {},
     "output_type": "display_data"
    },
    {
     "data": {
      "text/html": [
       "<b>R10092</b>: [\"<span style='color: #a87f75'>Node15327</span>\"] (carbonate hydro-lyase (carbon-dioxide-forming); HCO3- + H+ <=> CO2 + H2O)"
      ],
      "text/plain": [
       "<IPython.core.display.HTML object>"
      ]
     },
     "metadata": {},
     "output_type": "display_data"
    },
    {
     "data": {
      "text/html": [
       "<b>R10092</b>: [\"<span style='color: #a87f75'>Node15327</span>\", \"<span style='color: #21d139'>Node21166</span>\"] (carbonate hydro-lyase (carbon-dioxide-forming); HCO3- + H+ <=> CO2 + H2O)"
      ],
      "text/plain": [
       "<IPython.core.display.HTML object>"
      ]
     },
     "metadata": {},
     "output_type": "display_data"
    },
    {
     "data": {
      "text/html": [
       "<b>R10092</b>: [\"<span style='color: #a87f75'>Node15327</span>\", \"<span style='color: #21d139'>Node21166</span>\", \"<span style='color: #fd79b7'>Node28120</span>\"] (carbonate hydro-lyase (carbon-dioxide-forming); HCO3- + H+ <=> CO2 + H2O)"
      ],
      "text/plain": [
       "<IPython.core.display.HTML object>"
      ]
     },
     "metadata": {},
     "output_type": "display_data"
    },
    {
     "data": {
      "text/html": [
       "<b>R03348</b>: [\"<span style='color: #fd79b7'>Node28120</span>\"] (Nicotinate-nucleotide:pyrophosphate phosphoribosyltransferase (carboxylating); Nicotinate D-ribonucleotide + Diphosphate + CO2 <=> Quinolinate + 5-Phospho-alpha-D-ribose 1-diphosphate)"
      ],
      "text/plain": [
       "<IPython.core.display.HTML object>"
      ]
     },
     "metadata": {},
     "output_type": "display_data"
    },
    {
     "data": {
      "text/html": [
       "<b>R03348</b>: [\"<span style='color: #fd79b7'>Node28120</span>\", \"<span style='color: #073257'>Node55904</span>\"] (Nicotinate-nucleotide:pyrophosphate phosphoribosyltransferase (carboxylating); Nicotinate D-ribonucleotide + Diphosphate + CO2 <=> Quinolinate + 5-Phospho-alpha-D-ribose 1-diphosphate)"
      ],
      "text/plain": [
       "<IPython.core.display.HTML object>"
      ]
     },
     "metadata": {},
     "output_type": "display_data"
    },
    {
     "data": {
      "text/html": [
       "<b>R00939</b>: [\"<span style='color: #a87f75'>Node15327</span>\"] (5,6,7,8-tetrahydrofolate:NADP+ oxidoreductase; Tetrahydrofolate + NADP+ <=> Dihydrofolate + NADPH + H+)"
      ],
      "text/plain": [
       "<IPython.core.display.HTML object>"
      ]
     },
     "metadata": {},
     "output_type": "display_data"
    },
    {
     "data": {
      "text/html": [
       "<b>R00939</b>: [\"<span style='color: #a87f75'>Node15327</span>\", \"<span style='color: #fd79b7'>Node28120</span>\"] (5,6,7,8-tetrahydrofolate:NADP+ oxidoreductase; Tetrahydrofolate + NADP+ <=> Dihydrofolate + NADPH + H+)"
      ],
      "text/plain": [
       "<IPython.core.display.HTML object>"
      ]
     },
     "metadata": {},
     "output_type": "display_data"
    },
    {
     "data": {
      "text/html": [
       "<b>R11765</b>: [\"<span style='color: #a87f75'>Node15327</span>\"] (tetrahydrobiopterin:NADP+ oxidoreductase (7,8-dihydrobiopterin-forming); Tetrahydrobiopterin + NADP+ <=> 7,8-Dihydrobiopterin + NADPH + H+)"
      ],
      "text/plain": [
       "<IPython.core.display.HTML object>"
      ]
     },
     "metadata": {},
     "output_type": "display_data"
    },
    {
     "data": {
      "text/html": [
       "<b>R11765</b>: [\"<span style='color: #a87f75'>Node15327</span>\", \"<span style='color: #fd79b7'>Node28120</span>\"] (tetrahydrobiopterin:NADP+ oxidoreductase (7,8-dihydrobiopterin-forming); Tetrahydrobiopterin + NADP+ <=> 7,8-Dihydrobiopterin + NADPH + H+)"
      ],
      "text/plain": [
       "<IPython.core.display.HTML object>"
      ]
     },
     "metadata": {},
     "output_type": "display_data"
    },
    {
     "data": {
      "text/html": [
       "<b>R00566</b>: [\"<span style='color: #74553b'>Node147305</span>\"] (L-arginine carboxy-lyase (agmatine-forming); L-Arginine <=> Agmatine + CO2)"
      ],
      "text/plain": [
       "<IPython.core.display.HTML object>"
      ]
     },
     "metadata": {},
     "output_type": "display_data"
    },
    {
     "data": {
      "text/html": [
       "<b>R00566</b>: [\"<span style='color: #74553b'>Node147305</span>\", \"<span style='color: #fd79b7'>Node28120</span>\"] (L-arginine carboxy-lyase (agmatine-forming); L-Arginine <=> Agmatine + CO2)"
      ],
      "text/plain": [
       "<IPython.core.display.HTML object>"
      ]
     },
     "metadata": {},
     "output_type": "display_data"
    },
    {
     "data": {
      "text/html": [
       "<b>R01244</b>: [\"<span style='color: #74553b'>Node147305</span>\"] (Adenine aminohydrolase; Adenine + H2O <=> Hypoxanthine + Ammonia)"
      ],
      "text/plain": [
       "<IPython.core.display.HTML object>"
      ]
     },
     "metadata": {},
     "output_type": "display_data"
    },
    {
     "data": {
      "text/html": [
       "<b>R01244</b>: [\"<span style='color: #74553b'>Node147305</span>\", \"<span style='color: #073257'>Node55904</span>\"] (Adenine aminohydrolase; Adenine + H2O <=> Hypoxanthine + Ammonia)"
      ],
      "text/plain": [
       "<IPython.core.display.HTML object>"
      ]
     },
     "metadata": {},
     "output_type": "display_data"
    },
    {
     "data": {
      "text/html": [
       "<b>R00970</b>: [\"<span style='color: #74553b'>Node147305</span>\"]"
      ],
      "text/plain": [
       "<IPython.core.display.HTML object>"
      ]
     },
     "metadata": {},
     "output_type": "display_data"
    },
    {
     "data": {
      "text/html": [
       "<b>R00970</b>: [\"<span style='color: #74553b'>Node147305</span>\", \"<span style='color: #21d139'>Node21166</span>\"]"
      ],
      "text/plain": [
       "<IPython.core.display.HTML object>"
      ]
     },
     "metadata": {},
     "output_type": "display_data"
    },
    {
     "data": {
      "text/html": [
       "<b>R00236</b>: [\"<span style='color: #fd79b7'>Node28120</span>\"] (acetyl adenylate:CoA acetyltransferase; Acetyl adenylate + CoA <=> AMP + Acetyl-CoA)"
      ],
      "text/plain": [
       "<IPython.core.display.HTML object>"
      ]
     },
     "metadata": {},
     "output_type": "display_data"
    },
    {
     "data": {
      "text/html": [
       "<b>R00967</b>: [\"<span style='color: #74553b'>Node147305</span>\"]"
      ],
      "text/plain": [
       "<IPython.core.display.HTML object>"
      ]
     },
     "metadata": {},
     "output_type": "display_data"
    },
    {
     "data": {
      "text/html": [
       "<b>R00967</b>: [\"<span style='color: #74553b'>Node147305</span>\", \"<span style='color: #21d139'>Node21166</span>\"]"
      ],
      "text/plain": [
       "<IPython.core.display.HTML object>"
      ]
     },
     "metadata": {},
     "output_type": "display_data"
    },
    {
     "data": {
      "text/html": [
       "<b>R02549</b>: [\"<span style='color: #fd79b7'>Node28120</span>\"] (4-aminobutanal:NAD+ 1-oxidoreductase; 4-aminobutyraldehyde:NAD+ oxidoreductase; 4-Aminobutyraldehyde + NAD+ + H2O <=> 4-Aminobutanoate + NADH + H+)"
      ],
      "text/plain": [
       "<IPython.core.display.HTML object>"
      ]
     },
     "metadata": {},
     "output_type": "display_data"
    },
    {
     "data": {
      "text/html": [
       "<b>R02549</b>: [\"<span style='color: #fd79b7'>Node28120</span>\", \"<span style='color: #073257'>Node55904</span>\"] (4-aminobutanal:NAD+ 1-oxidoreductase; 4-aminobutyraldehyde:NAD+ oxidoreductase; 4-Aminobutyraldehyde + NAD+ + H2O <=> 4-Aminobutanoate + NADH + H+)"
      ],
      "text/plain": [
       "<IPython.core.display.HTML object>"
      ]
     },
     "metadata": {},
     "output_type": "display_data"
    },
    {
     "data": {
      "text/html": [
       "<b>R07417</b>: [\"<span style='color: #fd79b7'>Node28120</span>\"] (4-(gamma-L-glutamylamino)butanal:NAD+ oxidoreductase; gamma-Glutamyl-gamma-aminobutyraldehyde + NAD+ + H2O <=> 4-(L-gamma-Glutamylamino)butanoate + NADH + H+)"
      ],
      "text/plain": [
       "<IPython.core.display.HTML object>"
      ]
     },
     "metadata": {},
     "output_type": "display_data"
    },
    {
     "data": {
      "text/html": [
       "<b>R04985</b>: [\"<span style='color: #21d139'>Node21166</span>\"] (4-hydroxy-3-polyprenylbenzoate carboxy-lyase; 2-Polyprenylphenol + CO2 <=> 4-Hydroxy-3-polyprenylbenzoate)"
      ],
      "text/plain": [
       "<IPython.core.display.HTML object>"
      ]
     },
     "metadata": {},
     "output_type": "display_data"
    },
    {
     "data": {
      "text/html": [
       "<b>R04985</b>: [\"<span style='color: #21d139'>Node21166</span>\", \"<span style='color: #fd79b7'>Node28120</span>\"] (4-hydroxy-3-polyprenylbenzoate carboxy-lyase; 2-Polyprenylphenol + CO2 <=> 4-Hydroxy-3-polyprenylbenzoate)"
      ],
      "text/plain": [
       "<IPython.core.display.HTML object>"
      ]
     },
     "metadata": {},
     "output_type": "display_data"
    },
    {
     "data": {
      "text/html": [
       "<b>R04985</b>: [\"<span style='color: #21d139'>Node21166</span>\", \"<span style='color: #fd79b7'>Node28120</span>\", \"<span style='color: #073257'>Node55904</span>\"] (4-hydroxy-3-polyprenylbenzoate carboxy-lyase; 2-Polyprenylphenol + CO2 <=> 4-Hydroxy-3-polyprenylbenzoate)"
      ],
      "text/plain": [
       "<IPython.core.display.HTML object>"
      ]
     },
     "metadata": {},
     "output_type": "display_data"
    },
    {
     "data": {
      "text/html": [
       "<b>R01747</b>: [\"<span style='color: #74553b'>Node147305</span>\"] ((R)-Glycerate:NADP+ oxidoreductase; D-Glycerate + NADP+ <=> 2-Hydroxy-3-oxopropanoate + NADPH + H+)"
      ],
      "text/plain": [
       "<IPython.core.display.HTML object>"
      ]
     },
     "metadata": {},
     "output_type": "display_data"
    },
    {
     "data": {
      "text/html": [
       "<b>R03443</b>: [\"<span style='color: #74553b'>Node147305</span>\"] (N-acetyl-L-glutamate-5-semialdehyde:NADP+ 5-oxidoreductase (phosphrylating); N-Acetyl-L-glutamate 5-semialdehyde + Orthophosphate + NADP+ <=> N-Acetyl-L-glutamate 5-phosphate + NADPH + H+)"
      ],
      "text/plain": [
       "<IPython.core.display.HTML object>"
      ]
     },
     "metadata": {},
     "output_type": "display_data"
    },
    {
     "data": {
      "text/html": [
       "<b>R03443</b>: [\"<span style='color: #74553b'>Node147305</span>\", \"<span style='color: #21d139'>Node21166</span>\"] (N-acetyl-L-glutamate-5-semialdehyde:NADP+ 5-oxidoreductase (phosphrylating); N-Acetyl-L-glutamate 5-semialdehyde + Orthophosphate + NADP+ <=> N-Acetyl-L-glutamate 5-phosphate + NADPH + H+)"
      ],
      "text/plain": [
       "<IPython.core.display.HTML object>"
      ]
     },
     "metadata": {},
     "output_type": "display_data"
    },
    {
     "data": {
      "text/html": [
       "<b>R03443</b>: [\"<span style='color: #74553b'>Node147305</span>\", \"<span style='color: #21d139'>Node21166</span>\", \"<span style='color: #fd79b7'>Node28120</span>\"] (N-acetyl-L-glutamate-5-semialdehyde:NADP+ 5-oxidoreductase (phosphrylating); N-Acetyl-L-glutamate 5-semialdehyde + Orthophosphate + NADP+ <=> N-Acetyl-L-glutamate 5-phosphate + NADPH + H+)"
      ],
      "text/plain": [
       "<IPython.core.display.HTML object>"
      ]
     },
     "metadata": {},
     "output_type": "display_data"
    },
    {
     "data": {
      "text/html": [
       "<b>R03896</b>: [\"<span style='color: #4c0ebb'>Node119365</span>\"] ((R)-2-Methylmalate hydro-lyase (2-methylmaleate-forming); (R)-2-Methylmalate <=> 2-Methylmaleate + H2O)"
      ],
      "text/plain": [
       "<IPython.core.display.HTML object>"
      ]
     },
     "metadata": {},
     "output_type": "display_data"
    },
    {
     "data": {
      "text/html": [
       "<b>R03896</b>: [\"<span style='color: #4c0ebb'>Node119365</span>\", \"<span style='color: #ffd3f8'>Node126898</span>\"] ((R)-2-Methylmalate hydro-lyase (2-methylmaleate-forming); (R)-2-Methylmalate <=> 2-Methylmaleate + H2O)"
      ],
      "text/plain": [
       "<IPython.core.display.HTML object>"
      ]
     },
     "metadata": {},
     "output_type": "display_data"
    },
    {
     "data": {
      "text/html": [
       "<b>R05425</b>: [\"<span style='color: #a87f75'>Node15327</span>\"] (Ethylbenzene + Oxygen + NADH + H+ <=> (S)-1-Phenylethanol + NAD+ + H2O)"
      ],
      "text/plain": [
       "<IPython.core.display.HTML object>"
      ]
     },
     "metadata": {},
     "output_type": "display_data"
    },
    {
     "data": {
      "text/html": [
       "<b>R05808</b>: [\"<span style='color: #fd79b7'>Node28120</span>\"] (S-adenosyl-L-methionine:cobalt-factor-II C20-methyltransferase; Cobalt-sirohydrochlorin + S-Adenosyl-L-methionine <=> Cobalt-factor III + S-Adenosyl-L-homocysteine)"
      ],
      "text/plain": [
       "<IPython.core.display.HTML object>"
      ]
     },
     "metadata": {},
     "output_type": "display_data"
    },
    {
     "data": {
      "text/html": [
       "<b>R05808</b>: [\"<span style='color: #fd79b7'>Node28120</span>\", \"<span style='color: #073257'>Node55904</span>\"] (S-adenosyl-L-methionine:cobalt-factor-II C20-methyltransferase; Cobalt-sirohydrochlorin + S-Adenosyl-L-methionine <=> Cobalt-factor III + S-Adenosyl-L-homocysteine)"
      ],
      "text/plain": [
       "<IPython.core.display.HTML object>"
      ]
     },
     "metadata": {},
     "output_type": "display_data"
    },
    {
     "data": {
      "text/html": [
       "<b>R05646</b>: [\"<span style='color: #fd79b7'>Node28120</span>\"] (ATP:D-glycero-beta-D-manno-heptose 7-phosphate 1-phosphotransferase; ATP + D-glycero-beta-D-manno-Heptose 7-phosphate <=> ADP + D-glycero-beta-D-manno-Heptose 1,7-bisphosphate)"
      ],
      "text/plain": [
       "<IPython.core.display.HTML object>"
      ]
     },
     "metadata": {},
     "output_type": "display_data"
    },
    {
     "data": {
      "text/html": [
       "<b>R04429</b>: [\"<span style='color: #a87f75'>Node15327</span>\"] (butyryl-[acp]:NAD+ trans-2-oxidoreductase; Butyryl-[acp] + NAD+ <=> But-2-enoyl-[acyl-carrier protein] + NADH + H+)"
      ],
      "text/plain": [
       "<IPython.core.display.HTML object>"
      ]
     },
     "metadata": {},
     "output_type": "display_data"
    },
    {
     "data": {
      "text/html": [
       "<b>R04429</b>: [\"<span style='color: #a87f75'>Node15327</span>\", \"<span style='color: #554a79'>Node19398</span>\"] (butyryl-[acp]:NAD+ trans-2-oxidoreductase; Butyryl-[acp] + NAD+ <=> But-2-enoyl-[acyl-carrier protein] + NADH + H+)"
      ],
      "text/plain": [
       "<IPython.core.display.HTML object>"
      ]
     },
     "metadata": {},
     "output_type": "display_data"
    },
    {
     "data": {
      "text/html": [
       "<b>R04429</b>: [\"<span style='color: #a87f75'>Node15327</span>\", \"<span style='color: #554a79'>Node19398</span>\", \"<span style='color: #fd79b7'>Node28120</span>\"] (butyryl-[acp]:NAD+ trans-2-oxidoreductase; Butyryl-[acp] + NAD+ <=> But-2-enoyl-[acyl-carrier protein] + NADH + H+)"
      ],
      "text/plain": [
       "<IPython.core.display.HTML object>"
      ]
     },
     "metadata": {},
     "output_type": "display_data"
    },
    {
     "data": {
      "text/html": [
       "<b>R02670</b>: [\"<span style='color: #fd79b7'>Node28120</span>\"] (2 3-Hydroxyanthranilate + 4 Oxygen <=> Cinnavalininate + 2 Superoxide + 2 Hydrogen peroxide + 2 H+)"
      ],
      "text/plain": [
       "<IPython.core.display.HTML object>"
      ]
     },
     "metadata": {},
     "output_type": "display_data"
    },
    {
     "data": {
      "text/html": [
       "<b>R05665</b>: [\"<span style='color: #21d139'>Node21166</span>\"] (m-Methylbenzoate + NADH + Oxygen + H+ <=> 1,6-Dihydroxy-5-methylcyclohexa-2,4-dienecarboxylate + NAD+)"
      ],
      "text/plain": [
       "<IPython.core.display.HTML object>"
      ]
     },
     "metadata": {},
     "output_type": "display_data"
    },
    {
     "data": {
      "text/html": [
       "<b>R00805</b>: [\"<span style='color: #073257'>Node55904</span>\"] (sucrose-6F-phosphate phosphohydrolase; Sucrose 6'-phosphate + H2O <=> Sucrose + Orthophosphate)"
      ],
      "text/plain": [
       "<IPython.core.display.HTML object>"
      ]
     },
     "metadata": {},
     "output_type": "display_data"
    },
    {
     "data": {
      "text/html": [
       "<b>R07456</b>: [\"<span style='color: #4c0ebb'>Node119365</span>\"] (D-ribulose 5-phosphate,D-glyceraldehyde 3-phosphate pyridoxal 5'-phosphate-lyase; D-Glyceraldehyde 3-phosphate + D-Ribulose 5-phosphate + L-Glutamine <=> Pyridoxal phosphate + L-Glutamate + Orthophosphate + 3 H2O)"
      ],
      "text/plain": [
       "<IPython.core.display.HTML object>"
      ]
     },
     "metadata": {},
     "output_type": "display_data"
    },
    {
     "data": {
      "text/html": [
       "<b>R07456</b>: [\"<span style='color: #4c0ebb'>Node119365</span>\", \"<span style='color: #ffd3f8'>Node126898</span>\"] (D-ribulose 5-phosphate,D-glyceraldehyde 3-phosphate pyridoxal 5'-phosphate-lyase; D-Glyceraldehyde 3-phosphate + D-Ribulose 5-phosphate + L-Glutamine <=> Pyridoxal phosphate + L-Glutamate + Orthophosphate + 3 H2O)"
      ],
      "text/plain": [
       "<IPython.core.display.HTML object>"
      ]
     },
     "metadata": {},
     "output_type": "display_data"
    },
    {
     "data": {
      "text/html": [
       "<b>R07092</b>: [\"<span style='color: #073257'>Node55904</span>\"] (1,1-dichloroethylene-epoxide:glutathione S-(chloroepoxyethyl)transferase [2-(S-glutathionyl)acetyl-chloride-forming]; 1,1-Dichloroethylene epoxide + Glutathione <=> 2-(S-Glutathionyl)acetyl chloride + Hydrochloric acid)"
      ],
      "text/plain": [
       "<IPython.core.display.HTML object>"
      ]
     },
     "metadata": {},
     "output_type": "display_data"
    },
    {
     "data": {
      "text/html": [
       "<b>R08769</b>: [\"<span style='color: #3a3787'>Node52227</span>\"] (S-adenosyl-L-methionine:2-polyprenyl-6-hydroxyphenol 6-O-methyltransferase; S-adenosyl-L-methionine:3-(all-trans-polyprenyl)benzene-1,2-diol 2-O-methyltransferase; 2-Polyprenyl-6-hydroxyphenol + S-Adenosyl-L-methionine <=> 2-Polyprenyl-6-methoxyphenol + S-Adenosyl-L-homocysteine)"
      ],
      "text/plain": [
       "<IPython.core.display.HTML object>"
      ]
     },
     "metadata": {},
     "output_type": "display_data"
    },
    {
     "data": {
      "text/html": [
       "<b>R01867</b>: [\"<span style='color: #74553b'>Node147305</span>\"] ((S)-dihydroorotate:fumarate oxidoreductase; (S)-Dihydroorotate + Fumarate <=> Orotate + Succinate)"
      ],
      "text/plain": [
       "<IPython.core.display.HTML object>"
      ]
     },
     "metadata": {},
     "output_type": "display_data"
    },
    {
     "data": {
      "text/html": [
       "<b>R03869</b>: [\"<span style='color: #fd79b7'>Node28120</span>\"] ((S)-Methylmalonate semialdehyde:NAD+ oxidoreductase; (S)-Methylmalonate semialdehyde + NAD+ + H2O <=> Methylmalonate + NADH + H+)"
      ],
      "text/plain": [
       "<IPython.core.display.HTML object>"
      ]
     },
     "metadata": {},
     "output_type": "display_data"
    },
    {
     "data": {
      "text/html": [
       "<b>R03869</b>: [\"<span style='color: #fd79b7'>Node28120</span>\", \"<span style='color: #073257'>Node55904</span>\"] ((S)-Methylmalonate semialdehyde:NAD+ oxidoreductase; (S)-Methylmalonate semialdehyde + NAD+ + H2O <=> Methylmalonate + NADH + H+)"
      ],
      "text/plain": [
       "<IPython.core.display.HTML object>"
      ]
     },
     "metadata": {},
     "output_type": "display_data"
    },
    {
     "data": {
      "text/html": [
       "<b>R00940</b>: [\"<span style='color: #a87f75'>Node15327</span>\"] (5,6,7,8-tetrahydrofolate:NADP+ oxidoreductase; Tetrahydrofolate + 2 NADP+ <=> Folate + 2 NADPH + 2 H+)"
      ],
      "text/plain": [
       "<IPython.core.display.HTML object>"
      ]
     },
     "metadata": {},
     "output_type": "display_data"
    },
    {
     "data": {
      "text/html": [
       "<b>R00940</b>: [\"<span style='color: #a87f75'>Node15327</span>\", \"<span style='color: #fd79b7'>Node28120</span>\"] (5,6,7,8-tetrahydrofolate:NADP+ oxidoreductase; Tetrahydrofolate + 2 NADP+ <=> Folate + 2 NADPH + 2 H+)"
      ],
      "text/plain": [
       "<IPython.core.display.HTML object>"
      ]
     },
     "metadata": {},
     "output_type": "display_data"
    },
    {
     "data": {
      "text/html": [
       "<b>R07704</b>: [\"<span style='color: #a87f75'>Node15327</span>\"] (anthracene,NADH:oxygen oxidoreductase (1,2-hydroxylating); Anthracene + Oxygen + NADH + H+ <=> Anthracene-cis-1,2-dihydrodiol + NAD+)"
      ],
      "text/plain": [
       "<IPython.core.display.HTML object>"
      ]
     },
     "metadata": {},
     "output_type": "display_data"
    },
    {
     "data": {
      "text/html": [
       "<b>R09836</b>: [\"<span style='color: #21d139'>Node21166</span>\"] (2-oxepin-2(3H)-ylideneacetyl-CoA hydrolyase; 2-Oxepin-2(3H)-ylideneacetyl-CoA + H2O <=> 3-Oxo-5,6-dehydrosuberyl-CoA semialdehyde)"
      ],
      "text/plain": [
       "<IPython.core.display.HTML object>"
      ]
     },
     "metadata": {},
     "output_type": "display_data"
    },
    {
     "data": {
      "text/html": [
       "<b>R10086</b>: [\"<span style='color: #fd79b7'>Node28120</span>\"] (L-glutamate:ferredoxin oxidoreductase (deaminating); L-Glutamate + 2 Oxidized ferredoxin + H2O <=> Ammonia + 2-Oxoglutarate + 2 Reduced ferredoxin + 2 H+)"
      ],
      "text/plain": [
       "<IPython.core.display.HTML object>"
      ]
     },
     "metadata": {},
     "output_type": "display_data"
    },
    {
     "data": {
      "text/html": [
       "<b>R02199</b>: [\"<span style='color: #fd79b7'>Node28120</span>\"] (L-Isoleucine:2-oxoglutarate aminotransferase; L-Isoleucine + 2-Oxoglutarate <=> (S)-3-Methyl-2-oxopentanoic acid + L-Glutamate)"
      ],
      "text/plain": [
       "<IPython.core.display.HTML object>"
      ]
     },
     "metadata": {},
     "output_type": "display_data"
    },
    {
     "data": {
      "text/html": [
       "<b>R00669</b>: [\"<span style='color: #fd79b7'>Node28120</span>\"] (N2-Acetyl-L-ornithine amidohydrolase; N-Acetylornithine + H2O <=> Acetate + L-Ornithine)"
      ],
      "text/plain": [
       "<IPython.core.display.HTML object>"
      ]
     },
     "metadata": {},
     "output_type": "display_data"
    },
    {
     "data": {
      "text/html": [
       "<b>R01226</b>: [\"<span style='color: #74553b'>Node147305</span>\"] (5,10-Methylenetetrahydrofolate:3-methyl-2-oxobutanoate hydroxymethyltransferase; 5,10-Methylenetetrahydrofolate + 3-Methyl-2-oxobutanoic acid + H2O <=> Tetrahydrofolate + 2-Dehydropantoate)"
      ],
      "text/plain": [
       "<IPython.core.display.HTML object>"
      ]
     },
     "metadata": {},
     "output_type": "display_data"
    },
    {
     "data": {
      "text/html": [
       "<b>R02098</b>: [\"<span style='color: #74553b'>Node147305</span>\"] (ATP:dUMP phosphotransferase; ATP + dUMP <=> ADP + dUDP)"
      ],
      "text/plain": [
       "<IPython.core.display.HTML object>"
      ]
     },
     "metadata": {},
     "output_type": "display_data"
    },
    {
     "data": {
      "text/html": [
       "<b>R02098</b>: [\"<span style='color: #74553b'>Node147305</span>\", \"<span style='color: #fd79b7'>Node28120</span>\"] (ATP:dUMP phosphotransferase; ATP + dUMP <=> ADP + dUDP)"
      ],
      "text/plain": [
       "<IPython.core.display.HTML object>"
      ]
     },
     "metadata": {},
     "output_type": "display_data"
    },
    {
     "data": {
      "text/html": [
       "<b>R10348</b>: [\"<span style='color: #bebf59'>Node55420</span>\"] (GTP 7,8-8,9-dihydrolase (cyclizing, formate-releasing, diphosphate-releasing); GTP + H2O <=> 7,8-Dihydroneopterin 2',3'-cyclic phosphate + Formate + Diphosphate)"
      ],
      "text/plain": [
       "<IPython.core.display.HTML object>"
      ]
     },
     "metadata": {},
     "output_type": "display_data"
    },
    {
     "data": {
      "text/html": [
       "<b>R10348</b>: [\"<span style='color: #bebf59'>Node55420</span>\", \"<span style='color: #073257'>Node55904</span>\"] (GTP 7,8-8,9-dihydrolase (cyclizing, formate-releasing, diphosphate-releasing); GTP + H2O <=> 7,8-Dihydroneopterin 2',3'-cyclic phosphate + Formate + Diphosphate)"
      ],
      "text/plain": [
       "<IPython.core.display.HTML object>"
      ]
     },
     "metadata": {},
     "output_type": "display_data"
    },
    {
     "data": {
      "text/html": [
       "<b>R01986</b>: [\"<span style='color: #fd79b7'>Node28120</span>\"] (4-Aminobutyraldehyde:NAD+ oxidoreductase; 4-Aminobutyraldehyde + NADP+ + H2O <=> 4-Aminobutanoate + NADPH + H+)"
      ],
      "text/plain": [
       "<IPython.core.display.HTML object>"
      ]
     },
     "metadata": {},
     "output_type": "display_data"
    },
    {
     "data": {
      "text/html": [
       "<b>R01986</b>: [\"<span style='color: #fd79b7'>Node28120</span>\", \"<span style='color: #073257'>Node55904</span>\"] (4-Aminobutyraldehyde:NAD+ oxidoreductase; 4-Aminobutyraldehyde + NADP+ + H2O <=> 4-Aminobutanoate + NADPH + H+)"
      ],
      "text/plain": [
       "<IPython.core.display.HTML object>"
      ]
     },
     "metadata": {},
     "output_type": "display_data"
    },
    {
     "data": {
      "text/html": [
       "<b>R01827</b>: [\"<span style='color: #a87f75'>Node15327</span>\"] (sedoheptulose-7-phosphate:D-glyceraldehyde-3-phosphate glyceronetransferase; Sedoheptulose 7-phosphate + D-Glyceraldehyde 3-phosphate <=> D-Erythrose 4-phosphate + beta-D-Fructose 6-phosphate)"
      ],
      "text/plain": [
       "<IPython.core.display.HTML object>"
      ]
     },
     "metadata": {},
     "output_type": "display_data"
    },
    {
     "data": {
      "text/html": [
       "<b>R01827</b>: [\"<span style='color: #a87f75'>Node15327</span>\", \"<span style='color: #21d139'>Node21166</span>\"] (sedoheptulose-7-phosphate:D-glyceraldehyde-3-phosphate glyceronetransferase; Sedoheptulose 7-phosphate + D-Glyceraldehyde 3-phosphate <=> D-Erythrose 4-phosphate + beta-D-Fructose 6-phosphate)"
      ],
      "text/plain": [
       "<IPython.core.display.HTML object>"
      ]
     },
     "metadata": {},
     "output_type": "display_data"
    },
    {
     "data": {
      "text/html": [
       "<b>R01827</b>: [\"<span style='color: #a87f75'>Node15327</span>\", \"<span style='color: #21d139'>Node21166</span>\", \"<span style='color: #073257'>Node55904</span>\"] (sedoheptulose-7-phosphate:D-glyceraldehyde-3-phosphate glyceronetransferase; Sedoheptulose 7-phosphate + D-Glyceraldehyde 3-phosphate <=> D-Erythrose 4-phosphate + beta-D-Fructose 6-phosphate)"
      ],
      "text/plain": [
       "<IPython.core.display.HTML object>"
      ]
     },
     "metadata": {},
     "output_type": "display_data"
    },
    {
     "data": {
      "text/html": [
       "<b>R01623</b>: [\"<span style='color: #fd79b7'>Node28120</span>\"] ([Acyl-carrier-protein] 4'-pantetheine-phosphohydrolase; Acyl-carrier protein + H2O <=> Pantetheine 4'-phosphate + Apo-[acyl-carrier-protein])"
      ],
      "text/plain": [
       "<IPython.core.display.HTML object>"
      ]
     },
     "metadata": {},
     "output_type": "display_data"
    },
    {
     "data": {
      "text/html": [
       "<b>R07094</b>: [\"<span style='color: #073257'>Node55904</span>\"] (2-(S-glutathionyl)acetyl-chloride:glutathione 2-(S-glutathionyl)acetyltransferase; 2-(S-Glutathionyl)acetyl chloride + Glutathione <=> 2-(S-Glutathionyl)acetyl glutathione + Hydrochloric acid)"
      ],
      "text/plain": [
       "<IPython.core.display.HTML object>"
      ]
     },
     "metadata": {},
     "output_type": "display_data"
    },
    {
     "data": {
      "text/html": [
       "<b>R10831</b>: [\"<span style='color: #a87f75'>Node15327</span>\"] (G00711 + H2O <=> G10008 + N-Acetyl-D-glucosamine)"
      ],
      "text/plain": [
       "<IPython.core.display.HTML object>"
      ]
     },
     "metadata": {},
     "output_type": "display_data"
    },
    {
     "data": {
      "text/html": [
       "<b>R10831</b>: [\"<span style='color: #a87f75'>Node15327</span>\", \"<span style='color: #fd79b7'>Node28120</span>\"] (G00711 + H2O <=> G10008 + N-Acetyl-D-glucosamine)"
      ],
      "text/plain": [
       "<IPython.core.display.HTML object>"
      ]
     },
     "metadata": {},
     "output_type": "display_data"
    },
    {
     "data": {
      "text/html": [
       "<b>R04988</b>: [\"<span style='color: #3a3787'>Node52227</span>\"] (S-adenosyl-L-methionine:3-(all-trans-octaprenyl)benzene-1,2-diol 2-O-methyltransferase; 2-Octaprenyl-6-hydroxyphenol + S-Adenosyl-L-methionine <=> 2-Octaprenyl-6-methoxyphenol + S-Adenosyl-L-homocysteine)"
      ],
      "text/plain": [
       "<IPython.core.display.HTML object>"
      ]
     },
     "metadata": {},
     "output_type": "display_data"
    },
    {
     "data": {
      "text/html": [
       "<b>R01874</b>: [\"<span style='color: #fd79b7'>Node28120</span>\"] (D-cysteine sulfide-lyase (deaminating; pyruvate-forming); D-Cysteine + H2O <=> Hydrogen sulfide + Ammonia + Pyruvate)"
      ],
      "text/plain": [
       "<IPython.core.display.HTML object>"
      ]
     },
     "metadata": {},
     "output_type": "display_data"
    },
    {
     "data": {
      "text/html": [
       "<b>R09840</b>: [\"<span style='color: #21d139'>Node21166</span>\"] (Phenylacetyl-CoA + H2O <=> Phenylacetic acid + CoA)"
      ],
      "text/plain": [
       "<IPython.core.display.HTML object>"
      ]
     },
     "metadata": {},
     "output_type": "display_data"
    },
    {
     "data": {
      "text/html": [
       "<b>R05423</b>: [\"<span style='color: #a87f75'>Node15327</span>\"] (Fluorene + Oxygen + NADH + H+ <=> (+)-(3S,4R)-cis-3,4-Dihydroxy-3,4-dihydrofluorene + NAD+)"
      ],
      "text/plain": [
       "<IPython.core.display.HTML object>"
      ]
     },
     "metadata": {},
     "output_type": "display_data"
    },
    {
     "data": {
      "text/html": [
       "<b>R01625</b>: [\"<span style='color: #74553b'>Node147305</span>\"] (CoA:apo-[acyl-carrier-protein] pantetheinephosphotransferase; CoA + Apo-[acyl-carrier-protein] <=> Adenosine 3',5'-bisphosphate + Acyl-carrier protein)"
      ],
      "text/plain": [
       "<IPython.core.display.HTML object>"
      ]
     },
     "metadata": {},
     "output_type": "display_data"
    },
    {
     "data": {
      "text/html": [
       "<b>R01625</b>: [\"<span style='color: #74553b'>Node147305</span>\", \"<span style='color: #a87f75'>Node15327</span>\"] (CoA:apo-[acyl-carrier-protein] pantetheinephosphotransferase; CoA + Apo-[acyl-carrier-protein] <=> Adenosine 3',5'-bisphosphate + Acyl-carrier protein)"
      ],
      "text/plain": [
       "<IPython.core.display.HTML object>"
      ]
     },
     "metadata": {},
     "output_type": "display_data"
    },
    {
     "data": {
      "text/html": [
       "<b>R01625</b>: [\"<span style='color: #74553b'>Node147305</span>\", \"<span style='color: #a87f75'>Node15327</span>\", \"<span style='color: #fd79b7'>Node28120</span>\"] (CoA:apo-[acyl-carrier-protein] pantetheinephosphotransferase; CoA + Apo-[acyl-carrier-protein] <=> Adenosine 3',5'-bisphosphate + Acyl-carrier protein)"
      ],
      "text/plain": [
       "<IPython.core.display.HTML object>"
      ]
     },
     "metadata": {},
     "output_type": "display_data"
    },
    {
     "data": {
      "text/html": [
       "<b>R04378</b>: [\"<span style='color: #fd79b7'>Node28120</span>\"] (1-(5'-Phosphoribosyl)-5-amino-4-imidazolecarboxamide:pyrophosphate phosphoribosyltransferase; 1-(5'-Phosphoribosyl)-5-amino-4-imidazolecarboxamide + Diphosphate <=> 5-Amino-4-imidazolecarboxyamide + 5-Phospho-alpha-D-ribose 1-diphosphate)"
      ],
      "text/plain": [
       "<IPython.core.display.HTML object>"
      ]
     },
     "metadata": {},
     "output_type": "display_data"
    },
    {
     "data": {
      "text/html": [
       "<b>R10068</b>: [\"<span style='color: #4c0ebb'>Node119365</span>\"] (magnesium-protoporphyrin-IX 13-monomethyl ester,NADPH:oxygen oxidoreductase (hydroxylating); Magnesium protoporphyrin monomethyl ester + 3 NADPH + 3 H+ + 3 Oxygen <=> Divinylprotochlorophyllide + 3 NADP+ + 5 H2O)"
      ],
      "text/plain": [
       "<IPython.core.display.HTML object>"
      ]
     },
     "metadata": {},
     "output_type": "display_data"
    },
    {
     "data": {
      "text/html": [
       "<b>R00698</b>: [\"<span style='color: #fd79b7'>Node28120</span>\"] (L-phenylalanine:oxygen oxidoreductase (decarboxylating); L-Phenylalanine + Oxygen <=> 2-Phenylacetamide + CO2)"
      ],
      "text/plain": [
       "<IPython.core.display.HTML object>"
      ]
     },
     "metadata": {},
     "output_type": "display_data"
    },
    {
     "data": {
      "text/html": [
       "<b>R05426</b>: [\"<span style='color: #a87f75'>Node15327</span>\"] ((S)-1-Phenylethanol + Oxygen + NADH + H+ <=> Acetophenone + NAD+ + 2 H2O)"
      ],
      "text/plain": [
       "<IPython.core.display.HTML object>"
      ]
     },
     "metadata": {},
     "output_type": "display_data"
    },
    {
     "data": {
      "text/html": [
       "<b>R07809</b>: [\"<span style='color: #a87f75'>Node15327</span>\"] (G13074 + H2O <=> G01391 + N-Acetyl-D-glucosamine)"
      ],
      "text/plain": [
       "<IPython.core.display.HTML object>"
      ]
     },
     "metadata": {},
     "output_type": "display_data"
    },
    {
     "data": {
      "text/html": [
       "<b>R07809</b>: [\"<span style='color: #a87f75'>Node15327</span>\", \"<span style='color: #fd79b7'>Node28120</span>\"] (G13074 + H2O <=> G01391 + N-Acetyl-D-glucosamine)"
      ],
      "text/plain": [
       "<IPython.core.display.HTML object>"
      ]
     },
     "metadata": {},
     "output_type": "display_data"
    },
    {
     "data": {
      "text/html": [
       "<b>R03471</b>: [\"<span style='color: #a87f75'>Node15327</span>\"] (ATP:4-amino-5-hydroxymethyl-2-methylpyrimidine 5-phosphotransferase; ATP + 4-Amino-5-hydroxymethyl-2-methylpyrimidine <=> ADP + 4-Amino-2-methyl-5-(phosphooxymethyl)pyrimidine)"
      ],
      "text/plain": [
       "<IPython.core.display.HTML object>"
      ]
     },
     "metadata": {},
     "output_type": "display_data"
    },
    {
     "data": {
      "text/html": [
       "<b>R03471</b>: [\"<span style='color: #a87f75'>Node15327</span>\", \"<span style='color: #073257'>Node55904</span>\"] (ATP:4-amino-5-hydroxymethyl-2-methylpyrimidine 5-phosphotransferase; ATP + 4-Amino-5-hydroxymethyl-2-methylpyrimidine <=> ADP + 4-Amino-2-methyl-5-(phosphooxymethyl)pyrimidine)"
      ],
      "text/plain": [
       "<IPython.core.display.HTML object>"
      ]
     },
     "metadata": {},
     "output_type": "display_data"
    },
    {
     "data": {
      "text/html": [
       "<b>R00660</b>: [\"<span style='color: #74553b'>Node147305</span>\"] (Phosphoenolpyruvate:UDP-N-acetyl-D-glucosamine 1-carboxyvinyl-transferase; Phosphoenolpyruvate + UDP-N-acetyl-alpha-D-glucosamine <=> UDP-N-acetyl-3-(1-carboxyvinyl)-D-glucosamine + Orthophosphate)"
      ],
      "text/plain": [
       "<IPython.core.display.HTML object>"
      ]
     },
     "metadata": {},
     "output_type": "display_data"
    },
    {
     "data": {
      "text/html": [
       "<b>R10118</b>: [\"<span style='color: #a87f75'>Node15327</span>\"] (glutaryl-[acp]-methyl-ester:NADP+ oxidoreductase; Enoylglutaryl-[acp] methyl ester + NADPH + H+ <=> Glutaryl-[acp] methyl ester + NADP+)"
      ],
      "text/plain": [
       "<IPython.core.display.HTML object>"
      ]
     },
     "metadata": {},
     "output_type": "display_data"
    },
    {
     "data": {
      "text/html": [
       "<b>R10118</b>: [\"<span style='color: #a87f75'>Node15327</span>\", \"<span style='color: #554a79'>Node19398</span>\"] (glutaryl-[acp]-methyl-ester:NADP+ oxidoreductase; Enoylglutaryl-[acp] methyl ester + NADPH + H+ <=> Glutaryl-[acp] methyl ester + NADP+)"
      ],
      "text/plain": [
       "<IPython.core.display.HTML object>"
      ]
     },
     "metadata": {},
     "output_type": "display_data"
    },
    {
     "data": {
      "text/html": [
       "<b>R10118</b>: [\"<span style='color: #a87f75'>Node15327</span>\", \"<span style='color: #554a79'>Node19398</span>\", \"<span style='color: #fd79b7'>Node28120</span>\"] (glutaryl-[acp]-methyl-ester:NADP+ oxidoreductase; Enoylglutaryl-[acp] methyl ester + NADPH + H+ <=> Glutaryl-[acp] methyl ester + NADP+)"
      ],
      "text/plain": [
       "<IPython.core.display.HTML object>"
      ]
     },
     "metadata": {},
     "output_type": "display_data"
    },
    {
     "data": {
      "text/html": [
       "<b>R04587</b>: [\"<span style='color: #a87f75'>Node15327</span>\"] (UDP-3-O-[(3R)-3-hydroxymyristoyl]-N-acetylglucosamine amidohydrolase; UDP-3-O-(3-hydroxytetradecanoyl)-N-acetylglucosamine + H2O <=> UDP-3-O-(3-hydroxytetradecanoyl)-D-glucosamine + Acetate)"
      ],
      "text/plain": [
       "<IPython.core.display.HTML object>"
      ]
     },
     "metadata": {},
     "output_type": "display_data"
    },
    {
     "data": {
      "text/html": [
       "<b>R04587</b>: [\"<span style='color: #a87f75'>Node15327</span>\", \"<span style='color: #554a79'>Node19398</span>\"] (UDP-3-O-[(3R)-3-hydroxymyristoyl]-N-acetylglucosamine amidohydrolase; UDP-3-O-(3-hydroxytetradecanoyl)-N-acetylglucosamine + H2O <=> UDP-3-O-(3-hydroxytetradecanoyl)-D-glucosamine + Acetate)"
      ],
      "text/plain": [
       "<IPython.core.display.HTML object>"
      ]
     },
     "metadata": {},
     "output_type": "display_data"
    },
    {
     "data": {
      "text/html": [
       "<b>R04587</b>: [\"<span style='color: #a87f75'>Node15327</span>\", \"<span style='color: #554a79'>Node19398</span>\", \"<span style='color: #21d139'>Node21166</span>\"] (UDP-3-O-[(3R)-3-hydroxymyristoyl]-N-acetylglucosamine amidohydrolase; UDP-3-O-(3-hydroxytetradecanoyl)-N-acetylglucosamine + H2O <=> UDP-3-O-(3-hydroxytetradecanoyl)-D-glucosamine + Acetate)"
      ],
      "text/plain": [
       "<IPython.core.display.HTML object>"
      ]
     },
     "metadata": {},
     "output_type": "display_data"
    },
    {
     "data": {
      "text/html": [
       "<b>R03643</b>: [\"<span style='color: #073257'>Node55904</span>\"] (NADH:(quinone-acceptor) oxidoreductase; Vitamin K + NADH + H+ <=> Reduced Vitamin K + NAD+)"
      ],
      "text/plain": [
       "<IPython.core.display.HTML object>"
      ]
     },
     "metadata": {},
     "output_type": "display_data"
    },
    {
     "data": {
      "text/html": [
       "<b>R07100</b>: [\"<span style='color: #073257'>Node55904</span>\"] (trichloroethene:glutathione S-(1,2-dichlorovinyl)transferase; Trichloroethene + Glutathione <=> S-(1,2-Dichlorovinyl)glutathione + Hydrochloric acid)"
      ],
      "text/plain": [
       "<IPython.core.display.HTML object>"
      ]
     },
     "metadata": {},
     "output_type": "display_data"
    },
    {
     "data": {
      "text/html": [
       "<b>R00513</b>: [\"<span style='color: #74553b'>Node147305</span>\"] (ATP:cytidine 5'-phosphotransferase; ATP + Cytidine <=> ADP + CMP)"
      ],
      "text/plain": [
       "<IPython.core.display.HTML object>"
      ]
     },
     "metadata": {},
     "output_type": "display_data"
    },
    {
     "data": {
      "text/html": [
       "<b>R00513</b>: [\"<span style='color: #74553b'>Node147305</span>\", \"<span style='color: #21d139'>Node21166</span>\"] (ATP:cytidine 5'-phosphotransferase; ATP + Cytidine <=> ADP + CMP)"
      ],
      "text/plain": [
       "<IPython.core.display.HTML object>"
      ]
     },
     "metadata": {},
     "output_type": "display_data"
    },
    {
     "data": {
      "text/html": [
       "<b>R01602</b>: [\"<span style='color: #21d139'>Node21166</span>\"] (D-glucose 1-epimerase; alpha-D-Glucose <=> beta-D-Glucose)"
      ],
      "text/plain": [
       "<IPython.core.display.HTML object>"
      ]
     },
     "metadata": {},
     "output_type": "display_data"
    },
    {
     "data": {
      "text/html": [
       "<b>R00227</b>: [\"<span style='color: #fd79b7'>Node28120</span>\"] (Acetyl-CoA hydrolase; Acetyl-CoA + H2O <=> CoA + Acetate)"
      ],
      "text/plain": [
       "<IPython.core.display.HTML object>"
      ]
     },
     "metadata": {},
     "output_type": "display_data"
    },
    {
     "data": {
      "text/html": [
       "<b>R00227</b>: [\"<span style='color: #fd79b7'>Node28120</span>\", \"<span style='color: #073257'>Node55904</span>\"] (Acetyl-CoA hydrolase; Acetyl-CoA + H2O <=> CoA + Acetate)"
      ],
      "text/plain": [
       "<IPython.core.display.HTML object>"
      ]
     },
     "metadata": {},
     "output_type": "display_data"
    },
    {
     "data": {
      "text/html": [
       "<b>R07113</b>: [\"<span style='color: #073257'>Node55904</span>\"] (1,2-dibromoethane:glutathione ethylenetransferase (episulfonium-forming); 1,2-Dibromoethane + Glutathione + H+ <=> Glutathione episulfonium ion + 2 Hydrobromic acid)"
      ],
      "text/plain": [
       "<IPython.core.display.HTML object>"
      ]
     },
     "metadata": {},
     "output_type": "display_data"
    },
    {
     "data": {
      "text/html": [
       "<b>R07601</b>: [\"<span style='color: #74553b'>Node147305</span>\"] (4-Methyl-2-oxopentanoate + Thiamin diphosphate <=> 3-Methyl-1-hydroxybutyl-ThPP + CO2)"
      ],
      "text/plain": [
       "<IPython.core.display.HTML object>"
      ]
     },
     "metadata": {},
     "output_type": "display_data"
    },
    {
     "data": {
      "text/html": [
       "<b>R09837</b>: [\"<span style='color: #21d139'>Node21166</span>\"] (2-(1,2-epoxy-1,2-dihydrophenyl)acetyl-CoA isomerase; 2-(1,2-Epoxy-1,2-dihydrophenyl)acetyl-CoA <=> 2-Oxepin-2(3H)-ylideneacetyl-CoA)"
      ],
      "text/plain": [
       "<IPython.core.display.HTML object>"
      ]
     },
     "metadata": {},
     "output_type": "display_data"
    },
    {
     "data": {
      "text/html": [
       "<b>R00405</b>: [\"<span style='color: #a87f75'>Node15327</span>\"] (Succinate:CoA ligase (ADP-forming); ATP + Succinate + CoA <=> ADP + Orthophosphate + Succinyl-CoA)"
      ],
      "text/plain": [
       "<IPython.core.display.HTML object>"
      ]
     },
     "metadata": {},
     "output_type": "display_data"
    },
    {
     "data": {
      "text/html": [
       "<b>R00405</b>: [\"<span style='color: #a87f75'>Node15327</span>\", \"<span style='color: #21d139'>Node21166</span>\"] (Succinate:CoA ligase (ADP-forming); ATP + Succinate + CoA <=> ADP + Orthophosphate + Succinyl-CoA)"
      ],
      "text/plain": [
       "<IPython.core.display.HTML object>"
      ]
     },
     "metadata": {},
     "output_type": "display_data"
    },
    {
     "data": {
      "text/html": [
       "<b>R00405</b>: [\"<span style='color: #a87f75'>Node15327</span>\", \"<span style='color: #21d139'>Node21166</span>\", \"<span style='color: #fd79b7'>Node28120</span>\"] (Succinate:CoA ligase (ADP-forming); ATP + Succinate + CoA <=> ADP + Orthophosphate + Succinyl-CoA)"
      ],
      "text/plain": [
       "<IPython.core.display.HTML object>"
      ]
     },
     "metadata": {},
     "output_type": "display_data"
    },
    {
     "data": {
      "text/html": [
       "<b>R01086</b>: [\"<span style='color: #4c0ebb'>Node119365</span>\"] (2-(Nomega-L-arginino)succinate arginine-lyase (fumarate-forming); N-(L-Arginino)succinate <=> Fumarate + L-Arginine)"
      ],
      "text/plain": [
       "<IPython.core.display.HTML object>"
      ]
     },
     "metadata": {},
     "output_type": "display_data"
    },
    {
     "data": {
      "text/html": [
       "<b>R01086</b>: [\"<span style='color: #4c0ebb'>Node119365</span>\", \"<span style='color: #ffd3f8'>Node126898</span>\"] (2-(Nomega-L-arginino)succinate arginine-lyase (fumarate-forming); N-(L-Arginino)succinate <=> Fumarate + L-Arginine)"
      ],
      "text/plain": [
       "<IPython.core.display.HTML object>"
      ]
     },
     "metadata": {},
     "output_type": "display_data"
    },
    {
     "data": {
      "text/html": [
       "<b>R04001</b>: [\"<span style='color: #4c0ebb'>Node119365</span>\"] (3-Isopropylmalate hydro-lyase; (2R,3S)-3-Isopropylmalate <=> 2-Isopropylmaleate + H2O)"
      ],
      "text/plain": [
       "<IPython.core.display.HTML object>"
      ]
     },
     "metadata": {},
     "output_type": "display_data"
    },
    {
     "data": {
      "text/html": [
       "<b>R04001</b>: [\"<span style='color: #4c0ebb'>Node119365</span>\", \"<span style='color: #ffd3f8'>Node126898</span>\"] (3-Isopropylmalate hydro-lyase; (2R,3S)-3-Isopropylmalate <=> 2-Isopropylmaleate + H2O)"
      ],
      "text/plain": [
       "<IPython.core.display.HTML object>"
      ]
     },
     "metadata": {},
     "output_type": "display_data"
    },
    {
     "data": {
      "text/html": [
       "<b>R04779</b>: [\"<span style='color: #74553b'>Node147305</span>\"] (ATP:D-fructose-6-phosphate 1-phosphotransferase; ATP + beta-D-Fructose 6-phosphate <=> ADP + beta-D-Fructose 1,6-bisphosphate)"
      ],
      "text/plain": [
       "<IPython.core.display.HTML object>"
      ]
     },
     "metadata": {},
     "output_type": "display_data"
    },
    {
     "data": {
      "text/html": [
       "<b>R04779</b>: [\"<span style='color: #74553b'>Node147305</span>\", \"<span style='color: #fd79b7'>Node28120</span>\"] (ATP:D-fructose-6-phosphate 1-phosphotransferase; ATP + beta-D-Fructose 6-phosphate <=> ADP + beta-D-Fructose 1,6-bisphosphate)"
      ],
      "text/plain": [
       "<IPython.core.display.HTML object>"
      ]
     },
     "metadata": {},
     "output_type": "display_data"
    },
    {
     "data": {
      "text/html": [
       "<b>R02110</b>: [\"<span style='color: #fd79b7'>Node28120</span>\"] (1,4-alpha-D-Glucan:1,4-alpha-D-glucan 6-alpha-D-(1,4-alpha-D-glucano)-transferase; Amylose <=> Starch)"
      ],
      "text/plain": [
       "<IPython.core.display.HTML object>"
      ]
     },
     "metadata": {},
     "output_type": "display_data"
    },
    {
     "data": {
      "text/html": [
       "<b>R02110</b>: [\"<span style='color: #fd79b7'>Node28120</span>\", \"<span style='color: #2a6e9d'>Node45985</span>\"] (1,4-alpha-D-Glucan:1,4-alpha-D-glucan 6-alpha-D-(1,4-alpha-D-glucano)-transferase; Amylose <=> Starch)"
      ],
      "text/plain": [
       "<IPython.core.display.HTML object>"
      ]
     },
     "metadata": {},
     "output_type": "display_data"
    },
    {
     "data": {
      "text/html": [
       "<b>R00371</b>: [\"<span style='color: #21d139'>Node21166</span>\"] (Acetyl-CoA:glycine C-acetyltransferase; Acetyl-CoA + Glycine <=> CoA + L-2-Amino-3-oxobutanoic acid)"
      ],
      "text/plain": [
       "<IPython.core.display.HTML object>"
      ]
     },
     "metadata": {},
     "output_type": "display_data"
    },
    {
     "data": {
      "text/html": [
       "<b>R04385</b>: [\"<span style='color: #fd79b7'>Node28120</span>\"] (biotin-carboxyl-carrier-protein:carbon-dioxide ligase (ADP-forming); ATP + Holo-[carboxylase] + HCO3- <=> ADP + Orthophosphate + Carboxybiotin-carboxyl-carrier protein)"
      ],
      "text/plain": [
       "<IPython.core.display.HTML object>"
      ]
     },
     "metadata": {},
     "output_type": "display_data"
    },
    {
     "data": {
      "text/html": [
       "<b>R08221</b>: [\"<span style='color: #74553b'>Node147305</span>\"] (5'-deoxy-5-fluorocytidine aminohydrolase; 5'-Deoxy-5-fluorocytidine + H2O <=> 5'-Deoxy-5-fluorouridine + Ammonia)"
      ],
      "text/plain": [
       "<IPython.core.display.HTML object>"
      ]
     },
     "metadata": {},
     "output_type": "display_data"
    },
    {
     "data": {
      "text/html": [
       "<b>R08221</b>: [\"<span style='color: #74553b'>Node147305</span>\", \"<span style='color: #21d139'>Node21166</span>\"] (5'-deoxy-5-fluorocytidine aminohydrolase; 5'-Deoxy-5-fluorocytidine + H2O <=> 5'-Deoxy-5-fluorouridine + Ammonia)"
      ],
      "text/plain": [
       "<IPython.core.display.HTML object>"
      ]
     },
     "metadata": {},
     "output_type": "display_data"
    },
    {
     "data": {
      "text/html": [
       "<b>R11896</b>: [\"<span style='color: #bebf59'>Node55420</span>\"] (5-fluorodeoxyuridine-triphosphate diphosphohydrolase; 5-Fluorodeoxyuridine triphosphate + H2O <=> 5-Fluorodeoxyuridine monophosphate + Diphosphate)"
      ],
      "text/plain": [
       "<IPython.core.display.HTML object>"
      ]
     },
     "metadata": {},
     "output_type": "display_data"
    },
    {
     "data": {
      "text/html": [
       "<b>R11896</b>: [\"<span style='color: #bebf59'>Node55420</span>\", \"<span style='color: #073257'>Node55904</span>\"] (5-fluorodeoxyuridine-triphosphate diphosphohydrolase; 5-Fluorodeoxyuridine triphosphate + H2O <=> 5-Fluorodeoxyuridine monophosphate + Diphosphate)"
      ],
      "text/plain": [
       "<IPython.core.display.HTML object>"
      ]
     },
     "metadata": {},
     "output_type": "display_data"
    },
    {
     "data": {
      "text/html": [
       "<b>R10039</b>: [\"<span style='color: #a87f75'>Node15327</span>\"] (beta-D-glucoside glucohydrolase; Lotaustralin + H2O <=> (2R)-2-Hydroxy-2-methylbutanenitrile + beta-D-Glucose)"
      ],
      "text/plain": [
       "<IPython.core.display.HTML object>"
      ]
     },
     "metadata": {},
     "output_type": "display_data"
    },
    {
     "data": {
      "text/html": [
       "<b>R10039</b>: [\"<span style='color: #a87f75'>Node15327</span>\", \"<span style='color: #fd79b7'>Node28120</span>\"] (beta-D-glucoside glucohydrolase; Lotaustralin + H2O <=> (2R)-2-Hydroxy-2-methylbutanenitrile + beta-D-Glucose)"
      ],
      "text/plain": [
       "<IPython.core.display.HTML object>"
      ]
     },
     "metadata": {},
     "output_type": "display_data"
    },
    {
     "data": {
      "text/html": [
       "<b>R03392</b>: [\"<span style='color: #a87f75'>Node15327</span>\"] (CDP-4-dehydro-3,6-dideoxy-D-glucose:NADP+ 3-oxydoreductase; CDP-4-dehydro-3,6-dideoxy-D-glucose + NADP+ + H2O <=> CDP-4-dehydro-6-deoxy-D-glucose + NADPH + H+)"
      ],
      "text/plain": [
       "<IPython.core.display.HTML object>"
      ]
     },
     "metadata": {},
     "output_type": "display_data"
    },
    {
     "data": {
      "text/html": [
       "<b>R03392</b>: [\"<span style='color: #a87f75'>Node15327</span>\", \"<span style='color: #21d139'>Node21166</span>\"] (CDP-4-dehydro-3,6-dideoxy-D-glucose:NADP+ 3-oxydoreductase; CDP-4-dehydro-3,6-dideoxy-D-glucose + NADP+ + H2O <=> CDP-4-dehydro-6-deoxy-D-glucose + NADPH + H+)"
      ],
      "text/plain": [
       "<IPython.core.display.HTML object>"
      ]
     },
     "metadata": {},
     "output_type": "display_data"
    },
    {
     "data": {
      "text/html": [
       "<b>R02869</b>: [\"<span style='color: #21d139'>Node21166</span>\"] (S-adenosylmethioninamine:spermidine 3-aminopropyltransferase; S-Adenosylmethioninamine + Spermidine <=> 5'-Methylthioadenosine + Spermine)"
      ],
      "text/plain": [
       "<IPython.core.display.HTML object>"
      ]
     },
     "metadata": {},
     "output_type": "display_data"
    },
    {
     "data": {
      "text/html": [
       "<b>R02869</b>: [\"<span style='color: #21d139'>Node21166</span>\", \"<span style='color: #fd79b7'>Node28120</span>\"] (S-adenosylmethioninamine:spermidine 3-aminopropyltransferase; S-Adenosylmethioninamine + Spermidine <=> 5'-Methylthioadenosine + Spermine)"
      ],
      "text/plain": [
       "<IPython.core.display.HTML object>"
      ]
     },
     "metadata": {},
     "output_type": "display_data"
    },
    {
     "data": {
      "text/html": [
       "<b>R09820</b>: [\"<span style='color: #21d139'>Node21166</span>\"] (3-oxo-5,6-dehydrosuberyl-CoA semialdehyde:NADP+ oxidoreductase; 3-Oxo-5,6-dehydrosuberyl-CoA semialdehyde + NADP+ + H2O <=> 3-Oxo-5,6-dehydrosuberyl-CoA + NADPH + H+)"
      ],
      "text/plain": [
       "<IPython.core.display.HTML object>"
      ]
     },
     "metadata": {},
     "output_type": "display_data"
    },
    {
     "data": {
      "text/html": [
       "<b>R01016</b>: [\"<span style='color: #073257'>Node55904</span>\"] (glycerone-phosphate phosphate-lyase (methylglyoxal-forming); Glycerone phosphate <=> Methylglyoxal + Orthophosphate)"
      ],
      "text/plain": [
       "<IPython.core.display.HTML object>"
      ]
     },
     "metadata": {},
     "output_type": "display_data"
    },
    {
     "data": {
      "text/html": [
       "<b>R00602</b>: [\"<span style='color: #fd79b7'>Node28120</span>\"] (methanol:hydrogen-peroxide oxidoreductase; Methanol + Hydrogen peroxide <=> Formaldehyde + 2 H2O)"
      ],
      "text/plain": [
       "<IPython.core.display.HTML object>"
      ]
     },
     "metadata": {},
     "output_type": "display_data"
    },
    {
     "data": {
      "text/html": [
       "<b>R02472</b>: [\"<span style='color: #74553b'>Node147305</span>\"] ((R)-pantoate:NADP+ 2-oxidoreductase; (R)-Pantoate + NADP+ <=> 2-Dehydropantoate + NADPH + H+)"
      ],
      "text/plain": [
       "<IPython.core.display.HTML object>"
      ]
     },
     "metadata": {},
     "output_type": "display_data"
    },
    {
     "data": {
      "text/html": [
       "<b>R02472</b>: [\"<span style='color: #74553b'>Node147305</span>\", \"<span style='color: #fd79b7'>Node28120</span>\"] ((R)-pantoate:NADP+ 2-oxidoreductase; (R)-Pantoate + NADP+ <=> 2-Dehydropantoate + NADPH + H+)"
      ],
      "text/plain": [
       "<IPython.core.display.HTML object>"
      ]
     },
     "metadata": {},
     "output_type": "display_data"
    },
    {
     "data": {
      "text/html": [
       "<b>R00878</b>: [\"<span style='color: #bebf59'>Node55420</span>\"] (alpha-D-Glucose aldose-ketose-isomerase; alpha-D-Glucose <=> D-Fructose)"
      ],
      "text/plain": [
       "<IPython.core.display.HTML object>"
      ]
     },
     "metadata": {},
     "output_type": "display_data"
    },
    {
     "data": {
      "text/html": [
       "<b>R00878</b>: [\"<span style='color: #bebf59'>Node55420</span>\", \"<span style='color: #073257'>Node55904</span>\"] (alpha-D-Glucose aldose-ketose-isomerase; alpha-D-Glucose <=> D-Fructose)"
      ],
      "text/plain": [
       "<IPython.core.display.HTML object>"
      ]
     },
     "metadata": {},
     "output_type": "display_data"
    },
    {
     "data": {
      "text/html": [
       "<b>R05149</b>: [\"<span style='color: #fd79b7'>Node28120</span>\"] (S-Adenosyl-L-methionine:1-precorrin-6Y C5,15-methyltransferase (C-12-decarboxylating); 2 S-Adenosyl-L-methionine + Precorrin 6Y <=> 2 S-Adenosyl-L-homocysteine + Precorrin 8X + CO2)"
      ],
      "text/plain": [
       "<IPython.core.display.HTML object>"
      ]
     },
     "metadata": {},
     "output_type": "display_data"
    },
    {
     "data": {
      "text/html": [
       "<b>R05149</b>: [\"<span style='color: #fd79b7'>Node28120</span>\", \"<span style='color: #073257'>Node55904</span>\"] (S-Adenosyl-L-methionine:1-precorrin-6Y C5,15-methyltransferase (C-12-decarboxylating); 2 S-Adenosyl-L-methionine + Precorrin 6Y <=> 2 S-Adenosyl-L-homocysteine + Precorrin 8X + CO2)"
      ],
      "text/plain": [
       "<IPython.core.display.HTML object>"
      ]
     },
     "metadata": {},
     "output_type": "display_data"
    },
    {
     "data": {
      "text/html": [
       "<b>R08620</b>: [\"<span style='color: #4c0ebb'>Node119365</span>\"] (2-(2'-methylthio)ethylmalate hydroxymutase; 2-(2'-Methylthio)ethylmalic acid <=> 3-(2'-Methylthio)ethylmalic acid)"
      ],
      "text/plain": [
       "<IPython.core.display.HTML object>"
      ]
     },
     "metadata": {},
     "output_type": "display_data"
    },
    {
     "data": {
      "text/html": [
       "<b>R08620</b>: [\"<span style='color: #4c0ebb'>Node119365</span>\", \"<span style='color: #ffd3f8'>Node126898</span>\"] (2-(2'-methylthio)ethylmalate hydroxymutase; 2-(2'-Methylthio)ethylmalic acid <=> 3-(2'-Methylthio)ethylmalic acid)"
      ],
      "text/plain": [
       "<IPython.core.display.HTML object>"
      ]
     },
     "metadata": {},
     "output_type": "display_data"
    },
    {
     "data": {
      "text/html": [
       "<b>R07414</b>: [\"<span style='color: #fd79b7'>Node28120</span>\"] (glutamate putrescine ligase; ATP + L-Glutamate + Putrescine <=> ADP + Orthophosphate + gamma-L-Glutamylputrescine)"
      ],
      "text/plain": [
       "<IPython.core.display.HTML object>"
      ]
     },
     "metadata": {},
     "output_type": "display_data"
    },
    {
     "data": {
      "text/html": [
       "<b>R00935</b>: [\"<span style='color: #fd79b7'>Node28120</span>\"] ((S)-Methylmalonate semialdehyde:NAD+ oxidoreductase (CoA-propanoylating); (S)-Methylmalonate semialdehyde + CoA + NAD+ <=> Propanoyl-CoA + CO2 + NADH + H+)"
      ],
      "text/plain": [
       "<IPython.core.display.HTML object>"
      ]
     },
     "metadata": {},
     "output_type": "display_data"
    },
    {
     "data": {
      "text/html": [
       "<b>R01825</b>: [\"<span style='color: #fd79b7'>Node28120</span>\"] (D-erythrose 4-phosphate:NAD+ oxidoreductase; D-Erythrose 4-phosphate + NAD+ + H2O <=> 4-Phospho-D-erythronate + NADH + H+)"
      ],
      "text/plain": [
       "<IPython.core.display.HTML object>"
      ]
     },
     "metadata": {},
     "output_type": "display_data"
    },
    {
     "data": {
      "text/html": [
       "<b>R00922</b>: [\"<span style='color: #fd79b7'>Node28120</span>\"] (2-Methyl-3-oxopropanoate:NAD+ oxidoreductase (CoA-propanoylating); 2-Methyl-3-oxopropanoate + CoA + NAD+ <=> Propanoyl-CoA + CO2 + NADH + H+)"
      ],
      "text/plain": [
       "<IPython.core.display.HTML object>"
      ]
     },
     "metadata": {},
     "output_type": "display_data"
    },
    {
     "data": {
      "text/html": [
       "<b>R00203</b>: [\"<span style='color: #fd79b7'>Node28120</span>\"] (pyruvaldehyde:NAD+ oxidoreductase; 2-oxopropanal:NAD+ oxidoreductase; Methylglyoxal + NAD+ + H2O <=> Pyruvate + NADH + H+)"
      ],
      "text/plain": [
       "<IPython.core.display.HTML object>"
      ]
     },
     "metadata": {},
     "output_type": "display_data"
    },
    {
     "data": {
      "text/html": [
       "<b>R02111</b>: [\"<span style='color: #fd79b7'>Node28120</span>\"] (1,4-alpha-D-Glucan:orthophosphate alpha-D-glucosyltransferase; Starch + Orthophosphate <=> Amylose + D-Glucose 1-phosphate)"
      ],
      "text/plain": [
       "<IPython.core.display.HTML object>"
      ]
     },
     "metadata": {},
     "output_type": "display_data"
    },
    {
     "data": {
      "text/html": [
       "<b>R02111</b>: [\"<span style='color: #fd79b7'>Node28120</span>\", \"<span style='color: #2a6e9d'>Node45985</span>\"] (1,4-alpha-D-Glucan:orthophosphate alpha-D-glucosyltransferase; Starch + Orthophosphate <=> Amylose + D-Glucose 1-phosphate)"
      ],
      "text/plain": [
       "<IPython.core.display.HTML object>"
      ]
     },
     "metadata": {},
     "output_type": "display_data"
    },
    {
     "data": {
      "text/html": [
       "<b>R00190</b>: [\"<span style='color: #fd79b7'>Node28120</span>\"] (AMP:diphosphate phospho-D-ribosyltransferase; AMP + Diphosphate <=> Adenine + 5-Phospho-alpha-D-ribose 1-diphosphate)"
      ],
      "text/plain": [
       "<IPython.core.display.HTML object>"
      ]
     },
     "metadata": {},
     "output_type": "display_data"
    },
    {
     "data": {
      "text/html": [
       "<b>R02018</b>: [\"<span style='color: #a87f75'>Node15327</span>\"] (2'-deoxyuridine 5'-diphosphate:oxidized-thioredoxin 2'-oxidoreductase; dUDP + Thioredoxin disulfide + H2O <=> Thioredoxin + UDP)"
      ],
      "text/plain": [
       "<IPython.core.display.HTML object>"
      ]
     },
     "metadata": {},
     "output_type": "display_data"
    },
    {
     "data": {
      "text/html": [
       "<b>R02018</b>: [\"<span style='color: #a87f75'>Node15327</span>\", \"<span style='color: #21d139'>Node21166</span>\"] (2'-deoxyuridine 5'-diphosphate:oxidized-thioredoxin 2'-oxidoreductase; dUDP + Thioredoxin disulfide + H2O <=> Thioredoxin + UDP)"
      ],
      "text/plain": [
       "<IPython.core.display.HTML object>"
      ]
     },
     "metadata": {},
     "output_type": "display_data"
    },
    {
     "data": {
      "text/html": [
       "<b>R02018</b>: [\"<span style='color: #a87f75'>Node15327</span>\", \"<span style='color: #21d139'>Node21166</span>\", \"<span style='color: #fd79b7'>Node28120</span>\"] (2'-deoxyuridine 5'-diphosphate:oxidized-thioredoxin 2'-oxidoreductase; dUDP + Thioredoxin disulfide + H2O <=> Thioredoxin + UDP)"
      ],
      "text/plain": [
       "<IPython.core.display.HTML object>"
      ]
     },
     "metadata": {},
     "output_type": "display_data"
    },
    {
     "data": {
      "text/html": [
       "<b>R02527</b>: [\"<span style='color: #a87f75'>Node15327</span>\"] ((R)-Lactaldehyde:NAD+ oxidoreductase; (R)-Lactaldehyde + NAD+ <=> Methylglyoxal + NADH + H+)"
      ],
      "text/plain": [
       "<IPython.core.display.HTML object>"
      ]
     },
     "metadata": {},
     "output_type": "display_data"
    },
    {
     "data": {
      "text/html": [
       "<b>R02527</b>: [\"<span style='color: #a87f75'>Node15327</span>\", \"<span style='color: #21d139'>Node21166</span>\"] ((R)-Lactaldehyde:NAD+ oxidoreductase; (R)-Lactaldehyde + NAD+ <=> Methylglyoxal + NADH + H+)"
      ],
      "text/plain": [
       "<IPython.core.display.HTML object>"
      ]
     },
     "metadata": {},
     "output_type": "display_data"
    },
    {
     "data": {
      "text/html": [
       "<b>R02968</b>: [\"<span style='color: #a87f75'>Node15327</span>\"] (naphthalene,NADH:oxygen oxidoreductase (1,2-hydroxylating); Naphthalene + Oxygen + NADH + H+ <=> cis-1,2-Dihydronaphthalene-1,2-diol + NAD+)"
      ],
      "text/plain": [
       "<IPython.core.display.HTML object>"
      ]
     },
     "metadata": {},
     "output_type": "display_data"
    },
    {
     "data": {
      "text/html": [
       "<b>R10757</b>: [\"<span style='color: #4c0ebb'>Node119365</span>\"] (all-trans-polyprenyl-diphosphate:1,4-dihydroxy-2-naphthoate polyprenyltransferase; all-trans-Polyprenyl diphosphate + 1,4-Dihydroxy-2-naphthoate <=> Demethylmenaquinol + Diphosphate + CO2)"
      ],
      "text/plain": [
       "<IPython.core.display.HTML object>"
      ]
     },
     "metadata": {},
     "output_type": "display_data"
    },
    {
     "data": {
      "text/html": [
       "<b>R01157</b>: [\"<span style='color: #2a6e9d'>Node45985</span>\"] (Agmatine amidinohydrolase; Agmatine + H2O <=> Putrescine + Urea)"
      ],
      "text/plain": [
       "<IPython.core.display.HTML object>"
      ]
     },
     "metadata": {},
     "output_type": "display_data"
    },
    {
     "data": {
      "text/html": [
       "<b>R04210</b>: [\"<span style='color: #fd79b7'>Node28120</span>\"] (4-phospho-D-erythronate:NAD+ 2-oxidoreductase; 4-Phospho-D-erythronate + NAD+ <=> 2-Oxo-3-hydroxy-4-phosphobutanoate + NADH + H+)"
      ],
      "text/plain": [
       "<IPython.core.display.HTML object>"
      ]
     },
     "metadata": {},
     "output_type": "display_data"
    },
    {
     "data": {
      "text/html": [
       "<b>R07600</b>: [\"<span style='color: #74553b'>Node147305</span>\"] (2-Methyl-1-hydroxypropyl-ThPP + Enzyme N6-(lipoyl)lysine <=> [Dihydrolipoyllysine-residue (2-methylpropanoyl)transferase] S-(2-methylpropanoyl)dihydrolipoyllysine + Thiamin diphosphate)"
      ],
      "text/plain": [
       "<IPython.core.display.HTML object>"
      ]
     },
     "metadata": {},
     "output_type": "display_data"
    },
    {
     "data": {
      "text/html": [
       "<b>R00316</b>: [\"<span style='color: #fd79b7'>Node28120</span>\"] (ATP:acetate adenylyltransferase; ATP + Acetate <=> Diphosphate + Acetyl adenylate)"
      ],
      "text/plain": [
       "<IPython.core.display.HTML object>"
      ]
     },
     "metadata": {},
     "output_type": "display_data"
    },
    {
     "data": {
      "text/html": [
       "<b>R00787</b>: [\"<span style='color: #21d139'>Node21166</span>\"] (ammonia:NAD+ oxidoreductase; Ammonia + 3 NAD+ + 2 H2O <=> Nitrite + 3 NADH + 3 H+)"
      ],
      "text/plain": [
       "<IPython.core.display.HTML object>"
      ]
     },
     "metadata": {},
     "output_type": "display_data"
    },
    {
     "data": {
      "text/html": [
       "<b>R00787</b>: [\"<span style='color: #21d139'>Node21166</span>\", \"<span style='color: #2a6e9d'>Node45985</span>\"] (ammonia:NAD+ oxidoreductase; Ammonia + 3 NAD+ + 2 H2O <=> Nitrite + 3 NADH + 3 H+)"
      ],
      "text/plain": [
       "<IPython.core.display.HTML object>"
      ]
     },
     "metadata": {},
     "output_type": "display_data"
    },
    {
     "data": {
      "text/html": [
       "<b>R00787</b>: [\"<span style='color: #21d139'>Node21166</span>\", \"<span style='color: #2a6e9d'>Node45985</span>\", \"<span style='color: #073257'>Node55904</span>\"] (ammonia:NAD+ oxidoreductase; Ammonia + 3 NAD+ + 2 H2O <=> Nitrite + 3 NADH + 3 H+)"
      ],
      "text/plain": [
       "<IPython.core.display.HTML object>"
      ]
     },
     "metadata": {},
     "output_type": "display_data"
    },
    {
     "data": {
      "text/html": [
       "<b>R00959</b>: [\"<span style='color: #4c0ebb'>Node119365</span>\"] (alpha-D-Glucose 1-phosphate 1,6-phosphomutase; D-Glucose 1-phosphate <=> alpha-D-Glucose 6-phosphate)"
      ],
      "text/plain": [
       "<IPython.core.display.HTML object>"
      ]
     },
     "metadata": {},
     "output_type": "display_data"
    },
    {
     "data": {
      "text/html": [
       "<b>R07070</b>: [\"<span style='color: #073257'>Node55904</span>\"] (2,3-dihydro-2-S-glutathionyl-3-hydroxy bromobenzene glutathione-lyase (epoxide-forming); Bromobenzene-2,3-oxide + Glutathione <=> 2,3-Dihydro-2-S-glutathionyl-3-hydroxy bromobenzene)"
      ],
      "text/plain": [
       "<IPython.core.display.HTML object>"
      ]
     },
     "metadata": {},
     "output_type": "display_data"
    },
    {
     "data": {
      "text/html": [
       "<b>R06930</b>: [\"<span style='color: #a87f75'>Node15327</span>\"] (naphthalene,NADH:oxygen oxidoreductase (1,2-hydroxylating); (2-Naphthyl)methanol + Oxygen + NADH + H+ <=> cis-1,2-Dihydroxy-1,2-dihydro-7-hydroxymethylnaphthalene + NAD+)"
      ],
      "text/plain": [
       "<IPython.core.display.HTML object>"
      ]
     },
     "metadata": {},
     "output_type": "display_data"
    },
    {
     "data": {
      "text/html": [
       "<b>R09513</b>: [\"<span style='color: #21d139'>Node21166</span>\"] (methanesulfonate,NADH:oxygen oxidoreductase; Methanesulfonic acid + NADH + H+ + Oxygen <=> Formaldehyde + NAD+ + Sulfite + H2O)"
      ],
      "text/plain": [
       "<IPython.core.display.HTML object>"
      ]
     },
     "metadata": {},
     "output_type": "display_data"
    },
    {
     "data": {
      "text/html": [
       "<b>R09366</b>: [\"<span style='color: #ffd3f8'>Node126898</span>\"] (Se-methyl-L-selenocysteine methaneselenol-lyase (deaminating; pyruvate-forming); Se-Methyl-L-selenocysteine + H2O <=> Pyruvate + Ammonia + Methaneselenol)"
      ],
      "text/plain": [
       "<IPython.core.display.HTML object>"
      ]
     },
     "metadata": {},
     "output_type": "display_data"
    },
    {
     "data": {
      "text/html": [
       "<b>R06171</b>: [\"<span style='color: #21d139'>Node21166</span>\"] (L-allo-threonine acetaldehyde-lyase (glycine-forming); L-Allothreonine <=> Glycine + Acetaldehyde)"
      ],
      "text/plain": [
       "<IPython.core.display.HTML object>"
      ]
     },
     "metadata": {},
     "output_type": "display_data"
    },
    {
     "data": {
      "text/html": [
       "<b>R06171</b>: [\"<span style='color: #21d139'>Node21166</span>\", \"<span style='color: #fd79b7'>Node28120</span>\"] (L-allo-threonine acetaldehyde-lyase (glycine-forming); L-Allothreonine <=> Glycine + Acetaldehyde)"
      ],
      "text/plain": [
       "<IPython.core.display.HTML object>"
      ]
     },
     "metadata": {},
     "output_type": "display_data"
    },
    {
     "data": {
      "text/html": [
       "<b>R08059</b>: [\"<span style='color: #74553b'>Node147305</span>\"] (5,10-Methylenetetrahydromethanopterin + NADP+ <=> 5,10-Methenyltetrahydromethanopterin + NADPH)"
      ],
      "text/plain": [
       "<IPython.core.display.HTML object>"
      ]
     },
     "metadata": {},
     "output_type": "display_data"
    },
    {
     "data": {
      "text/html": [
       "<b>R07706</b>: [\"<span style='color: #a87f75'>Node15327</span>\"] (nitrobenzene 1,2-dioxygenase; Nitrobenzene + Oxygen + NADH + H+ <=> Catechol + Nitrite + NAD+)"
      ],
      "text/plain": [
       "<IPython.core.display.HTML object>"
      ]
     },
     "metadata": {},
     "output_type": "display_data"
    },
    {
     "data": {
      "text/html": [
       "<b>R04929</b>: [\"<span style='color: #fd79b7'>Node28120</span>\"] (ATP:selenate adenylyltransferase; ATP + Selenate <=> Diphosphate + Adenylylselenate)"
      ],
      "text/plain": [
       "<IPython.core.display.HTML object>"
      ]
     },
     "metadata": {},
     "output_type": "display_data"
    },
    {
     "data": {
      "text/html": [
       "<b>R07035</b>: [\"<span style='color: #a87f75'>Node15327</span>\"] (glutathione: 15-HPETE oxidoreductase; 2 Glutathione + 15(S)-HPETE <=> Glutathione disulfide + (15S)-15-Hydroxy-5,8,11-cis-13-trans-eicosatetraenoate + H2O)"
      ],
      "text/plain": [
       "<IPython.core.display.HTML object>"
      ]
     },
     "metadata": {},
     "output_type": "display_data"
    },
    {
     "data": {
      "text/html": [
       "<b>R07035</b>: [\"<span style='color: #a87f75'>Node15327</span>\", \"<span style='color: #21d139'>Node21166</span>\"] (glutathione: 15-HPETE oxidoreductase; 2 Glutathione + 15(S)-HPETE <=> Glutathione disulfide + (15S)-15-Hydroxy-5,8,11-cis-13-trans-eicosatetraenoate + H2O)"
      ],
      "text/plain": [
       "<IPython.core.display.HTML object>"
      ]
     },
     "metadata": {},
     "output_type": "display_data"
    },
    {
     "data": {
      "text/html": [
       "<b>R07035</b>: [\"<span style='color: #a87f75'>Node15327</span>\", \"<span style='color: #21d139'>Node21166</span>\", \"<span style='color: #fd79b7'>Node28120</span>\"] (glutathione: 15-HPETE oxidoreductase; 2 Glutathione + 15(S)-HPETE <=> Glutathione disulfide + (15S)-15-Hydroxy-5,8,11-cis-13-trans-eicosatetraenoate + H2O)"
      ],
      "text/plain": [
       "<IPython.core.display.HTML object>"
      ]
     },
     "metadata": {},
     "output_type": "display_data"
    },
    {
     "data": {
      "text/html": [
       "<b>R09107</b>: [\"<span style='color: #fd79b7'>Node28120</span>\"] (N-acetyl-L-citrulline amidohydrolase; N-Acetyl-L-citrulline + H2O <=> Acetate + L-Citrulline)"
      ],
      "text/plain": [
       "<IPython.core.display.HTML object>"
      ]
     },
     "metadata": {},
     "output_type": "display_data"
    },
    {
     "data": {
      "text/html": [
       "<b>R08233</b>: [\"<span style='color: #21d139'>Node21166</span>\"] (ATP:5-fluorodeoxyuridine 5'-phosphotransferase; 5-Fluorodeoxyuridine + ATP <=> 5-Fluorodeoxyuridine monophosphate + ADP)"
      ],
      "text/plain": [
       "<IPython.core.display.HTML object>"
      ]
     },
     "metadata": {},
     "output_type": "display_data"
    },
    {
     "data": {
      "text/html": [
       "<b>R08233</b>: [\"<span style='color: #21d139'>Node21166</span>\", \"<span style='color: #bebf59'>Node55420</span>\"] (ATP:5-fluorodeoxyuridine 5'-phosphotransferase; 5-Fluorodeoxyuridine + ATP <=> 5-Fluorodeoxyuridine monophosphate + ADP)"
      ],
      "text/plain": [
       "<IPython.core.display.HTML object>"
      ]
     },
     "metadata": {},
     "output_type": "display_data"
    },
    {
     "data": {
      "text/html": [
       "<b>R08233</b>: [\"<span style='color: #21d139'>Node21166</span>\", \"<span style='color: #bebf59'>Node55420</span>\", \"<span style='color: #073257'>Node55904</span>\"] (ATP:5-fluorodeoxyuridine 5'-phosphotransferase; 5-Fluorodeoxyuridine + ATP <=> 5-Fluorodeoxyuridine monophosphate + ADP)"
      ],
      "text/plain": [
       "<IPython.core.display.HTML object>"
      ]
     },
     "metadata": {},
     "output_type": "display_data"
    },
    {
     "data": {
      "text/html": [
       "<b>R04031</b>: [\"<span style='color: #4c0ebb'>Node119365</span>\"] ((1R,6R)-6-hydroxy-2-succinylcyclohexa-2,4-diene-1-carboxylate hydrolyase (2-succinylbenzoate-forming); 2-Succinylbenzoate + H2O <=> (1R,6R)-6-Hydroxy-2-succinylcyclohexa-2,4-diene-1-carboxylate)"
      ],
      "text/plain": [
       "<IPython.core.display.HTML object>"
      ]
     },
     "metadata": {},
     "output_type": "display_data"
    },
    {
     "data": {
      "text/html": [
       "<b>R03527</b>: [\"<span style='color: #a87f75'>Node15327</span>\"] (D-Glucoside glucohydrolase; beta-D-Glucoside + H2O <=> D-Glucose + ROH)"
      ],
      "text/plain": [
       "<IPython.core.display.HTML object>"
      ]
     },
     "metadata": {},
     "output_type": "display_data"
    },
    {
     "data": {
      "text/html": [
       "<b>R03527</b>: [\"<span style='color: #a87f75'>Node15327</span>\", \"<span style='color: #fd79b7'>Node28120</span>\"] (D-Glucoside glucohydrolase; beta-D-Glucoside + H2O <=> D-Glucose + ROH)"
      ],
      "text/plain": [
       "<IPython.core.display.HTML object>"
      ]
     },
     "metadata": {},
     "output_type": "display_data"
    },
    {
     "data": {
      "text/html": [
       "<b>R07091</b>: [\"<span style='color: #073257'>Node55904</span>\"] (S-(2,2-dichloro-1-hydroxy)ethyl-glutathione 2,2-dichloroacetaldehyde-lyase (glutathione-forming); 2,2-Dichloroacetaldehyde + Glutathione <=> S-(2,2-Dichloro-1-hydroxy)ethyl glutathione)"
      ],
      "text/plain": [
       "<IPython.core.display.HTML object>"
      ]
     },
     "metadata": {},
     "output_type": "display_data"
    },
    {
     "data": {
      "text/html": [
       "<b>R08100</b>: [\"<span style='color: #21d139'>Node21166</span>\"] (2-fluorobenzoate,NADH:oxygen oxidoreductase (1,2-hydroxylating); 2-Fluorobenzoate + NADH + H+ + Oxygen <=> 2-Fluorocyclohexadiene-cis,cis-1,2-diol-1-carboxylate + NAD+)"
      ],
      "text/plain": [
       "<IPython.core.display.HTML object>"
      ]
     },
     "metadata": {},
     "output_type": "display_data"
    },
    {
     "data": {
      "text/html": [
       "<b>R04506</b>: [\"<span style='color: #fd79b7'>Node28120</span>\"] (3alpha,7alpha-Dihydroxy-5beta-cholestan-26-al:NAD+ oxidoreductase; 3alpha,7alpha-Dihydroxy-5beta-cholestan-26-al + NAD+ + H2O <=> 3alpha,7alpha-Dihydroxy-5beta-cholestanate + NADH + H+)"
      ],
      "text/plain": [
       "<IPython.core.display.HTML object>"
      ]
     },
     "metadata": {},
     "output_type": "display_data"
    },
    {
     "data": {
      "text/html": [
       "<b>R04506</b>: [\"<span style='color: #fd79b7'>Node28120</span>\", \"<span style='color: #073257'>Node55904</span>\"] (3alpha,7alpha-Dihydroxy-5beta-cholestan-26-al:NAD+ oxidoreductase; 3alpha,7alpha-Dihydroxy-5beta-cholestan-26-al + NAD+ + H2O <=> 3alpha,7alpha-Dihydroxy-5beta-cholestanate + NADH + H+)"
      ],
      "text/plain": [
       "<IPython.core.display.HTML object>"
      ]
     },
     "metadata": {},
     "output_type": "display_data"
    },
    {
     "data": {
      "text/html": [
       "<b>R00848</b>: [\"<span style='color: #fd79b7'>Node28120</span>\"] (sn-Glycerol-3-phosphate:(acceptor) 2-oxidoreductase; sn-Glycerol 3-phosphate + FAD <=> Glycerone phosphate + FADH2)"
      ],
      "text/plain": [
       "<IPython.core.display.HTML object>"
      ]
     },
     "metadata": {},
     "output_type": "display_data"
    },
    {
     "data": {
      "text/html": [
       "<b>R00705</b>: [\"<span style='color: #fd79b7'>Node28120</span>\"] (3-Oxopropanoate:NAD+ oxidoreductase (decarboxylating, CoA-acetylating); 3-Oxopropanoate + CoA + NAD+ <=> Acetyl-CoA + CO2 + NADH + H+)"
      ],
      "text/plain": [
       "<IPython.core.display.HTML object>"
      ]
     },
     "metadata": {},
     "output_type": "display_data"
    },
    {
     "data": {
      "text/html": [
       "<b>R01174</b>: [\"<span style='color: #21d139'>Node21166</span>\"] (butanoyl-CoA:phosphate butanoyltransferase; Butanoyl-CoA + Orthophosphate <=> CoA + Butanoylphosphate)"
      ],
      "text/plain": [
       "<IPython.core.display.HTML object>"
      ]
     },
     "metadata": {},
     "output_type": "display_data"
    },
    {
     "data": {
      "text/html": [
       "<b>R01174</b>: [\"<span style='color: #21d139'>Node21166</span>\", \"<span style='color: #073257'>Node55904</span>\"] (butanoyl-CoA:phosphate butanoyltransferase; Butanoyl-CoA + Orthophosphate <=> CoA + Butanoylphosphate)"
      ],
      "text/plain": [
       "<IPython.core.display.HTML object>"
      ]
     },
     "metadata": {},
     "output_type": "display_data"
    },
    {
     "data": {
      "text/html": [
       "<b>R01090</b>: [\"<span style='color: #fd79b7'>Node28120</span>\"] (L-Leucine:2-oxoglutarate aminotransferase; L-Leucine + 2-Oxoglutarate <=> 4-Methyl-2-oxopentanoate + L-Glutamate)"
      ],
      "text/plain": [
       "<IPython.core.display.HTML object>"
      ]
     },
     "metadata": {},
     "output_type": "display_data"
    },
    {
     "data": {
      "text/html": [
       "<b>R00948</b>: [\"<span style='color: #4c0ebb'>Node119365</span>\"] (ATP:alpha-D-glucose-1-phosphate adenylyltransferase; ATP + D-Glucose 1-phosphate <=> Diphosphate + ADP-glucose)"
      ],
      "text/plain": [
       "<IPython.core.display.HTML object>"
      ]
     },
     "metadata": {},
     "output_type": "display_data"
    },
    {
     "data": {
      "text/html": [
       "<b>R00948</b>: [\"<span style='color: #4c0ebb'>Node119365</span>\", \"<span style='color: #073257'>Node55904</span>\"] (ATP:alpha-D-glucose-1-phosphate adenylyltransferase; ATP + D-Glucose 1-phosphate <=> Diphosphate + ADP-glucose)"
      ],
      "text/plain": [
       "<IPython.core.display.HTML object>"
      ]
     },
     "metadata": {},
     "output_type": "display_data"
    },
    {
     "data": {
      "text/html": [
       "<b>R02091</b>: [\"<span style='color: #74553b'>Node147305</span>\"]"
      ],
      "text/plain": [
       "<IPython.core.display.HTML object>"
      ]
     },
     "metadata": {},
     "output_type": "display_data"
    },
    {
     "data": {
      "text/html": [
       "<b>R02091</b>: [\"<span style='color: #74553b'>Node147305</span>\", \"<span style='color: #21d139'>Node21166</span>\"]"
      ],
      "text/plain": [
       "<IPython.core.display.HTML object>"
      ]
     },
     "metadata": {},
     "output_type": "display_data"
    },
    {
     "data": {
      "text/html": [
       "<b>R06977</b>: [\"<span style='color: #fd79b7'>Node28120</span>\"] (L-2,4-diaminobutyrate:2-oxoglutarate 4-aminotransferase; L-Glutamate + L-Aspartate 4-semialdehyde <=> 2-Oxoglutarate + L-2,4-Diaminobutanoate)"
      ],
      "text/plain": [
       "<IPython.core.display.HTML object>"
      ]
     },
     "metadata": {},
     "output_type": "display_data"
    },
    {
     "data": {
      "text/html": [
       "<b>R04725</b>: [\"<span style='color: #a87f75'>Node15327</span>\"] (dodecanoyl-[acp]:NADP+ trans-2-oxidoreductase; Dodecanoyl-[acyl-carrier protein] + NADP+ <=> trans-Dodec-2-enoyl-[acp] + NADPH + H+)"
      ],
      "text/plain": [
       "<IPython.core.display.HTML object>"
      ]
     },
     "metadata": {},
     "output_type": "display_data"
    },
    {
     "data": {
      "text/html": [
       "<b>R04725</b>: [\"<span style='color: #a87f75'>Node15327</span>\", \"<span style='color: #554a79'>Node19398</span>\"] (dodecanoyl-[acp]:NADP+ trans-2-oxidoreductase; Dodecanoyl-[acyl-carrier protein] + NADP+ <=> trans-Dodec-2-enoyl-[acp] + NADPH + H+)"
      ],
      "text/plain": [
       "<IPython.core.display.HTML object>"
      ]
     },
     "metadata": {},
     "output_type": "display_data"
    },
    {
     "data": {
      "text/html": [
       "<b>R04725</b>: [\"<span style='color: #a87f75'>Node15327</span>\", \"<span style='color: #554a79'>Node19398</span>\", \"<span style='color: #fd79b7'>Node28120</span>\"] (dodecanoyl-[acp]:NADP+ trans-2-oxidoreductase; Dodecanoyl-[acyl-carrier protein] + NADP+ <=> trans-Dodec-2-enoyl-[acp] + NADPH + H+)"
      ],
      "text/plain": [
       "<IPython.core.display.HTML object>"
      ]
     },
     "metadata": {},
     "output_type": "display_data"
    },
    {
     "data": {
      "text/html": [
       "<b>R00667</b>: [\"<span style='color: #073257'>Node55904</span>\"] (L-Ornithine:2-oxo-acid aminotransferase; L-Ornithine + 2-Oxoglutarate <=> L-Glutamate 5-semialdehyde + L-Glutamate)"
      ],
      "text/plain": [
       "<IPython.core.display.HTML object>"
      ]
     },
     "metadata": {},
     "output_type": "display_data"
    },
    {
     "data": {
      "text/html": [
       "<b>R10040</b>: [\"<span style='color: #a87f75'>Node15327</span>\"] (beta-D-glucoside glucohydrolase; Linamarin + H2O <=> Acetone cyanohydrin + beta-D-Glucose)"
      ],
      "text/plain": [
       "<IPython.core.display.HTML object>"
      ]
     },
     "metadata": {},
     "output_type": "display_data"
    },
    {
     "data": {
      "text/html": [
       "<b>R10040</b>: [\"<span style='color: #a87f75'>Node15327</span>\", \"<span style='color: #fd79b7'>Node28120</span>\"] (beta-D-glucoside glucohydrolase; Linamarin + H2O <=> Acetone cyanohydrin + beta-D-Glucose)"
      ],
      "text/plain": [
       "<IPython.core.display.HTML object>"
      ]
     },
     "metadata": {},
     "output_type": "display_data"
    },
    {
     "data": {
      "text/html": [
       "<b>R00410</b>: [\"<span style='color: #fd79b7'>Node28120</span>\"] (succinyl-CoA:acetoacetate CoA-transferase; Succinyl-CoA + Acetoacetate <=> Succinate + Acetoacetyl-CoA)"
      ],
      "text/plain": [
       "<IPython.core.display.HTML object>"
      ]
     },
     "metadata": {},
     "output_type": "display_data"
    },
    {
     "data": {
      "text/html": [
       "<b>R07084</b>: [\"<span style='color: #073257'>Node55904</span>\"] (7,8-dihydro-7-hydroxy-8-S-glutathionyl-benzo[a]pyrene hydrolase; Benzo[a]pyrene-7,8-dihydrodiol + Glutathione <=> 7,8-Dihydro-7-hydroxy-8-S-glutathionyl-benzo[a]pyrene + H2O)"
      ],
      "text/plain": [
       "<IPython.core.display.HTML object>"
      ]
     },
     "metadata": {},
     "output_type": "display_data"
    },
    {
     "data": {
      "text/html": [
       "<b>R05666</b>: [\"<span style='color: #21d139'>Node21166</span>\"] (toluene,NADH:oxygen oxidoreductase (4-hydroxylating); Toluene + NADH + H+ + Oxygen <=> 4-Cresol + NAD+ + H2O)"
      ],
      "text/plain": [
       "<IPython.core.display.HTML object>"
      ]
     },
     "metadata": {},
     "output_type": "display_data"
    },
    {
     "data": {
      "text/html": [
       "<b>R08101</b>: [\"<span style='color: #21d139'>Node21166</span>\"] (2-fluorobenzoate,NADH:oxygen oxidoreductase (1,2-hydroxylating); 2-Fluorobenzoate + NADH + H+ + Oxygen <=> 6-Fluorocyclohexadiene-cis,cis-1,2-diol-1-carboxylate + NAD+)"
      ],
      "text/plain": [
       "<IPython.core.display.HTML object>"
      ]
     },
     "metadata": {},
     "output_type": "display_data"
    },
    {
     "data": {
      "text/html": [
       "<b>R01402</b>: [\"<span style='color: #74553b'>Node147305</span>\"] (S-methyl-5'-thioadenosine:phosphate S-methyl-5-thio-alpha-D-ribosyl-transferase; 5'-Methylthioadenosine + Orthophosphate <=> Adenine + S-Methyl-5-thio-D-ribose 1-phosphate)"
      ],
      "text/plain": [
       "<IPython.core.display.HTML object>"
      ]
     },
     "metadata": {},
     "output_type": "display_data"
    },
    {
     "data": {
      "text/html": [
       "<b>R01333</b>: [\"<span style='color: #fd79b7'>Node28120</span>\"] (glycolaldehyde:NAD+ oxidoreductase; Glycolaldehyde + NAD+ + H2O <=> Glycolate + NADH + H+)"
      ],
      "text/plain": [
       "<IPython.core.display.HTML object>"
      ]
     },
     "metadata": {},
     "output_type": "display_data"
    },
    {
     "data": {
      "text/html": [
       "<b>R00619</b>: [\"<span style='color: #fd79b7'>Node28120</span>\"] (ATP:thiamine diphosphotransferase; ATP + Thiamine <=> AMP + Thiamin diphosphate)"
      ],
      "text/plain": [
       "<IPython.core.display.HTML object>"
      ]
     },
     "metadata": {},
     "output_type": "display_data"
    },
    {
     "data": {
      "text/html": [
       "<b>R02539</b>: [\"<span style='color: #21d139'>Node21166</span>\"] (Phenylacetate:CoA ligase; ATP + Phenylacetic acid + CoA <=> AMP + Diphosphate + Phenylacetyl-CoA)"
      ],
      "text/plain": [
       "<IPython.core.display.HTML object>"
      ]
     },
     "metadata": {},
     "output_type": "display_data"
    },
    {
     "data": {
      "text/html": [
       "<b>R00480</b>: [\"<span style='color: #74553b'>Node147305</span>\"] (ATP:L-aspartate 4-phosphotransferase; ATP + L-Aspartate <=> ADP + 4-Phospho-L-aspartate)"
      ],
      "text/plain": [
       "<IPython.core.display.HTML object>"
      ]
     },
     "metadata": {},
     "output_type": "display_data"
    },
    {
     "data": {
      "text/html": [
       "<b>R03291</b>: [\"<span style='color: #2a6e9d'>Node45985</span>\"] (trans-4-Hydroxy-L-proline:NAD+ 5-oxidoreductase; Hydroxyproline + NAD+ <=> L-1-Pyrroline-3-hydroxy-5-carboxylate + NADH + H+)"
      ],
      "text/plain": [
       "<IPython.core.display.HTML object>"
      ]
     },
     "metadata": {},
     "output_type": "display_data"
    },
    {
     "data": {
      "text/html": [
       "<b>R03291</b>: [\"<span style='color: #2a6e9d'>Node45985</span>\", \"<span style='color: #af8238'>Node53994</span>\"] (trans-4-Hydroxy-L-proline:NAD+ 5-oxidoreductase; Hydroxyproline + NAD+ <=> L-1-Pyrroline-3-hydroxy-5-carboxylate + NADH + H+)"
      ],
      "text/plain": [
       "<IPython.core.display.HTML object>"
      ]
     },
     "metadata": {},
     "output_type": "display_data"
    },
    {
     "data": {
      "text/html": [
       "<b>R04770</b>: [\"<span style='color: #ffd3f8'>Node126898</span>\"] (Selenomethionine methanethiol-lyase (deaminating); L-Selenomethionine + H2O <=> Methaneselenol + Ammonia + 2-Oxobutanoate)"
      ],
      "text/plain": [
       "<IPython.core.display.HTML object>"
      ]
     },
     "metadata": {},
     "output_type": "display_data"
    },
    {
     "data": {
      "text/html": [
       "<b>R04770</b>: [\"<span style='color: #ffd3f8'>Node126898</span>\", \"<span style='color: #3a3787'>Node52227</span>\"] (Selenomethionine methanethiol-lyase (deaminating); L-Selenomethionine + H2O <=> Methaneselenol + Ammonia + 2-Oxobutanoate)"
      ],
      "text/plain": [
       "<IPython.core.display.HTML object>"
      ]
     },
     "metadata": {},
     "output_type": "display_data"
    },
    {
     "data": {
      "text/html": [
       "<b>R01515</b>: [\"<span style='color: #3a3787'>Node52227</span>\"] (3-Phospho-D-glyceroyl phosphate phosphohydrolase; 3-Phospho-D-glyceroyl phosphate + H2O <=> 3-Phospho-D-glycerate + Orthophosphate)"
      ],
      "text/plain": [
       "<IPython.core.display.HTML object>"
      ]
     },
     "metadata": {},
     "output_type": "display_data"
    },
    {
     "data": {
      "text/html": [
       "<b>R03236</b>: [\"<span style='color: #74553b'>Node147305</span>\"] (ATP:D-tagatose-6-phosphate 1-phosphotransferase; D-Tagatose 6-phosphate + ATP <=> D-Tagatose 1,6-bisphosphate + ADP)"
      ],
      "text/plain": [
       "<IPython.core.display.HTML object>"
      ]
     },
     "metadata": {},
     "output_type": "display_data"
    },
    {
     "data": {
      "text/html": [
       "<b>R03236</b>: [\"<span style='color: #74553b'>Node147305</span>\", \"<span style='color: #fd79b7'>Node28120</span>\"] (ATP:D-tagatose-6-phosphate 1-phosphotransferase; D-Tagatose 6-phosphate + ATP <=> D-Tagatose 1,6-bisphosphate + ADP)"
      ],
      "text/plain": [
       "<IPython.core.display.HTML object>"
      ]
     },
     "metadata": {},
     "output_type": "display_data"
    },
    {
     "data": {
      "text/html": [
       "<b>R05626</b>: [\"<span style='color: #74553b'>Node147305</span>\"] (ATP:undecaprenol phosphotransferase; ATP + di-trans,poly-cis-Undecaprenol <=> ADP + di-trans,poly-cis-Undecaprenyl phosphate)"
      ],
      "text/plain": [
       "<IPython.core.display.HTML object>"
      ]
     },
     "metadata": {},
     "output_type": "display_data"
    },
    {
     "data": {
      "text/html": [
       "<b>R04961</b>: [\"<span style='color: #a87f75'>Node15327</span>\"] (decanoyl-[acp]:NAD+ trans-2-oxidoreductase; Decanoyl-[acp] + NAD+ <=> trans-Dec-2-enoyl-[acp] + NADH + H+)"
      ],
      "text/plain": [
       "<IPython.core.display.HTML object>"
      ]
     },
     "metadata": {},
     "output_type": "display_data"
    },
    {
     "data": {
      "text/html": [
       "<b>R04961</b>: [\"<span style='color: #a87f75'>Node15327</span>\", \"<span style='color: #554a79'>Node19398</span>\"] (decanoyl-[acp]:NAD+ trans-2-oxidoreductase; Decanoyl-[acp] + NAD+ <=> trans-Dec-2-enoyl-[acp] + NADH + H+)"
      ],
      "text/plain": [
       "<IPython.core.display.HTML object>"
      ]
     },
     "metadata": {},
     "output_type": "display_data"
    },
    {
     "data": {
      "text/html": [
       "<b>R04961</b>: [\"<span style='color: #a87f75'>Node15327</span>\", \"<span style='color: #554a79'>Node19398</span>\", \"<span style='color: #fd79b7'>Node28120</span>\"] (decanoyl-[acp]:NAD+ trans-2-oxidoreductase; Decanoyl-[acp] + NAD+ <=> trans-Dec-2-enoyl-[acp] + NADH + H+)"
      ],
      "text/plain": [
       "<IPython.core.display.HTML object>"
      ]
     },
     "metadata": {},
     "output_type": "display_data"
    },
    {
     "data": {
      "text/html": [
       "<b>R03132</b>: [\"<span style='color: #fd79b7'>Node28120</span>\"] (O-acetyl-L-serine:thiosulfate 2-amino-2-carboxyethyltransferase; O-Acetyl-L-serine + Thiosulfate <=> S-Sulfo-L-cysteine + Acetate)"
      ],
      "text/plain": [
       "<IPython.core.display.HTML object>"
      ]
     },
     "metadata": {},
     "output_type": "display_data"
    },
    {
     "data": {
      "text/html": [
       "<b>R00931</b>: [\"<span style='color: #21d139'>Node21166</span>\"] (propanoyl-CoA:oxaloacetate C-propanoyltransferase (thioester-hydrolysing, 1-carboxyethyl-forming); 2-methylcitrate oxaloacetate-lyase; 2-Methylcitrate + CoA <=> Propanoyl-CoA + Oxaloacetate + H2O)"
      ],
      "text/plain": [
       "<IPython.core.display.HTML object>"
      ]
     },
     "metadata": {},
     "output_type": "display_data"
    },
    {
     "data": {
      "text/html": [
       "<b>R00931</b>: [\"<span style='color: #21d139'>Node21166</span>\", \"<span style='color: #fd79b7'>Node28120</span>\"] (propanoyl-CoA:oxaloacetate C-propanoyltransferase (thioester-hydrolysing, 1-carboxyethyl-forming); 2-methylcitrate oxaloacetate-lyase; 2-Methylcitrate + CoA <=> Propanoyl-CoA + Oxaloacetate + H2O)"
      ],
      "text/plain": [
       "<IPython.core.display.HTML object>"
      ]
     },
     "metadata": {},
     "output_type": "display_data"
    },
    {
     "data": {
      "text/html": [
       "<b>R01819</b>: [\"<span style='color: #4c0ebb'>Node119365</span>\"] (D-mannose-6-phosphate aldose-ketose-isomerase; D-Mannose 6-phosphate <=> beta-D-Fructose 6-phosphate)"
      ],
      "text/plain": [
       "<IPython.core.display.HTML object>"
      ]
     },
     "metadata": {},
     "output_type": "display_data"
    },
    {
     "data": {
      "text/html": [
       "<b>R01819</b>: [\"<span style='color: #4c0ebb'>Node119365</span>\", \"<span style='color: #21d139'>Node21166</span>\"] (D-mannose-6-phosphate aldose-ketose-isomerase; D-Mannose 6-phosphate <=> beta-D-Fructose 6-phosphate)"
      ],
      "text/plain": [
       "<IPython.core.display.HTML object>"
      ]
     },
     "metadata": {},
     "output_type": "display_data"
    },
    {
     "data": {
      "text/html": [
       "<b>R01819</b>: [\"<span style='color: #4c0ebb'>Node119365</span>\", \"<span style='color: #21d139'>Node21166</span>\", \"<span style='color: #2a6e9d'>Node45985</span>\"] (D-mannose-6-phosphate aldose-ketose-isomerase; D-Mannose 6-phosphate <=> beta-D-Fructose 6-phosphate)"
      ],
      "text/plain": [
       "<IPython.core.display.HTML object>"
      ]
     },
     "metadata": {},
     "output_type": "display_data"
    },
    {
     "data": {
      "text/html": [
       "<b>R07003</b>: [\"<span style='color: #073257'>Node55904</span>\"] ((1R)-glutathionyl-(2R)-hydroxy-1,2-dihydronaphthalene glutathione-lyase (epoxide-forming); (1S,2R)-Naphthalene 1,2-oxide + Glutathione <=> (1R)-Glutathionyl-(2R)-hydroxy-1,2-dihydronaphthalene)"
      ],
      "text/plain": [
       "<IPython.core.display.HTML object>"
      ]
     },
     "metadata": {},
     "output_type": "display_data"
    },
    {
     "data": {
      "text/html": [
       "<b>R01056</b>: [\"<span style='color: #74553b'>Node147305</span>\"] (D-ribose-5-phosphate aldose-ketose-isomerase; D-Ribose 5-phosphate <=> D-Ribulose 5-phosphate)"
      ],
      "text/plain": [
       "<IPython.core.display.HTML object>"
      ]
     },
     "metadata": {},
     "output_type": "display_data"
    },
    {
     "data": {
      "text/html": [
       "<b>R05428</b>: [\"<span style='color: #21d139'>Node21166</span>\"] (o-Toluate + Oxygen + NADH + H+ <=> 1,2-Dihydroxy-6-methylcyclohexa-3,5-dienecarboxylate + NAD+)"
      ],
      "text/plain": [
       "<IPython.core.display.HTML object>"
      ]
     },
     "metadata": {},
     "output_type": "display_data"
    },
    {
     "data": {
      "text/html": [
       "<b>R01920</b>: [\"<span style='color: #21d139'>Node21166</span>\"] (S-adenosylmethioninamine:putrescine 3-aminopropyltransferase; S-Adenosylmethioninamine + Putrescine <=> 5'-Methylthioadenosine + Spermidine)"
      ],
      "text/plain": [
       "<IPython.core.display.HTML object>"
      ]
     },
     "metadata": {},
     "output_type": "display_data"
    },
    {
     "data": {
      "text/html": [
       "<b>R01920</b>: [\"<span style='color: #21d139'>Node21166</span>\", \"<span style='color: #fd79b7'>Node28120</span>\"] (S-adenosylmethioninamine:putrescine 3-aminopropyltransferase; S-Adenosylmethioninamine + Putrescine <=> 5'-Methylthioadenosine + Spermidine)"
      ],
      "text/plain": [
       "<IPython.core.display.HTML object>"
      ]
     },
     "metadata": {},
     "output_type": "display_data"
    },
    {
     "data": {
      "text/html": [
       "<b>R00411</b>: [\"<span style='color: #21d139'>Node21166</span>\"] (N-succinyl-L-glutamate amidohydrolase; N-Succinyl-L-glutamate + H2O <=> L-Glutamate + Succinate)"
      ],
      "text/plain": [
       "<IPython.core.display.HTML object>"
      ]
     },
     "metadata": {},
     "output_type": "display_data"
    },
    {
     "data": {
      "text/html": [
       "<b>R09978</b>: [\"<span style='color: #fd79b7'>Node28120</span>\"] (7-carboxy-7-carbaguanine:ammonia ligase (ADP-forming); 7-Carboxy-7-carbaguanine + Ammonia + ATP <=> 7-Cyano-7-carbaguanine + ADP + Orthophosphate + H2O)"
      ],
      "text/plain": [
       "<IPython.core.display.HTML object>"
      ]
     },
     "metadata": {},
     "output_type": "display_data"
    },
    {
     "data": {
      "text/html": [
       "<b>R09978</b>: [\"<span style='color: #fd79b7'>Node28120</span>\", \"<span style='color: #3a3787'>Node52227</span>\"] (7-carboxy-7-carbaguanine:ammonia ligase (ADP-forming); 7-Carboxy-7-carbaguanine + Ammonia + ATP <=> 7-Cyano-7-carbaguanine + ADP + Orthophosphate + H2O)"
      ],
      "text/plain": [
       "<IPython.core.display.HTML object>"
      ]
     },
     "metadata": {},
     "output_type": "display_data"
    },
    {
     "data": {
      "text/html": [
       "<b>R01528</b>: [\"<span style='color: #bebf59'>Node55420</span>\"] (6-phospho-D-gluconate:NADP+ 2-oxidoreductase (decarboxylating); 6-Phospho-D-gluconate + NADP+ <=> D-Ribulose 5-phosphate + CO2 + NADPH + H+)"
      ],
      "text/plain": [
       "<IPython.core.display.HTML object>"
      ]
     },
     "metadata": {},
     "output_type": "display_data"
    },
    {
     "data": {
      "text/html": [
       "<b>R01528</b>: [\"<span style='color: #bebf59'>Node55420</span>\", \"<span style='color: #073257'>Node55904</span>\"] (6-phospho-D-gluconate:NADP+ 2-oxidoreductase (decarboxylating); 6-Phospho-D-gluconate + NADP+ <=> D-Ribulose 5-phosphate + CO2 + NADPH + H+)"
      ],
      "text/plain": [
       "<IPython.core.display.HTML object>"
      ]
     },
     "metadata": {},
     "output_type": "display_data"
    },
    {
     "data": {
      "text/html": [
       "<b>R04724</b>: [\"<span style='color: #a87f75'>Node15327</span>\"] (dodecanoyl-[acp]:NAD+ trans-2-oxidoreductase; Dodecanoyl-[acyl-carrier protein] + NAD+ <=> trans-Dodec-2-enoyl-[acp] + NADH + H+)"
      ],
      "text/plain": [
       "<IPython.core.display.HTML object>"
      ]
     },
     "metadata": {},
     "output_type": "display_data"
    },
    {
     "data": {
      "text/html": [
       "<b>R04724</b>: [\"<span style='color: #a87f75'>Node15327</span>\", \"<span style='color: #554a79'>Node19398</span>\"] (dodecanoyl-[acp]:NAD+ trans-2-oxidoreductase; Dodecanoyl-[acyl-carrier protein] + NAD+ <=> trans-Dodec-2-enoyl-[acp] + NADH + H+)"
      ],
      "text/plain": [
       "<IPython.core.display.HTML object>"
      ]
     },
     "metadata": {},
     "output_type": "display_data"
    },
    {
     "data": {
      "text/html": [
       "<b>R04724</b>: [\"<span style='color: #a87f75'>Node15327</span>\", \"<span style='color: #554a79'>Node19398</span>\", \"<span style='color: #fd79b7'>Node28120</span>\"] (dodecanoyl-[acp]:NAD+ trans-2-oxidoreductase; Dodecanoyl-[acyl-carrier protein] + NAD+ <=> trans-Dodec-2-enoyl-[acp] + NADH + H+)"
      ],
      "text/plain": [
       "<IPython.core.display.HTML object>"
      ]
     },
     "metadata": {},
     "output_type": "display_data"
    },
    {
     "data": {
      "text/html": [
       "<b>R01360</b>: [\"<span style='color: #fd79b7'>Node28120</span>\"] ((S)-3-hydroxy-3-methylglutaryl-CoA acetoacetate-lyase (acetyl-CoA-forming); (S)-3-Hydroxy-3-methylglutaryl-CoA <=> Acetyl-CoA + Acetoacetate)"
      ],
      "text/plain": [
       "<IPython.core.display.HTML object>"
      ]
     },
     "metadata": {},
     "output_type": "display_data"
    },
    {
     "data": {
      "text/html": [
       "<b>R01360</b>: [\"<span style='color: #fd79b7'>Node28120</span>\", \"<span style='color: #2a6e9d'>Node45985</span>\"] ((S)-3-hydroxy-3-methylglutaryl-CoA acetoacetate-lyase (acetyl-CoA-forming); (S)-3-Hydroxy-3-methylglutaryl-CoA <=> Acetyl-CoA + Acetoacetate)"
      ],
      "text/plain": [
       "<IPython.core.display.HTML object>"
      ]
     },
     "metadata": {},
     "output_type": "display_data"
    },
    {
     "data": {
      "text/html": [
       "<b>R01051</b>: [\"<span style='color: #ffd3f8'>Node126898</span>\"] (ATP:D-ribose 5-phosphotransferase; ATP + D-Ribose <=> ADP + D-Ribose 5-phosphate)"
      ],
      "text/plain": [
       "<IPython.core.display.HTML object>"
      ]
     },
     "metadata": {},
     "output_type": "display_data"
    },
    {
     "data": {
      "text/html": [
       "<b>R01051</b>: [\"<span style='color: #ffd3f8'>Node126898</span>\", \"<span style='color: #a87f75'>Node15327</span>\"] (ATP:D-ribose 5-phosphotransferase; ATP + D-Ribose <=> ADP + D-Ribose 5-phosphate)"
      ],
      "text/plain": [
       "<IPython.core.display.HTML object>"
      ]
     },
     "metadata": {},
     "output_type": "display_data"
    },
    {
     "data": {
      "text/html": [
       "<b>R01051</b>: [\"<span style='color: #ffd3f8'>Node126898</span>\", \"<span style='color: #a87f75'>Node15327</span>\", \"<span style='color: #21d139'>Node21166</span>\"] (ATP:D-ribose 5-phosphotransferase; ATP + D-Ribose <=> ADP + D-Ribose 5-phosphate)"
      ],
      "text/plain": [
       "<IPython.core.display.HTML object>"
      ]
     },
     "metadata": {},
     "output_type": "display_data"
    },
    {
     "data": {
      "text/html": [
       "<b>R09726</b>: [\"<span style='color: #a87f75'>Node15327</span>\"] (ATP:molybdopterin adenylyltransferase; ATP + Molybdopterin <=> Diphosphate + Adenylated molybdopterin)"
      ],
      "text/plain": [
       "<IPython.core.display.HTML object>"
      ]
     },
     "metadata": {},
     "output_type": "display_data"
    },
    {
     "data": {
      "text/html": [
       "<b>R09726</b>: [\"<span style='color: #a87f75'>Node15327</span>\", \"<span style='color: #554a79'>Node19398</span>\"] (ATP:molybdopterin adenylyltransferase; ATP + Molybdopterin <=> Diphosphate + Adenylated molybdopterin)"
      ],
      "text/plain": [
       "<IPython.core.display.HTML object>"
      ]
     },
     "metadata": {},
     "output_type": "display_data"
    },
    {
     "data": {
      "text/html": [
       "<b>R09726</b>: [\"<span style='color: #a87f75'>Node15327</span>\", \"<span style='color: #554a79'>Node19398</span>\", \"<span style='color: #21d139'>Node21166</span>\"] (ATP:molybdopterin adenylyltransferase; ATP + Molybdopterin <=> Diphosphate + Adenylated molybdopterin)"
      ],
      "text/plain": [
       "<IPython.core.display.HTML object>"
      ]
     },
     "metadata": {},
     "output_type": "display_data"
    },
    {
     "data": {
      "text/html": [
       "<b>R06836</b>: [\"<span style='color: #fd79b7'>Node28120</span>\"] (ATP:ribose-1,5-bisphosphate phosphotransferase; D-Ribose 1,5-bisphosphate + ATP <=> 5-Phospho-alpha-D-ribose 1-diphosphate + ADP)"
      ],
      "text/plain": [
       "<IPython.core.display.HTML object>"
      ]
     },
     "metadata": {},
     "output_type": "display_data"
    },
    {
     "data": {
      "text/html": [
       "<b>R09543</b>: [\"<span style='color: #fd79b7'>Node28120</span>\"] (S-adenosyl-L-methionine:malonyl-[acyl-carrier protein] O-methyltransferase; S-Adenosyl-L-methionine + Malonyl-[acyl-carrier protein] <=> S-Adenosyl-L-homocysteine + Malonyl-[acp] methyl ester)"
      ],
      "text/plain": [
       "<IPython.core.display.HTML object>"
      ]
     },
     "metadata": {},
     "output_type": "display_data"
    },
    {
     "data": {
      "text/html": [
       "<b>R09543</b>: [\"<span style='color: #fd79b7'>Node28120</span>\", \"<span style='color: #2a6e9d'>Node45985</span>\"] (S-adenosyl-L-methionine:malonyl-[acyl-carrier protein] O-methyltransferase; S-Adenosyl-L-methionine + Malonyl-[acyl-carrier protein] <=> S-Adenosyl-L-homocysteine + Malonyl-[acp] methyl ester)"
      ],
      "text/plain": [
       "<IPython.core.display.HTML object>"
      ]
     },
     "metadata": {},
     "output_type": "display_data"
    },
    {
     "data": {
      "text/html": [
       "<b>R09543</b>: [\"<span style='color: #fd79b7'>Node28120</span>\", \"<span style='color: #2a6e9d'>Node45985</span>\", \"<span style='color: #073257'>Node55904</span>\"] (S-adenosyl-L-methionine:malonyl-[acyl-carrier protein] O-methyltransferase; S-Adenosyl-L-methionine + Malonyl-[acyl-carrier protein] <=> S-Adenosyl-L-homocysteine + Malonyl-[acp] methyl ester)"
      ],
      "text/plain": [
       "<IPython.core.display.HTML object>"
      ]
     },
     "metadata": {},
     "output_type": "display_data"
    },
    {
     "data": {
      "text/html": [
       "<b>R01134</b>: [\"<span style='color: #a87f75'>Node15327</span>\"] (inosine-5'-phosphate:NADP+ oxidoreductase (aminating); NADH:guanosine-5'-phosphate oxidoreductase (deaminating); IMP + Ammonia + NADP+ <=> GMP + NADPH + H+)"
      ],
      "text/plain": [
       "<IPython.core.display.HTML object>"
      ]
     },
     "metadata": {},
     "output_type": "display_data"
    },
    {
     "data": {
      "text/html": [
       "<b>R03210</b>: [\"<span style='color: #21d139'>Node21166</span>\"] (pimeloyl-CoA:L-alanine C-carboxyhexanoyltransferase (decarboxylating); Pimeloyl-CoA + L-Alanine <=> 8-Amino-7-oxononanoate + CoA + CO2)"
      ],
      "text/plain": [
       "<IPython.core.display.HTML object>"
      ]
     },
     "metadata": {},
     "output_type": "display_data"
    },
    {
     "data": {
      "text/html": [
       "<b>R03210</b>: [\"<span style='color: #21d139'>Node21166</span>\", \"<span style='color: #fd79b7'>Node28120</span>\"] (pimeloyl-CoA:L-alanine C-carboxyhexanoyltransferase (decarboxylating); Pimeloyl-CoA + L-Alanine <=> 8-Amino-7-oxononanoate + CoA + CO2)"
      ],
      "text/plain": [
       "<IPython.core.display.HTML object>"
      ]
     },
     "metadata": {},
     "output_type": "display_data"
    },
    {
     "data": {
      "text/html": [
       "<b>R08110</b>: [\"<span style='color: #21d139'>Node21166</span>\"] (4-fluorobenzoate,NADH:oxygen oxidoreductase (1,2-hydroxylating); 4-Fluorobenzoate + NADH + H+ + Oxygen <=> 4-Fluorocyclohexadiene-cis,cis-1,2-diol-1-carboxylate + NAD+)"
      ],
      "text/plain": [
       "<IPython.core.display.HTML object>"
      ]
     },
     "metadata": {},
     "output_type": "display_data"
    },
    {
     "data": {
      "text/html": [
       "<b>R05963</b>: [\"<span style='color: #a87f75'>Node15327</span>\"] (H2O + Globoside <=> N-Acetyl-D-galactosamine + Globotriaosylceramide)"
      ],
      "text/plain": [
       "<IPython.core.display.HTML object>"
      ]
     },
     "metadata": {},
     "output_type": "display_data"
    },
    {
     "data": {
      "text/html": [
       "<b>R05963</b>: [\"<span style='color: #a87f75'>Node15327</span>\", \"<span style='color: #fd79b7'>Node28120</span>\"] (H2O + Globoside <=> N-Acetyl-D-galactosamine + Globotriaosylceramide)"
      ],
      "text/plain": [
       "<IPython.core.display.HTML object>"
      ]
     },
     "metadata": {},
     "output_type": "display_data"
    },
    {
     "data": {
      "text/html": [
       "<b>R00726</b>: [\"<span style='color: #4c0ebb'>Node119365</span>\"] (ITP:oxaloacetate carboxy-lyase (adding ITP; phosphoenolpyruvate-forming); ITP:oxaloacetate carboxy-lyase (transphosphorylating); ITP + Oxaloacetate <=> IDP + Phosphoenolpyruvate + CO2)"
      ],
      "text/plain": [
       "<IPython.core.display.HTML object>"
      ]
     },
     "metadata": {},
     "output_type": "display_data"
    },
    {
     "data": {
      "text/html": [
       "<b>R00726</b>: [\"<span style='color: #4c0ebb'>Node119365</span>\", \"<span style='color: #fd79b7'>Node28120</span>\"] (ITP:oxaloacetate carboxy-lyase (adding ITP; phosphoenolpyruvate-forming); ITP:oxaloacetate carboxy-lyase (transphosphorylating); ITP + Oxaloacetate <=> IDP + Phosphoenolpyruvate + CO2)"
      ],
      "text/plain": [
       "<IPython.core.display.HTML object>"
      ]
     },
     "metadata": {},
     "output_type": "display_data"
    },
    {
     "data": {
      "text/html": [
       "<b>R01354</b>: [\"<span style='color: #fd79b7'>Node28120</span>\"] (ATP:propanoate adenylyltransferase; ATP + Propanoate <=> Diphosphate + Propionyladenylate)"
      ],
      "text/plain": [
       "<IPython.core.display.HTML object>"
      ]
     },
     "metadata": {},
     "output_type": "display_data"
    },
    {
     "data": {
      "text/html": [
       "<b>R07002</b>: [\"<span style='color: #073257'>Node55904</span>\"] ((1R)-hydroxy-(2R)-glutathionyl-1,2-dihydronaphthalene glutathione-lyase (epoxide-forming); (1R,2S)-Naphthalene 1,2-oxide + Glutathione <=> (1R)-Hydroxy-(2R)-glutathionyl-1,2-dihydronaphthalene)"
      ],
      "text/plain": [
       "<IPython.core.display.HTML object>"
      ]
     },
     "metadata": {},
     "output_type": "display_data"
    },
    {
     "data": {
      "text/html": [
       "<b>R05225</b>: [\"<span style='color: #ffd3f8'>Node126898</span>\"] (Adenosyl cobyrinate a,c diamide + 4 L-Glutamine + 4 ATP + 4 H2O <=> Adenosyl cobyrinate hexaamide + 4 L-Glutamate + 4 Orthophosphate + 4 ADP)"
      ],
      "text/plain": [
       "<IPython.core.display.HTML object>"
      ]
     },
     "metadata": {},
     "output_type": "display_data"
    },
    {
     "data": {
      "text/html": [
       "<b>R05225</b>: [\"<span style='color: #ffd3f8'>Node126898</span>\", \"<span style='color: #a87f75'>Node15327</span>\"] (Adenosyl cobyrinate a,c diamide + 4 L-Glutamine + 4 ATP + 4 H2O <=> Adenosyl cobyrinate hexaamide + 4 L-Glutamate + 4 Orthophosphate + 4 ADP)"
      ],
      "text/plain": [
       "<IPython.core.display.HTML object>"
      ]
     },
     "metadata": {},
     "output_type": "display_data"
    },
    {
     "data": {
      "text/html": [
       "<b>R05225</b>: [\"<span style='color: #ffd3f8'>Node126898</span>\", \"<span style='color: #a87f75'>Node15327</span>\", \"<span style='color: #21d139'>Node21166</span>\"] (Adenosyl cobyrinate a,c diamide + 4 L-Glutamine + 4 ATP + 4 H2O <=> Adenosyl cobyrinate hexaamide + 4 L-Glutamate + 4 Orthophosphate + 4 ADP)"
      ],
      "text/plain": [
       "<IPython.core.display.HTML object>"
      ]
     },
     "metadata": {},
     "output_type": "display_data"
    },
    {
     "data": {
      "text/html": [
       "<b>R07418</b>: [\"<span style='color: #fd79b7'>Node28120</span>\"] (4-(gamma-L-glutamylamino)butanal:NADP+ oxidoreductase; gamma-Glutamyl-gamma-aminobutyraldehyde + NADP+ + H2O <=> 4-(L-gamma-Glutamylamino)butanoate + NADPH + H+)"
      ],
      "text/plain": [
       "<IPython.core.display.HTML object>"
      ]
     },
     "metadata": {},
     "output_type": "display_data"
    },
    {
     "data": {
      "text/html": [
       "<b>R01777</b>: [\"<span style='color: #bebf59'>Node55420</span>\"] (Succinyl-CoA:L-homoserine O-succinyltransferase; Succinyl-CoA + L-Homoserine <=> CoA + O-Succinyl-L-homoserine)"
      ],
      "text/plain": [
       "<IPython.core.display.HTML object>"
      ]
     },
     "metadata": {},
     "output_type": "display_data"
    },
    {
     "data": {
      "text/html": [
       "<b>R01777</b>: [\"<span style='color: #bebf59'>Node55420</span>\", \"<span style='color: #073257'>Node55904</span>\"] (Succinyl-CoA:L-homoserine O-succinyltransferase; Succinyl-CoA + L-Homoserine <=> CoA + O-Succinyl-L-homoserine)"
      ],
      "text/plain": [
       "<IPython.core.display.HTML object>"
      ]
     },
     "metadata": {},
     "output_type": "display_data"
    },
    {
     "data": {
      "text/html": [
       "<b>R00568</b>: [\"<span style='color: #4c0ebb'>Node119365</span>\"]"
      ],
      "text/plain": [
       "<IPython.core.display.HTML object>"
      ]
     },
     "metadata": {},
     "output_type": "display_data"
    },
    {
     "data": {
      "text/html": [
       "<b>R00568</b>: [\"<span style='color: #4c0ebb'>Node119365</span>\", \"<span style='color: #ffd3f8'>Node126898</span>\"]"
      ],
      "text/plain": [
       "<IPython.core.display.HTML object>"
      ]
     },
     "metadata": {},
     "output_type": "display_data"
    },
    {
     "data": {
      "text/html": [
       "<b>R00238</b>: [\"<span style='color: #fd79b7'>Node28120</span>\"] (acetyl-CoA:acetyl-CoA C-acetyltransferase; 2 Acetyl-CoA <=> CoA + Acetoacetyl-CoA)"
      ],
      "text/plain": [
       "<IPython.core.display.HTML object>"
      ]
     },
     "metadata": {},
     "output_type": "display_data"
    },
    {
     "data": {
      "text/html": [
       "<b>R04989</b>: [\"<span style='color: #21d139'>Node21166</span>\"]"
      ],
      "text/plain": [
       "<IPython.core.display.HTML object>"
      ]
     },
     "metadata": {},
     "output_type": "display_data"
    },
    {
     "data": {
      "text/html": [
       "<b>R04989</b>: [\"<span style='color: #21d139'>Node21166</span>\", \"<span style='color: #fd79b7'>Node28120</span>\"]"
      ],
      "text/plain": [
       "<IPython.core.display.HTML object>"
      ]
     },
     "metadata": {},
     "output_type": "display_data"
    },
    {
     "data": {
      "text/html": [
       "<b>R01398</b>: [\"<span style='color: #fd79b7'>Node28120</span>\"] (Carbamoyl-phosphate:L-ornithine carbamoyltransferase; Carbamoyl phosphate + L-Ornithine <=> Orthophosphate + L-Citrulline)"
      ],
      "text/plain": [
       "<IPython.core.display.HTML object>"
      ]
     },
     "metadata": {},
     "output_type": "display_data"
    },
    {
     "data": {
      "text/html": [
       "<b>R04286</b>: [\"<span style='color: #fd79b7'>Node28120</span>\"] (2-amino-4-hydroxy-6-(erythro-1,2,3-trihydroxypropyl) dihydropteridine triphosphate lyase; 7,8-Dihydroneopterin 3'-triphosphate <=> 6-Pyruvoyltetrahydropterin + Triphosphate)"
      ],
      "text/plain": [
       "<IPython.core.display.HTML object>"
      ]
     },
     "metadata": {},
     "output_type": "display_data"
    },
    {
     "data": {
      "text/html": [
       "<b>R07605</b>: [\"<span style='color: #a87f75'>Node15327</span>\"] (7-aminomethyl-7-carbaguanine:NADP+ oxidoreductase; 7-Aminomethyl-7-carbaguanine + 2 NADP+ <=> 7-Cyano-7-carbaguanine + 2 NADPH + 2 H+)"
      ],
      "text/plain": [
       "<IPython.core.display.HTML object>"
      ]
     },
     "metadata": {},
     "output_type": "display_data"
    },
    {
     "data": {
      "text/html": [
       "<b>R07605</b>: [\"<span style='color: #a87f75'>Node15327</span>\", \"<span style='color: #21d139'>Node21166</span>\"] (7-aminomethyl-7-carbaguanine:NADP+ oxidoreductase; 7-Aminomethyl-7-carbaguanine + 2 NADP+ <=> 7-Cyano-7-carbaguanine + 2 NADPH + 2 H+)"
      ],
      "text/plain": [
       "<IPython.core.display.HTML object>"
      ]
     },
     "metadata": {},
     "output_type": "display_data"
    },
    {
     "data": {
      "text/html": [
       "<b>R07605</b>: [\"<span style='color: #a87f75'>Node15327</span>\", \"<span style='color: #21d139'>Node21166</span>\", \"<span style='color: #fd79b7'>Node28120</span>\"] (7-aminomethyl-7-carbaguanine:NADP+ oxidoreductase; 7-Aminomethyl-7-carbaguanine + 2 NADP+ <=> 7-Cyano-7-carbaguanine + 2 NADPH + 2 H+)"
      ],
      "text/plain": [
       "<IPython.core.display.HTML object>"
      ]
     },
     "metadata": {},
     "output_type": "display_data"
    },
    {
     "data": {
      "text/html": [
       "<b>R03877</b>: [\"<span style='color: #ffd3f8'>Node126898</span>\"] (Magnesium-protoporphyrin IX chelatase; ATP + Protoporphyrin + Magnesium cation + H2O <=> ADP + Orthophosphate + Magnesium protoporphyrin + 2 H+)"
      ],
      "text/plain": [
       "<IPython.core.display.HTML object>"
      ]
     },
     "metadata": {},
     "output_type": "display_data"
    },
    {
     "data": {
      "text/html": [
       "<b>R04967</b>: [\"<span style='color: #a87f75'>Node15327</span>\"] (tetradecanoyl-[acp]:NADP+ trans-2-oxidoreductase; Tetradecanoyl-[acp] + NADP+ <=> trans-Tetradec-2-enoyl-[acp] + NADPH + H+)"
      ],
      "text/plain": [
       "<IPython.core.display.HTML object>"
      ]
     },
     "metadata": {},
     "output_type": "display_data"
    },
    {
     "data": {
      "text/html": [
       "<b>R04967</b>: [\"<span style='color: #a87f75'>Node15327</span>\", \"<span style='color: #554a79'>Node19398</span>\"] (tetradecanoyl-[acp]:NADP+ trans-2-oxidoreductase; Tetradecanoyl-[acp] + NADP+ <=> trans-Tetradec-2-enoyl-[acp] + NADPH + H+)"
      ],
      "text/plain": [
       "<IPython.core.display.HTML object>"
      ]
     },
     "metadata": {},
     "output_type": "display_data"
    },
    {
     "data": {
      "text/html": [
       "<b>R04967</b>: [\"<span style='color: #a87f75'>Node15327</span>\", \"<span style='color: #554a79'>Node19398</span>\", \"<span style='color: #fd79b7'>Node28120</span>\"] (tetradecanoyl-[acp]:NADP+ trans-2-oxidoreductase; Tetradecanoyl-[acp] + NADP+ <=> trans-Tetradec-2-enoyl-[acp] + NADPH + H+)"
      ],
      "text/plain": [
       "<IPython.core.display.HTML object>"
      ]
     },
     "metadata": {},
     "output_type": "display_data"
    },
    {
     "data": {
      "text/html": [
       "<b>R04509</b>: [\"<span style='color: #a87f75'>Node15327</span>\"] (ATP:4-amino-2-methyl-5-phosphomethylpyrimidine phosphotransferase; ATP + 4-Amino-2-methyl-5-(phosphooxymethyl)pyrimidine <=> ADP + 4-Amino-5-hydroxymethyl-2-methylpyrimidine diphosphate)"
      ],
      "text/plain": [
       "<IPython.core.display.HTML object>"
      ]
     },
     "metadata": {},
     "output_type": "display_data"
    },
    {
     "data": {
      "text/html": [
       "<b>R04509</b>: [\"<span style='color: #a87f75'>Node15327</span>\", \"<span style='color: #073257'>Node55904</span>\"] (ATP:4-amino-2-methyl-5-phosphomethylpyrimidine phosphotransferase; ATP + 4-Amino-2-methyl-5-(phosphooxymethyl)pyrimidine <=> ADP + 4-Amino-5-hydroxymethyl-2-methylpyrimidine diphosphate)"
      ],
      "text/plain": [
       "<IPython.core.display.HTML object>"
      ]
     },
     "metadata": {},
     "output_type": "display_data"
    },
    {
     "data": {
      "text/html": [
       "<b>R00289</b>: [\"<span style='color: #fd79b7'>Node28120</span>\"] (UTP:alpha-D-glucose-1-phosphate uridylyltransferase; UTP + D-Glucose 1-phosphate <=> Diphosphate + UDP-glucose)"
      ],
      "text/plain": [
       "<IPython.core.display.HTML object>"
      ]
     },
     "metadata": {},
     "output_type": "display_data"
    },
    {
     "data": {
      "text/html": [
       "<b>R07363</b>: [\"<span style='color: #fd79b7'>Node28120</span>\"] (1,2-dihydroxy-5-(methylthio)pent-1-en-3-one:oxygen oxidoreductase (formate- and CO-forming); 1,2-Dihydroxy-5-(methylthio)pent-1-en-3-one + Oxygen <=> 3-(Methylthio)propanoate + Formate + CO)"
      ],
      "text/plain": [
       "<IPython.core.display.HTML object>"
      ]
     },
     "metadata": {},
     "output_type": "display_data"
    },
    {
     "data": {
      "text/html": [
       "<b>R06211</b>: [\"<span style='color: #073257'>Node55904</span>\"] (Sucrose 6'-phosphate + H2O <=> Sucrose + Orthophosphate)"
      ],
      "text/plain": [
       "<IPython.core.display.HTML object>"
      ]
     },
     "metadata": {},
     "output_type": "display_data"
    },
    {
     "data": {
      "text/html": [
       "<b>R05614</b>: [\"<span style='color: #3a3787'>Node52227</span>\"]"
      ],
      "text/plain": [
       "<IPython.core.display.HTML object>"
      ]
     },
     "metadata": {},
     "output_type": "display_data"
    },
    {
     "data": {
      "text/html": [
       "<b>R00517</b>: [\"<span style='color: #74553b'>Node147305</span>\"] (GTP:cytidine 5'-phosphotransferase; GTP + Cytidine <=> GDP + CMP)"
      ],
      "text/plain": [
       "<IPython.core.display.HTML object>"
      ]
     },
     "metadata": {},
     "output_type": "display_data"
    },
    {
     "data": {
      "text/html": [
       "<b>R00517</b>: [\"<span style='color: #74553b'>Node147305</span>\", \"<span style='color: #21d139'>Node21166</span>\"] (GTP:cytidine 5'-phosphotransferase; GTP + Cytidine <=> GDP + CMP)"
      ],
      "text/plain": [
       "<IPython.core.display.HTML object>"
      ]
     },
     "metadata": {},
     "output_type": "display_data"
    },
    {
     "data": {
      "text/html": [
       "<b>R02235</b>: [\"<span style='color: #a87f75'>Node15327</span>\"] (dihydrofolate:NAD+ oxidoreductase; Dihydrofolate + NAD+ <=> Folate + NADH + H+)"
      ],
      "text/plain": [
       "<IPython.core.display.HTML object>"
      ]
     },
     "metadata": {},
     "output_type": "display_data"
    },
    {
     "data": {
      "text/html": [
       "<b>R02235</b>: [\"<span style='color: #a87f75'>Node15327</span>\", \"<span style='color: #fd79b7'>Node28120</span>\"] (dihydrofolate:NAD+ oxidoreductase; Dihydrofolate + NAD+ <=> Folate + NADH + H+)"
      ],
      "text/plain": [
       "<IPython.core.display.HTML object>"
      ]
     },
     "metadata": {},
     "output_type": "display_data"
    },
    {
     "data": {
      "text/html": [
       "<b>R07461</b>: [\"<span style='color: #74553b'>Node147305</span>\"] ([enzyme]-S-sulfanyl-L-cysteine:adenylyl-[sulfur-carrier protein] sulfurtransferase; [Enzyme]-S-sulfanylcysteine + Adenylyl-[sulfur-carrier protein] + Reduced acceptor <=> AMP + Thiocarboxy-[sulfur-carrier protein] + [Enzyme]-cysteine + Acceptor)"
      ],
      "text/plain": [
       "<IPython.core.display.HTML object>"
      ]
     },
     "metadata": {},
     "output_type": "display_data"
    },
    {
     "data": {
      "text/html": [
       "<b>R07461</b>: [\"<span style='color: #74553b'>Node147305</span>\", \"<span style='color: #fd79b7'>Node28120</span>\"] ([enzyme]-S-sulfanyl-L-cysteine:adenylyl-[sulfur-carrier protein] sulfurtransferase; [Enzyme]-S-sulfanylcysteine + Adenylyl-[sulfur-carrier protein] + Reduced acceptor <=> AMP + Thiocarboxy-[sulfur-carrier protein] + [Enzyme]-cysteine + Acceptor)"
      ],
      "text/plain": [
       "<IPython.core.display.HTML object>"
      ]
     },
     "metadata": {},
     "output_type": "display_data"
    },
    {
     "data": {
      "text/html": [
       "<b>R00751</b>: [\"<span style='color: #21d139'>Node21166</span>\"] (L-threonine acetaldehyde-lyase (glycine-forming); L-Threonine <=> Glycine + Acetaldehyde)"
      ],
      "text/plain": [
       "<IPython.core.display.HTML object>"
      ]
     },
     "metadata": {},
     "output_type": "display_data"
    },
    {
     "data": {
      "text/html": [
       "<b>R00751</b>: [\"<span style='color: #21d139'>Node21166</span>\", \"<span style='color: #fd79b7'>Node28120</span>\"] (L-threonine acetaldehyde-lyase (glycine-forming); L-Threonine <=> Glycine + Acetaldehyde)"
      ],
      "text/plain": [
       "<IPython.core.display.HTML object>"
      ]
     },
     "metadata": {},
     "output_type": "display_data"
    },
    {
     "data": {
      "text/html": [
       "<b>R04956</b>: [\"<span style='color: #a87f75'>Node15327</span>\"] (hexanoyl-[acp]:NADP+ trans-2-oxidoreductase; Hexanoyl-[acp] + NADP+ <=> trans-Hex-2-enoyl-[acp] + NADPH + H+)"
      ],
      "text/plain": [
       "<IPython.core.display.HTML object>"
      ]
     },
     "metadata": {},
     "output_type": "display_data"
    },
    {
     "data": {
      "text/html": [
       "<b>R04956</b>: [\"<span style='color: #a87f75'>Node15327</span>\", \"<span style='color: #554a79'>Node19398</span>\"] (hexanoyl-[acp]:NADP+ trans-2-oxidoreductase; Hexanoyl-[acp] + NADP+ <=> trans-Hex-2-enoyl-[acp] + NADPH + H+)"
      ],
      "text/plain": [
       "<IPython.core.display.HTML object>"
      ]
     },
     "metadata": {},
     "output_type": "display_data"
    },
    {
     "data": {
      "text/html": [
       "<b>R04956</b>: [\"<span style='color: #a87f75'>Node15327</span>\", \"<span style='color: #554a79'>Node19398</span>\", \"<span style='color: #fd79b7'>Node28120</span>\"] (hexanoyl-[acp]:NADP+ trans-2-oxidoreductase; Hexanoyl-[acp] + NADP+ <=> trans-Hex-2-enoyl-[acp] + NADPH + H+)"
      ],
      "text/plain": [
       "<IPython.core.display.HTML object>"
      ]
     },
     "metadata": {},
     "output_type": "display_data"
    },
    {
     "data": {
      "text/html": [
       "<b>R01752</b>: [\"<span style='color: #fd79b7'>Node28120</span>\"] (D-Glyceraldehyde:NAD+ oxidoreductase; D-Glyceraldehyde + NAD+ + H2O <=> D-Glycerate + NADH + H+)"
      ],
      "text/plain": [
       "<IPython.core.display.HTML object>"
      ]
     },
     "metadata": {},
     "output_type": "display_data"
    },
    {
     "data": {
      "text/html": [
       "<b>R01752</b>: [\"<span style='color: #fd79b7'>Node28120</span>\", \"<span style='color: #073257'>Node55904</span>\"] (D-Glyceraldehyde:NAD+ oxidoreductase; D-Glyceraldehyde + NAD+ + H2O <=> D-Glycerate + NADH + H+)"
      ],
      "text/plain": [
       "<IPython.core.display.HTML object>"
      ]
     },
     "metadata": {},
     "output_type": "display_data"
    },
    {
     "data": {
      "text/html": [
       "<b>R01540</b>: [\"<span style='color: #a87f75'>Node15327</span>\"] (D-altronate hydro-lyase (2-dehydro-3-deoxy-D-gluconate-forming); D-Altronate <=> 2-Dehydro-3-deoxy-D-gluconate + H2O)"
      ],
      "text/plain": [
       "<IPython.core.display.HTML object>"
      ]
     },
     "metadata": {},
     "output_type": "display_data"
    },
    {
     "data": {
      "text/html": [
       "<b>R01540</b>: [\"<span style='color: #a87f75'>Node15327</span>\", \"<span style='color: #21d139'>Node21166</span>\"] (D-altronate hydro-lyase (2-dehydro-3-deoxy-D-gluconate-forming); D-Altronate <=> 2-Dehydro-3-deoxy-D-gluconate + H2O)"
      ],
      "text/plain": [
       "<IPython.core.display.HTML object>"
      ]
     },
     "metadata": {},
     "output_type": "display_data"
    },
    {
     "data": {
      "text/html": [
       "<b>R01540</b>: [\"<span style='color: #a87f75'>Node15327</span>\", \"<span style='color: #21d139'>Node21166</span>\", \"<span style='color: #fd79b7'>Node28120</span>\"] (D-altronate hydro-lyase (2-dehydro-3-deoxy-D-gluconate-forming); D-Altronate <=> 2-Dehydro-3-deoxy-D-gluconate + H2O)"
      ],
      "text/plain": [
       "<IPython.core.display.HTML object>"
      ]
     },
     "metadata": {},
     "output_type": "display_data"
    },
    {
     "data": {
      "text/html": [
       "<b>R02421</b>: [\"<span style='color: #073257'>Node55904</span>\"] (ADP-glucose:1,4-alpha-D-glucan 4-alpha-D-glucosyltransferase; ADP-glucose + Amylose <=> ADP + Amylose)"
      ],
      "text/plain": [
       "<IPython.core.display.HTML object>"
      ]
     },
     "metadata": {},
     "output_type": "display_data"
    },
    {
     "data": {
      "text/html": [
       "<b>R10206</b>: [\"<span style='color: #fd79b7'>Node28120</span>\"] (methanesulfonate,FMNH2:oxygen oxidoreductase; Methanesulfonic acid + Reduced FMN + Oxygen <=> FMN + Sulfite + H2O + Formaldehyde)"
      ],
      "text/plain": [
       "<IPython.core.display.HTML object>"
      ]
     },
     "metadata": {},
     "output_type": "display_data"
    },
    {
     "data": {
      "text/html": [
       "<b>R02372</b>: [\"<span style='color: #74553b'>Node147305</span>\"]"
      ],
      "text/plain": [
       "<IPython.core.display.HTML object>"
      ]
     },
     "metadata": {},
     "output_type": "display_data"
    },
    {
     "data": {
      "text/html": [
       "<b>R02372</b>: [\"<span style='color: #74553b'>Node147305</span>\", \"<span style='color: #21d139'>Node21166</span>\"]"
      ],
      "text/plain": [
       "<IPython.core.display.HTML object>"
      ]
     },
     "metadata": {},
     "output_type": "display_data"
    },
    {
     "data": {
      "text/html": [
       "<b>R02596</b>: [\"<span style='color: #fd79b7'>Node28120</span>\"] (Donor:hydrogen-peroxide oxidoreductase; Coniferyl alcohol <=> Guaiacyl lignin)"
      ],
      "text/plain": [
       "<IPython.core.display.HTML object>"
      ]
     },
     "metadata": {},
     "output_type": "display_data"
    },
    {
     "data": {
      "text/html": [
       "<b>R11372</b>: [\"<span style='color: #2a6e9d'>Node45985</span>\"] ((8S)-3',8-cyclo-7,8-dihydroguanosine 5'-triphosphate lyase (cyclic pyranopterin phosphate-forming); (8S)-3',8-Cyclo-7,8-dihydroguanosine 5'-triphosphate + H2O <=> Precursor Z + Diphosphate)"
      ],
      "text/plain": [
       "<IPython.core.display.HTML object>"
      ]
     },
     "metadata": {},
     "output_type": "display_data"
    },
    {
     "data": {
      "text/html": [
       "<b>R00509</b>: [\"<span style='color: #fd79b7'>Node28120</span>\"] (ATP:adenylylsulfate 3'-phosphotransferase; ATP + Adenylyl sulfate <=> ADP + 3'-Phosphoadenylyl sulfate)"
      ],
      "text/plain": [
       "<IPython.core.display.HTML object>"
      ]
     },
     "metadata": {},
     "output_type": "display_data"
    },
    {
     "data": {
      "text/html": [
       "<b>R01466</b>: [\"<span style='color: #4c0ebb'>Node119365</span>\"] (O-phospho-L-homoserine phosphate-lyase (adding water;L-threonine-forming); O-Phospho-L-homoserine + H2O <=> L-Threonine + Orthophosphate)"
      ],
      "text/plain": [
       "<IPython.core.display.HTML object>"
      ]
     },
     "metadata": {},
     "output_type": "display_data"
    },
    {
     "data": {
      "text/html": [
       "<b>R01466</b>: [\"<span style='color: #4c0ebb'>Node119365</span>\", \"<span style='color: #ffd3f8'>Node126898</span>\"] (O-phospho-L-homoserine phosphate-lyase (adding water;L-threonine-forming); O-Phospho-L-homoserine + H2O <=> L-Threonine + Orthophosphate)"
      ],
      "text/plain": [
       "<IPython.core.display.HTML object>"
      ]
     },
     "metadata": {},
     "output_type": "display_data"
    },
    {
     "data": {
      "text/html": [
       "<b>R01466</b>: [\"<span style='color: #4c0ebb'>Node119365</span>\", \"<span style='color: #ffd3f8'>Node126898</span>\", \"<span style='color: #74553b'>Node147305</span>\"] (O-phospho-L-homoserine phosphate-lyase (adding water;L-threonine-forming); O-Phospho-L-homoserine + H2O <=> L-Threonine + Orthophosphate)"
      ],
      "text/plain": [
       "<IPython.core.display.HTML object>"
      ]
     },
     "metadata": {},
     "output_type": "display_data"
    },
    {
     "data": {
      "text/html": [
       "<b>R07604</b>: [\"<span style='color: #74553b'>Node147305</span>\"] (2-Methyl-1-hydroxybutyl-ThPP + Enzyme N6-(lipoyl)lysine <=> [Dihydrolipoyllysine-residue (2-methylpropanoyl)transferase] S-(2-methylbutanoyl)dihydrolipoyllysine + Thiamin diphosphate)"
      ],
      "text/plain": [
       "<IPython.core.display.HTML object>"
      ]
     },
     "metadata": {},
     "output_type": "display_data"
    },
    {
     "data": {
      "text/html": [
       "<b>R00097</b>: [\"<span style='color: #a87f75'>Node15327</span>\"] (Cob(II)alamin <=> Aquacob(III)alamin)"
      ],
      "text/plain": [
       "<IPython.core.display.HTML object>"
      ]
     },
     "metadata": {},
     "output_type": "display_data"
    },
    {
     "data": {
      "text/html": [
       "<b>R00097</b>: [\"<span style='color: #a87f75'>Node15327</span>\", \"<span style='color: #21d139'>Node21166</span>\"] (Cob(II)alamin <=> Aquacob(III)alamin)"
      ],
      "text/plain": [
       "<IPython.core.display.HTML object>"
      ]
     },
     "metadata": {},
     "output_type": "display_data"
    },
    {
     "data": {
      "text/html": [
       "<b>R03106</b>: [\"<span style='color: #bebf59'>Node55420</span>\"]"
      ],
      "text/plain": [
       "<IPython.core.display.HTML object>"
      ]
     },
     "metadata": {},
     "output_type": "display_data"
    },
    {
     "data": {
      "text/html": [
       "<b>R03106</b>: [\"<span style='color: #bebf59'>Node55420</span>\", \"<span style='color: #073257'>Node55904</span>\"]"
      ],
      "text/plain": [
       "<IPython.core.display.HTML object>"
      ]
     },
     "metadata": {},
     "output_type": "display_data"
    },
    {
     "data": {
      "text/html": [
       "<b>R03223</b>: [\"<span style='color: #a87f75'>Node15327</span>\"] (2-methyl-4-amino-5-hydroxymethylpyrimidine-diphosphate:4-methyl-5-(2-phosphoethyl)-thiazole 2-methyl-4-aminopyridine-5-methenyltransferase; 4-Amino-5-hydroxymethyl-2-methylpyrimidine diphosphate + 4-Methyl-5-(2-phosphooxyethyl)thiazole <=> Diphosphate + Thiamin monophosphate)"
      ],
      "text/plain": [
       "<IPython.core.display.HTML object>"
      ]
     },
     "metadata": {},
     "output_type": "display_data"
    },
    {
     "data": {
      "text/html": [
       "<b>R03223</b>: [\"<span style='color: #a87f75'>Node15327</span>\", \"<span style='color: #fd79b7'>Node28120</span>\"] (2-methyl-4-amino-5-hydroxymethylpyrimidine-diphosphate:4-methyl-5-(2-phosphoethyl)-thiazole 2-methyl-4-aminopyridine-5-methenyltransferase; 4-Amino-5-hydroxymethyl-2-methylpyrimidine diphosphate + 4-Methyl-5-(2-phosphooxyethyl)thiazole <=> Diphosphate + Thiamin monophosphate)"
      ],
      "text/plain": [
       "<IPython.core.display.HTML object>"
      ]
     },
     "metadata": {},
     "output_type": "display_data"
    },
    {
     "data": {
      "text/html": [
       "<b>R03223</b>: [\"<span style='color: #a87f75'>Node15327</span>\", \"<span style='color: #fd79b7'>Node28120</span>\", \"<span style='color: #073257'>Node55904</span>\"] (2-methyl-4-amino-5-hydroxymethylpyrimidine-diphosphate:4-methyl-5-(2-phosphoethyl)-thiazole 2-methyl-4-aminopyridine-5-methenyltransferase; 4-Amino-5-hydroxymethyl-2-methylpyrimidine diphosphate + 4-Methyl-5-(2-phosphooxyethyl)thiazole <=> Diphosphate + Thiamin monophosphate)"
      ],
      "text/plain": [
       "<IPython.core.display.HTML object>"
      ]
     },
     "metadata": {},
     "output_type": "display_data"
    },
    {
     "data": {
      "text/html": [
       "<b>R05286</b>: [\"<span style='color: #fd79b7'>Node28120</span>\"] (Chloroacetaldehyde:NAD+ oxidoreductase; Chloroacetaldehyde + NAD+ + H2O <=> Chloroacetic acid + NADH + H+)"
      ],
      "text/plain": [
       "<IPython.core.display.HTML object>"
      ]
     },
     "metadata": {},
     "output_type": "display_data"
    },
    {
     "data": {
      "text/html": [
       "<b>R05286</b>: [\"<span style='color: #fd79b7'>Node28120</span>\", \"<span style='color: #073257'>Node55904</span>\"] (Chloroacetaldehyde:NAD+ oxidoreductase; Chloroacetaldehyde + NAD+ + H2O <=> Chloroacetic acid + NADH + H+)"
      ],
      "text/plain": [
       "<IPython.core.display.HTML object>"
      ]
     },
     "metadata": {},
     "output_type": "display_data"
    },
    {
     "data": {
      "text/html": [
       "<b>R07069</b>: [\"<span style='color: #073257'>Node55904</span>\"] (3,4-dihydro-3-hydroxy-4-S-glutathionyl bromobenzene glutathione-lyase (epoxide-forming); Bromobenzene-3,4-oxide + Glutathione <=> 3,4-Dihydro-3-hydroxy-4-S-glutathionyl bromobenzene)"
      ],
      "text/plain": [
       "<IPython.core.display.HTML object>"
      ]
     },
     "metadata": {},
     "output_type": "display_data"
    },
    {
     "data": {
      "text/html": [
       "<b>R08768</b>: [\"<span style='color: #21d139'>Node21166</span>\"] (2-(all-trans-polyprenyl)phenol,NADPH:oxygen oxidoreductase (6-hydroxylating); 2-Polyprenylphenol + NADPH + H+ + Oxygen <=> 2-Polyprenyl-6-hydroxyphenol + NADP+ + H2O)"
      ],
      "text/plain": [
       "<IPython.core.display.HTML object>"
      ]
     },
     "metadata": {},
     "output_type": "display_data"
    },
    {
     "data": {
      "text/html": [
       "<b>R08768</b>: [\"<span style='color: #21d139'>Node21166</span>\", \"<span style='color: #fd79b7'>Node28120</span>\"] (2-(all-trans-polyprenyl)phenol,NADPH:oxygen oxidoreductase (6-hydroxylating); 2-Polyprenylphenol + NADPH + H+ + Oxygen <=> 2-Polyprenyl-6-hydroxyphenol + NADP+ + H2O)"
      ],
      "text/plain": [
       "<IPython.core.display.HTML object>"
      ]
     },
     "metadata": {},
     "output_type": "display_data"
    },
    {
     "data": {
      "text/html": [
       "<b>R01655</b>: [\"<span style='color: #a87f75'>Node15327</span>\"] (5,10-Methenyltetrahydrofolate 5-hydrolase (decyclizing); 5,10-Methenyltetrahydrofolate + H2O <=> 10-Formyltetrahydrofolate + H+)"
      ],
      "text/plain": [
       "<IPython.core.display.HTML object>"
      ]
     },
     "metadata": {},
     "output_type": "display_data"
    },
    {
     "data": {
      "text/html": [
       "<b>R01655</b>: [\"<span style='color: #a87f75'>Node15327</span>\", \"<span style='color: #21d139'>Node21166</span>\"] (5,10-Methenyltetrahydrofolate 5-hydrolase (decyclizing); 5,10-Methenyltetrahydrofolate + H2O <=> 10-Formyltetrahydrofolate + H+)"
      ],
      "text/plain": [
       "<IPython.core.display.HTML object>"
      ]
     },
     "metadata": {},
     "output_type": "display_data"
    },
    {
     "data": {
      "text/html": [
       "<b>R01655</b>: [\"<span style='color: #a87f75'>Node15327</span>\", \"<span style='color: #21d139'>Node21166</span>\", \"<span style='color: #fd79b7'>Node28120</span>\"] (5,10-Methenyltetrahydrofolate 5-hydrolase (decyclizing); 5,10-Methenyltetrahydrofolate + H2O <=> 10-Formyltetrahydrofolate + H+)"
      ],
      "text/plain": [
       "<IPython.core.display.HTML object>"
      ]
     },
     "metadata": {},
     "output_type": "display_data"
    },
    {
     "data": {
      "text/html": [
       "<b>R07412</b>: [\"<span style='color: #74553b'>Node147305</span>\"] (ferroheme o:acceptor C-81-oxidoreductase (heme a-forming); Heme O + H2O + 2 Acceptor <=> Heme A + 2 Reduced acceptor)"
      ],
      "text/plain": [
       "<IPython.core.display.HTML object>"
      ]
     },
     "metadata": {},
     "output_type": "display_data"
    },
    {
     "data": {
      "text/html": [
       "<b>R05320</b>: [\"<span style='color: #fd79b7'>Node28120</span>\"] (Taurine, 2-oxoglutarate:O2 oxidoreductase (sulfite-forming); Taurine + 2-Oxoglutarate + Oxygen <=> Sulfite + Aminoacetaldehyde + Succinate + CO2)"
      ],
      "text/plain": [
       "<IPython.core.display.HTML object>"
      ]
     },
     "metadata": {},
     "output_type": "display_data"
    },
    {
     "data": {
      "text/html": [
       "<b>R01710</b>: [\"<span style='color: #fd79b7'>Node28120</span>\"] (pyridoxamine:oxygen oxidoreductase (deaminating); Pyridoxamine + H2O + Oxygen <=> Pyridoxal + Ammonia + Hydrogen peroxide)"
      ],
      "text/plain": [
       "<IPython.core.display.HTML object>"
      ]
     },
     "metadata": {},
     "output_type": "display_data"
    },
    {
     "data": {
      "text/html": [
       "<b>R00868</b>: [\"<span style='color: #fd79b7'>Node28120</span>\"] (D-Mannitol:NAD+ 2-oxidoreductase; Mannitol + NAD+ <=> D-Fructose + NADH + H+)"
      ],
      "text/plain": [
       "<IPython.core.display.HTML object>"
      ]
     },
     "metadata": {},
     "output_type": "display_data"
    },
    {
     "data": {
      "text/html": [
       "<b>R00868</b>: [\"<span style='color: #fd79b7'>Node28120</span>\", \"<span style='color: #bebf59'>Node55420</span>\"] (D-Mannitol:NAD+ 2-oxidoreductase; Mannitol + NAD+ <=> D-Fructose + NADH + H+)"
      ],
      "text/plain": [
       "<IPython.core.display.HTML object>"
      ]
     },
     "metadata": {},
     "output_type": "display_data"
    },
    {
     "data": {
      "text/html": [
       "<b>R00868</b>: [\"<span style='color: #fd79b7'>Node28120</span>\", \"<span style='color: #bebf59'>Node55420</span>\", \"<span style='color: #073257'>Node55904</span>\"] (D-Mannitol:NAD+ 2-oxidoreductase; Mannitol + NAD+ <=> D-Fructose + NADH + H+)"
      ],
      "text/plain": [
       "<IPython.core.display.HTML object>"
      ]
     },
     "metadata": {},
     "output_type": "display_data"
    },
    {
     "data": {
      "text/html": [
       "<b>R00844</b>: [\"<span style='color: #fd79b7'>Node28120</span>\"] (sn-Glycerol-3-phosphate:NADP+ 2-oxidoreductase; sn-Glycerol 3-phosphate + NADP+ <=> Glycerone phosphate + NADPH + H+)"
      ],
      "text/plain": [
       "<IPython.core.display.HTML object>"
      ]
     },
     "metadata": {},
     "output_type": "display_data"
    },
    {
     "data": {
      "text/html": [
       "<b>R00344</b>: [\"<span style='color: #fd79b7'>Node28120</span>\"] (Pyruvate:carbon-dioxide ligase (ADP-forming); ATP + Pyruvate + HCO3- <=> ADP + Orthophosphate + Oxaloacetate)"
      ],
      "text/plain": [
       "<IPython.core.display.HTML object>"
      ]
     },
     "metadata": {},
     "output_type": "display_data"
    },
    {
     "data": {
      "text/html": [
       "<b>R00344</b>: [\"<span style='color: #fd79b7'>Node28120</span>\", \"<span style='color: #bebf59'>Node55420</span>\"] (Pyruvate:carbon-dioxide ligase (ADP-forming); ATP + Pyruvate + HCO3- <=> ADP + Orthophosphate + Oxaloacetate)"
      ],
      "text/plain": [
       "<IPython.core.display.HTML object>"
      ]
     },
     "metadata": {},
     "output_type": "display_data"
    },
    {
     "data": {
      "text/html": [
       "<b>R00344</b>: [\"<span style='color: #fd79b7'>Node28120</span>\", \"<span style='color: #bebf59'>Node55420</span>\", \"<span style='color: #073257'>Node55904</span>\"] (Pyruvate:carbon-dioxide ligase (ADP-forming); ATP + Pyruvate + HCO3- <=> ADP + Orthophosphate + Oxaloacetate)"
      ],
      "text/plain": [
       "<IPython.core.display.HTML object>"
      ]
     },
     "metadata": {},
     "output_type": "display_data"
    },
    {
     "data": {
      "text/html": [
       "<b>R05422</b>: [\"<span style='color: #a87f75'>Node15327</span>\"] (fluorene,NADH:oxygen oxidoreductase; Fluorene + Oxygen + NADH + H+ <=> Fluoren-9-ol + NAD+ + H2O)"
      ],
      "text/plain": [
       "<IPython.core.display.HTML object>"
      ]
     },
     "metadata": {},
     "output_type": "display_data"
    },
    {
     "data": {
      "text/html": [
       "<b>R05224</b>: [\"<span style='color: #21d139'>Node21166</span>\"] (Hydrogenobyrinate + 2 L-Glutamine + 2 ATP + 2 H2O <=> Hydrogenobyrinate a,c diamide + 2 Orthophosphate + 2 L-Glutamate + 2 ADP)"
      ],
      "text/plain": [
       "<IPython.core.display.HTML object>"
      ]
     },
     "metadata": {},
     "output_type": "display_data"
    },
    {
     "data": {
      "text/html": [
       "<b>R05224</b>: [\"<span style='color: #21d139'>Node21166</span>\", \"<span style='color: #fd79b7'>Node28120</span>\"] (Hydrogenobyrinate + 2 L-Glutamine + 2 ATP + 2 H2O <=> Hydrogenobyrinate a,c diamide + 2 Orthophosphate + 2 L-Glutamate + 2 ADP)"
      ],
      "text/plain": [
       "<IPython.core.display.HTML object>"
      ]
     },
     "metadata": {},
     "output_type": "display_data"
    },
    {
     "data": {
      "text/html": [
       "<b>R05224</b>: [\"<span style='color: #21d139'>Node21166</span>\", \"<span style='color: #fd79b7'>Node28120</span>\", \"<span style='color: #073257'>Node55904</span>\"] (Hydrogenobyrinate + 2 L-Glutamine + 2 ATP + 2 H2O <=> Hydrogenobyrinate a,c diamide + 2 Orthophosphate + 2 L-Glutamate + 2 ADP)"
      ],
      "text/plain": [
       "<IPython.core.display.HTML object>"
      ]
     },
     "metadata": {},
     "output_type": "display_data"
    },
    {
     "data": {
      "text/html": [
       "<b>R01548</b>: [\"<span style='color: #74553b'>Node147305</span>\"]"
      ],
      "text/plain": [
       "<IPython.core.display.HTML object>"
      ]
     },
     "metadata": {},
     "output_type": "display_data"
    },
    {
     "data": {
      "text/html": [
       "<b>R01548</b>: [\"<span style='color: #74553b'>Node147305</span>\", \"<span style='color: #21d139'>Node21166</span>\"]"
      ],
      "text/plain": [
       "<IPython.core.display.HTML object>"
      ]
     },
     "metadata": {},
     "output_type": "display_data"
    },
    {
     "data": {
      "text/html": [
       "<b>R03005</b>: [\"<span style='color: #554a79'>Node19398</span>\"] (ATP:nicotinamide-nucleotide adenylyltransferase; ATP + Nicotinate D-ribonucleotide <=> Diphosphate + Deamino-NAD+)"
      ],
      "text/plain": [
       "<IPython.core.display.HTML object>"
      ]
     },
     "metadata": {},
     "output_type": "display_data"
    },
    {
     "data": {
      "text/html": [
       "<b>R03005</b>: [\"<span style='color: #554a79'>Node19398</span>\", \"<span style='color: #21d139'>Node21166</span>\"] (ATP:nicotinamide-nucleotide adenylyltransferase; ATP + Nicotinate D-ribonucleotide <=> Diphosphate + Deamino-NAD+)"
      ],
      "text/plain": [
       "<IPython.core.display.HTML object>"
      ]
     },
     "metadata": {},
     "output_type": "display_data"
    },
    {
     "data": {
      "text/html": [
       "<b>R03005</b>: [\"<span style='color: #554a79'>Node19398</span>\", \"<span style='color: #21d139'>Node21166</span>\", \"<span style='color: #fd79b7'>Node28120</span>\"] (ATP:nicotinamide-nucleotide adenylyltransferase; ATP + Nicotinate D-ribonucleotide <=> Diphosphate + Deamino-NAD+)"
      ],
      "text/plain": [
       "<IPython.core.display.HTML object>"
      ]
     },
     "metadata": {},
     "output_type": "display_data"
    },
    {
     "data": {
      "text/html": [
       "<b>R03522</b>: [\"<span style='color: #073257'>Node55904</span>\"] (RX:glutathione R-transferase; RX + Glutathione <=> Halide + R-S-Glutathione)"
      ],
      "text/plain": [
       "<IPython.core.display.HTML object>"
      ]
     },
     "metadata": {},
     "output_type": "display_data"
    },
    {
     "data": {
      "text/html": [
       "<b>R08166</b>: [\"<span style='color: #74553b'>Node147305</span>\"] (2-succinyl-6-hydroxy-2,4-cyclohexadiene-1-carboxylate synthase; 2-Succinyl-5-enolpyruvyl-6-hydroxy-3-cyclohexene-1-carboxylate <=> (1R,6R)-6-Hydroxy-2-succinylcyclohexa-2,4-diene-1-carboxylate + Pyruvate)"
      ],
      "text/plain": [
       "<IPython.core.display.HTML object>"
      ]
     },
     "metadata": {},
     "output_type": "display_data"
    },
    {
     "data": {
      "text/html": [
       "<b>R01639</b>: [\"<span style='color: #fd79b7'>Node28120</span>\"] (ATP:D-xylulose 5-phosphotransferase; ATP + D-Xylulose <=> ADP + D-Xylulose 5-phosphate)"
      ],
      "text/plain": [
       "<IPython.core.display.HTML object>"
      ]
     },
     "metadata": {},
     "output_type": "display_data"
    },
    {
     "data": {
      "text/html": [
       "<b>R02914</b>: [\"<span style='color: #21d139'>Node21166</span>\"] (4,5-Dihydro-4-oxo-5-imidazolepropanoate hydro-lyase; 4-Imidazolone-5-propanoate <=> Urocanate + H2O)"
      ],
      "text/plain": [
       "<IPython.core.display.HTML object>"
      ]
     },
     "metadata": {},
     "output_type": "display_data"
    },
    {
     "data": {
      "text/html": [
       "<b>R02914</b>: [\"<span style='color: #21d139'>Node21166</span>\", \"<span style='color: #bebf59'>Node55420</span>\"] (4,5-Dihydro-4-oxo-5-imidazolepropanoate hydro-lyase; 4-Imidazolone-5-propanoate <=> Urocanate + H2O)"
      ],
      "text/plain": [
       "<IPython.core.display.HTML object>"
      ]
     },
     "metadata": {},
     "output_type": "display_data"
    },
    {
     "data": {
      "text/html": [
       "<b>R02914</b>: [\"<span style='color: #21d139'>Node21166</span>\", \"<span style='color: #bebf59'>Node55420</span>\", \"<span style='color: #073257'>Node55904</span>\"] (4,5-Dihydro-4-oxo-5-imidazolepropanoate hydro-lyase; 4-Imidazolone-5-propanoate <=> Urocanate + H2O)"
      ],
      "text/plain": [
       "<IPython.core.display.HTML object>"
      ]
     },
     "metadata": {},
     "output_type": "display_data"
    },
    {
     "data": {
      "text/html": [
       "<b>R09030</b>: [\"<span style='color: #74553b'>Node147305</span>\"] (D-allose-6-phosphate aldose-ketose-isomerase; D-Allose 6-phosphate <=> D-Allulose 6-phosphate)"
      ],
      "text/plain": [
       "<IPython.core.display.HTML object>"
      ]
     },
     "metadata": {},
     "output_type": "display_data"
    },
    {
     "data": {
      "text/html": [
       "<b>R01716</b>: [\"<span style='color: #fd79b7'>Node28120</span>\"] (chorismate:L-glutamine aminotransferase; Chorismate + L-Glutamine <=> 4-Amino-4-deoxychorismate + L-Glutamate)"
      ],
      "text/plain": [
       "<IPython.core.display.HTML object>"
      ]
     },
     "metadata": {},
     "output_type": "display_data"
    },
    {
     "data": {
      "text/html": [
       "<b>R01549</b>: [\"<span style='color: #74553b'>Node147305</span>\"]"
      ],
      "text/plain": [
       "<IPython.core.display.HTML object>"
      ]
     },
     "metadata": {},
     "output_type": "display_data"
    },
    {
     "data": {
      "text/html": [
       "<b>R01549</b>: [\"<span style='color: #74553b'>Node147305</span>\", \"<span style='color: #21d139'>Node21166</span>\"]"
      ],
      "text/plain": [
       "<IPython.core.display.HTML object>"
      ]
     },
     "metadata": {},
     "output_type": "display_data"
    },
    {
     "data": {
      "text/html": [
       "<b>R00654</b>: [\"<span style='color: #ffd3f8'>Node126898</span>\"] (L-methionine methanethiol-lyase (deaminating;2-oxobutanoate-forming); L-Methionine + H2O <=> Methanethiol + Ammonia + 2-Oxobutanoate)"
      ],
      "text/plain": [
       "<IPython.core.display.HTML object>"
      ]
     },
     "metadata": {},
     "output_type": "display_data"
    },
    {
     "data": {
      "text/html": [
       "<b>R00654</b>: [\"<span style='color: #ffd3f8'>Node126898</span>\", \"<span style='color: #3a3787'>Node52227</span>\"] (L-methionine methanethiol-lyase (deaminating;2-oxobutanoate-forming); L-Methionine + H2O <=> Methanethiol + Ammonia + 2-Oxobutanoate)"
      ],
      "text/plain": [
       "<IPython.core.display.HTML object>"
      ]
     },
     "metadata": {},
     "output_type": "display_data"
    },
    {
     "data": {
      "text/html": [
       "<b>R00926</b>: [\"<span style='color: #fd79b7'>Node28120</span>\"] (Propionyladenylate:CoA propionyltransferase; Propionyladenylate + CoA <=> AMP + Propanoyl-CoA)"
      ],
      "text/plain": [
       "<IPython.core.display.HTML object>"
      ]
     },
     "metadata": {},
     "output_type": "display_data"
    },
    {
     "data": {
      "text/html": [
       "<b>R05424</b>: [\"<span style='color: #a87f75'>Node15327</span>\"] (Ethylbenzene <=> Styrene + 2 H+)"
      ],
      "text/plain": [
       "<IPython.core.display.HTML object>"
      ]
     },
     "metadata": {},
     "output_type": "display_data"
    },
    {
     "data": {
      "text/html": [
       "<b>R02097</b>: [\"<span style='color: #74553b'>Node147305</span>\"]"
      ],
      "text/plain": [
       "<IPython.core.display.HTML object>"
      ]
     },
     "metadata": {},
     "output_type": "display_data"
    },
    {
     "data": {
      "text/html": [
       "<b>R02097</b>: [\"<span style='color: #74553b'>Node147305</span>\", \"<span style='color: #21d139'>Node21166</span>\"]"
      ],
      "text/plain": [
       "<IPython.core.display.HTML object>"
      ]
     },
     "metadata": {},
     "output_type": "display_data"
    },
    {
     "data": {
      "text/html": [
       "<b>R06937</b>: [\"<span style='color: #a87f75'>Node15327</span>\"] (naphthalene,NADH:oxygen oxidoreductase (1,2-hydroxylating); 2-Methylnaphthalene + Oxygen + NADH + H+ <=> cis-1,2-Dihydroxy-1,2-dihydro-7-methylnaphthalene + NAD+)"
      ],
      "text/plain": [
       "<IPython.core.display.HTML object>"
      ]
     },
     "metadata": {},
     "output_type": "display_data"
    },
    {
     "data": {
      "text/html": [
       "<b>R00431</b>: [\"<span style='color: #4c0ebb'>Node119365</span>\"] (GTP:oxaloacetate carboxy-lyase (adding GTP;phosphoenolpyruvate-forming); GTP:oxaloacetate carboxy-lyase (transphosphorylating); GTP + Oxaloacetate <=> GDP + Phosphoenolpyruvate + CO2)"
      ],
      "text/plain": [
       "<IPython.core.display.HTML object>"
      ]
     },
     "metadata": {},
     "output_type": "display_data"
    },
    {
     "data": {
      "text/html": [
       "<b>R00431</b>: [\"<span style='color: #4c0ebb'>Node119365</span>\", \"<span style='color: #fd79b7'>Node28120</span>\"] (GTP:oxaloacetate carboxy-lyase (adding GTP;phosphoenolpyruvate-forming); GTP:oxaloacetate carboxy-lyase (transphosphorylating); GTP + Oxaloacetate <=> GDP + Phosphoenolpyruvate + CO2)"
      ],
      "text/plain": [
       "<IPython.core.display.HTML object>"
      ]
     },
     "metadata": {},
     "output_type": "display_data"
    },
    {
     "data": {
      "text/html": [
       "<b>R02283</b>: [\"<span style='color: #073257'>Node55904</span>\"] (N2-Acetyl-L-ornithine:2-oxoglutarate aminotransferase; N-Acetylornithine + 2-Oxoglutarate <=> N-Acetyl-L-glutamate 5-semialdehyde + L-Glutamate)"
      ],
      "text/plain": [
       "<IPython.core.display.HTML object>"
      ]
     },
     "metadata": {},
     "output_type": "display_data"
    },
    {
     "data": {
      "text/html": [
       "<b>R00178</b>: [\"<span style='color: #21d139'>Node21166</span>\"] (S-adenosyl-L-methionine carboxy-lyase [S-adenosyl 3-(methylsulfanyl)propylamine-forming]; S-Adenosyl-L-methionine + H+ <=> S-Adenosylmethioninamine + CO2)"
      ],
      "text/plain": [
       "<IPython.core.display.HTML object>"
      ]
     },
     "metadata": {},
     "output_type": "display_data"
    },
    {
     "data": {
      "text/html": [
       "<b>R00178</b>: [\"<span style='color: #21d139'>Node21166</span>\", \"<span style='color: #fd79b7'>Node28120</span>\"] (S-adenosyl-L-methionine carboxy-lyase [S-adenosyl 3-(methylsulfanyl)propylamine-forming]; S-Adenosyl-L-methionine + H+ <=> S-Adenosylmethioninamine + CO2)"
      ],
      "text/plain": [
       "<IPython.core.display.HTML object>"
      ]
     },
     "metadata": {},
     "output_type": "display_data"
    },
    {
     "data": {
      "text/html": [
       "<b>R00207</b>: [\"<span style='color: #21d139'>Node21166</span>\"] (Pyruvate:oxygen 2-oxidoreductase (phosphorylating); Pyruvate + Orthophosphate + Oxygen <=> Acetyl phosphate + Hydrogen peroxide + CO2)"
      ],
      "text/plain": [
       "<IPython.core.display.HTML object>"
      ]
     },
     "metadata": {},
     "output_type": "display_data"
    },
    {
     "data": {
      "text/html": [
       "<b>R04405</b>: [\"<span style='color: #fd79b7'>Node28120</span>\"] (5-Methyltetrahydropteroyltri-L-glutamate:L-homocysteine S-methyltransferase; 5-Methyltetrahydropteroyltri-L-glutamate + L-Homocysteine <=> Tetrahydropteroyltri-L-glutamate + L-Methionine)"
      ],
      "text/plain": [
       "<IPython.core.display.HTML object>"
      ]
     },
     "metadata": {},
     "output_type": "display_data"
    },
    {
     "data": {
      "text/html": [
       "<b>R08773</b>: [\"<span style='color: #21d139'>Node21166</span>\"]"
      ],
      "text/plain": [
       "<IPython.core.display.HTML object>"
      ]
     },
     "metadata": {},
     "output_type": "display_data"
    },
    {
     "data": {
      "text/html": [
       "<b>R08773</b>: [\"<span style='color: #21d139'>Node21166</span>\", \"<span style='color: #fd79b7'>Node28120</span>\"]"
      ],
      "text/plain": [
       "<IPython.core.display.HTML object>"
      ]
     },
     "metadata": {},
     "output_type": "display_data"
    },
    {
     "data": {
      "text/html": [
       "<b>R08222</b>: [\"<span style='color: #21d139'>Node21166</span>\"] (5'-deoxy-5-fluorouridine:phosphate deoxy-alpha-D-ribosyltransferase; 5'-Deoxy-5-fluorouridine + Orthophosphate <=> 5-FU + 5-Deoxyribose-1-phosphate)"
      ],
      "text/plain": [
       "<IPython.core.display.HTML object>"
      ]
     },
     "metadata": {},
     "output_type": "display_data"
    },
    {
     "data": {
      "text/html": [
       "<b>R08222</b>: [\"<span style='color: #21d139'>Node21166</span>\", \"<span style='color: #bebf59'>Node55420</span>\"] (5'-deoxy-5-fluorouridine:phosphate deoxy-alpha-D-ribosyltransferase; 5'-Deoxy-5-fluorouridine + Orthophosphate <=> 5-FU + 5-Deoxyribose-1-phosphate)"
      ],
      "text/plain": [
       "<IPython.core.display.HTML object>"
      ]
     },
     "metadata": {},
     "output_type": "display_data"
    },
    {
     "data": {
      "text/html": [
       "<b>R08222</b>: [\"<span style='color: #21d139'>Node21166</span>\", \"<span style='color: #bebf59'>Node55420</span>\", \"<span style='color: #073257'>Node55904</span>\"] (5'-deoxy-5-fluorouridine:phosphate deoxy-alpha-D-ribosyltransferase; 5'-Deoxy-5-fluorouridine + Orthophosphate <=> 5-FU + 5-Deoxyribose-1-phosphate)"
      ],
      "text/plain": [
       "<IPython.core.display.HTML object>"
      ]
     },
     "metadata": {},
     "output_type": "display_data"
    },
    {
     "data": {
      "text/html": [
       "<b>R10002</b>: [\"<span style='color: #fd79b7'>Node28120</span>\"] (6-carboxy-5,6,7,8-tetrahydropterin ammonia-lyase; 6-Carboxy-5,6,7,8-tetrahydropterin <=> 7-Carboxy-7-carbaguanine + Ammonia)"
      ],
      "text/plain": [
       "<IPython.core.display.HTML object>"
      ]
     },
     "metadata": {},
     "output_type": "display_data"
    },
    {
     "data": {
      "text/html": [
       "<b>R00026</b>: [\"<span style='color: #a87f75'>Node15327</span>\"] (cellobiose glucohydrolase; Cellobiose + H2O <=> 2 beta-D-Glucose)"
      ],
      "text/plain": [
       "<IPython.core.display.HTML object>"
      ]
     },
     "metadata": {},
     "output_type": "display_data"
    },
    {
     "data": {
      "text/html": [
       "<b>R00026</b>: [\"<span style='color: #a87f75'>Node15327</span>\", \"<span style='color: #fd79b7'>Node28120</span>\"] (cellobiose glucohydrolase; Cellobiose + H2O <=> 2 beta-D-Glucose)"
      ],
      "text/plain": [
       "<IPython.core.display.HTML object>"
      ]
     },
     "metadata": {},
     "output_type": "display_data"
    },
    {
     "data": {
      "text/html": [
       "<b>R07004</b>: [\"<span style='color: #073257'>Node55904</span>\"] ((1S)-hydroxy-(2S)-glutathionyl-1,2-dihydronaphthalene glutathione-lyase (epoxide-forming); (1S,2R)-Naphthalene 1,2-oxide + Glutathione <=> (1S)-Hydroxy-(2S)-glutathionyl-1,2-dihydronaphthalene)"
      ],
      "text/plain": [
       "<IPython.core.display.HTML object>"
      ]
     },
     "metadata": {},
     "output_type": "display_data"
    },
    {
     "data": {
      "text/html": [
       "<b>R10619</b>: [\"<span style='color: #21d139'>Node21166</span>\"] (D-galactose 1-epimerase; aldose 1-epimerase; D-Galactose <=> alpha-D-Galactose)"
      ],
      "text/plain": [
       "<IPython.core.display.HTML object>"
      ]
     },
     "metadata": {},
     "output_type": "display_data"
    },
    {
     "data": {
      "text/html": [
       "<b>R04930</b>: [\"<span style='color: #ffd3f8'>Node126898</span>\"] (Selenocystathionine Lysteine-lyase (deaminating); L-Selenocystathionine + H2O <=> L-Selenocysteine + Ammonia + 2-Oxobutanoate)"
      ],
      "text/plain": [
       "<IPython.core.display.HTML object>"
      ]
     },
     "metadata": {},
     "output_type": "display_data"
    },
    {
     "data": {
      "text/html": [
       "<b>R04756</b>: [\"<span style='color: #fd79b7'>Node28120</span>\"] (cis,cis-3,6-Dodecadienoyl-CoA delta3-cis-delta2-trans-isomerase; cis,cis-3,6-Dodecadienoyl-CoA <=> trans,cis-Lauro-2,6-dienoyl-CoA)"
      ],
      "text/plain": [
       "<IPython.core.display.HTML object>"
      ]
     },
     "metadata": {},
     "output_type": "display_data"
    },
    {
     "data": {
      "text/html": [
       "<b>R07599</b>: [\"<span style='color: #74553b'>Node147305</span>\"] (3-Methyl-2-oxobutanoic acid + Thiamin diphosphate <=> 2-Methyl-1-hydroxypropyl-ThPP + CO2)"
      ],
      "text/plain": [
       "<IPython.core.display.HTML object>"
      ]
     },
     "metadata": {},
     "output_type": "display_data"
    },
    {
     "data": {
      "text/html": [
       "<b>R11062</b>: [\"<span style='color: #fd79b7'>Node28120</span>\"] (phosphatidylethanolamine:phosphatidylglycerol 3-phosphatidyltransferase; Phosphatidylglycerol + Phosphatidylethanolamine <=> Cardiolipin + Ethanolamine)"
      ],
      "text/plain": [
       "<IPython.core.display.HTML object>"
      ]
     },
     "metadata": {},
     "output_type": "display_data"
    },
    {
     "data": {
      "text/html": [
       "<b>R10938</b>: [\"<span style='color: #4c0ebb'>Node119365</span>\"] (L-alanyl-D-glutamate epimerase; L-Alanyl-D-glutamate <=> L-Alanyl-L-glutamate)"
      ],
      "text/plain": [
       "<IPython.core.display.HTML object>"
      ]
     },
     "metadata": {},
     "output_type": "display_data"
    },
    {
     "data": {
      "text/html": [
       "<b>R06895</b>: [\"<span style='color: #073257'>Node55904</span>\"] (coproporphyrinogen-III:S-adenosyl-L-methionine oxidoreductase(decarboxylating); Coproporphyrinogen III + 2 S-Adenosyl-L-methionine <=> Protoporphyrinogen IX + 2 CO2 + 2 L-Methionine + 2 5'-Deoxyadenosine)"
      ],
      "text/plain": [
       "<IPython.core.display.HTML object>"
      ]
     },
     "metadata": {},
     "output_type": "display_data"
    },
    {
     "data": {
      "text/html": [
       "<b>R03231</b>: [\"<span style='color: #554a79'>Node19398</span>\"] (S-Adenosyl-L-methionine:8-amino-7-oxononanoate aminotransferase; S-Adenosyl-L-methionine + 8-Amino-7-oxononanoate <=> S-Adenosyl-4-methylthio-2-oxobutanoate + 7,8-Diaminononanoate)"
      ],
      "text/plain": [
       "<IPython.core.display.HTML object>"
      ]
     },
     "metadata": {},
     "output_type": "display_data"
    },
    {
     "data": {
      "text/html": [
       "<b>R03231</b>: [\"<span style='color: #554a79'>Node19398</span>\", \"<span style='color: #21d139'>Node21166</span>\"] (S-Adenosyl-L-methionine:8-amino-7-oxononanoate aminotransferase; S-Adenosyl-L-methionine + 8-Amino-7-oxononanoate <=> S-Adenosyl-4-methylthio-2-oxobutanoate + 7,8-Diaminononanoate)"
      ],
      "text/plain": [
       "<IPython.core.display.HTML object>"
      ]
     },
     "metadata": {},
     "output_type": "display_data"
    },
    {
     "data": {
      "text/html": [
       "<b>R03231</b>: [\"<span style='color: #554a79'>Node19398</span>\", \"<span style='color: #21d139'>Node21166</span>\", \"<span style='color: #fd79b7'>Node28120</span>\"] (S-Adenosyl-L-methionine:8-amino-7-oxononanoate aminotransferase; S-Adenosyl-L-methionine + 8-Amino-7-oxononanoate <=> S-Adenosyl-4-methylthio-2-oxobutanoate + 7,8-Diaminononanoate)"
      ],
      "text/plain": [
       "<IPython.core.display.HTML object>"
      ]
     },
     "metadata": {},
     "output_type": "display_data"
    },
    {
     "data": {
      "text/html": [
       "<b>R00962</b>: [\"<span style='color: #74553b'>Node147305</span>\"]"
      ],
      "text/plain": [
       "<IPython.core.display.HTML object>"
      ]
     },
     "metadata": {},
     "output_type": "display_data"
    },
    {
     "data": {
      "text/html": [
       "<b>R00962</b>: [\"<span style='color: #74553b'>Node147305</span>\", \"<span style='color: #21d139'>Node21166</span>\"]"
      ],
      "text/plain": [
       "<IPython.core.display.HTML object>"
      ]
     },
     "metadata": {},
     "output_type": "display_data"
    },
    {
     "data": {
      "text/html": [
       "<b>R05617</b>: [\"<span style='color: #4c0ebb'>Node119365</span>\"]"
      ],
      "text/plain": [
       "<IPython.core.display.HTML object>"
      ]
     },
     "metadata": {},
     "output_type": "display_data"
    },
    {
     "data": {
      "text/html": [
       "<b>R00217</b>: [\"<span style='color: #fd79b7'>Node28120</span>\"] (oxaloacetate carboxy-lyase (pyruvate-forming); Oxaloacetate <=> Pyruvate + CO2)"
      ],
      "text/plain": [
       "<IPython.core.display.HTML object>"
      ]
     },
     "metadata": {},
     "output_type": "display_data"
    },
    {
     "data": {
      "text/html": [
       "<b>R01061</b>: [\"<span style='color: #a87f75'>Node15327</span>\"] (D-glyceraldehyde-3-phosphate:NAD+ oxidoreductase (phosphorylating); D-Glyceraldehyde 3-phosphate + Orthophosphate + NAD+ <=> 3-Phospho-D-glyceroyl phosphate + NADH + H+)"
      ],
      "text/plain": [
       "<IPython.core.display.HTML object>"
      ]
     },
     "metadata": {},
     "output_type": "display_data"
    },
    {
     "data": {
      "text/html": [
       "<b>R01061</b>: [\"<span style='color: #a87f75'>Node15327</span>\", \"<span style='color: #fd79b7'>Node28120</span>\"] (D-glyceraldehyde-3-phosphate:NAD+ oxidoreductase (phosphorylating); D-Glyceraldehyde 3-phosphate + Orthophosphate + NAD+ <=> 3-Phospho-D-glyceroyl phosphate + NADH + H+)"
      ],
      "text/plain": [
       "<IPython.core.display.HTML object>"
      ]
     },
     "metadata": {},
     "output_type": "display_data"
    },
    {
     "data": {
      "text/html": [
       "<b>R02550</b>: [\"<span style='color: #21d139'>Node21166</span>\"] (toluene, ferredoxin:oxygen oxidoreductase (methyl-hydroxylating); toluene/o-xylene monooxygenase; Benzyl alcohol + 2 Oxidized ferredoxin + H2O <=> Toluene + Oxygen + 2 Reduced ferredoxin + 2 H+)"
      ],
      "text/plain": [
       "<IPython.core.display.HTML object>"
      ]
     },
     "metadata": {},
     "output_type": "display_data"
    },
    {
     "data": {
      "text/html": [
       "<b>R02021</b>: [\"<span style='color: #fd79b7'>Node28120</span>\"] (adenosine 3',5'-bisphosphate,sulfite:oxidized-thioredoxin oxidoreductase (3'-phosphoadenosine-5'-phosphosulfate -forming); Thioredoxin + 3'-Phosphoadenylyl sulfate <=> Thioredoxin disulfide + Sulfite + Adenosine 3',5'-bisphosphate)"
      ],
      "text/plain": [
       "<IPython.core.display.HTML object>"
      ]
     },
     "metadata": {},
     "output_type": "display_data"
    },
    {
     "data": {
      "text/html": [
       "<b>R06266</b>: [\"<span style='color: #4c0ebb'>Node119365</span>\"] (magnesium-protoporphyrin-IX 13-monomethyl ester,NADPH:oxygen oxidoreductase (hydroxylating); 13(1)-Hydroxy-magnesium-protoporphyrin IX 13-monomethyl ester + NADPH + H+ + Oxygen <=> 13(1)-Oxo-magnesium-protoporphyrin IX 13-monomethyl ester + NADP+ + 2 H2O)"
      ],
      "text/plain": [
       "<IPython.core.display.HTML object>"
      ]
     },
     "metadata": {},
     "output_type": "display_data"
    },
    {
     "data": {
      "text/html": [
       "<b>R02777</b>: [\"<span style='color: #a87f75'>Node15327</span>\"] (dTDP-beta-L-rhamnose:NADP+ 4-oxidoreductase; dTDP-6-deoxy-L-mannose:NADP+ 4-oxidoreductase; dTDP-L-rhamnose + NADP+ <=> dTDP-4-dehydro-beta-L-rhamnose + NADPH + H+)"
      ],
      "text/plain": [
       "<IPython.core.display.HTML object>"
      ]
     },
     "metadata": {},
     "output_type": "display_data"
    },
    {
     "data": {
      "text/html": [
       "<b>R09995</b>: [\"<span style='color: #fd79b7'>Node28120</span>\"] (Starch <=> alpha,alpha-Trehalose)"
      ],
      "text/plain": [
       "<IPython.core.display.HTML object>"
      ]
     },
     "metadata": {},
     "output_type": "display_data"
    },
    {
     "data": {
      "text/html": [
       "<b>R09995</b>: [\"<span style='color: #fd79b7'>Node28120</span>\", \"<span style='color: #2a6e9d'>Node45985</span>\"] (Starch <=> alpha,alpha-Trehalose)"
      ],
      "text/plain": [
       "<IPython.core.display.HTML object>"
      ]
     },
     "metadata": {},
     "output_type": "display_data"
    },
    {
     "data": {
      "text/html": [
       "<b>R02964</b>: [\"<span style='color: #073257'>Node55904</span>\"] (NADH:menaquinone oxidoreductase; Menaquinone + H+ + NADH <=> Menaquinol + NAD+)"
      ],
      "text/plain": [
       "<IPython.core.display.HTML object>"
      ]
     },
     "metadata": {},
     "output_type": "display_data"
    },
    {
     "data": {
      "text/html": [
       "<b>R03470</b>: [\"<span style='color: #fd79b7'>Node28120</span>\"] (4-Carboxymuconolactone carboxy-lyase; 2-Carboxy-2,5-dihydro-5-oxofuran-2-acetate <=> 2-Oxo-2,3-dihydrofuran-5-acetate + CO2)"
      ],
      "text/plain": [
       "<IPython.core.display.HTML object>"
      ]
     },
     "metadata": {},
     "output_type": "display_data"
    },
    {
     "data": {
      "text/html": [
       "<b>R05608</b>: [\"<span style='color: #a87f75'>Node15327</span>\"] (galactarate hydro-lyase (5-dehydro-4-deoxy-D-glucarate-forming); D-Galactarate <=> 5-Dehydro-4-deoxy-D-glucarate + H2O)"
      ],
      "text/plain": [
       "<IPython.core.display.HTML object>"
      ]
     },
     "metadata": {},
     "output_type": "display_data"
    },
    {
     "data": {
      "text/html": [
       "<b>R05608</b>: [\"<span style='color: #a87f75'>Node15327</span>\", \"<span style='color: #21d139'>Node21166</span>\"] (galactarate hydro-lyase (5-dehydro-4-deoxy-D-glucarate-forming); D-Galactarate <=> 5-Dehydro-4-deoxy-D-glucarate + H2O)"
      ],
      "text/plain": [
       "<IPython.core.display.HTML object>"
      ]
     },
     "metadata": {},
     "output_type": "display_data"
    },
    {
     "data": {
      "text/html": [
       "<b>R05608</b>: [\"<span style='color: #a87f75'>Node15327</span>\", \"<span style='color: #21d139'>Node21166</span>\", \"<span style='color: #fd79b7'>Node28120</span>\"] (galactarate hydro-lyase (5-dehydro-4-deoxy-D-glucarate-forming); D-Galactarate <=> 5-Dehydro-4-deoxy-D-glucarate + H2O)"
      ],
      "text/plain": [
       "<IPython.core.display.HTML object>"
      ]
     },
     "metadata": {},
     "output_type": "display_data"
    },
    {
     "data": {
      "text/html": [
       "<b>R11906</b>: [\"<span style='color: #fd79b7'>Node28120</span>\"] (isoniazid:hydrogen-peroxide oxidoreductase; Isoniazid + Hydrogen peroxide <=> Isonicotinoyl radical + Diimine + 2 H2O)"
      ],
      "text/plain": [
       "<IPython.core.display.HTML object>"
      ]
     },
     "metadata": {},
     "output_type": "display_data"
    },
    {
     "data": {
      "text/html": [
       "<b>R02565</b>: [\"<span style='color: #073257'>Node55904</span>\"] (p-cumic alcohol:NAD+ oxidoreductase; Betaine aldehyde + NAD+ + H2O <=> Betaine + NADH + 2 H+)"
      ],
      "text/plain": [
       "<IPython.core.display.HTML object>"
      ]
     },
     "metadata": {},
     "output_type": "display_data"
    },
    {
     "data": {
      "text/html": [
       "<b>R00790</b>: [\"<span style='color: #fd79b7'>Node28120</span>\"] (Ammonia:ferredoxin oxidoreductase; Ammonia + 2 H2O + 6 Oxidized ferredoxin <=> Nitrite + 6 Reduced ferredoxin + 6 H+)"
      ],
      "text/plain": [
       "<IPython.core.display.HTML object>"
      ]
     },
     "metadata": {},
     "output_type": "display_data"
    },
    {
     "data": {
      "text/html": [
       "<b>R01880</b>: [\"<span style='color: #74553b'>Node147305</span>\"]"
      ],
      "text/plain": [
       "<IPython.core.display.HTML object>"
      ]
     },
     "metadata": {},
     "output_type": "display_data"
    },
    {
     "data": {
      "text/html": [
       "<b>R01880</b>: [\"<span style='color: #74553b'>Node147305</span>\", \"<span style='color: #21d139'>Node21166</span>\"]"
      ],
      "text/plain": [
       "<IPython.core.display.HTML object>"
      ]
     },
     "metadata": {},
     "output_type": "display_data"
    },
    {
     "data": {
      "text/html": [
       "<b>R01214</b>: [\"<span style='color: #fd79b7'>Node28120</span>\"] (L-Valine:2-oxoglutarate aminotransferase; L-Valine + 2-Oxoglutarate <=> 3-Methyl-2-oxobutanoic acid + L-Glutamate)"
      ],
      "text/plain": [
       "<IPython.core.display.HTML object>"
      ]
     },
     "metadata": {},
     "output_type": "display_data"
    },
    {
     "data": {
      "text/html": [
       "<b>R04430</b>: [\"<span style='color: #a87f75'>Node15327</span>\"] (butyryl-[acp]:NADP+ trans-2-oxidoreductase; Butyryl-[acp] + NADP+ <=> But-2-enoyl-[acyl-carrier protein] + NADPH + H+)"
      ],
      "text/plain": [
       "<IPython.core.display.HTML object>"
      ]
     },
     "metadata": {},
     "output_type": "display_data"
    },
    {
     "data": {
      "text/html": [
       "<b>R04430</b>: [\"<span style='color: #a87f75'>Node15327</span>\", \"<span style='color: #554a79'>Node19398</span>\"] (butyryl-[acp]:NADP+ trans-2-oxidoreductase; Butyryl-[acp] + NADP+ <=> But-2-enoyl-[acyl-carrier protein] + NADPH + H+)"
      ],
      "text/plain": [
       "<IPython.core.display.HTML object>"
      ]
     },
     "metadata": {},
     "output_type": "display_data"
    },
    {
     "data": {
      "text/html": [
       "<b>R04430</b>: [\"<span style='color: #a87f75'>Node15327</span>\", \"<span style='color: #554a79'>Node19398</span>\", \"<span style='color: #fd79b7'>Node28120</span>\"] (butyryl-[acp]:NADP+ trans-2-oxidoreductase; Butyryl-[acp] + NADP+ <=> But-2-enoyl-[acyl-carrier protein] + NADPH + H+)"
      ],
      "text/plain": [
       "<IPython.core.display.HTML object>"
      ]
     },
     "metadata": {},
     "output_type": "display_data"
    },
    {
     "data": {
      "text/html": [
       "<b>R02740</b>: [\"<span style='color: #74553b'>Node147305</span>\"] (alpha-D-Glucose 6-phosphate ketol-isomerase; alpha-D-Glucose 6-phosphate <=> beta-D-Fructose 6-phosphate)"
      ],
      "text/plain": [
       "<IPython.core.display.HTML object>"
      ]
     },
     "metadata": {},
     "output_type": "display_data"
    },
    {
     "data": {
      "text/html": [
       "<b>R02740</b>: [\"<span style='color: #74553b'>Node147305</span>\", \"<span style='color: #fd79b7'>Node28120</span>\"] (alpha-D-Glucose 6-phosphate ketol-isomerase; alpha-D-Glucose 6-phosphate <=> beta-D-Fructose 6-phosphate)"
      ],
      "text/plain": [
       "<IPython.core.display.HTML object>"
      ]
     },
     "metadata": {},
     "output_type": "display_data"
    },
    {
     "data": {
      "text/html": [
       "<b>R03948</b>: [\"<span style='color: #fd79b7'>Node28120</span>\"] (S-adenosyl-L-methionine:precorrin-4 C20-methyltransferase; S-Adenosyl-L-methionine + Precorrin 2 <=> S-Adenosyl-L-homocysteine + Precorrin 3A + H+)"
      ],
      "text/plain": [
       "<IPython.core.display.HTML object>"
      ]
     },
     "metadata": {},
     "output_type": "display_data"
    },
    {
     "data": {
      "text/html": [
       "<b>R03948</b>: [\"<span style='color: #fd79b7'>Node28120</span>\", \"<span style='color: #073257'>Node55904</span>\"] (S-adenosyl-L-methionine:precorrin-4 C20-methyltransferase; S-Adenosyl-L-methionine + Precorrin 2 <=> S-Adenosyl-L-homocysteine + Precorrin 3A + H+)"
      ],
      "text/plain": [
       "<IPython.core.display.HTML object>"
      ]
     },
     "metadata": {},
     "output_type": "display_data"
    },
    {
     "data": {
      "text/html": [
       "<b>R09936</b>: [\"<span style='color: #073257'>Node55904</span>\"] (uracil,FMNH2:oxygen oxidoreductase (uracil hydroxylating, ring-opening); Uracil + Reduced FMN + Oxygen <=> (Z)-3-Ureidoacrylate peracid + FMN)"
      ],
      "text/plain": [
       "<IPython.core.display.HTML object>"
      ]
     },
     "metadata": {},
     "output_type": "display_data"
    },
    {
     "data": {
      "text/html": [
       "<b>R01931</b>: [\"<span style='color: #fd79b7'>Node28120</span>\"] (thiosulfate:cyanide sulfurtranserase; Thiosulfate + Cyanide ion <=> Sulfite + Thiocyanate)"
      ],
      "text/plain": [
       "<IPython.core.display.HTML object>"
      ]
     },
     "metadata": {},
     "output_type": "display_data"
    },
    {
     "data": {
      "text/html": [
       "<b>R01931</b>: [\"<span style='color: #fd79b7'>Node28120</span>\", \"<span style='color: #bebf59'>Node55420</span>\"] (thiosulfate:cyanide sulfurtranserase; Thiosulfate + Cyanide ion <=> Sulfite + Thiocyanate)"
      ],
      "text/plain": [
       "<IPython.core.display.HTML object>"
      ]
     },
     "metadata": {},
     "output_type": "display_data"
    },
    {
     "data": {
      "text/html": [
       "<b>R01931</b>: [\"<span style='color: #fd79b7'>Node28120</span>\", \"<span style='color: #bebf59'>Node55420</span>\", \"<span style='color: #073257'>Node55904</span>\"] (thiosulfate:cyanide sulfurtranserase; Thiosulfate + Cyanide ion <=> Sulfite + Thiocyanate)"
      ],
      "text/plain": [
       "<IPython.core.display.HTML object>"
      ]
     },
     "metadata": {},
     "output_type": "display_data"
    },
    {
     "data": {
      "text/html": [
       "<b>R06265</b>: [\"<span style='color: #4c0ebb'>Node119365</span>\"] (magnesium-protoporphyrin-IX 13-monomethyl ester,NADPH:oxygen oxidoreductase (hydroxylating); Magnesium protoporphyrin monomethyl ester + NADPH + H+ + Oxygen <=> 13(1)-Hydroxy-magnesium-protoporphyrin IX 13-monomethyl ester + NADP+ + H2O)"
      ],
      "text/plain": [
       "<IPython.core.display.HTML object>"
      ]
     },
     "metadata": {},
     "output_type": "display_data"
    },
    {
     "data": {
      "text/html": [
       "<b>R07025</b>: [\"<span style='color: #073257'>Node55904</span>\"] (1-nitro-5-hydroxy-6-glutathionyl-5,6-dihydronaphthalene glutathione-lyase (epoxide-forming); 1-Nitronaphthalene-5,6-oxide + Glutathione <=> 1-Nitro-5-hydroxy-6-glutathionyl-5,6-dihydronaphthalene)"
      ],
      "text/plain": [
       "<IPython.core.display.HTML object>"
      ]
     },
     "metadata": {},
     "output_type": "display_data"
    },
    {
     "data": {
      "text/html": [
       "<b>R05427</b>: [\"<span style='color: #a87f75'>Node15327</span>\"] (2 Acetophenone + Oxygen <=> 2 2-Hydroxyacetophenone)"
      ],
      "text/plain": [
       "<IPython.core.display.HTML object>"
      ]
     },
     "metadata": {},
     "output_type": "display_data"
    },
    {
     "data": {
      "text/html": [
       "<b>R00361</b>: [\"<span style='color: #fd79b7'>Node28120</span>\"] ((S)-malate:quinone oxidoreductase; (S)-Malate + Quinone <=> Oxaloacetate + Hydroquinone)"
      ],
      "text/plain": [
       "<IPython.core.display.HTML object>"
      ]
     },
     "metadata": {},
     "output_type": "display_data"
    },
    {
     "data": {
      "text/html": [
       "<b>R07116</b>: [\"<span style='color: #073257'>Node55904</span>\"] (2-bromoacetaldehyde:glutathione S-(formylmethyl)transferase; 2-Bromoacetaldehyde + Glutathione <=> S-(Formylmethyl)glutathione + Hydrobromic acid)"
      ],
      "text/plain": [
       "<IPython.core.display.HTML object>"
      ]
     },
     "metadata": {},
     "output_type": "display_data"
    },
    {
     "data": {
      "text/html": [
       "<b>R02703</b>: [\"<span style='color: #fd79b7'>Node28120</span>\"] (D-Mannitol-1-phosphate:NAD+ 5-oxidoreductase; D-Mannitol 1-phosphate + NAD+ <=> beta-D-Fructose 6-phosphate + NADH + H+)"
      ],
      "text/plain": [
       "<IPython.core.display.HTML object>"
      ]
     },
     "metadata": {},
     "output_type": "display_data"
    },
    {
     "data": {
      "text/html": [
       "<b>R02703</b>: [\"<span style='color: #fd79b7'>Node28120</span>\", \"<span style='color: #bebf59'>Node55420</span>\"] (D-Mannitol-1-phosphate:NAD+ 5-oxidoreductase; D-Mannitol 1-phosphate + NAD+ <=> beta-D-Fructose 6-phosphate + NADH + H+)"
      ],
      "text/plain": [
       "<IPython.core.display.HTML object>"
      ]
     },
     "metadata": {},
     "output_type": "display_data"
    },
    {
     "data": {
      "text/html": [
       "<b>R02703</b>: [\"<span style='color: #fd79b7'>Node28120</span>\", \"<span style='color: #bebf59'>Node55420</span>\", \"<span style='color: #073257'>Node55904</span>\"] (D-Mannitol-1-phosphate:NAD+ 5-oxidoreductase; D-Mannitol 1-phosphate + NAD+ <=> beta-D-Fructose 6-phosphate + NADH + H+)"
      ],
      "text/plain": [
       "<IPython.core.display.HTML object>"
      ]
     },
     "metadata": {},
     "output_type": "display_data"
    },
    {
     "data": {
      "text/html": [
       "<b>R05181</b>: [\"<span style='color: #fd79b7'>Node28120</span>\"] (S-adenosyl-L-methionine:precorrin-4 C11 methyltransferase; S-Adenosyl-L-methionine + Precorrin 4 <=> S-Adenosyl-L-homocysteine + Precorrin 5)"
      ],
      "text/plain": [
       "<IPython.core.display.HTML object>"
      ]
     },
     "metadata": {},
     "output_type": "display_data"
    },
    {
     "data": {
      "text/html": [
       "<b>R02236</b>: [\"<span style='color: #a87f75'>Node15327</span>\"] (dihydrofolate:NADP+ oxidoreductase; Dihydrofolate + NADP+ <=> Folate + NADPH + H+)"
      ],
      "text/plain": [
       "<IPython.core.display.HTML object>"
      ]
     },
     "metadata": {},
     "output_type": "display_data"
    },
    {
     "data": {
      "text/html": [
       "<b>R02236</b>: [\"<span style='color: #a87f75'>Node15327</span>\", \"<span style='color: #fd79b7'>Node28120</span>\"] (dihydrofolate:NADP+ oxidoreductase; Dihydrofolate + NADP+ <=> Folate + NADPH + H+)"
      ],
      "text/plain": [
       "<IPython.core.display.HTML object>"
      ]
     },
     "metadata": {},
     "output_type": "display_data"
    },
    {
     "data": {
      "text/html": [
       "<b>R02094</b>: [\"<span style='color: #74553b'>Node147305</span>\"] (ATP:dTMP phosphotransferase; ATP + dTMP <=> ADP + dTDP)"
      ],
      "text/plain": [
       "<IPython.core.display.HTML object>"
      ]
     },
     "metadata": {},
     "output_type": "display_data"
    },
    {
     "data": {
      "text/html": [
       "<b>R02094</b>: [\"<span style='color: #74553b'>Node147305</span>\", \"<span style='color: #fd79b7'>Node28120</span>\"] (ATP:dTMP phosphotransferase; ATP + dTMP <=> ADP + dTDP)"
      ],
      "text/plain": [
       "<IPython.core.display.HTML object>"
      ]
     },
     "metadata": {},
     "output_type": "display_data"
    },
    {
     "data": {
      "text/html": [
       "<b>R05085</b>: [\"<span style='color: #fd79b7'>Node28120</span>\"] (O-Phospho-4-hydroxy-L-threonine:2-oxoglutarate aminotransferase; O-Phospho-4-hydroxy-L-threonine + 2-Oxoglutarate <=> 2-Oxo-3-hydroxy-4-phosphobutanoate + L-Glutamate)"
      ],
      "text/plain": [
       "<IPython.core.display.HTML object>"
      ]
     },
     "metadata": {},
     "output_type": "display_data"
    },
    {
     "data": {
      "text/html": [
       "<b>R04959</b>: [\"<span style='color: #a87f75'>Node15327</span>\"] (octanoyl-[acp]:NADP+ trans-2-oxidoreductase; Octanoyl-[acp] + NADP+ <=> trans-Oct-2-enoyl-[acp] + NADPH + H+)"
      ],
      "text/plain": [
       "<IPython.core.display.HTML object>"
      ]
     },
     "metadata": {},
     "output_type": "display_data"
    },
    {
     "data": {
      "text/html": [
       "<b>R04959</b>: [\"<span style='color: #a87f75'>Node15327</span>\", \"<span style='color: #554a79'>Node19398</span>\"] (octanoyl-[acp]:NADP+ trans-2-oxidoreductase; Octanoyl-[acp] + NADP+ <=> trans-Oct-2-enoyl-[acp] + NADPH + H+)"
      ],
      "text/plain": [
       "<IPython.core.display.HTML object>"
      ]
     },
     "metadata": {},
     "output_type": "display_data"
    },
    {
     "data": {
      "text/html": [
       "<b>R04959</b>: [\"<span style='color: #a87f75'>Node15327</span>\", \"<span style='color: #554a79'>Node19398</span>\", \"<span style='color: #fd79b7'>Node28120</span>\"] (octanoyl-[acp]:NADP+ trans-2-oxidoreductase; Octanoyl-[acp] + NADP+ <=> trans-Oct-2-enoyl-[acp] + NADPH + H+)"
      ],
      "text/plain": [
       "<IPython.core.display.HTML object>"
      ]
     },
     "metadata": {},
     "output_type": "display_data"
    },
    {
     "data": {
      "text/html": [
       "<b>R05706</b>: [\"<span style='color: #fd79b7'>Node28120</span>\"] (FMNH2:NADP+ oxidoreductase; Reduced FMN + NADP+ <=> FMN + NADPH + H+)"
      ],
      "text/plain": [
       "<IPython.core.display.HTML object>"
      ]
     },
     "metadata": {},
     "output_type": "display_data"
    },
    {
     "data": {
      "text/html": [
       "<b>R03232</b>: [\"<span style='color: #fd79b7'>Node28120</span>\"] (protein-N(pi)-phosphohistidine:D-fructose 1-phosphotransferase; Protein N(pi)-phospho-L-histidine + D-Fructose <=> Protein histidine + D-Fructose 1-phosphate)"
      ],
      "text/plain": [
       "<IPython.core.display.HTML object>"
      ]
     },
     "metadata": {},
     "output_type": "display_data"
    },
    {
     "data": {
      "text/html": [
       "<b>R09839</b>: [\"<span style='color: #21d139'>Node21166</span>\"] (2,3-didehydroadipoyl-CoA:acetyl-CoA C-didehydroadipoyltransferase (double bond migration); 3-Oxo-5,6-dehydrosuberyl-CoA + CoA <=> 5-Carboxy-2-pentenoyl-CoA + Acetyl-CoA)"
      ],
      "text/plain": [
       "<IPython.core.display.HTML object>"
      ]
     },
     "metadata": {},
     "output_type": "display_data"
    },
    {
     "data": {
      "text/html": [
       "<b>R06909</b>: [\"<span style='color: #a87f75'>Node15327</span>\"] (naphthalene,NADH:oxygen oxidoreductase (1,2-hydroxylating); 1-Methylnaphthalene + Oxygen + NADH + H+ <=> cis-1,2-Dihydroxy-1,2-dihydro-8-methylnaphthalene + NAD+)"
      ],
      "text/plain": [
       "<IPython.core.display.HTML object>"
      ]
     },
     "metadata": {},
     "output_type": "display_data"
    },
    {
     "data": {
      "text/html": [
       "<b>R01856</b>: [\"<span style='color: #fd79b7'>Node28120</span>\"] (dGTP triphosphohydrolase; dGTP + H2O <=> Deoxyguanosine + Triphosphate)"
      ],
      "text/plain": [
       "<IPython.core.display.HTML object>"
      ]
     },
     "metadata": {},
     "output_type": "display_data"
    },
    {
     "data": {
      "text/html": [
       "<b>R02327</b>: [\"<span style='color: #74553b'>Node147305</span>\"]"
      ],
      "text/plain": [
       "<IPython.core.display.HTML object>"
      ]
     },
     "metadata": {},
     "output_type": "display_data"
    },
    {
     "data": {
      "text/html": [
       "<b>R02327</b>: [\"<span style='color: #74553b'>Node147305</span>\", \"<span style='color: #21d139'>Node21166</span>\"]"
      ],
      "text/plain": [
       "<IPython.core.display.HTML object>"
      ]
     },
     "metadata": {},
     "output_type": "display_data"
    },
    {
     "data": {
      "text/html": [
       "<b>R00485</b>: [\"<span style='color: #fd79b7'>Node28120</span>\"] (L-asparagine amidohydrolase; L-Asparagine + H2O <=> L-Aspartate + Ammonia)"
      ],
      "text/plain": [
       "<IPython.core.display.HTML object>"
      ]
     },
     "metadata": {},
     "output_type": "display_data"
    },
    {
     "data": {
      "text/html": [
       "<b>R04928</b>: [\"<span style='color: #fd79b7'>Node28120</span>\"] (ATP:adenylylsulfate 3'-phosphotransferase; ATP + Adenylylselenate <=> ADP + 3'-Phosphoadenylylselenate)"
      ],
      "text/plain": [
       "<IPython.core.display.HTML object>"
      ]
     },
     "metadata": {},
     "output_type": "display_data"
    },
    {
     "data": {
      "text/html": [
       "<b>R03595</b>: [\"<span style='color: #fd79b7'>Node28120</span>\"] (ATP:selenide, water phosphotransferase; ATP + Hydrogen selenide + H2O <=> AMP + Selenophosphoric acid + Orthophosphate)"
      ],
      "text/plain": [
       "<IPython.core.display.HTML object>"
      ]
     },
     "metadata": {},
     "output_type": "display_data"
    },
    {
     "data": {
      "text/html": [
       "<b>R08781</b>: [\"<span style='color: #3a3787'>Node52227</span>\"]"
      ],
      "text/plain": [
       "<IPython.core.display.HTML object>"
      ]
     },
     "metadata": {},
     "output_type": "display_data"
    },
    {
     "data": {
      "text/html": [
       "<b>R07034</b>: [\"<span style='color: #a87f75'>Node15327</span>\"] (glutathione: 5-HPETE oxidoreductase; 2 Glutathione + 5(S)-HPETE <=> Glutathione disulfide + 5(S)-HETE + H2O)"
      ],
      "text/plain": [
       "<IPython.core.display.HTML object>"
      ]
     },
     "metadata": {},
     "output_type": "display_data"
    },
    {
     "data": {
      "text/html": [
       "<b>R07034</b>: [\"<span style='color: #a87f75'>Node15327</span>\", \"<span style='color: #21d139'>Node21166</span>\"] (glutathione: 5-HPETE oxidoreductase; 2 Glutathione + 5(S)-HPETE <=> Glutathione disulfide + 5(S)-HETE + H2O)"
      ],
      "text/plain": [
       "<IPython.core.display.HTML object>"
      ]
     },
     "metadata": {},
     "output_type": "display_data"
    },
    {
     "data": {
      "text/html": [
       "<b>R07034</b>: [\"<span style='color: #a87f75'>Node15327</span>\", \"<span style='color: #21d139'>Node21166</span>\", \"<span style='color: #fd79b7'>Node28120</span>\"] (glutathione: 5-HPETE oxidoreductase; 2 Glutathione + 5(S)-HPETE <=> Glutathione disulfide + 5(S)-HETE + H2O)"
      ],
      "text/plain": [
       "<IPython.core.display.HTML object>"
      ]
     },
     "metadata": {},
     "output_type": "display_data"
    },
    {
     "data": {
      "text/html": [
       "<b>R00465</b>: [\"<span style='color: #a87f75'>Node15327</span>\"] (glycolate:NADP+ oxidoreductase; Glycolate + NADP+ <=> Glyoxylate + NADPH + H+)"
      ],
      "text/plain": [
       "<IPython.core.display.HTML object>"
      ]
     },
     "metadata": {},
     "output_type": "display_data"
    },
    {
     "data": {
      "text/html": [
       "<b>R00465</b>: [\"<span style='color: #a87f75'>Node15327</span>\", \"<span style='color: #21d139'>Node21166</span>\"] (glycolate:NADP+ oxidoreductase; Glycolate + NADP+ <=> Glyoxylate + NADPH + H+)"
      ],
      "text/plain": [
       "<IPython.core.display.HTML object>"
      ]
     },
     "metadata": {},
     "output_type": "display_data"
    },
    {
     "data": {
      "text/html": [
       "<b>R05221</b>: [\"<span style='color: #21d139'>Node21166</span>\"] (Adenosyl cobinamide + ATP <=> Adenosyl cobinamide phosphate + ADP)"
      ],
      "text/plain": [
       "<IPython.core.display.HTML object>"
      ]
     },
     "metadata": {},
     "output_type": "display_data"
    },
    {
     "data": {
      "text/html": [
       "<b>R03238</b>: [\"<span style='color: #74553b'>Node147305</span>\"] (UTP:D-tagatose 6-phosphate 1-phosphotransferase; UTP + D-Tagatose 6-phosphate <=> UDP + D-Tagatose 1,6-bisphosphate)"
      ],
      "text/plain": [
       "<IPython.core.display.HTML object>"
      ]
     },
     "metadata": {},
     "output_type": "display_data"
    },
    {
     "data": {
      "text/html": [
       "<b>R03238</b>: [\"<span style='color: #74553b'>Node147305</span>\", \"<span style='color: #fd79b7'>Node28120</span>\"] (UTP:D-tagatose 6-phosphate 1-phosphotransferase; UTP + D-Tagatose 6-phosphate <=> UDP + D-Tagatose 1,6-bisphosphate)"
      ],
      "text/plain": [
       "<IPython.core.display.HTML object>"
      ]
     },
     "metadata": {},
     "output_type": "display_data"
    },
    {
     "data": {
      "text/html": [
       "<b>R10159</b>: [\"<span style='color: #21d139'>Node21166</span>\"] (adrenodoxin:NADP+ oxidoreductase; 2 Reduced adrenal ferredoxin + NADP+ + H+ <=> 2 Oxidized adrenal ferredoxin + NADPH)"
      ],
      "text/plain": [
       "<IPython.core.display.HTML object>"
      ]
     },
     "metadata": {},
     "output_type": "display_data"
    },
    {
     "data": {
      "text/html": [
       "<b>R00132</b>: [\"<span style='color: #a87f75'>Node15327</span>\"] (carbonate hydro-lyase (carbon-dioxide-forming); carbonic acid hydro-lyase; Carbonic acid <=> CO2 + H2O)"
      ],
      "text/plain": [
       "<IPython.core.display.HTML object>"
      ]
     },
     "metadata": {},
     "output_type": "display_data"
    },
    {
     "data": {
      "text/html": [
       "<b>R00132</b>: [\"<span style='color: #a87f75'>Node15327</span>\", \"<span style='color: #21d139'>Node21166</span>\"] (carbonate hydro-lyase (carbon-dioxide-forming); carbonic acid hydro-lyase; Carbonic acid <=> CO2 + H2O)"
      ],
      "text/plain": [
       "<IPython.core.display.HTML object>"
      ]
     },
     "metadata": {},
     "output_type": "display_data"
    },
    {
     "data": {
      "text/html": [
       "<b>R00132</b>: [\"<span style='color: #a87f75'>Node15327</span>\", \"<span style='color: #21d139'>Node21166</span>\", \"<span style='color: #fd79b7'>Node28120</span>\"] (carbonate hydro-lyase (carbon-dioxide-forming); carbonic acid hydro-lyase; Carbonic acid <=> CO2 + H2O)"
      ],
      "text/plain": [
       "<IPython.core.display.HTML object>"
      ]
     },
     "metadata": {},
     "output_type": "display_data"
    },
    {
     "data": {
      "text/html": [
       "<b>R08359</b>: [\"<span style='color: #21d139'>Node21166</span>\"] (S-adenosylmethioninamine:cadaverine 3-aminopropyltransferase; S-Adenosylmethioninamine + Cadaverine <=> 5'-Methylthioadenosine + Aminopropylcadaverine)"
      ],
      "text/plain": [
       "<IPython.core.display.HTML object>"
      ]
     },
     "metadata": {},
     "output_type": "display_data"
    },
    {
     "data": {
      "text/html": [
       "<b>R08359</b>: [\"<span style='color: #21d139'>Node21166</span>\", \"<span style='color: #fd79b7'>Node28120</span>\"] (S-adenosylmethioninamine:cadaverine 3-aminopropyltransferase; S-Adenosylmethioninamine + Cadaverine <=> 5'-Methylthioadenosine + Aminopropylcadaverine)"
      ],
      "text/plain": [
       "<IPython.core.display.HTML object>"
      ]
     },
     "metadata": {},
     "output_type": "display_data"
    },
    {
     "data": {
      "text/html": [
       "<b>R01518</b>: [\"<span style='color: #74553b'>Node147305</span>\"] (D-phosphoglycerate 2,3-phosphomutase; 2-Phospho-D-glycerate <=> 3-Phospho-D-glycerate)"
      ],
      "text/plain": [
       "<IPython.core.display.HTML object>"
      ]
     },
     "metadata": {},
     "output_type": "display_data"
    },
    {
     "data": {
      "text/html": [
       "<b>R01518</b>: [\"<span style='color: #74553b'>Node147305</span>\", \"<span style='color: #fd79b7'>Node28120</span>\"] (D-phosphoglycerate 2,3-phosphomutase; 2-Phospho-D-glycerate <=> 3-Phospho-D-glycerate)"
      ],
      "text/plain": [
       "<IPython.core.display.HTML object>"
      ]
     },
     "metadata": {},
     "output_type": "display_data"
    },
    {
     "data": {
      "text/html": [
       "<b>R01518</b>: [\"<span style='color: #74553b'>Node147305</span>\", \"<span style='color: #fd79b7'>Node28120</span>\", \"<span style='color: #2a6e9d'>Node45985</span>\"] (D-phosphoglycerate 2,3-phosphomutase; 2-Phospho-D-glycerate <=> 3-Phospho-D-glycerate)"
      ],
      "text/plain": [
       "<IPython.core.display.HTML object>"
      ]
     },
     "metadata": {},
     "output_type": "display_data"
    },
    {
     "data": {
      "text/html": [
       "<b>R02750</b>: [\"<span style='color: #ffd3f8'>Node126898</span>\"] (ATP:2-deoxy-D-ribose 5-phosphotransferase; 2-Deoxy-D-ribose 5-phosphate + ADP <=> Deoxyribose + ATP)"
      ],
      "text/plain": [
       "<IPython.core.display.HTML object>"
      ]
     },
     "metadata": {},
     "output_type": "display_data"
    },
    {
     "data": {
      "text/html": [
       "<b>R02750</b>: [\"<span style='color: #ffd3f8'>Node126898</span>\", \"<span style='color: #a87f75'>Node15327</span>\"] (ATP:2-deoxy-D-ribose 5-phosphotransferase; 2-Deoxy-D-ribose 5-phosphate + ADP <=> Deoxyribose + ATP)"
      ],
      "text/plain": [
       "<IPython.core.display.HTML object>"
      ]
     },
     "metadata": {},
     "output_type": "display_data"
    },
    {
     "data": {
      "text/html": [
       "<b>R02750</b>: [\"<span style='color: #ffd3f8'>Node126898</span>\", \"<span style='color: #a87f75'>Node15327</span>\", \"<span style='color: #21d139'>Node21166</span>\"] (ATP:2-deoxy-D-ribose 5-phosphotransferase; 2-Deoxy-D-ribose 5-phosphate + ADP <=> Deoxyribose + ATP)"
      ],
      "text/plain": [
       "<IPython.core.display.HTML object>"
      ]
     },
     "metadata": {},
     "output_type": "display_data"
    },
    {
     "data": {
      "text/html": [
       "<b>R08603</b>: [\"<span style='color: #bebf59'>Node55420</span>\"] (3D-(3,5/4)-trihydroxycyclohexane-1,2-dione acylhydrolase (decyclizing); 3D-3,5/4-Trihydroxycyclohexane-1,2-dione + H2O <=> 5-Deoxy-D-glucuronate)"
      ],
      "text/plain": [
       "<IPython.core.display.HTML object>"
      ]
     },
     "metadata": {},
     "output_type": "display_data"
    },
    {
     "data": {
      "text/html": [
       "<b>R08603</b>: [\"<span style='color: #bebf59'>Node55420</span>\", \"<span style='color: #073257'>Node55904</span>\"] (3D-(3,5/4)-trihydroxycyclohexane-1,2-dione acylhydrolase (decyclizing); 3D-3,5/4-Trihydroxycyclohexane-1,2-dione + H2O <=> 5-Deoxy-D-glucuronate)"
      ],
      "text/plain": [
       "<IPython.core.display.HTML object>"
      ]
     },
     "metadata": {},
     "output_type": "display_data"
    },
    {
     "data": {
      "text/html": [
       "<b>R07346</b>: [\"<span style='color: #fd79b7'>Node28120</span>\"] (D-glucitol:NADP+ oxidoreductase; D-Sorbitol + NADP+ <=> L-Sorbose + NADPH + H+)"
      ],
      "text/plain": [
       "<IPython.core.display.HTML object>"
      ]
     },
     "metadata": {},
     "output_type": "display_data"
    },
    {
     "data": {
      "text/html": [
       "<b>R04955</b>: [\"<span style='color: #a87f75'>Node15327</span>\"] (hexanoyl-[acp]:NAD+ trans-2-oxidoreductase; Hexanoyl-[acp] + NAD+ <=> trans-Hex-2-enoyl-[acp] + NADH + H+)"
      ],
      "text/plain": [
       "<IPython.core.display.HTML object>"
      ]
     },
     "metadata": {},
     "output_type": "display_data"
    },
    {
     "data": {
      "text/html": [
       "<b>R04955</b>: [\"<span style='color: #a87f75'>Node15327</span>\", \"<span style='color: #554a79'>Node19398</span>\"] (hexanoyl-[acp]:NAD+ trans-2-oxidoreductase; Hexanoyl-[acp] + NAD+ <=> trans-Hex-2-enoyl-[acp] + NADH + H+)"
      ],
      "text/plain": [
       "<IPython.core.display.HTML object>"
      ]
     },
     "metadata": {},
     "output_type": "display_data"
    },
    {
     "data": {
      "text/html": [
       "<b>R04955</b>: [\"<span style='color: #a87f75'>Node15327</span>\", \"<span style='color: #554a79'>Node19398</span>\", \"<span style='color: #fd79b7'>Node28120</span>\"] (hexanoyl-[acp]:NAD+ trans-2-oxidoreductase; Hexanoyl-[acp] + NAD+ <=> trans-Hex-2-enoyl-[acp] + NADH + H+)"
      ],
      "text/plain": [
       "<IPython.core.display.HTML object>"
      ]
     },
     "metadata": {},
     "output_type": "display_data"
    },
    {
     "data": {
      "text/html": [
       "<b>R01064</b>: [\"<span style='color: #073257'>Node55904</span>\"] (2-dehydro-3-deoxy-6-phospho-D-galactonate D-glyceraldehyde-3-phospho-lyase (pyruvate-forming); 2-Dehydro-3-deoxy-6-phospho-D-galactonate <=> Pyruvate + D-Glyceraldehyde 3-phosphate)"
      ],
      "text/plain": [
       "<IPython.core.display.HTML object>"
      ]
     },
     "metadata": {},
     "output_type": "display_data"
    },
    {
     "data": {
      "text/html": [
       "<b>R07083</b>: [\"<span style='color: #073257'>Node55904</span>\"] (4,5-dihydro-4-hydroxy-5-S-glutathionyl-benzo[a]pyrene glutathione-lyase (epoxide-forming); Benzo[a]pyrene-4,5-oxide + Glutathione <=> 4,5-Dihydro-4-hydroxy-5-S-glutathionyl-benzo[a]pyrene)"
      ],
      "text/plain": [
       "<IPython.core.display.HTML object>"
      ]
     },
     "metadata": {},
     "output_type": "display_data"
    },
    {
     "data": {
      "text/html": [
       "<b>R08645</b>: [\"<span style='color: #4c0ebb'>Node119365</span>\"] (2-(3'-methylthio)heptylmalate hydroxymutase; 2-(7'-Methylthio)heptylmalic acid <=> 3-(7'-Methylthio)heptylmalic acid)"
      ],
      "text/plain": [
       "<IPython.core.display.HTML object>"
      ]
     },
     "metadata": {},
     "output_type": "display_data"
    },
    {
     "data": {
      "text/html": [
       "<b>R08645</b>: [\"<span style='color: #4c0ebb'>Node119365</span>\", \"<span style='color: #ffd3f8'>Node126898</span>\"] (2-(3'-methylthio)heptylmalate hydroxymutase; 2-(7'-Methylthio)heptylmalic acid <=> 3-(7'-Methylthio)heptylmalic acid)"
      ],
      "text/plain": [
       "<IPython.core.display.HTML object>"
      ]
     },
     "metadata": {},
     "output_type": "display_data"
    },
    {
     "data": {
      "text/html": [
       "<b>R02991</b>: [\"<span style='color: #fd79b7'>Node28120</span>\"] (4-carboxymethylbut-3-en-4-olide enol-lactonohydrolase; 2-Oxo-2,3-dihydrofuran-5-acetate + H2O <=> 3-Oxoadipate)"
      ],
      "text/plain": [
       "<IPython.core.display.HTML object>"
      ]
     },
     "metadata": {},
     "output_type": "display_data"
    },
    {
     "data": {
      "text/html": [
       "<b>R04998</b>: [\"<span style='color: #a87f75'>Node15327</span>\"] (beta-D-Glucosyl-2-coumarinate glucohydrolase; cis-beta-D-Glucosyl-2-hydroxycinnamate + H2O <=> cis-2-Hydroxycinnamate + D-Glucose)"
      ],
      "text/plain": [
       "<IPython.core.display.HTML object>"
      ]
     },
     "metadata": {},
     "output_type": "display_data"
    },
    {
     "data": {
      "text/html": [
       "<b>R04998</b>: [\"<span style='color: #a87f75'>Node15327</span>\", \"<span style='color: #fd79b7'>Node28120</span>\"] (beta-D-Glucosyl-2-coumarinate glucohydrolase; cis-beta-D-Glucosyl-2-hydroxycinnamate + H2O <=> cis-2-Hydroxycinnamate + D-Glucose)"
      ],
      "text/plain": [
       "<IPython.core.display.HTML object>"
      ]
     },
     "metadata": {},
     "output_type": "display_data"
    },
    {
     "data": {
      "text/html": [
       "<b>R01993</b>: [\"<span style='color: #21d139'>Node21166</span>\"] ((S)-dihydroorotate amidohydrolase; (S)-Dihydroorotate + H2O <=> N-Carbamoyl-L-aspartate)"
      ],
      "text/plain": [
       "<IPython.core.display.HTML object>"
      ]
     },
     "metadata": {},
     "output_type": "display_data"
    },
    {
     "data": {
      "text/html": [
       "<b>R08230</b>: [\"<span style='color: #21d139'>Node21166</span>\"] (5-fluorodeoxyuridine:phosphate deoxy-alpha-D-ribosyltransferase; 5-FU + 2-Deoxy-D-ribose 1-phosphate <=> 5-Fluorodeoxyuridine + Orthophosphate)"
      ],
      "text/plain": [
       "<IPython.core.display.HTML object>"
      ]
     },
     "metadata": {},
     "output_type": "display_data"
    },
    {
     "data": {
      "text/html": [
       "<b>R08230</b>: [\"<span style='color: #21d139'>Node21166</span>\", \"<span style='color: #bebf59'>Node55420</span>\"] (5-fluorodeoxyuridine:phosphate deoxy-alpha-D-ribosyltransferase; 5-FU + 2-Deoxy-D-ribose 1-phosphate <=> 5-Fluorodeoxyuridine + Orthophosphate)"
      ],
      "text/plain": [
       "<IPython.core.display.HTML object>"
      ]
     },
     "metadata": {},
     "output_type": "display_data"
    },
    {
     "data": {
      "text/html": [
       "<b>R08230</b>: [\"<span style='color: #21d139'>Node21166</span>\", \"<span style='color: #bebf59'>Node55420</span>\", \"<span style='color: #073257'>Node55904</span>\"] (5-fluorodeoxyuridine:phosphate deoxy-alpha-D-ribosyltransferase; 5-FU + 2-Deoxy-D-ribose 1-phosphate <=> 5-Fluorodeoxyuridine + Orthophosphate)"
      ],
      "text/plain": [
       "<IPython.core.display.HTML object>"
      ]
     },
     "metadata": {},
     "output_type": "display_data"
    },
    {
     "data": {
      "text/html": [
       "<b>R04425</b>: [\"<span style='color: #a87f75'>Node15327</span>\"] ((2S,3R)-3-Hydroxybutane-1,2,3-tricarboxylate hydro-lyase; (2S,3R)-3-Hydroxybutane-1,2,3-tricarboxylate <=> (Z)-But-2-ene-1,2,3-tricarboxylate + H2O)"
      ],
      "text/plain": [
       "<IPython.core.display.HTML object>"
      ]
     },
     "metadata": {},
     "output_type": "display_data"
    },
    {
     "data": {
      "text/html": [
       "<b>R04425</b>: [\"<span style='color: #a87f75'>Node15327</span>\", \"<span style='color: #554a79'>Node19398</span>\"] ((2S,3R)-3-Hydroxybutane-1,2,3-tricarboxylate hydro-lyase; (2S,3R)-3-Hydroxybutane-1,2,3-tricarboxylate <=> (Z)-But-2-ene-1,2,3-tricarboxylate + H2O)"
      ],
      "text/plain": [
       "<IPython.core.display.HTML object>"
      ]
     },
     "metadata": {},
     "output_type": "display_data"
    },
    {
     "data": {
      "text/html": [
       "<b>R04425</b>: [\"<span style='color: #a87f75'>Node15327</span>\", \"<span style='color: #554a79'>Node19398</span>\", \"<span style='color: #fd79b7'>Node28120</span>\"] ((2S,3R)-3-Hydroxybutane-1,2,3-tricarboxylate hydro-lyase; (2S,3R)-3-Hydroxybutane-1,2,3-tricarboxylate <=> (Z)-But-2-ene-1,2,3-tricarboxylate + H2O)"
      ],
      "text/plain": [
       "<IPython.core.display.HTML object>"
      ]
     },
     "metadata": {},
     "output_type": "display_data"
    },
    {
     "data": {
      "text/html": [
       "<b>R00908</b>: [\"<span style='color: #fd79b7'>Node28120</span>\"] (beta-alanine:2-oxoglutarate aminotransferase; beta-Alanine + 2-Oxoglutarate <=> 3-Oxopropanoate + L-Glutamate)"
      ],
      "text/plain": [
       "<IPython.core.display.HTML object>"
      ]
     },
     "metadata": {},
     "output_type": "display_data"
    },
    {
     "data": {
      "text/html": [
       "<b>R00908</b>: [\"<span style='color: #fd79b7'>Node28120</span>\", \"<span style='color: #073257'>Node55904</span>\"] (beta-alanine:2-oxoglutarate aminotransferase; beta-Alanine + 2-Oxoglutarate <=> 3-Oxopropanoate + L-Glutamate)"
      ],
      "text/plain": [
       "<IPython.core.display.HTML object>"
      ]
     },
     "metadata": {},
     "output_type": "display_data"
    },
    {
     "data": {
      "text/html": [
       "<b>R00264</b>: [\"<span style='color: #fd79b7'>Node28120</span>\"] (2,5-dioxopentanoate:NADP+ 5-oxidoreductase; 2,5-Dioxopentanoate + NADP+ + H2O <=> 2-Oxoglutarate + NADPH + H+)"
      ],
      "text/plain": [
       "<IPython.core.display.HTML object>"
      ]
     },
     "metadata": {},
     "output_type": "display_data"
    },
    {
     "data": {
      "text/html": [
       "<b>R00264</b>: [\"<span style='color: #fd79b7'>Node28120</span>\", \"<span style='color: #073257'>Node55904</span>\"] (2,5-dioxopentanoate:NADP+ 5-oxidoreductase; 2,5-Dioxopentanoate + NADP+ + H2O <=> 2-Oxoglutarate + NADPH + H+)"
      ],
      "text/plain": [
       "<IPython.core.display.HTML object>"
      ]
     },
     "metadata": {},
     "output_type": "display_data"
    },
    {
     "data": {
      "text/html": [
       "<b>R03919</b>: [\"<span style='color: #fd79b7'>Node28120</span>\"] (Donor:hydrogen-peroxide oxidoreductase; Sinapyl alcohol <=> Syringyl lignin)"
      ],
      "text/plain": [
       "<IPython.core.display.HTML object>"
      ]
     },
     "metadata": {},
     "output_type": "display_data"
    },
    {
     "data": {
      "text/html": [
       "<b>R10906</b>: [\"<span style='color: #fd79b7'>Node28120</span>\"] ((9Z)-hexadec-9-enoyl-[acyl-carrier protein]:KDO2-lipid IVA O-palmitoleoyltransferase; Hexadecenoyl-[acyl-carrier protein] + KDO2-lipid IVA <=> (9Z)-Hexadec-9-enoyl-KDO2-lipid IV(A) + Acyl-carrier protein)"
      ],
      "text/plain": [
       "<IPython.core.display.HTML object>"
      ]
     },
     "metadata": {},
     "output_type": "display_data"
    },
    {
     "data": {
      "text/html": [
       "<b>R00278</b>: [\"<span style='color: #fd79b7'>Node28120</span>\"] (pyridoxine 5'-phosphate:oxygen oxidoreductase; Pyridoxine phosphate + Oxygen <=> Hydrogen peroxide + Pyridoxal phosphate)"
      ],
      "text/plain": [
       "<IPython.core.display.HTML object>"
      ]
     },
     "metadata": {},
     "output_type": "display_data"
    },
    {
     "data": {
      "text/html": [
       "<b>R01411</b>: [\"<span style='color: #21d139'>Node21166</span>\"] (5-Methylcytosine aminohydrolase; 5-Methylcytosine + H2O <=> Thymine + Ammonia)"
      ],
      "text/plain": [
       "<IPython.core.display.HTML object>"
      ]
     },
     "metadata": {},
     "output_type": "display_data"
    },
    {
     "data": {
      "text/html": [
       "<b>R00489</b>: [\"<span style='color: #ffd3f8'>Node126898</span>\"] (L-aspartate 1-carboxy-lyase (beta-alanine-forming); L-Aspartate <=> beta-Alanine + CO2)"
      ],
      "text/plain": [
       "<IPython.core.display.HTML object>"
      ]
     },
     "metadata": {},
     "output_type": "display_data"
    },
    {
     "data": {
      "text/html": [
       "<b>R00489</b>: [\"<span style='color: #ffd3f8'>Node126898</span>\", \"<span style='color: #74553b'>Node147305</span>\"] (L-aspartate 1-carboxy-lyase (beta-alanine-forming); L-Aspartate <=> beta-Alanine + CO2)"
      ],
      "text/plain": [
       "<IPython.core.display.HTML object>"
      ]
     },
     "metadata": {},
     "output_type": "display_data"
    },
    {
     "data": {
      "text/html": [
       "<b>R10712</b>: [\"<span style='color: #a87f75'>Node15327</span>\"] (2-methyl-4-amino-5-hydroxymethylpyrimidine-diphosphate:2-(2-carboxy-4-methylthiazol-5-yl)ethyl phosphate 2-methyl-4-aminopyrimidine-5-methenyltransferase; 4-Amino-5-hydroxymethyl-2-methylpyrimidine diphosphate + 2-(2-Carboxy-4-methylthiazol-5-yl)ethyl phosphate <=> Thiamin monophosphate + Diphosphate + CO2)"
      ],
      "text/plain": [
       "<IPython.core.display.HTML object>"
      ]
     },
     "metadata": {},
     "output_type": "display_data"
    },
    {
     "data": {
      "text/html": [
       "<b>R10712</b>: [\"<span style='color: #a87f75'>Node15327</span>\", \"<span style='color: #fd79b7'>Node28120</span>\"] (2-methyl-4-amino-5-hydroxymethylpyrimidine-diphosphate:2-(2-carboxy-4-methylthiazol-5-yl)ethyl phosphate 2-methyl-4-aminopyrimidine-5-methenyltransferase; 4-Amino-5-hydroxymethyl-2-methylpyrimidine diphosphate + 2-(2-Carboxy-4-methylthiazol-5-yl)ethyl phosphate <=> Thiamin monophosphate + Diphosphate + CO2)"
      ],
      "text/plain": [
       "<IPython.core.display.HTML object>"
      ]
     },
     "metadata": {},
     "output_type": "display_data"
    },
    {
     "data": {
      "text/html": [
       "<b>R10712</b>: [\"<span style='color: #a87f75'>Node15327</span>\", \"<span style='color: #fd79b7'>Node28120</span>\", \"<span style='color: #073257'>Node55904</span>\"] (2-methyl-4-amino-5-hydroxymethylpyrimidine-diphosphate:2-(2-carboxy-4-methylthiazol-5-yl)ethyl phosphate 2-methyl-4-aminopyrimidine-5-methenyltransferase; 4-Amino-5-hydroxymethyl-2-methylpyrimidine diphosphate + 2-(2-Carboxy-4-methylthiazol-5-yl)ethyl phosphate <=> Thiamin monophosphate + Diphosphate + CO2)"
      ],
      "text/plain": [
       "<IPython.core.display.HTML object>"
      ]
     },
     "metadata": {},
     "output_type": "display_data"
    },
    {
     "data": {
      "text/html": [
       "<b>R07709</b>: [\"<span style='color: #a87f75'>Node15327</span>\"] (salicylate,NADH:oxygen oxidoreductase (5-hydroxylating); Salicylate + NADH + Oxygen + H+ <=> 2,5-Dihydroxybenzoate + NAD+ + H2O)"
      ],
      "text/plain": [
       "<IPython.core.display.HTML object>"
      ]
     },
     "metadata": {},
     "output_type": "display_data"
    },
    {
     "data": {
      "text/html": [
       "<b>R03391</b>: [\"<span style='color: #a87f75'>Node15327</span>\"] (CDP-4-dehydro-3,6-dideoxy-D-glucose:NAD+ 3-oxydoreductase; CDP-4-dehydro-3,6-dideoxy-D-glucose + NAD+ + H2O <=> CDP-4-dehydro-6-deoxy-D-glucose + NADH + H+)"
      ],
      "text/plain": [
       "<IPython.core.display.HTML object>"
      ]
     },
     "metadata": {},
     "output_type": "display_data"
    },
    {
     "data": {
      "text/html": [
       "<b>R03391</b>: [\"<span style='color: #a87f75'>Node15327</span>\", \"<span style='color: #21d139'>Node21166</span>\"] (CDP-4-dehydro-3,6-dideoxy-D-glucose:NAD+ 3-oxydoreductase; CDP-4-dehydro-3,6-dideoxy-D-glucose + NAD+ + H2O <=> CDP-4-dehydro-6-deoxy-D-glucose + NADH + H+)"
      ],
      "text/plain": [
       "<IPython.core.display.HTML object>"
      ]
     },
     "metadata": {},
     "output_type": "display_data"
    },
    {
     "data": {
      "text/html": [
       "<b>R01404</b>: [\"<span style='color: #a87f75'>Node15327</span>\"] (acyl-[acyl-carrier protein]:NADP+ oxidoreductase; Acyl-[acyl-carrier protein] + NADP+ <=> trans-2,3-Dehydroacyl-[acyl-carrier protein] + NADPH + H+)"
      ],
      "text/plain": [
       "<IPython.core.display.HTML object>"
      ]
     },
     "metadata": {},
     "output_type": "display_data"
    },
    {
     "data": {
      "text/html": [
       "<b>R01404</b>: [\"<span style='color: #a87f75'>Node15327</span>\", \"<span style='color: #554a79'>Node19398</span>\"] (acyl-[acyl-carrier protein]:NADP+ oxidoreductase; Acyl-[acyl-carrier protein] + NADP+ <=> trans-2,3-Dehydroacyl-[acyl-carrier protein] + NADPH + H+)"
      ],
      "text/plain": [
       "<IPython.core.display.HTML object>"
      ]
     },
     "metadata": {},
     "output_type": "display_data"
    },
    {
     "data": {
      "text/html": [
       "<b>R01404</b>: [\"<span style='color: #a87f75'>Node15327</span>\", \"<span style='color: #554a79'>Node19398</span>\", \"<span style='color: #fd79b7'>Node28120</span>\"] (acyl-[acyl-carrier protein]:NADP+ oxidoreductase; Acyl-[acyl-carrier protein] + NADP+ <=> trans-2,3-Dehydroacyl-[acyl-carrier protein] + NADPH + H+)"
      ],
      "text/plain": [
       "<IPython.core.display.HTML object>"
      ]
     },
     "metadata": {},
     "output_type": "display_data"
    },
    {
     "data": {
      "text/html": [
       "<b>R00964</b>: [\"<span style='color: #74553b'>Node147305</span>\"] (ATP:uridine 5'-phosphotransferase; ATP + Uridine <=> ADP + UMP)"
      ],
      "text/plain": [
       "<IPython.core.display.HTML object>"
      ]
     },
     "metadata": {},
     "output_type": "display_data"
    },
    {
     "data": {
      "text/html": [
       "<b>R00964</b>: [\"<span style='color: #74553b'>Node147305</span>\", \"<span style='color: #21d139'>Node21166</span>\"] (ATP:uridine 5'-phosphotransferase; ATP + Uridine <=> ADP + UMP)"
      ],
      "text/plain": [
       "<IPython.core.display.HTML object>"
      ]
     },
     "metadata": {},
     "output_type": "display_data"
    },
    {
     "data": {
      "text/html": [
       "<b>R09493</b>: [\"<span style='color: #21d139'>Node21166</span>\"] (D-amino acid:quinone oxidoreductase (deaminating); D-Amino acid + H2O + Quinone <=> 2-Oxo acid + Ammonia + Hydroquinone)"
      ],
      "text/plain": [
       "<IPython.core.display.HTML object>"
      ]
     },
     "metadata": {},
     "output_type": "display_data"
    },
    {
     "data": {
      "text/html": [
       "<b>R00360</b>: [\"<span style='color: #fd79b7'>Node28120</span>\"] ((S)-Malate:oxygen oxidoreductase; (S)-Malate + Oxygen <=> Oxaloacetate + Hydrogen peroxide)"
      ],
      "text/plain": [
       "<IPython.core.display.HTML object>"
      ]
     },
     "metadata": {},
     "output_type": "display_data"
    },
    {
     "data": {
      "text/html": [
       "<b>R09959</b>: [\"<span style='color: #fd79b7'>Node28120</span>\"] (7,8-dihydroneopterin 3'-triphosphate acetaldehyde-lyase (6-carboxy-5,6,7,8-tetrahydropterin and triphosphate-forming); 7,8-Dihydroneopterin 3'-triphosphate + H2O <=> 6-Carboxy-5,6,7,8-tetrahydropterin + Acetaldehyde + Triphosphate)"
      ],
      "text/plain": [
       "<IPython.core.display.HTML object>"
      ]
     },
     "metadata": {},
     "output_type": "display_data"
    },
    {
     "data": {
      "text/html": [
       "<b>R10695</b>: [\"<span style='color: #ffd3f8'>Node126898</span>\"] (6-amino-6-deoxyfutalosine deaminase; 6-Amino-6-deoxyfutalosine + H2O <=> Futalosine + Ammonia)"
      ],
      "text/plain": [
       "<IPython.core.display.HTML object>"
      ]
     },
     "metadata": {},
     "output_type": "display_data"
    },
    {
     "data": {
      "text/html": [
       "<b>R00396</b>: [\"<span style='color: #74553b'>Node147305</span>\"] (L-alanine:NAD+ oxidoreductase (deaminating); L-Alanine + NAD+ + H2O <=> Pyruvate + Ammonia + NADH + H+)"
      ],
      "text/plain": [
       "<IPython.core.display.HTML object>"
      ]
     },
     "metadata": {},
     "output_type": "display_data"
    },
    {
     "data": {
      "text/html": [
       "<b>R02325</b>: [\"<span style='color: #4c0ebb'>Node119365</span>\"] (dCTP aminohydrolase; dCTP + H2O <=> dUTP + Ammonia)"
      ],
      "text/plain": [
       "<IPython.core.display.HTML object>"
      ]
     },
     "metadata": {},
     "output_type": "display_data"
    },
    {
     "data": {
      "text/html": [
       "<b>R02325</b>: [\"<span style='color: #4c0ebb'>Node119365</span>\", \"<span style='color: #ffd3f8'>Node126898</span>\"] (dCTP aminohydrolase; dCTP + H2O <=> dUTP + Ammonia)"
      ],
      "text/plain": [
       "<IPython.core.display.HTML object>"
      ]
     },
     "metadata": {},
     "output_type": "display_data"
    },
    {
     "data": {
      "text/html": [
       "<b>R05222</b>: [\"<span style='color: #21d139'>Node21166</span>\"] (GTP:adenosylcobinamide-phosphate guanylyltransferase; Adenosyl cobinamide phosphate + GTP <=> Adenosine-GDP-cobinamide + Diphosphate)"
      ],
      "text/plain": [
       "<IPython.core.display.HTML object>"
      ]
     },
     "metadata": {},
     "output_type": "display_data"
    },
    {
     "data": {
      "text/html": [
       "<b>R06604</b>: [\"<span style='color: #a87f75'>Node15327</span>\"] (5-hydroxy-2-oxo-4-ureido-2,5-dihydro-1H-imidazole-5-carboxylate carboxy-lyase [(S)-allantoin-forming]; 5-Hydroxy-2-oxo-4-ureido-2,5-dihydro-1H-imidazole-5-carboxylate <=> (S)-Allantoin + CO2)"
      ],
      "text/plain": [
       "<IPython.core.display.HTML object>"
      ]
     },
     "metadata": {},
     "output_type": "display_data"
    },
    {
     "data": {
      "text/html": [
       "<b>R06604</b>: [\"<span style='color: #a87f75'>Node15327</span>\", \"<span style='color: #21d139'>Node21166</span>\"] (5-hydroxy-2-oxo-4-ureido-2,5-dihydro-1H-imidazole-5-carboxylate carboxy-lyase [(S)-allantoin-forming]; 5-Hydroxy-2-oxo-4-ureido-2,5-dihydro-1H-imidazole-5-carboxylate <=> (S)-Allantoin + CO2)"
      ],
      "text/plain": [
       "<IPython.core.display.HTML object>"
      ]
     },
     "metadata": {},
     "output_type": "display_data"
    },
    {
     "data": {
      "text/html": [
       "<b>R00036</b>: [\"<span style='color: #4c0ebb'>Node119365</span>\"] (5-aminolevulinate hydro-lyase (adding 5-aminolevulinate and cyclizing; porphobilinogen-forming); 2 5-Aminolevulinate <=> Porphobilinogen + 2 H2O)"
      ],
      "text/plain": [
       "<IPython.core.display.HTML object>"
      ]
     },
     "metadata": {},
     "output_type": "display_data"
    },
    {
     "data": {
      "text/html": [
       "<b>R00036</b>: [\"<span style='color: #4c0ebb'>Node119365</span>\", \"<span style='color: #ffd3f8'>Node126898</span>\"] (5-aminolevulinate hydro-lyase (adding 5-aminolevulinate and cyclizing; porphobilinogen-forming); 2 5-Aminolevulinate <=> Porphobilinogen + 2 H2O)"
      ],
      "text/plain": [
       "<IPython.core.display.HTML object>"
      ]
     },
     "metadata": {},
     "output_type": "display_data"
    },
    {
     "data": {
      "text/html": [
       "<b>R08714</b>: [\"<span style='color: #21d139'>Node21166</span>\"] (putrescine:pyruvate aminotransferase; Putrescine + Pyruvate <=> 4-Aminobutyraldehyde + L-Alanine)"
      ],
      "text/plain": [
       "<IPython.core.display.HTML object>"
      ]
     },
     "metadata": {},
     "output_type": "display_data"
    },
    {
     "data": {
      "text/html": [
       "<b>R08714</b>: [\"<span style='color: #21d139'>Node21166</span>\", \"<span style='color: #fd79b7'>Node28120</span>\"] (putrescine:pyruvate aminotransferase; Putrescine + Pyruvate <=> 4-Aminobutyraldehyde + L-Alanine)"
      ],
      "text/plain": [
       "<IPython.core.display.HTML object>"
      ]
     },
     "metadata": {},
     "output_type": "display_data"
    },
    {
     "data": {
      "text/html": [
       "<b>R08714</b>: [\"<span style='color: #21d139'>Node21166</span>\", \"<span style='color: #fd79b7'>Node28120</span>\", \"<span style='color: #073257'>Node55904</span>\"] (putrescine:pyruvate aminotransferase; Putrescine + Pyruvate <=> 4-Aminobutyraldehyde + L-Alanine)"
      ],
      "text/plain": [
       "<IPython.core.display.HTML object>"
      ]
     },
     "metadata": {},
     "output_type": "display_data"
    },
    {
     "data": {
      "text/html": [
       "<b>R08982</b>: [\"<span style='color: #073257'>Node55904</span>\"] (beta-D-fructofuranosyl-alpha-D-mannopyranoside-6F-phosphate phosphohydrolase; beta-D-Fructofuranosyl-alpha-D-mannopyranoside 6F-phosphate + H2O <=> beta-D-Fructofuranosyl-alpha-D-mannopyranoside + Orthophosphate)"
      ],
      "text/plain": [
       "<IPython.core.display.HTML object>"
      ]
     },
     "metadata": {},
     "output_type": "display_data"
    },
    {
     "data": {
      "text/html": [
       "<b>R00885</b>: [\"<span style='color: #21d139'>Node21166</span>\"] (GTP:alpha-D-mannose-1-phosphate guanylyltransferase; GTP + D-Mannose 1-phosphate <=> Diphosphate + GDP-mannose)"
      ],
      "text/plain": [
       "<IPython.core.display.HTML object>"
      ]
     },
     "metadata": {},
     "output_type": "display_data"
    },
    {
     "data": {
      "text/html": [
       "<b>R00885</b>: [\"<span style='color: #21d139'>Node21166</span>\", \"<span style='color: #2a6e9d'>Node45985</span>\"] (GTP:alpha-D-mannose-1-phosphate guanylyltransferase; GTP + D-Mannose 1-phosphate <=> Diphosphate + GDP-mannose)"
      ],
      "text/plain": [
       "<IPython.core.display.HTML object>"
      ]
     },
     "metadata": {},
     "output_type": "display_data"
    },
    {
     "data": {
      "text/html": [
       "<b>R00704</b>: [\"<span style='color: #fd79b7'>Node28120</span>\"] ((R)-Lactate:NAD+ oxidoreductase; (R)-Lactate + NAD+ <=> Pyruvate + NADH + H+)"
      ],
      "text/plain": [
       "<IPython.core.display.HTML object>"
      ]
     },
     "metadata": {},
     "output_type": "display_data"
    },
    {
     "data": {
      "text/html": [
       "<b>R01123</b>: [\"<span style='color: #fd79b7'>Node28120</span>\"] (isopentenyl-diphosphate Delta3-Delta2-isomerase; Isopentenyl diphosphate <=> Dimethylallyl diphosphate)"
      ],
      "text/plain": [
       "<IPython.core.display.HTML object>"
      ]
     },
     "metadata": {},
     "output_type": "display_data"
    },
    {
     "data": {
      "text/html": [
       "<b>R04962</b>: [\"<span style='color: #a87f75'>Node15327</span>\"] (decanoyl-[acp]:NADP+ trans-2-oxidoreductase; Decanoyl-[acp] + NADP+ <=> trans-Dec-2-enoyl-[acp] + NADPH + H+)"
      ],
      "text/plain": [
       "<IPython.core.display.HTML object>"
      ]
     },
     "metadata": {},
     "output_type": "display_data"
    },
    {
     "data": {
      "text/html": [
       "<b>R04962</b>: [\"<span style='color: #a87f75'>Node15327</span>\", \"<span style='color: #554a79'>Node19398</span>\"] (decanoyl-[acp]:NADP+ trans-2-oxidoreductase; Decanoyl-[acp] + NADP+ <=> trans-Dec-2-enoyl-[acp] + NADPH + H+)"
      ],
      "text/plain": [
       "<IPython.core.display.HTML object>"
      ]
     },
     "metadata": {},
     "output_type": "display_data"
    },
    {
     "data": {
      "text/html": [
       "<b>R04962</b>: [\"<span style='color: #a87f75'>Node15327</span>\", \"<span style='color: #554a79'>Node19398</span>\", \"<span style='color: #fd79b7'>Node28120</span>\"] (decanoyl-[acp]:NADP+ trans-2-oxidoreductase; Decanoyl-[acp] + NADP+ <=> trans-Dec-2-enoyl-[acp] + NADPH + H+)"
      ],
      "text/plain": [
       "<IPython.core.display.HTML object>"
      ]
     },
     "metadata": {},
     "output_type": "display_data"
    },
    {
     "data": {
      "text/html": [
       "<b>R02332</b>: [\"<span style='color: #74553b'>Node147305</span>\"]"
      ],
      "text/plain": [
       "<IPython.core.display.HTML object>"
      ]
     },
     "metadata": {},
     "output_type": "display_data"
    },
    {
     "data": {
      "text/html": [
       "<b>R02332</b>: [\"<span style='color: #74553b'>Node147305</span>\", \"<span style='color: #21d139'>Node21166</span>\"]"
      ],
      "text/plain": [
       "<IPython.core.display.HTML object>"
      ]
     },
     "metadata": {},
     "output_type": "display_data"
    },
    {
     "data": {
      "text/html": [
       "<b>R05075</b>: [\"<span style='color: #a87f75'>Node15327</span>\"] (tetradecanoyl-[acyl-carrier protein]:dodecanoyl-KDO2-lipid IV(A) O-tetradecanoyltransferase; Tetradecanoyl-[acp] + Lauroyl-KDO2-lipid IV(A) <=> KDO2-lipid A + Acyl-carrier protein)"
      ],
      "text/plain": [
       "<IPython.core.display.HTML object>"
      ]
     },
     "metadata": {},
     "output_type": "display_data"
    },
    {
     "data": {
      "text/html": [
       "<b>R05075</b>: [\"<span style='color: #a87f75'>Node15327</span>\", \"<span style='color: #554a79'>Node19398</span>\"] (tetradecanoyl-[acyl-carrier protein]:dodecanoyl-KDO2-lipid IV(A) O-tetradecanoyltransferase; Tetradecanoyl-[acp] + Lauroyl-KDO2-lipid IV(A) <=> KDO2-lipid A + Acyl-carrier protein)"
      ],
      "text/plain": [
       "<IPython.core.display.HTML object>"
      ]
     },
     "metadata": {},
     "output_type": "display_data"
    },
    {
     "data": {
      "text/html": [
       "<b>R05075</b>: [\"<span style='color: #a87f75'>Node15327</span>\", \"<span style='color: #554a79'>Node19398</span>\", \"<span style='color: #21d139'>Node21166</span>\"] (tetradecanoyl-[acyl-carrier protein]:dodecanoyl-KDO2-lipid IV(A) O-tetradecanoyltransferase; Tetradecanoyl-[acp] + Lauroyl-KDO2-lipid IV(A) <=> KDO2-lipid A + Acyl-carrier protein)"
      ],
      "text/plain": [
       "<IPython.core.display.HTML object>"
      ]
     },
     "metadata": {},
     "output_type": "display_data"
    },
    {
     "data": {
      "text/html": [
       "<b>R00315</b>: [\"<span style='color: #74553b'>Node147305</span>\"] (ATP:acetate phosphotransferase; ATP + Acetate <=> ADP + Acetyl phosphate)"
      ],
      "text/plain": [
       "<IPython.core.display.HTML object>"
      ]
     },
     "metadata": {},
     "output_type": "display_data"
    },
    {
     "data": {
      "text/html": [
       "<b>R04743</b>: [\"<span style='color: #a87f75'>Node15327</span>\"] ((S)-hydroxydecanoyl-CoA:NAD+ oxidoreductase; (S)-Hydroxydecanoyl-CoA + NAD+ <=> 3-Oxodecanoyl-CoA + NADH + H+)"
      ],
      "text/plain": [
       "<IPython.core.display.HTML object>"
      ]
     },
     "metadata": {},
     "output_type": "display_data"
    },
    {
     "data": {
      "text/html": [
       "<b>R04743</b>: [\"<span style='color: #a87f75'>Node15327</span>\", \"<span style='color: #21d139'>Node21166</span>\"] ((S)-hydroxydecanoyl-CoA:NAD+ oxidoreductase; (S)-Hydroxydecanoyl-CoA + NAD+ <=> 3-Oxodecanoyl-CoA + NADH + H+)"
      ],
      "text/plain": [
       "<IPython.core.display.HTML object>"
      ]
     },
     "metadata": {},
     "output_type": "display_data"
    },
    {
     "data": {
      "text/html": [
       "<b>R04743</b>: [\"<span style='color: #a87f75'>Node15327</span>\", \"<span style='color: #21d139'>Node21166</span>\", \"<span style='color: #2a6e9d'>Node45985</span>\"] ((S)-hydroxydecanoyl-CoA:NAD+ oxidoreductase; (S)-Hydroxydecanoyl-CoA + NAD+ <=> 3-Oxodecanoyl-CoA + NADH + H+)"
      ],
      "text/plain": [
       "<IPython.core.display.HTML object>"
      ]
     },
     "metadata": {},
     "output_type": "display_data"
    },
    {
     "data": {
      "text/html": [
       "<b>R05553</b>: [\"<span style='color: #fd79b7'>Node28120</span>\"] (4-amino-4-deoxychorismate pyruvate-lyase; 4-Amino-4-deoxychorismate <=> 4-Aminobenzoate + Pyruvate)"
      ],
      "text/plain": [
       "<IPython.core.display.HTML object>"
      ]
     },
     "metadata": {},
     "output_type": "display_data"
    },
    {
     "data": {
      "text/html": [
       "<b>R09233</b>: [\"<span style='color: #a87f75'>Node15327</span>\"] (2,4-dinitrotoluene,NADH:oxygen oxidoreductase (4,5-hydroxylating, nitrite-releasing); 2,4-Dinitrotoluene + NADH + Oxygen + H+ <=> 4-Methyl-5-nitrocatechol + NAD+ + Nitrite)"
      ],
      "text/plain": [
       "<IPython.core.display.HTML object>"
      ]
     },
     "metadata": {},
     "output_type": "display_data"
    },
    {
     "data": {
      "text/html": [
       "<b>R04987</b>: [\"<span style='color: #21d139'>Node21166</span>\"] (2-Octaprenylphenol + Oxygen + NADPH + H+ <=> 2-Octaprenyl-6-hydroxyphenol + NADP+ + H2O)"
      ],
      "text/plain": [
       "<IPython.core.display.HTML object>"
      ]
     },
     "metadata": {},
     "output_type": "display_data"
    },
    {
     "data": {
      "text/html": [
       "<b>R04987</b>: [\"<span style='color: #21d139'>Node21166</span>\", \"<span style='color: #fd79b7'>Node28120</span>\"] (2-Octaprenylphenol + Oxygen + NADPH + H+ <=> 2-Octaprenyl-6-hydroxyphenol + NADP+ + H2O)"
      ],
      "text/plain": [
       "<IPython.core.display.HTML object>"
      ]
     },
     "metadata": {},
     "output_type": "display_data"
    },
    {
     "data": {
      "text/html": [
       "<b>R00516</b>: [\"<span style='color: #74553b'>Node147305</span>\"]"
      ],
      "text/plain": [
       "<IPython.core.display.HTML object>"
      ]
     },
     "metadata": {},
     "output_type": "display_data"
    },
    {
     "data": {
      "text/html": [
       "<b>R00516</b>: [\"<span style='color: #74553b'>Node147305</span>\", \"<span style='color: #21d139'>Node21166</span>\"]"
      ],
      "text/plain": [
       "<IPython.core.display.HTML object>"
      ]
     },
     "metadata": {},
     "output_type": "display_data"
    },
    {
     "data": {
      "text/html": [
       "<b>R01177</b>: [\"<span style='color: #fd79b7'>Node28120</span>\"] (butanoyl-CoA:acetyl-CoA C-butanoyltransferase; Acetyl-CoA + Butanoyl-CoA <=> CoA + 3-Oxohexanoyl-CoA)"
      ],
      "text/plain": [
       "<IPython.core.display.HTML object>"
      ]
     },
     "metadata": {},
     "output_type": "display_data"
    },
    {
     "data": {
      "text/html": [
       "<b>R04958</b>: [\"<span style='color: #a87f75'>Node15327</span>\"] (octanoyl-[acp]:NAD+ trans-2-oxidoreductase; Octanoyl-[acp] + NAD+ <=> trans-Oct-2-enoyl-[acp] + NADH + H+)"
      ],
      "text/plain": [
       "<IPython.core.display.HTML object>"
      ]
     },
     "metadata": {},
     "output_type": "display_data"
    },
    {
     "data": {
      "text/html": [
       "<b>R04958</b>: [\"<span style='color: #a87f75'>Node15327</span>\", \"<span style='color: #554a79'>Node19398</span>\"] (octanoyl-[acp]:NAD+ trans-2-oxidoreductase; Octanoyl-[acp] + NAD+ <=> trans-Oct-2-enoyl-[acp] + NADH + H+)"
      ],
      "text/plain": [
       "<IPython.core.display.HTML object>"
      ]
     },
     "metadata": {},
     "output_type": "display_data"
    },
    {
     "data": {
      "text/html": [
       "<b>R04958</b>: [\"<span style='color: #a87f75'>Node15327</span>\", \"<span style='color: #554a79'>Node19398</span>\", \"<span style='color: #fd79b7'>Node28120</span>\"] (octanoyl-[acp]:NAD+ trans-2-oxidoreductase; Octanoyl-[acp] + NAD+ <=> trans-Oct-2-enoyl-[acp] + NADH + H+)"
      ],
      "text/plain": [
       "<IPython.core.display.HTML object>"
      ]
     },
     "metadata": {},
     "output_type": "display_data"
    },
    {
     "data": {
      "text/html": [
       "<b>R00022</b>: [\"<span style='color: #a87f75'>Node15327</span>\"] (chitobiose N-acetylglucosaminohydrolase; Chitobiose + H2O <=> 2 N-Acetyl-D-glucosamine)"
      ],
      "text/plain": [
       "<IPython.core.display.HTML object>"
      ]
     },
     "metadata": {},
     "output_type": "display_data"
    },
    {
     "data": {
      "text/html": [
       "<b>R00022</b>: [\"<span style='color: #a87f75'>Node15327</span>\", \"<span style='color: #fd79b7'>Node28120</span>\"] (chitobiose N-acetylglucosaminohydrolase; Chitobiose + H2O <=> 2 N-Acetyl-D-glucosamine)"
      ],
      "text/plain": [
       "<IPython.core.display.HTML object>"
      ]
     },
     "metadata": {},
     "output_type": "display_data"
    },
    {
     "data": {
      "text/html": [
       "<b>R08641</b>: [\"<span style='color: #4c0ebb'>Node119365</span>\"] (2-(3'-methylthio)hexylmalate hydroxymutase; 2-(6'-Methylthio)hexylmalic acid <=> 3-(6'-Methylthio)hexylmalic acid)"
      ],
      "text/plain": [
       "<IPython.core.display.HTML object>"
      ]
     },
     "metadata": {},
     "output_type": "display_data"
    },
    {
     "data": {
      "text/html": [
       "<b>R08641</b>: [\"<span style='color: #4c0ebb'>Node119365</span>\", \"<span style='color: #ffd3f8'>Node126898</span>\"] (2-(3'-methylthio)hexylmalate hydroxymutase; 2-(6'-Methylthio)hexylmalic acid <=> 3-(6'-Methylthio)hexylmalic acid)"
      ],
      "text/plain": [
       "<IPython.core.display.HTML object>"
      ]
     },
     "metadata": {},
     "output_type": "display_data"
    },
    {
     "data": {
      "text/html": [
       "<b>R02413</b>: [\"<span style='color: #4c0ebb'>Node119365</span>\"] (Shikimate:NADP+ 3-oxidoreductase; Shikimate + NADP+ <=> 3-Dehydroshikimate + NADPH + H+)"
      ],
      "text/plain": [
       "<IPython.core.display.HTML object>"
      ]
     },
     "metadata": {},
     "output_type": "display_data"
    },
    {
     "data": {
      "text/html": [
       "<b>R02413</b>: [\"<span style='color: #4c0ebb'>Node119365</span>\", \"<span style='color: #ffd3f8'>Node126898</span>\"] (Shikimate:NADP+ 3-oxidoreductase; Shikimate + NADP+ <=> 3-Dehydroshikimate + NADPH + H+)"
      ],
      "text/plain": [
       "<IPython.core.display.HTML object>"
      ]
     },
     "metadata": {},
     "output_type": "display_data"
    },
    {
     "data": {
      "text/html": [
       "<b>R02413</b>: [\"<span style='color: #4c0ebb'>Node119365</span>\", \"<span style='color: #ffd3f8'>Node126898</span>\", \"<span style='color: #fd79b7'>Node28120</span>\"] (Shikimate:NADP+ 3-oxidoreductase; Shikimate + NADP+ <=> 3-Dehydroshikimate + NADPH + H+)"
      ],
      "text/plain": [
       "<IPython.core.display.HTML object>"
      ]
     },
     "metadata": {},
     "output_type": "display_data"
    },
    {
     "data": {
      "text/html": [
       "<b>R01470</b>: [\"<span style='color: #a87f75'>Node15327</span>\"] (sn-Glycero-3-phosphoethanolamine glycerophosphohydrolase; sn-Glycero-3-phosphoethanolamine + H2O <=> Ethanolamine + sn-Glycerol 3-phosphate)"
      ],
      "text/plain": [
       "<IPython.core.display.HTML object>"
      ]
     },
     "metadata": {},
     "output_type": "display_data"
    },
    {
     "data": {
      "text/html": [
       "<b>R01470</b>: [\"<span style='color: #a87f75'>Node15327</span>\", \"<span style='color: #21d139'>Node21166</span>\"] (sn-Glycero-3-phosphoethanolamine glycerophosphohydrolase; sn-Glycero-3-phosphoethanolamine + H2O <=> Ethanolamine + sn-Glycerol 3-phosphate)"
      ],
      "text/plain": [
       "<IPython.core.display.HTML object>"
      ]
     },
     "metadata": {},
     "output_type": "display_data"
    },
    {
     "data": {
      "text/html": [
       "<b>R04986</b>: [\"<span style='color: #21d139'>Node21166</span>\"] (3-octaprenyl-4-hydroxybenzoate carboxy-lyase; 3-Octaprenyl-4-hydroxybenzoate <=> 2-Octaprenylphenol + CO2)"
      ],
      "text/plain": [
       "<IPython.core.display.HTML object>"
      ]
     },
     "metadata": {},
     "output_type": "display_data"
    },
    {
     "data": {
      "text/html": [
       "<b>R04986</b>: [\"<span style='color: #21d139'>Node21166</span>\", \"<span style='color: #fd79b7'>Node28120</span>\"] (3-octaprenyl-4-hydroxybenzoate carboxy-lyase; 3-Octaprenyl-4-hydroxybenzoate <=> 2-Octaprenylphenol + CO2)"
      ],
      "text/plain": [
       "<IPython.core.display.HTML object>"
      ]
     },
     "metadata": {},
     "output_type": "display_data"
    },
    {
     "data": {
      "text/html": [
       "<b>R04986</b>: [\"<span style='color: #21d139'>Node21166</span>\", \"<span style='color: #fd79b7'>Node28120</span>\", \"<span style='color: #073257'>Node55904</span>\"] (3-octaprenyl-4-hydroxybenzoate carboxy-lyase; 3-Octaprenyl-4-hydroxybenzoate <=> 2-Octaprenylphenol + CO2)"
      ],
      "text/plain": [
       "<IPython.core.display.HTML object>"
      ]
     },
     "metadata": {},
     "output_type": "display_data"
    },
    {
     "data": {
      "text/html": [
       "<b>R02922</b>: [\"<span style='color: #21d139'>Node21166</span>\"] (Creatinine iminohydrolase; Creatinine + H2O <=> N-Methylhydantoin + Ammonia)"
      ],
      "text/plain": [
       "<IPython.core.display.HTML object>"
      ]
     },
     "metadata": {},
     "output_type": "display_data"
    },
    {
     "data": {
      "text/html": [
       "<b>R03293</b>: [\"<span style='color: #2a6e9d'>Node45985</span>\"] (trans-4-Hydroxy-L-proline:NADP+ 5-oxidoreductase; Hydroxyproline + NADP+ <=> L-1-Pyrroline-3-hydroxy-5-carboxylate + NADPH + H+)"
      ],
      "text/plain": [
       "<IPython.core.display.HTML object>"
      ]
     },
     "metadata": {},
     "output_type": "display_data"
    },
    {
     "data": {
      "text/html": [
       "<b>R03293</b>: [\"<span style='color: #2a6e9d'>Node45985</span>\", \"<span style='color: #af8238'>Node53994</span>\"] (trans-4-Hydroxy-L-proline:NADP+ 5-oxidoreductase; Hydroxyproline + NADP+ <=> L-1-Pyrroline-3-hydroxy-5-carboxylate + NADPH + H+)"
      ],
      "text/plain": [
       "<IPython.core.display.HTML object>"
      ]
     },
     "metadata": {},
     "output_type": "display_data"
    },
    {
     "data": {
      "text/html": [
       "<b>R01771</b>: [\"<span style='color: #4c0ebb'>Node119365</span>\"] (ATP:L-homoserine O-phosphotransferase; ATP + L-Homoserine <=> ADP + O-Phospho-L-homoserine)"
      ],
      "text/plain": [
       "<IPython.core.display.HTML object>"
      ]
     },
     "metadata": {},
     "output_type": "display_data"
    },
    {
     "data": {
      "text/html": [
       "<b>R01771</b>: [\"<span style='color: #4c0ebb'>Node119365</span>\", \"<span style='color: #ffd3f8'>Node126898</span>\"] (ATP:L-homoserine O-phosphotransferase; ATP + L-Homoserine <=> ADP + O-Phospho-L-homoserine)"
      ],
      "text/plain": [
       "<IPython.core.display.HTML object>"
      ]
     },
     "metadata": {},
     "output_type": "display_data"
    },
    {
     "data": {
      "text/html": [
       "<b>R01771</b>: [\"<span style='color: #4c0ebb'>Node119365</span>\", \"<span style='color: #ffd3f8'>Node126898</span>\", \"<span style='color: #74553b'>Node147305</span>\"] (ATP:L-homoserine O-phosphotransferase; ATP + L-Homoserine <=> ADP + O-Phospho-L-homoserine)"
      ],
      "text/plain": [
       "<IPython.core.display.HTML object>"
      ]
     },
     "metadata": {},
     "output_type": "display_data"
    }
   ],
   "source": [
    "max = 3\n",
    "\n",
    "# Read in the reac lists\n",
    "reac_lists = glob.glob(os.path.join(folder_path, file_pattern))\n",
    "\n",
    "reac_lists_data = []\n",
    "group_names = []\n",
    "\n",
    "for file in reac_lists:\n",
    "    node = os.path.basename(file).split('.')[0].split('_')[0]\n",
    "    if node in selected_nodes:\n",
    "        with open(file, 'r') as f:\n",
    "            reac_list = f.read().splitlines()\n",
    "            reac_lists_data.append(reac_list)\n",
    "            group_names.append(os.path.basename(file).split('.')[0].split('_')[0]) # assign basename as group name\n",
    "        \n",
    "# Get the set of all unique reacs\n",
    "all_reacs = set()\n",
    "for reac_list in reac_lists_data:\n",
    "    all_reacs.update(reac_list)\n",
    "    \n",
    "# Identify reacs shared by no more than 2 groups\n",
    "shared_reacs = {}\n",
    "for reac in all_reacs:\n",
    "    count = 0\n",
    "    groups = []\n",
    "    for i, reac_list in enumerate(reac_lists_data):\n",
    "        if reac in reac_list:\n",
    "            count += 1\n",
    "            groups.append(group_names[i])\n",
    "            if count > max:\n",
    "                break\n",
    "    if count <= 3:\n",
    "  ##      print(groups)\n",
    "        shared_reacs[reac] = sorted(groups)\n",
    "    \n",
    "# Print out the shared reacs and their groups\n",
    "print(\"Shared reacs (present in no more than \" + str(max) + \" groups):\")\n",
    "##for reac, groups in sorted(shared_reacs.items(), key=lambda x: len(x[1])):\n",
    "for reac, groups in shared_reacs.items():\n",
    "    all_group_colors = []\n",
    "    for i, group in enumerate(groups):\n",
    "        group_color = hash(group) % 16777215 # reacrate a unique color for each group\n",
    "        all_group_colors.append(f\"<span style='color: #{group_color:06x}'>{group}</span>\")\n",
    "        try:\n",
    "            \n",
    "            display(HTML(f\"<b>{reac}</b>: {all_group_colors} ({description_dict[reac]})\"))\n",
    "        except:\n",
    "            display(HTML(f\"<b>{reac}</b>: {all_group_colors}\"))"
   ]
  },
  {
   "cell_type": "markdown",
   "id": "3439d858-2031-43e8-8cf9-e47074ec3eb8",
   "metadata": {},
   "source": [
    "Create pangenomes\n",
    "\n",
    "----\n",
    "\n",
    "\n",
    "\\!! Hay dos opciones: hacer el consenso de las reacciones que se incluyen en los modelos de CarveMe, o hacerlo directamente a partir de los archivos .tsv obtenidos al anotar con eggNOG. **Aquí partimos de los ficheros de anotaciones**, aunque consenso_EGG.py los llame models.\n",
    "\n",
    "\\!! Solo anotamos con eggNOG algunos genomas: aquellos asignados a las OTUs para las que tengo un hit con **Nucmer**.\n",
    "\n",
    "-------------\n",
    "\n",
    "\n",
    "1. **Nucmer**. modelado.R incluye el alineamiento con Nucmer, la creación de modelos con CarveMe. También annotate.R es capaz de llamar a Nucmer para iniciar el proceso desde el\n",
    "principio\n",
    "\n",
    "- La lista de OTUs que fueron asignadas a un genoma está en **OTU_to_genome:list.ods** <font color=blue>Hay 3438 OTUs de mis PCGs. El numero de OTUs con genomas (de estas 3438) está decente: **993**. También hay otras que quedan fuera: others, llegando a un total de 3828</font>\n",
    "\n",
    "- Puede haber varias OTUs asignadas al mismo genoma!! Y las hay\n",
    "\n",
    "- Also useful: **otu_to_tax.ods** (includes PCGs)\n",
    "\n",
    "--------------\n",
    "\n",
    "2. **Annotation**. annotate.R se encarga de la anotación funcional con eggNOG-mapper y, opcionalmente, la creación de un modelo consenso (consenso_EGG.py)\n",
    "\n",
    "- Main script looks like:\n",
    "        ```\n",
    "        # ~/micro/TFM/launch_annotation_and_consensus_2022_12_14\n",
    "        # RESULTSDIR=~/micro/TFM/annotations_2022_12_14\n",
    "\n",
    "        for NODE in $(ls $INPUTDIR/models)\n",
    "          ~/R-4.0.5/bin/Rscript annotate.R -g '$INPUTDIR'/models/'$NODE'/genomes --outputdir annotations_2022_12_14_'$NODE' --cores 16 --skip_consensus FALSE --dmnd_db '$PWD'/eggnog-mapper-master/d$\n",
    "\n",
    "        ```\n",
    "- Más en agenda de enero de 2023\n",
    "\n",
    "- Guardado en ~/micro/TFM/annots_pangenomes_2022_12_14.zip\n",
    "\n",
    "--------------\n",
    "\n",
    "3. **consensus**. consenso_EGG.py crea una tabla de anotaciones consenso a partir de múltiples archivos de anotaciones\n",
    "\n",
    "- Guardado también en ~/micro/TFM/annots_pangenomes_2022_12_14.zip\n",
    "\n",
    "- Son \"pans.09\" en pangenomas_tomate_2023 !! \n",
    "\n",
    "-------------\n",
    "\n",
    "4. Obtener listas de reacciones a partir de este pangenoma.\n",
    "\n",
    "- Script:     anotaciones_with_GPR_associations.py.ipynb (9 enero 2023)\n",
    "\n",
    "- Notes from Jan 2023:\n",
    "\n",
    "```\n",
    "get_core_functions\n",
    "- a partir de unas anotaciones consenso para un nodo, genero:\n",
    "\t- un archivo con las reacciones bigg que existan en bigg_gprs. No son muchas.  --> los grafos eran con graph_SBML... pero quizá me sirven también\n",
    "\t\t- faltaría intentar salvar más. Ver celda de \"pasos manuales\"\n",
    "\t- un archivo de descripciones (a partir de EC y si no a partir de ko) --> para análisis a mano\n",
    "\t\t- podría ser que alguna entrada se quede sin descripción, salvar esas (va a mano...)\n",
    "\t- un archivo de kegg_reactions --> para sacar los kegg_maps\n",
    "\t\t- importante rescatar los que no tienen. --> usar kegg_kos instead, que tambien sirven para colorear\n",
    "\t\t- ok, pero por qué no los usaba antes entonces? + en un ejemplo rapido parecian superponerse...\n",
    "```\n",
    "\n",
    "- Explicación: algunas anotaciones de eggnog tienen EC, otras no; algunas tienen BiGG, otras no. Lo más consistente es KEGG en general, pero no del todo. Por eso en este script guardaba de todo un poco. Pero es importante saber que **los archivos de sufijo \\_bigg_reac.txt no son exhaustivos, solo incluyen algunas reacciones de CM 1.4.1**. La lista más completa es la de KEGG Reac. Me sirve para KEGG color mapper y para iPath\n",
    "\n",
    "- output en: pangenomas_tomate_2023/analisis_pans90/anotaciones_90/\n"
   ]
  }
 ],
 "metadata": {
  "kernelspec": {
   "display_name": "Python 3 (ipykernel)",
   "language": "python",
   "name": "python3"
  },
  "language_info": {
   "codemirror_mode": {
    "name": "ipython",
    "version": 3
   },
   "file_extension": ".py",
   "mimetype": "text/x-python",
   "name": "python",
   "nbconvert_exporter": "python",
   "pygments_lexer": "ipython3",
   "version": "3.10.12"
  }
 },
 "nbformat": 4,
 "nbformat_minor": 5
}
